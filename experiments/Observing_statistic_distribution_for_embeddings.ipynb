{
  "cells": [
    {
      "cell_type": "markdown",
      "metadata": {
        "id": "view-in-github",
        "colab_type": "text"
      },
      "source": [
        "<a href=\"https://colab.research.google.com/github/pchlenski/gda_project/blob/main/experiments/Observing_statistic_distribution_for_embeddings.ipynb\" target=\"_parent\"><img src=\"https://colab.research.google.com/assets/colab-badge.svg\" alt=\"Open In Colab\"/></a>"
      ]
    },
    {
      "cell_type": "code",
      "execution_count": null,
      "metadata": {
        "colab": {
          "base_uri": "https://localhost:8080/"
        },
        "id": "V02_wy_ETjzK",
        "outputId": "38d1fe3a-fac3-416e-c76f-a355259dea0a"
      },
      "outputs": [
        {
          "output_type": "stream",
          "name": "stdout",
          "text": [
            "Cloning into 'gda_project'...\n",
            "remote: Enumerating objects: 207, done.\u001b[K\n",
            "remote: Counting objects: 100% (207/207), done.\u001b[K\n",
            "remote: Compressing objects: 100% (172/172), done.\u001b[K\n",
            "remote: Total 207 (delta 135), reused 49 (delta 29), pack-reused 0\u001b[K\n",
            "Receiving objects: 100% (207/207), 33.97 KiB | 8.49 MiB/s, done.\n",
            "Resolving deltas: 100% (135/135), done.\n",
            "Already up to date.\n",
            "Collecting fcit\n",
            "  Downloading fcit-1.2.0-py3-none-any.whl (7.6 kB)\n",
            "Requirement already satisfied: numpy in /usr/local/lib/python3.7/dist-packages (from fcit) (1.21.6)\n",
            "Requirement already satisfied: scipy in /usr/local/lib/python3.7/dist-packages (from fcit) (1.4.1)\n",
            "Requirement already satisfied: joblib in /usr/local/lib/python3.7/dist-packages (from fcit) (1.1.0)\n",
            "Requirement already satisfied: sklearn in /usr/local/lib/python3.7/dist-packages (from fcit) (0.0)\n",
            "Requirement already satisfied: scikit-learn in /usr/local/lib/python3.7/dist-packages (from sklearn->fcit) (1.0.2)\n",
            "Requirement already satisfied: threadpoolctl>=2.0.0 in /usr/local/lib/python3.7/dist-packages (from scikit-learn->sklearn->fcit) (3.1.0)\n",
            "Installing collected packages: fcit\n",
            "Successfully installed fcit-1.2.0\n"
          ]
        }
      ],
      "source": [
        "!git clone https://github.com/pchlenski/gda_project/\n",
        "!cd gda_project && git pull\n",
        "!pip install fcit\n",
        "\n",
        "from gda_project.utils.scm import *\n",
        "from gda_project.utils.independence import *\n",
        "from gda_project.utils.embed import *"
      ]
    },
    {
      "cell_type": "code",
      "execution_count": null,
      "metadata": {
        "colab": {
          "base_uri": "https://localhost:8080/"
        },
        "id": "Zgu-lFo0TpO-",
        "outputId": "eb8d44ca-b3c6-4415-e802-6a72582e5520"
      },
      "outputs": [
        {
          "output_type": "stream",
          "name": "stdout",
          "text": [
            "Mounted at /content/drive\n"
          ]
        }
      ],
      "source": [
        "# Colab imports\n",
        "from google.colab import drive\n",
        "drive.mount('/content/drive')\n",
        "\n",
        "import pandas as pd\n",
        "\n",
        "# Environmental variables\n",
        "DD = '/content/drive/My Drive/notebooks/4995/data/' # data dir"
      ]
    },
    {
      "cell_type": "markdown",
      "metadata": {
        "id": "HVNEOYs9Twn5"
      },
      "source": [
        "# Performance in reduced space\n",
        "\n",
        "\n",
        "Based on the results in the 'distribution of test statistics' notebook, we chose to go with the independence test called `independent`. It is more interpretable than `fcit` and substantially faster while still having a nice bimodal distribution of test statistics.\n",
        "\n",
        "Now we try this on different reduced dimensionalities."
      ]
    },
    {
      "cell_type": "code",
      "execution_count": null,
      "metadata": {
        "colab": {
          "base_uri": "https://localhost:8080/"
        },
        "id": "k8k1jII2TslJ",
        "outputId": "76b833da-f0d5-4bb4-a95d-532cba026ed8"
      },
      "outputs": [
        {
          "output_type": "stream",
          "name": "stdout",
          "text": [
            "0 0 0\n",
            "precheck\n",
            "check1\n",
            "check2\n",
            "check3\n",
            "check4\n"
          ]
        },
        {
          "output_type": "stream",
          "name": "stderr",
          "text": [
            "100%|██████████| 3/3 [00:00<00:00, 103.85it/s]\n",
            "100%|██████████| 3/3 [00:00<00:00, 137.31it/s]\n"
          ]
        },
        {
          "output_type": "stream",
          "name": "stdout",
          "text": [
            "0 0 1\n",
            "precheck\n",
            "check1\n",
            "check2\n",
            "check3\n",
            "check4\n"
          ]
        },
        {
          "output_type": "stream",
          "name": "stderr",
          "text": [
            "100%|██████████| 3/3 [00:00<00:00, 190.70it/s]\n",
            "100%|██████████| 3/3 [00:00<00:00, 188.98it/s]\n"
          ]
        },
        {
          "output_type": "stream",
          "name": "stdout",
          "text": [
            "0 0 2\n",
            "precheck\n",
            "check1\n",
            "check2\n",
            "check3\n",
            "check4\n"
          ]
        },
        {
          "output_type": "stream",
          "name": "stderr",
          "text": [
            "100%|██████████| 3/3 [00:00<00:00, 76.36it/s]\n",
            "100%|██████████| 3/3 [00:00<00:00, 102.46it/s]\n"
          ]
        },
        {
          "output_type": "stream",
          "name": "stdout",
          "text": [
            "0 0 3\n",
            "precheck\n",
            "check1\n",
            "check2\n",
            "check3\n",
            "check4\n"
          ]
        },
        {
          "output_type": "stream",
          "name": "stderr",
          "text": [
            "100%|██████████| 3/3 [00:00<00:00, 95.28it/s]\n",
            "100%|██████████| 3/3 [00:00<00:00, 101.55it/s]\n"
          ]
        },
        {
          "output_type": "stream",
          "name": "stdout",
          "text": [
            "0 0 4\n",
            "precheck\n",
            "check1\n",
            "check2\n",
            "check3\n",
            "check4\n"
          ]
        },
        {
          "output_type": "stream",
          "name": "stderr",
          "text": [
            "100%|██████████| 3/3 [00:00<00:00, 79.25it/s]\n",
            "100%|██████████| 3/3 [00:00<00:00, 86.96it/s]"
          ]
        },
        {
          "output_type": "stream",
          "name": "stdout",
          "text": [
            "0 0 5\n",
            "precheck\n",
            "check1\n",
            "check2\n",
            "check3\n",
            "check4\n"
          ]
        },
        {
          "output_type": "stream",
          "name": "stderr",
          "text": [
            "\n",
            "100%|██████████| 3/3 [00:00<00:00, 88.70it/s]\n",
            "100%|██████████| 3/3 [00:00<00:00, 76.94it/s]\n"
          ]
        },
        {
          "output_type": "stream",
          "name": "stdout",
          "text": [
            "0 0 6\n",
            "precheck\n",
            "check1\n",
            "check2\n",
            "check3\n",
            "check4\n"
          ]
        },
        {
          "output_type": "stream",
          "name": "stderr",
          "text": [
            "100%|██████████| 3/3 [00:00<00:00, 86.29it/s]\n",
            "100%|██████████| 3/3 [00:00<00:00, 211.52it/s]\n"
          ]
        },
        {
          "output_type": "stream",
          "name": "stdout",
          "text": [
            "0 0 7\n",
            "precheck\n",
            "check1\n",
            "check2\n",
            "check3\n",
            "check4\n"
          ]
        },
        {
          "output_type": "stream",
          "name": "stderr",
          "text": [
            "100%|██████████| 3/3 [00:00<00:00, 84.88it/s]\n",
            "100%|██████████| 3/3 [00:00<00:00, 85.47it/s]\n"
          ]
        },
        {
          "output_type": "stream",
          "name": "stdout",
          "text": [
            "0 0 8\n",
            "precheck\n",
            "check1\n",
            "check2\n",
            "check3\n",
            "check4\n"
          ]
        },
        {
          "output_type": "stream",
          "name": "stderr",
          "text": [
            "100%|██████████| 3/3 [00:00<00:00, 282.90it/s]\n",
            "100%|██████████| 3/3 [00:00<00:00, 63.05it/s]\n"
          ]
        },
        {
          "output_type": "stream",
          "name": "stdout",
          "text": [
            "0 0 9\n",
            "precheck\n",
            "check1\n",
            "check2\n",
            "check3\n",
            "check4\n"
          ]
        },
        {
          "output_type": "stream",
          "name": "stderr",
          "text": [
            "100%|██████████| 3/3 [00:00<00:00, 88.78it/s]\n",
            "100%|██████████| 3/3 [00:00<00:00, 68.59it/s]\n"
          ]
        },
        {
          "output_type": "stream",
          "name": "stdout",
          "text": [
            "0 0 10\n",
            "precheck\n",
            "check1\n",
            "check2\n",
            "check3\n",
            "check4\n"
          ]
        },
        {
          "output_type": "stream",
          "name": "stderr",
          "text": [
            "100%|██████████| 3/3 [00:00<00:00, 99.58it/s]\n",
            "100%|██████████| 3/3 [00:00<00:00, 95.21it/s]"
          ]
        },
        {
          "output_type": "stream",
          "name": "stdout",
          "text": [
            "0 0 11\n",
            "precheck\n",
            "check1\n",
            "check2\n",
            "check3\n",
            "check4\n"
          ]
        },
        {
          "output_type": "stream",
          "name": "stderr",
          "text": [
            "\n",
            "100%|██████████| 3/3 [00:00<00:00, 158.98it/s]\n",
            "100%|██████████| 3/3 [00:00<00:00, 150.78it/s]\n"
          ]
        },
        {
          "output_type": "stream",
          "name": "stdout",
          "text": [
            "0 0 12\n",
            "precheck\n",
            "check1\n",
            "check2\n",
            "check3\n",
            "check4\n"
          ]
        },
        {
          "output_type": "stream",
          "name": "stderr",
          "text": [
            "100%|██████████| 3/3 [00:00<00:00, 111.73it/s]\n",
            "100%|██████████| 3/3 [00:00<00:00, 175.83it/s]"
          ]
        },
        {
          "output_type": "stream",
          "name": "stdout",
          "text": [
            "0 0 13\n",
            "precheck\n",
            "check1\n",
            "check2\n",
            "check3\n",
            "check4\n"
          ]
        },
        {
          "output_type": "stream",
          "name": "stderr",
          "text": [
            "\n",
            "100%|██████████| 3/3 [00:00<00:00, 149.21it/s]\n",
            "100%|██████████| 3/3 [00:00<00:00, 173.13it/s]\n"
          ]
        },
        {
          "output_type": "stream",
          "name": "stdout",
          "text": [
            "0 0 14\n",
            "precheck\n",
            "check1\n",
            "check2\n",
            "check3\n",
            "check4\n"
          ]
        },
        {
          "output_type": "stream",
          "name": "stderr",
          "text": [
            "100%|██████████| 3/3 [00:00<00:00, 117.26it/s]\n",
            "100%|██████████| 3/3 [00:00<00:00, 77.88it/s]\n"
          ]
        },
        {
          "output_type": "stream",
          "name": "stdout",
          "text": [
            "0 0 15\n",
            "precheck\n",
            "check1\n",
            "check2\n",
            "check3\n",
            "check4\n"
          ]
        },
        {
          "output_type": "stream",
          "name": "stderr",
          "text": [
            "100%|██████████| 3/3 [00:00<00:00, 384.14it/s]\n",
            "100%|██████████| 3/3 [00:00<00:00, 387.04it/s]\n"
          ]
        },
        {
          "output_type": "stream",
          "name": "stdout",
          "text": [
            "0 0 16\n",
            "precheck\n",
            "check1\n",
            "check2\n",
            "check3\n",
            "check4\n"
          ]
        },
        {
          "output_type": "stream",
          "name": "stderr",
          "text": [
            "100%|██████████| 3/3 [00:00<00:00, 363.51it/s]\n",
            "100%|██████████| 3/3 [00:00<00:00, 161.92it/s]\n"
          ]
        },
        {
          "output_type": "stream",
          "name": "stdout",
          "text": [
            "0 0 17\n",
            "precheck\n",
            "check1\n",
            "check2\n",
            "check3\n",
            "check4\n"
          ]
        },
        {
          "output_type": "stream",
          "name": "stderr",
          "text": [
            "100%|██████████| 3/3 [00:00<00:00, 316.74it/s]\n",
            "100%|██████████| 3/3 [00:00<00:00, 351.52it/s]\n"
          ]
        },
        {
          "output_type": "stream",
          "name": "stdout",
          "text": [
            "0 0 18\n",
            "precheck\n",
            "check1\n",
            "check2\n",
            "check3\n",
            "check4\n"
          ]
        },
        {
          "output_type": "stream",
          "name": "stderr",
          "text": [
            "100%|██████████| 3/3 [00:00<00:00, 379.28it/s]\n",
            "100%|██████████| 3/3 [00:00<00:00, 396.57it/s]\n"
          ]
        },
        {
          "output_type": "stream",
          "name": "stdout",
          "text": [
            "0 0 19\n",
            "precheck\n",
            "check1\n",
            "check2\n",
            "check3\n",
            "check4\n"
          ]
        },
        {
          "output_type": "stream",
          "name": "stderr",
          "text": [
            "100%|██████████| 3/3 [00:00<00:00, 208.87it/s]\n",
            "100%|██████████| 3/3 [00:00<00:00, 373.66it/s]\n"
          ]
        },
        {
          "output_type": "stream",
          "name": "stdout",
          "text": [
            "0 0 20\n",
            "precheck\n",
            "check1\n",
            "check2\n",
            "check3\n",
            "check4\n"
          ]
        },
        {
          "output_type": "stream",
          "name": "stderr",
          "text": [
            "100%|██████████| 3/3 [00:00<00:00, 92.56it/s]\n",
            "100%|██████████| 3/3 [00:00<00:00, 226.10it/s]\n"
          ]
        },
        {
          "output_type": "stream",
          "name": "stdout",
          "text": [
            "0 0 21\n",
            "precheck\n",
            "check1\n",
            "check2\n",
            "check3\n",
            "check4\n"
          ]
        },
        {
          "output_type": "stream",
          "name": "stderr",
          "text": [
            "100%|██████████| 3/3 [00:00<00:00, 174.98it/s]\n",
            "100%|██████████| 3/3 [00:00<00:00, 262.72it/s]\n"
          ]
        },
        {
          "output_type": "stream",
          "name": "stdout",
          "text": [
            "0 0 22\n",
            "precheck\n",
            "check1\n",
            "check2\n",
            "check3\n",
            "check4\n"
          ]
        },
        {
          "output_type": "stream",
          "name": "stderr",
          "text": [
            "100%|██████████| 3/3 [00:00<00:00, 61.20it/s]\n",
            "100%|██████████| 3/3 [00:00<00:00, 229.36it/s]\n"
          ]
        },
        {
          "output_type": "stream",
          "name": "stdout",
          "text": [
            "0 0 23\n",
            "precheck\n",
            "check1\n",
            "check2\n",
            "check3\n",
            "check4\n"
          ]
        },
        {
          "output_type": "stream",
          "name": "stderr",
          "text": [
            "100%|██████████| 3/3 [00:00<00:00, 205.92it/s]\n",
            "100%|██████████| 3/3 [00:00<00:00, 138.78it/s]\n"
          ]
        },
        {
          "output_type": "stream",
          "name": "stdout",
          "text": [
            "0 0 24\n",
            "precheck\n",
            "check1\n",
            "check2\n",
            "check3\n",
            "check4\n"
          ]
        },
        {
          "output_type": "stream",
          "name": "stderr",
          "text": [
            "100%|██████████| 3/3 [00:00<00:00, 71.97it/s]\n",
            "100%|██████████| 3/3 [00:00<00:00, 93.69it/s]"
          ]
        },
        {
          "output_type": "stream",
          "name": "stdout",
          "text": [
            "0 0 25\n",
            "precheck"
          ]
        },
        {
          "output_type": "stream",
          "name": "stderr",
          "text": [
            "\n"
          ]
        },
        {
          "output_type": "stream",
          "name": "stdout",
          "text": [
            "\n",
            "check1\n",
            "check2\n",
            "check3\n",
            "check4\n"
          ]
        },
        {
          "output_type": "stream",
          "name": "stderr",
          "text": [
            "100%|██████████| 3/3 [00:00<00:00, 258.63it/s]\n",
            "100%|██████████| 3/3 [00:00<00:00, 86.03it/s]\n"
          ]
        },
        {
          "output_type": "stream",
          "name": "stdout",
          "text": [
            "0 0 26\n",
            "precheck\n",
            "check1\n",
            "check2\n",
            "check3\n",
            "check4\n"
          ]
        },
        {
          "output_type": "stream",
          "name": "stderr",
          "text": [
            "100%|██████████| 3/3 [00:00<00:00, 161.93it/s]\n",
            "100%|██████████| 3/3 [00:00<00:00, 152.94it/s]\n"
          ]
        },
        {
          "output_type": "stream",
          "name": "stdout",
          "text": [
            "0 0 27\n",
            "precheck\n",
            "check1\n",
            "check2\n",
            "check3\n",
            "check4\n"
          ]
        },
        {
          "output_type": "stream",
          "name": "stderr",
          "text": [
            "100%|██████████| 3/3 [00:00<00:00, 116.88it/s]\n",
            "100%|██████████| 3/3 [00:00<00:00, 94.55it/s]\n"
          ]
        },
        {
          "output_type": "stream",
          "name": "stdout",
          "text": [
            "0 0 28\n",
            "precheck\n",
            "check1\n",
            "check2\n",
            "check3\n",
            "check4\n"
          ]
        },
        {
          "output_type": "stream",
          "name": "stderr",
          "text": [
            "100%|██████████| 3/3 [00:00<00:00, 175.02it/s]\n",
            "100%|██████████| 3/3 [00:00<00:00, 139.24it/s]\n"
          ]
        },
        {
          "output_type": "stream",
          "name": "stdout",
          "text": [
            "0 0 29\n",
            "precheck\n",
            "check1\n",
            "check2\n",
            "check3\n",
            "check4\n"
          ]
        },
        {
          "output_type": "stream",
          "name": "stderr",
          "text": [
            "100%|██████████| 3/3 [00:00<00:00, 156.33it/s]\n",
            "100%|██████████| 3/3 [00:00<00:00, 157.68it/s]\n"
          ]
        },
        {
          "output_type": "stream",
          "name": "stdout",
          "text": [
            "0 0 30\n",
            "precheck\n",
            "check1\n",
            "check2\n",
            "check3\n",
            "check4\n"
          ]
        },
        {
          "output_type": "stream",
          "name": "stderr",
          "text": [
            "100%|██████████| 3/3 [00:00<00:00, 181.03it/s]\n",
            "100%|██████████| 3/3 [00:00<00:00, 148.81it/s]\n"
          ]
        },
        {
          "output_type": "stream",
          "name": "stdout",
          "text": [
            "0 0 31\n",
            "precheck\n",
            "check1\n",
            "check2\n",
            "check3\n",
            "check4\n"
          ]
        },
        {
          "output_type": "stream",
          "name": "stderr",
          "text": [
            "100%|██████████| 3/3 [00:00<00:00, 180.99it/s]\n",
            "100%|██████████| 3/3 [00:00<00:00, 157.69it/s]\n"
          ]
        },
        {
          "output_type": "stream",
          "name": "stdout",
          "text": [
            "0 0 32\n",
            "precheck\n",
            "check1\n",
            "check2\n",
            "check3\n",
            "check4\n"
          ]
        },
        {
          "output_type": "stream",
          "name": "stderr",
          "text": [
            "100%|██████████| 3/3 [00:00<00:00, 178.52it/s]\n",
            "100%|██████████| 3/3 [00:00<00:00, 182.31it/s]\n"
          ]
        },
        {
          "output_type": "stream",
          "name": "stdout",
          "text": [
            "0 0 33\n",
            "precheck\n",
            "check1\n",
            "check2\n",
            "check3\n",
            "check4\n"
          ]
        },
        {
          "output_type": "stream",
          "name": "stderr",
          "text": [
            "100%|██████████| 3/3 [00:00<00:00, 150.66it/s]\n",
            "100%|██████████| 3/3 [00:00<00:00, 126.53it/s]\n"
          ]
        },
        {
          "output_type": "stream",
          "name": "stdout",
          "text": [
            "0 0 34\n",
            "precheck\n",
            "check1\n",
            "check2\n",
            "check3\n",
            "check4\n"
          ]
        },
        {
          "output_type": "stream",
          "name": "stderr",
          "text": [
            "100%|██████████| 3/3 [00:00<00:00, 197.98it/s]\n",
            "100%|██████████| 3/3 [00:00<00:00, 188.94it/s]\n"
          ]
        },
        {
          "output_type": "stream",
          "name": "stdout",
          "text": [
            "0 0 35\n",
            "precheck\n",
            "check1\n",
            "check2\n",
            "check3\n",
            "check4\n"
          ]
        },
        {
          "output_type": "stream",
          "name": "stderr",
          "text": [
            "100%|██████████| 3/3 [00:00<00:00, 325.38it/s]\n",
            "100%|██████████| 3/3 [00:00<00:00, 374.83it/s]\n"
          ]
        },
        {
          "output_type": "stream",
          "name": "stdout",
          "text": [
            "0 0 36\n",
            "precheck\n",
            "check1\n",
            "check2\n",
            "check3\n",
            "check4\n"
          ]
        },
        {
          "output_type": "stream",
          "name": "stderr",
          "text": [
            "100%|██████████| 3/3 [00:00<00:00, 398.75it/s]\n",
            "100%|██████████| 3/3 [00:00<00:00, 308.93it/s]\n"
          ]
        },
        {
          "output_type": "stream",
          "name": "stdout",
          "text": [
            "0 0 37\n",
            "precheck\n",
            "check1\n",
            "check2\n",
            "check3\n",
            "check4\n"
          ]
        },
        {
          "output_type": "stream",
          "name": "stderr",
          "text": [
            "100%|██████████| 3/3 [00:00<00:00, 321.47it/s]\n",
            "100%|██████████| 3/3 [00:00<00:00, 403.61it/s]\n"
          ]
        },
        {
          "output_type": "stream",
          "name": "stdout",
          "text": [
            "0 0 38\n",
            "precheck\n",
            "check1\n",
            "check2\n",
            "check3\n",
            "check4\n"
          ]
        },
        {
          "output_type": "stream",
          "name": "stderr",
          "text": [
            "100%|██████████| 3/3 [00:00<00:00, 383.61it/s]\n",
            "100%|██████████| 3/3 [00:00<00:00, 303.78it/s]\n"
          ]
        },
        {
          "output_type": "stream",
          "name": "stdout",
          "text": [
            "0 0 39\n",
            "precheck\n",
            "check1\n",
            "check2\n",
            "check3\n",
            "check4\n"
          ]
        },
        {
          "output_type": "stream",
          "name": "stderr",
          "text": [
            "100%|██████████| 3/3 [00:00<00:00, 133.98it/s]\n",
            "100%|██████████| 3/3 [00:00<00:00, 161.52it/s]\n"
          ]
        },
        {
          "output_type": "stream",
          "name": "stdout",
          "text": [
            "0 0 40\n",
            "precheck\n",
            "check1\n",
            "check2\n",
            "check3\n",
            "check4\n"
          ]
        },
        {
          "output_type": "stream",
          "name": "stderr",
          "text": [
            "100%|██████████| 3/3 [00:00<00:00, 250.07it/s]\n",
            "100%|██████████| 3/3 [00:00<00:00, 274.50it/s]\n"
          ]
        },
        {
          "output_type": "stream",
          "name": "stdout",
          "text": [
            "0 0 41\n",
            "precheck\n",
            "check1\n",
            "check2\n",
            "check3\n",
            "check4\n"
          ]
        },
        {
          "output_type": "stream",
          "name": "stderr",
          "text": [
            "100%|██████████| 3/3 [00:00<00:00, 176.59it/s]\n",
            "100%|██████████| 3/3 [00:00<00:00, 158.85it/s]\n"
          ]
        },
        {
          "output_type": "stream",
          "name": "stdout",
          "text": [
            "0 0 42\n",
            "precheck\n",
            "check1\n",
            "check2\n",
            "check3\n",
            "check4\n"
          ]
        },
        {
          "output_type": "stream",
          "name": "stderr",
          "text": [
            "100%|██████████| 3/3 [00:00<00:00, 263.21it/s]\n",
            "100%|██████████| 3/3 [00:00<00:00, 189.75it/s]\n"
          ]
        },
        {
          "output_type": "stream",
          "name": "stdout",
          "text": [
            "0 0 43\n",
            "precheck\n",
            "check1\n",
            "check2\n",
            "check3\n",
            "check4\n"
          ]
        },
        {
          "output_type": "stream",
          "name": "stderr",
          "text": [
            "100%|██████████| 3/3 [00:00<00:00, 151.12it/s]\n",
            "100%|██████████| 3/3 [00:00<00:00, 174.12it/s]\n"
          ]
        },
        {
          "output_type": "stream",
          "name": "stdout",
          "text": [
            "0 0 44\n",
            "precheck\n",
            "check1\n",
            "check2\n",
            "check3\n",
            "check4\n"
          ]
        },
        {
          "output_type": "stream",
          "name": "stderr",
          "text": [
            "100%|██████████| 3/3 [00:00<00:00, 389.24it/s]\n",
            "100%|██████████| 3/3 [00:00<00:00, 345.90it/s]\n"
          ]
        },
        {
          "output_type": "stream",
          "name": "stdout",
          "text": [
            "0 0 45\n",
            "precheck\n",
            "check1\n",
            "check2\n",
            "check3\n",
            "check4\n"
          ]
        },
        {
          "output_type": "stream",
          "name": "stderr",
          "text": [
            "100%|██████████| 3/3 [00:00<00:00, 246.81it/s]\n",
            "100%|██████████| 3/3 [00:00<00:00, 188.02it/s]\n"
          ]
        },
        {
          "output_type": "stream",
          "name": "stdout",
          "text": [
            "0 0 46\n",
            "precheck\n",
            "check1\n",
            "check2\n",
            "check3\n",
            "check4\n"
          ]
        },
        {
          "output_type": "stream",
          "name": "stderr",
          "text": [
            "100%|██████████| 3/3 [00:00<00:00, 340.59it/s]\n",
            "100%|██████████| 3/3 [00:00<00:00, 403.13it/s]\n"
          ]
        },
        {
          "output_type": "stream",
          "name": "stdout",
          "text": [
            "0 0 47\n",
            "precheck\n",
            "check1\n",
            "check2\n",
            "check3\n",
            "check4\n"
          ]
        },
        {
          "output_type": "stream",
          "name": "stderr",
          "text": [
            "100%|██████████| 3/3 [00:00<00:00, 334.68it/s]\n",
            "100%|██████████| 3/3 [00:00<00:00, 388.45it/s]\n"
          ]
        },
        {
          "output_type": "stream",
          "name": "stdout",
          "text": [
            "0 0 48\n",
            "precheck\n",
            "check1\n",
            "check2\n",
            "check3\n",
            "check4\n"
          ]
        },
        {
          "output_type": "stream",
          "name": "stderr",
          "text": [
            "100%|██████████| 3/3 [00:00<00:00, 375.12it/s]\n",
            "100%|██████████| 3/3 [00:00<00:00, 409.17it/s]\n"
          ]
        },
        {
          "output_type": "stream",
          "name": "stdout",
          "text": [
            "0 0 49\n",
            "precheck\n",
            "check1\n",
            "check2\n",
            "check3\n",
            "check4\n"
          ]
        },
        {
          "output_type": "stream",
          "name": "stderr",
          "text": [
            "100%|██████████| 3/3 [00:00<00:00, 289.91it/s]\n",
            "100%|██████████| 3/3 [00:00<00:00, 229.88it/s]\n"
          ]
        },
        {
          "output_type": "stream",
          "name": "stdout",
          "text": [
            "0 0 50\n",
            "precheck\n",
            "check1\n",
            "check2\n",
            "check3\n",
            "check4\n"
          ]
        },
        {
          "output_type": "stream",
          "name": "stderr",
          "text": [
            "100%|██████████| 3/3 [00:00<00:00, 392.97it/s]\n",
            "100%|██████████| 3/3 [00:00<00:00, 348.93it/s]\n"
          ]
        },
        {
          "output_type": "stream",
          "name": "stdout",
          "text": [
            "0 0 51\n",
            "precheck\n",
            "check1\n",
            "check2\n",
            "check3\n",
            "check4\n"
          ]
        },
        {
          "output_type": "stream",
          "name": "stderr",
          "text": [
            "100%|██████████| 3/3 [00:00<00:00, 351.70it/s]\n",
            "100%|██████████| 3/3 [00:00<00:00, 215.12it/s]\n"
          ]
        },
        {
          "output_type": "stream",
          "name": "stdout",
          "text": [
            "0 0 52\n",
            "precheck\n",
            "check1\n",
            "check2\n",
            "check3\n",
            "check4\n"
          ]
        },
        {
          "output_type": "stream",
          "name": "stderr",
          "text": [
            "100%|██████████| 3/3 [00:00<00:00, 267.51it/s]\n",
            "100%|██████████| 3/3 [00:00<00:00, 151.56it/s]\n"
          ]
        },
        {
          "output_type": "stream",
          "name": "stdout",
          "text": [
            "0 0 53\n",
            "precheck\n",
            "check1\n",
            "check2\n",
            "check3\n",
            "check4\n"
          ]
        },
        {
          "output_type": "stream",
          "name": "stderr",
          "text": [
            "100%|██████████| 3/3 [00:00<00:00, 172.06it/s]\n",
            "100%|██████████| 3/3 [00:00<00:00, 206.11it/s]\n"
          ]
        },
        {
          "output_type": "stream",
          "name": "stdout",
          "text": [
            "0 0 54\n",
            "precheck\n",
            "check1\n",
            "check2\n",
            "check3\n",
            "check4\n"
          ]
        },
        {
          "output_type": "stream",
          "name": "stderr",
          "text": [
            "100%|██████████| 3/3 [00:00<00:00, 456.20it/s]\n",
            "100%|██████████| 3/3 [00:00<00:00, 405.26it/s]\n"
          ]
        },
        {
          "output_type": "stream",
          "name": "stdout",
          "text": [
            "0 0 55\n",
            "precheck\n",
            "check1\n",
            "check2\n",
            "check3\n",
            "check4\n"
          ]
        },
        {
          "output_type": "stream",
          "name": "stderr",
          "text": [
            "100%|██████████| 3/3 [00:00<00:00, 402.41it/s]\n",
            "100%|██████████| 3/3 [00:00<00:00, 350.38it/s]\n"
          ]
        },
        {
          "output_type": "stream",
          "name": "stdout",
          "text": [
            "0 0 56\n",
            "precheck\n",
            "check1\n",
            "check2\n",
            "check3\n",
            "check4\n"
          ]
        },
        {
          "output_type": "stream",
          "name": "stderr",
          "text": [
            "100%|██████████| 3/3 [00:00<00:00, 386.77it/s]\n",
            "100%|██████████| 3/3 [00:00<00:00, 328.72it/s]\n"
          ]
        },
        {
          "output_type": "stream",
          "name": "stdout",
          "text": [
            "0 0 57\n",
            "precheck\n",
            "check1\n",
            "check2\n",
            "check3\n",
            "check4\n"
          ]
        },
        {
          "output_type": "stream",
          "name": "stderr",
          "text": [
            "100%|██████████| 3/3 [00:00<00:00, 284.66it/s]\n",
            "100%|██████████| 3/3 [00:00<00:00, 352.41it/s]\n"
          ]
        },
        {
          "output_type": "stream",
          "name": "stdout",
          "text": [
            "0 0 58\n",
            "precheck\n",
            "check1\n",
            "check2\n",
            "check3\n",
            "check4\n"
          ]
        },
        {
          "output_type": "stream",
          "name": "stderr",
          "text": [
            "100%|██████████| 3/3 [00:00<00:00, 338.83it/s]\n",
            "100%|██████████| 3/3 [00:00<00:00, 204.20it/s]\n"
          ]
        },
        {
          "output_type": "stream",
          "name": "stdout",
          "text": [
            "0 0 59\n",
            "precheck\n",
            "check1\n",
            "check2\n",
            "check3\n",
            "check4\n"
          ]
        },
        {
          "output_type": "stream",
          "name": "stderr",
          "text": [
            "100%|██████████| 3/3 [00:00<00:00, 215.07it/s]\n",
            "100%|██████████| 3/3 [00:00<00:00, 240.09it/s]\n"
          ]
        },
        {
          "output_type": "stream",
          "name": "stdout",
          "text": [
            "0 0 60\n",
            "precheck\n",
            "check1\n",
            "check2\n",
            "check3\n",
            "check4\n"
          ]
        },
        {
          "output_type": "stream",
          "name": "stderr",
          "text": [
            "100%|██████████| 3/3 [00:00<00:00, 184.66it/s]\n",
            "100%|██████████| 3/3 [00:00<00:00, 138.43it/s]\n"
          ]
        },
        {
          "output_type": "stream",
          "name": "stdout",
          "text": [
            "0 0 61\n",
            "precheck\n",
            "check1\n",
            "check2\n",
            "check3\n",
            "check4\n"
          ]
        },
        {
          "output_type": "stream",
          "name": "stderr",
          "text": [
            "100%|██████████| 3/3 [00:00<00:00, 145.02it/s]\n",
            "100%|██████████| 3/3 [00:00<00:00, 410.01it/s]\n"
          ]
        },
        {
          "output_type": "stream",
          "name": "stdout",
          "text": [
            "0 0 62\n",
            "precheck\n",
            "check1\n",
            "check2\n",
            "check3\n",
            "check4\n"
          ]
        },
        {
          "output_type": "stream",
          "name": "stderr",
          "text": [
            "100%|██████████| 3/3 [00:00<00:00, 397.74it/s]\n",
            "100%|██████████| 3/3 [00:00<00:00, 409.65it/s]\n"
          ]
        },
        {
          "output_type": "stream",
          "name": "stdout",
          "text": [
            "0 0 63\n",
            "precheck\n",
            "check1\n",
            "check2\n",
            "check3\n",
            "check4\n"
          ]
        },
        {
          "output_type": "stream",
          "name": "stderr",
          "text": [
            "100%|██████████| 3/3 [00:00<00:00, 78.97it/s]\n",
            "100%|██████████| 3/3 [00:00<00:00, 142.65it/s]\n"
          ]
        },
        {
          "output_type": "stream",
          "name": "stdout",
          "text": [
            "0 0 64\n",
            "precheck\n",
            "check1\n",
            "check2\n",
            "check3\n",
            "check4\n"
          ]
        },
        {
          "output_type": "stream",
          "name": "stderr",
          "text": [
            "100%|██████████| 3/3 [00:00<00:00, 296.65it/s]\n",
            "100%|██████████| 3/3 [00:00<00:00, 339.15it/s]\n"
          ]
        },
        {
          "output_type": "stream",
          "name": "stdout",
          "text": [
            "0 0 65\n",
            "precheck\n",
            "check1\n",
            "check2\n",
            "check3\n",
            "check4\n"
          ]
        },
        {
          "output_type": "stream",
          "name": "stderr",
          "text": [
            "100%|██████████| 3/3 [00:00<00:00, 219.20it/s]\n",
            "100%|██████████| 3/3 [00:00<00:00, 161.03it/s]\n"
          ]
        },
        {
          "output_type": "stream",
          "name": "stdout",
          "text": [
            "0 0 66\n",
            "precheck\n",
            "check1\n",
            "check2\n",
            "check3\n",
            "check4\n"
          ]
        },
        {
          "output_type": "stream",
          "name": "stderr",
          "text": [
            "100%|██████████| 3/3 [00:00<00:00, 185.83it/s]\n",
            "100%|██████████| 3/3 [00:00<00:00, 342.44it/s]\n"
          ]
        },
        {
          "output_type": "stream",
          "name": "stdout",
          "text": [
            "0 0 67\n",
            "precheck\n",
            "check1\n",
            "check2\n",
            "check3\n",
            "check4\n"
          ]
        },
        {
          "output_type": "stream",
          "name": "stderr",
          "text": [
            "100%|██████████| 3/3 [00:00<00:00, 295.64it/s]\n",
            "100%|██████████| 3/3 [00:00<00:00, 326.25it/s]\n"
          ]
        },
        {
          "output_type": "stream",
          "name": "stdout",
          "text": [
            "0 0 68\n",
            "precheck\n",
            "check1\n",
            "check2\n",
            "check3\n",
            "check4\n"
          ]
        },
        {
          "output_type": "stream",
          "name": "stderr",
          "text": [
            "100%|██████████| 3/3 [00:00<00:00, 311.18it/s]\n",
            "100%|██████████| 3/3 [00:00<00:00, 258.37it/s]\n"
          ]
        },
        {
          "output_type": "stream",
          "name": "stdout",
          "text": [
            "0 0 69\n",
            "precheck\n",
            "check1\n",
            "check2\n",
            "check3\n",
            "check4\n"
          ]
        },
        {
          "output_type": "stream",
          "name": "stderr",
          "text": [
            "100%|██████████| 3/3 [00:00<00:00, 257.20it/s]\n",
            "100%|██████████| 3/3 [00:00<00:00, 272.68it/s]\n"
          ]
        },
        {
          "output_type": "stream",
          "name": "stdout",
          "text": [
            "0 0 70\n",
            "precheck\n",
            "check1\n",
            "check2\n",
            "check3\n",
            "check4\n"
          ]
        },
        {
          "output_type": "stream",
          "name": "stderr",
          "text": [
            "100%|██████████| 3/3 [00:00<00:00, 360.21it/s]\n",
            "100%|██████████| 3/3 [00:00<00:00, 321.91it/s]\n"
          ]
        },
        {
          "output_type": "stream",
          "name": "stdout",
          "text": [
            "0 0 71\n",
            "precheck\n",
            "check1\n",
            "check2\n",
            "check3\n",
            "check4\n"
          ]
        },
        {
          "output_type": "stream",
          "name": "stderr",
          "text": [
            "100%|██████████| 3/3 [00:00<00:00, 262.33it/s]\n",
            "100%|██████████| 3/3 [00:00<00:00, 309.53it/s]\n"
          ]
        },
        {
          "output_type": "stream",
          "name": "stdout",
          "text": [
            "0 0 72\n",
            "precheck\n",
            "check1\n",
            "check2\n",
            "check3\n",
            "check4\n"
          ]
        },
        {
          "output_type": "stream",
          "name": "stderr",
          "text": [
            "100%|██████████| 3/3 [00:00<00:00, 371.77it/s]\n",
            "100%|██████████| 3/3 [00:00<00:00, 284.98it/s]\n"
          ]
        },
        {
          "output_type": "stream",
          "name": "stdout",
          "text": [
            "0 0 73\n",
            "precheck\n",
            "check1\n",
            "check2\n",
            "check3\n",
            "check4\n"
          ]
        },
        {
          "output_type": "stream",
          "name": "stderr",
          "text": [
            "100%|██████████| 3/3 [00:00<00:00, 355.20it/s]\n",
            "100%|██████████| 3/3 [00:00<00:00, 384.22it/s]\n"
          ]
        },
        {
          "output_type": "stream",
          "name": "stdout",
          "text": [
            "0 0 74\n",
            "precheck\n",
            "check1\n",
            "check2\n",
            "check3\n",
            "check4\n"
          ]
        },
        {
          "output_type": "stream",
          "name": "stderr",
          "text": [
            "100%|██████████| 3/3 [00:00<00:00, 378.44it/s]\n",
            "100%|██████████| 3/3 [00:00<00:00, 114.38it/s]\n"
          ]
        },
        {
          "output_type": "stream",
          "name": "stdout",
          "text": [
            "0 0 75\n",
            "precheck\n",
            "check1\n",
            "check2\n",
            "check3\n",
            "check4\n"
          ]
        },
        {
          "output_type": "stream",
          "name": "stderr",
          "text": [
            "100%|██████████| 3/3 [00:00<00:00, 224.03it/s]\n",
            "100%|██████████| 3/3 [00:00<00:00, 194.36it/s]\n"
          ]
        },
        {
          "output_type": "stream",
          "name": "stdout",
          "text": [
            "0 0 76\n",
            "precheck\n",
            "check1\n",
            "check2\n",
            "check3\n",
            "check4\n"
          ]
        },
        {
          "output_type": "stream",
          "name": "stderr",
          "text": [
            "100%|██████████| 3/3 [00:00<00:00, 381.91it/s]\n",
            "100%|██████████| 3/3 [00:00<00:00, 331.99it/s]\n"
          ]
        },
        {
          "output_type": "stream",
          "name": "stdout",
          "text": [
            "0 0 77\n",
            "precheck\n",
            "check1\n",
            "check2\n",
            "check3\n",
            "check4\n"
          ]
        },
        {
          "output_type": "stream",
          "name": "stderr",
          "text": [
            "100%|██████████| 3/3 [00:00<00:00, 128.58it/s]\n",
            "100%|██████████| 3/3 [00:00<00:00, 117.74it/s]\n"
          ]
        },
        {
          "output_type": "stream",
          "name": "stdout",
          "text": [
            "0 0 78\n",
            "precheck\n",
            "check1\n",
            "check2\n",
            "check3\n",
            "check4\n"
          ]
        },
        {
          "output_type": "stream",
          "name": "stderr",
          "text": [
            "100%|██████████| 3/3 [00:00<00:00, 155.85it/s]\n",
            "100%|██████████| 3/3 [00:00<00:00, 179.57it/s]\n"
          ]
        },
        {
          "output_type": "stream",
          "name": "stdout",
          "text": [
            "0 0 79\n",
            "precheck\n",
            "check1\n",
            "check2\n",
            "check3\n",
            "check4\n"
          ]
        },
        {
          "output_type": "stream",
          "name": "stderr",
          "text": [
            "100%|██████████| 3/3 [00:00<00:00, 161.46it/s]\n",
            "100%|██████████| 3/3 [00:00<00:00, 217.22it/s]\n"
          ]
        },
        {
          "output_type": "stream",
          "name": "stdout",
          "text": [
            "0 0 80\n",
            "precheck\n",
            "check1\n",
            "check2\n",
            "check3\n",
            "check4\n"
          ]
        },
        {
          "output_type": "stream",
          "name": "stderr",
          "text": [
            "100%|██████████| 3/3 [00:00<00:00, 228.73it/s]\n",
            "100%|██████████| 3/3 [00:00<00:00, 230.26it/s]\n"
          ]
        },
        {
          "output_type": "stream",
          "name": "stdout",
          "text": [
            "0 0 81\n",
            "precheck\n",
            "check1\n",
            "check2\n",
            "check3\n",
            "check4\n"
          ]
        },
        {
          "output_type": "stream",
          "name": "stderr",
          "text": [
            "100%|██████████| 3/3 [00:00<00:00, 127.37it/s]\n",
            "100%|██████████| 3/3 [00:00<00:00, 202.22it/s]\n"
          ]
        },
        {
          "output_type": "stream",
          "name": "stdout",
          "text": [
            "0 0 82\n",
            "precheck\n",
            "check1\n",
            "check2\n",
            "check3\n",
            "check4\n"
          ]
        },
        {
          "output_type": "stream",
          "name": "stderr",
          "text": [
            "100%|██████████| 3/3 [00:00<00:00, 103.80it/s]\n",
            "100%|██████████| 3/3 [00:00<00:00, 191.11it/s]\n"
          ]
        },
        {
          "output_type": "stream",
          "name": "stdout",
          "text": [
            "0 0 83\n",
            "precheck\n",
            "check1\n",
            "check2\n",
            "check3\n",
            "check4\n"
          ]
        },
        {
          "output_type": "stream",
          "name": "stderr",
          "text": [
            "100%|██████████| 3/3 [00:00<00:00, 275.68it/s]\n",
            "100%|██████████| 3/3 [00:00<00:00, 236.62it/s]\n"
          ]
        },
        {
          "output_type": "stream",
          "name": "stdout",
          "text": [
            "0 0 84\n",
            "precheck\n",
            "check1\n",
            "check2\n",
            "check3\n",
            "check4\n"
          ]
        },
        {
          "output_type": "stream",
          "name": "stderr",
          "text": [
            "100%|██████████| 3/3 [00:00<00:00, 166.59it/s]\n",
            "100%|██████████| 3/3 [00:00<00:00, 172.37it/s]\n"
          ]
        },
        {
          "output_type": "stream",
          "name": "stdout",
          "text": [
            "0 0 85\n",
            "precheck\n",
            "check1\n",
            "check2\n",
            "check3\n",
            "check4\n"
          ]
        },
        {
          "output_type": "stream",
          "name": "stderr",
          "text": [
            "100%|██████████| 3/3 [00:00<00:00, 157.96it/s]\n",
            "100%|██████████| 3/3 [00:00<00:00, 185.49it/s]\n"
          ]
        },
        {
          "output_type": "stream",
          "name": "stdout",
          "text": [
            "0 0 86\n",
            "precheck\n",
            "check1\n",
            "check2\n",
            "check3\n",
            "check4\n"
          ]
        },
        {
          "output_type": "stream",
          "name": "stderr",
          "text": [
            "100%|██████████| 3/3 [00:00<00:00, 226.82it/s]\n",
            "100%|██████████| 3/3 [00:00<00:00, 142.57it/s]\n"
          ]
        },
        {
          "output_type": "stream",
          "name": "stdout",
          "text": [
            "0 0 87\n",
            "precheck\n",
            "check1\n",
            "check2\n",
            "check3\n",
            "check4\n"
          ]
        },
        {
          "output_type": "stream",
          "name": "stderr",
          "text": [
            "100%|██████████| 3/3 [00:00<00:00, 105.82it/s]\n",
            "100%|██████████| 3/3 [00:00<00:00, 262.45it/s]\n"
          ]
        },
        {
          "output_type": "stream",
          "name": "stdout",
          "text": [
            "0 0 88\n",
            "precheck\n",
            "check1\n",
            "check2\n",
            "check3\n",
            "check4\n"
          ]
        },
        {
          "output_type": "stream",
          "name": "stderr",
          "text": [
            "100%|██████████| 3/3 [00:00<00:00, 267.16it/s]\n",
            "100%|██████████| 3/3 [00:00<00:00, 259.20it/s]\n"
          ]
        },
        {
          "output_type": "stream",
          "name": "stdout",
          "text": [
            "0 0 89\n",
            "precheck\n",
            "check1\n",
            "check2\n",
            "check3\n",
            "check4\n"
          ]
        },
        {
          "output_type": "stream",
          "name": "stderr",
          "text": [
            "100%|██████████| 3/3 [00:00<00:00, 247.32it/s]\n",
            "100%|██████████| 3/3 [00:00<00:00, 151.30it/s]\n"
          ]
        },
        {
          "output_type": "stream",
          "name": "stdout",
          "text": [
            "0 0 90\n",
            "precheck\n",
            "check1\n",
            "check2\n",
            "check3\n",
            "check4\n"
          ]
        },
        {
          "output_type": "stream",
          "name": "stderr",
          "text": [
            "100%|██████████| 3/3 [00:00<00:00, 238.04it/s]\n",
            "100%|██████████| 3/3 [00:00<00:00, 156.63it/s]\n"
          ]
        },
        {
          "output_type": "stream",
          "name": "stdout",
          "text": [
            "0 0 91\n",
            "precheck\n",
            "check1\n",
            "check2\n",
            "check3\n",
            "check4\n"
          ]
        },
        {
          "output_type": "stream",
          "name": "stderr",
          "text": [
            "100%|██████████| 3/3 [00:00<00:00, 167.73it/s]\n",
            "100%|██████████| 3/3 [00:00<00:00, 190.19it/s]\n"
          ]
        },
        {
          "output_type": "stream",
          "name": "stdout",
          "text": [
            "0 0 92\n",
            "precheck\n",
            "check1\n",
            "check2\n",
            "check3\n",
            "check4\n"
          ]
        },
        {
          "output_type": "stream",
          "name": "stderr",
          "text": [
            "100%|██████████| 3/3 [00:00<00:00, 117.49it/s]\n",
            "100%|██████████| 3/3 [00:00<00:00, 252.90it/s]\n"
          ]
        },
        {
          "output_type": "stream",
          "name": "stdout",
          "text": [
            "0 0 93\n",
            "precheck\n",
            "check1\n",
            "check2\n",
            "check3\n",
            "check4\n"
          ]
        },
        {
          "output_type": "stream",
          "name": "stderr",
          "text": [
            "100%|██████████| 3/3 [00:00<00:00, 102.66it/s]\n",
            "100%|██████████| 3/3 [00:00<00:00, 135.45it/s]\n"
          ]
        },
        {
          "output_type": "stream",
          "name": "stdout",
          "text": [
            "0 0 94\n",
            "precheck\n",
            "check1\n",
            "check2\n",
            "check3\n",
            "check4\n"
          ]
        },
        {
          "output_type": "stream",
          "name": "stderr",
          "text": [
            "100%|██████████| 3/3 [00:00<00:00, 257.85it/s]\n",
            "100%|██████████| 3/3 [00:00<00:00, 216.84it/s]\n"
          ]
        },
        {
          "output_type": "stream",
          "name": "stdout",
          "text": [
            "0 0 95\n",
            "precheck\n",
            "check1\n",
            "check2\n",
            "check3\n",
            "check4\n"
          ]
        },
        {
          "output_type": "stream",
          "name": "stderr",
          "text": [
            "100%|██████████| 3/3 [00:00<00:00, 354.67it/s]\n",
            "100%|██████████| 3/3 [00:00<00:00, 224.57it/s]\n"
          ]
        },
        {
          "output_type": "stream",
          "name": "stdout",
          "text": [
            "0 0 96\n",
            "precheck\n",
            "check1\n",
            "check2\n",
            "check3\n",
            "check4\n"
          ]
        },
        {
          "output_type": "stream",
          "name": "stderr",
          "text": [
            "100%|██████████| 3/3 [00:00<00:00, 115.48it/s]\n",
            "100%|██████████| 3/3 [00:00<00:00, 234.43it/s]\n"
          ]
        },
        {
          "output_type": "stream",
          "name": "stdout",
          "text": [
            "0 0 97\n",
            "precheck\n",
            "check1\n",
            "check2\n",
            "check3\n",
            "check4\n"
          ]
        },
        {
          "output_type": "stream",
          "name": "stderr",
          "text": [
            "100%|██████████| 3/3 [00:00<00:00, 114.27it/s]\n",
            "100%|██████████| 3/3 [00:00<00:00, 159.91it/s]\n"
          ]
        },
        {
          "output_type": "stream",
          "name": "stdout",
          "text": [
            "0 0 98\n",
            "precheck\n",
            "check1\n",
            "check2\n",
            "check3\n",
            "check4\n"
          ]
        },
        {
          "output_type": "stream",
          "name": "stderr",
          "text": [
            "100%|██████████| 3/3 [00:00<00:00, 155.91it/s]\n",
            "100%|██████████| 3/3 [00:00<00:00, 239.22it/s]\n"
          ]
        },
        {
          "output_type": "stream",
          "name": "stdout",
          "text": [
            "0 0 99\n",
            "precheck\n",
            "check1\n",
            "check2\n",
            "check3\n",
            "check4\n"
          ]
        },
        {
          "output_type": "stream",
          "name": "stderr",
          "text": [
            "100%|██████████| 3/3 [00:00<00:00, 122.48it/s]\n",
            "100%|██████████| 3/3 [00:00<00:00, 220.93it/s]\n"
          ]
        },
        {
          "output_type": "stream",
          "name": "stdout",
          "text": [
            "0 1 0\n",
            "precheck\n",
            "check1\n",
            "check2\n",
            "check3\n",
            "check4\n"
          ]
        },
        {
          "output_type": "stream",
          "name": "stderr",
          "text": [
            "100%|██████████| 3/3 [00:00<00:00, 130.54it/s]\n",
            "100%|██████████| 3/3 [00:00<00:00, 235.12it/s]\n"
          ]
        },
        {
          "output_type": "stream",
          "name": "stdout",
          "text": [
            "0 1 1\n",
            "precheck\n",
            "check1\n",
            "check2\n",
            "check3\n",
            "check4\n"
          ]
        },
        {
          "output_type": "stream",
          "name": "stderr",
          "text": [
            "100%|██████████| 3/3 [00:00<00:00, 176.66it/s]\n",
            "100%|██████████| 3/3 [00:00<00:00, 219.47it/s]\n"
          ]
        },
        {
          "output_type": "stream",
          "name": "stdout",
          "text": [
            "0 1 2\n",
            "precheck\n",
            "check1\n",
            "check2\n",
            "check3\n",
            "check4\n"
          ]
        },
        {
          "output_type": "stream",
          "name": "stderr",
          "text": [
            "100%|██████████| 3/3 [00:00<00:00, 137.56it/s]\n",
            "100%|██████████| 3/3 [00:00<00:00, 214.63it/s]\n"
          ]
        },
        {
          "output_type": "stream",
          "name": "stdout",
          "text": [
            "0 1 3\n",
            "precheck\n",
            "check1\n",
            "check2\n",
            "check3\n",
            "check4\n"
          ]
        },
        {
          "output_type": "stream",
          "name": "stderr",
          "text": [
            "100%|██████████| 3/3 [00:00<00:00, 299.87it/s]\n",
            "100%|██████████| 3/3 [00:00<00:00, 361.54it/s]\n"
          ]
        },
        {
          "output_type": "stream",
          "name": "stdout",
          "text": [
            "0 1 4\n",
            "precheck\n",
            "check1\n",
            "check2\n",
            "check3\n",
            "check4\n"
          ]
        },
        {
          "output_type": "stream",
          "name": "stderr",
          "text": [
            "100%|██████████| 3/3 [00:00<00:00, 388.06it/s]\n",
            "100%|██████████| 3/3 [00:00<00:00, 222.95it/s]\n"
          ]
        },
        {
          "output_type": "stream",
          "name": "stdout",
          "text": [
            "0 1 5\n",
            "precheck\n",
            "check1\n",
            "check2\n",
            "check3\n",
            "check4\n"
          ]
        },
        {
          "output_type": "stream",
          "name": "stderr",
          "text": [
            "100%|██████████| 3/3 [00:00<00:00, 201.07it/s]\n",
            "100%|██████████| 3/3 [00:00<00:00, 186.37it/s]\n"
          ]
        },
        {
          "output_type": "stream",
          "name": "stdout",
          "text": [
            "0 1 6\n",
            "precheck\n",
            "check1\n",
            "check2\n",
            "check3\n",
            "check4\n"
          ]
        },
        {
          "output_type": "stream",
          "name": "stderr",
          "text": [
            "100%|██████████| 3/3 [00:00<00:00, 165.71it/s]\n",
            "100%|██████████| 3/3 [00:00<00:00, 353.65it/s]\n"
          ]
        },
        {
          "output_type": "stream",
          "name": "stdout",
          "text": [
            "0 1 7\n",
            "precheck\n",
            "check1\n",
            "check2\n",
            "check3\n",
            "check4\n"
          ]
        },
        {
          "output_type": "stream",
          "name": "stderr",
          "text": [
            "100%|██████████| 3/3 [00:00<00:00, 269.79it/s]\n",
            "100%|██████████| 3/3 [00:00<00:00, 342.46it/s]\n"
          ]
        },
        {
          "output_type": "stream",
          "name": "stdout",
          "text": [
            "0 1 8\n",
            "precheck\n",
            "check1\n",
            "check2\n",
            "check3\n",
            "check4\n"
          ]
        },
        {
          "output_type": "stream",
          "name": "stderr",
          "text": [
            "100%|██████████| 3/3 [00:00<00:00, 394.37it/s]\n",
            "100%|██████████| 3/3 [00:00<00:00, 235.09it/s]\n"
          ]
        },
        {
          "output_type": "stream",
          "name": "stdout",
          "text": [
            "0 1 9\n",
            "precheck\n",
            "check1\n",
            "check2\n",
            "check3\n",
            "check4\n"
          ]
        },
        {
          "output_type": "stream",
          "name": "stderr",
          "text": [
            "100%|██████████| 3/3 [00:00<00:00, 164.46it/s]\n",
            "100%|██████████| 3/3 [00:00<00:00, 285.92it/s]\n"
          ]
        },
        {
          "output_type": "stream",
          "name": "stdout",
          "text": [
            "0 1 10\n",
            "precheck\n",
            "check1\n",
            "check2\n",
            "check3\n",
            "check4\n"
          ]
        },
        {
          "output_type": "stream",
          "name": "stderr",
          "text": [
            "100%|██████████| 3/3 [00:00<00:00, 204.22it/s]\n",
            "100%|██████████| 3/3 [00:00<00:00, 258.81it/s]\n"
          ]
        },
        {
          "output_type": "stream",
          "name": "stdout",
          "text": [
            "0 1 11\n",
            "precheck\n",
            "check1\n",
            "check2\n",
            "check3\n",
            "check4\n"
          ]
        },
        {
          "output_type": "stream",
          "name": "stderr",
          "text": [
            "100%|██████████| 3/3 [00:00<00:00, 171.15it/s]\n",
            "100%|██████████| 3/3 [00:00<00:00, 231.16it/s]\n"
          ]
        },
        {
          "output_type": "stream",
          "name": "stdout",
          "text": [
            "0 1 12\n",
            "precheck\n",
            "check1\n",
            "check2\n",
            "check3\n",
            "check4\n"
          ]
        },
        {
          "output_type": "stream",
          "name": "stderr",
          "text": [
            "100%|██████████| 3/3 [00:00<00:00, 428.87it/s]\n",
            "100%|██████████| 3/3 [00:00<00:00, 248.17it/s]\n"
          ]
        },
        {
          "output_type": "stream",
          "name": "stdout",
          "text": [
            "0 1 13\n",
            "precheck\n",
            "check1\n",
            "check2\n",
            "check3\n",
            "check4\n"
          ]
        },
        {
          "output_type": "stream",
          "name": "stderr",
          "text": [
            "100%|██████████| 3/3 [00:00<00:00, 219.53it/s]\n",
            "100%|██████████| 3/3 [00:00<00:00, 170.14it/s]\n"
          ]
        },
        {
          "output_type": "stream",
          "name": "stdout",
          "text": [
            "0 1 14\n",
            "precheck\n",
            "check1\n",
            "check2\n",
            "check3\n",
            "check4\n"
          ]
        },
        {
          "output_type": "stream",
          "name": "stderr",
          "text": [
            "100%|██████████| 3/3 [00:00<00:00, 163.05it/s]\n",
            "100%|██████████| 3/3 [00:00<00:00, 190.74it/s]\n"
          ]
        },
        {
          "output_type": "stream",
          "name": "stdout",
          "text": [
            "0 1 15\n",
            "precheck\n",
            "check1\n",
            "check2\n",
            "check3\n",
            "check4\n"
          ]
        },
        {
          "output_type": "stream",
          "name": "stderr",
          "text": [
            "100%|██████████| 3/3 [00:00<00:00, 204.32it/s]\n",
            "100%|██████████| 3/3 [00:00<00:00, 177.78it/s]\n"
          ]
        },
        {
          "output_type": "stream",
          "name": "stdout",
          "text": [
            "0 1 16\n",
            "precheck\n",
            "check1\n",
            "check2\n",
            "check3\n",
            "check4\n"
          ]
        },
        {
          "output_type": "stream",
          "name": "stderr",
          "text": [
            "100%|██████████| 3/3 [00:00<00:00, 226.03it/s]\n",
            "100%|██████████| 3/3 [00:00<00:00, 220.68it/s]\n"
          ]
        },
        {
          "output_type": "stream",
          "name": "stdout",
          "text": [
            "0 1 17\n",
            "precheck\n",
            "check1\n",
            "check2\n",
            "check3\n",
            "check4\n"
          ]
        },
        {
          "output_type": "stream",
          "name": "stderr",
          "text": [
            "100%|██████████| 3/3 [00:00<00:00, 342.26it/s]\n",
            "100%|██████████| 3/3 [00:00<00:00, 110.55it/s]\n"
          ]
        },
        {
          "output_type": "stream",
          "name": "stdout",
          "text": [
            "0 1 18\n",
            "precheck\n",
            "check1\n",
            "check2\n",
            "check3\n",
            "check4\n"
          ]
        },
        {
          "output_type": "stream",
          "name": "stderr",
          "text": [
            "100%|██████████| 3/3 [00:00<00:00, 324.97it/s]\n",
            "100%|██████████| 3/3 [00:00<00:00, 189.01it/s]\n"
          ]
        },
        {
          "output_type": "stream",
          "name": "stdout",
          "text": [
            "0 1 19\n",
            "precheck\n",
            "check1\n",
            "check2\n",
            "check3\n",
            "check4\n"
          ]
        },
        {
          "output_type": "stream",
          "name": "stderr",
          "text": [
            "100%|██████████| 3/3 [00:00<00:00, 441.18it/s]\n",
            "100%|██████████| 3/3 [00:00<00:00, 137.89it/s]\n"
          ]
        },
        {
          "output_type": "stream",
          "name": "stdout",
          "text": [
            "0 1 20\n",
            "precheck\n",
            "check1\n",
            "check2\n",
            "check3\n",
            "check4\n"
          ]
        },
        {
          "output_type": "stream",
          "name": "stderr",
          "text": [
            "100%|██████████| 3/3 [00:00<00:00, 303.17it/s]\n",
            "100%|██████████| 3/3 [00:00<00:00, 370.13it/s]\n"
          ]
        },
        {
          "output_type": "stream",
          "name": "stdout",
          "text": [
            "0 1 21\n",
            "precheck\n",
            "check1\n",
            "check2\n",
            "check3\n",
            "check4\n"
          ]
        },
        {
          "output_type": "stream",
          "name": "stderr",
          "text": [
            "100%|██████████| 3/3 [00:00<00:00, 343.02it/s]\n",
            "100%|██████████| 3/3 [00:00<00:00, 211.80it/s]\n"
          ]
        },
        {
          "output_type": "stream",
          "name": "stdout",
          "text": [
            "0 1 22\n",
            "precheck\n",
            "check1\n",
            "check2\n",
            "check3\n",
            "check4\n"
          ]
        },
        {
          "output_type": "stream",
          "name": "stderr",
          "text": [
            "100%|██████████| 3/3 [00:00<00:00, 331.91it/s]\n",
            "100%|██████████| 3/3 [00:00<00:00, 326.24it/s]\n"
          ]
        },
        {
          "output_type": "stream",
          "name": "stdout",
          "text": [
            "0 1 23\n",
            "precheck\n",
            "check1\n",
            "check2\n",
            "check3\n",
            "check4\n"
          ]
        },
        {
          "output_type": "stream",
          "name": "stderr",
          "text": [
            "100%|██████████| 3/3 [00:00<00:00, 112.43it/s]\n",
            "100%|██████████| 3/3 [00:00<00:00, 358.47it/s]\n"
          ]
        },
        {
          "output_type": "stream",
          "name": "stdout",
          "text": [
            "0 1 24\n",
            "precheck\n",
            "check1\n",
            "check2\n",
            "check3\n",
            "check4\n"
          ]
        },
        {
          "output_type": "stream",
          "name": "stderr",
          "text": [
            "100%|██████████| 3/3 [00:00<00:00, 278.28it/s]\n",
            "100%|██████████| 3/3 [00:00<00:00, 425.77it/s]\n"
          ]
        },
        {
          "output_type": "stream",
          "name": "stdout",
          "text": [
            "0 1 25\n",
            "precheck\n",
            "check1\n",
            "check2\n",
            "check3\n",
            "check4\n"
          ]
        },
        {
          "output_type": "stream",
          "name": "stderr",
          "text": [
            "100%|██████████| 3/3 [00:00<00:00, 181.84it/s]\n",
            "100%|██████████| 3/3 [00:00<00:00, 156.52it/s]\n"
          ]
        },
        {
          "output_type": "stream",
          "name": "stdout",
          "text": [
            "0 1 26\n",
            "precheck\n",
            "check1\n",
            "check2\n",
            "check3\n",
            "check4\n"
          ]
        },
        {
          "output_type": "stream",
          "name": "stderr",
          "text": [
            "100%|██████████| 3/3 [00:00<00:00, 158.33it/s]\n",
            "100%|██████████| 3/3 [00:00<00:00, 179.47it/s]\n"
          ]
        },
        {
          "output_type": "stream",
          "name": "stdout",
          "text": [
            "0 1 27\n",
            "precheck\n",
            "check1\n",
            "check2\n",
            "check3\n",
            "check4\n"
          ]
        },
        {
          "output_type": "stream",
          "name": "stderr",
          "text": [
            "100%|██████████| 3/3 [00:00<00:00, 242.14it/s]\n",
            "100%|██████████| 3/3 [00:00<00:00, 369.04it/s]\n"
          ]
        },
        {
          "output_type": "stream",
          "name": "stdout",
          "text": [
            "0 1 28\n",
            "precheck\n",
            "check1\n",
            "check2\n",
            "check3\n",
            "check4\n"
          ]
        },
        {
          "output_type": "stream",
          "name": "stderr",
          "text": [
            "100%|██████████| 3/3 [00:00<00:00, 297.73it/s]\n",
            "100%|██████████| 3/3 [00:00<00:00, 399.52it/s]\n"
          ]
        },
        {
          "output_type": "stream",
          "name": "stdout",
          "text": [
            "0 1 29\n",
            "precheck\n",
            "check1\n",
            "check2\n",
            "check3\n",
            "check4\n"
          ]
        },
        {
          "output_type": "stream",
          "name": "stderr",
          "text": [
            "100%|██████████| 3/3 [00:00<00:00, 272.20it/s]\n",
            "100%|██████████| 3/3 [00:00<00:00, 409.81it/s]\n"
          ]
        },
        {
          "output_type": "stream",
          "name": "stdout",
          "text": [
            "0 1 30\n",
            "precheck\n",
            "check1\n",
            "check2\n",
            "check3\n",
            "check4\n"
          ]
        },
        {
          "output_type": "stream",
          "name": "stderr",
          "text": [
            "100%|██████████| 3/3 [00:00<00:00, 189.27it/s]\n",
            "100%|██████████| 3/3 [00:00<00:00, 104.91it/s]\n"
          ]
        },
        {
          "output_type": "stream",
          "name": "stdout",
          "text": [
            "0 1 31\n",
            "precheck\n",
            "check1\n",
            "check2\n",
            "check3\n",
            "check4\n"
          ]
        },
        {
          "output_type": "stream",
          "name": "stderr",
          "text": [
            "100%|██████████| 3/3 [00:00<00:00, 188.66it/s]\n",
            "100%|██████████| 3/3 [00:00<00:00, 378.67it/s]\n"
          ]
        },
        {
          "output_type": "stream",
          "name": "stdout",
          "text": [
            "0 1 32\n",
            "precheck\n",
            "check1\n",
            "check2\n",
            "check3\n",
            "check4\n"
          ]
        },
        {
          "output_type": "stream",
          "name": "stderr",
          "text": [
            "100%|██████████| 3/3 [00:00<00:00, 414.87it/s]\n",
            "100%|██████████| 3/3 [00:00<00:00, 160.66it/s]\n"
          ]
        },
        {
          "output_type": "stream",
          "name": "stdout",
          "text": [
            "0 1 33\n",
            "precheck\n",
            "check1\n",
            "check2\n",
            "check3\n",
            "check4\n"
          ]
        },
        {
          "output_type": "stream",
          "name": "stderr",
          "text": [
            "100%|██████████| 3/3 [00:00<00:00, 412.50it/s]\n",
            "100%|██████████| 3/3 [00:00<00:00, 329.63it/s]\n"
          ]
        },
        {
          "output_type": "stream",
          "name": "stdout",
          "text": [
            "0 1 34\n",
            "precheck\n",
            "check1\n",
            "check2\n",
            "check3\n",
            "check4\n"
          ]
        },
        {
          "output_type": "stream",
          "name": "stderr",
          "text": [
            "100%|██████████| 3/3 [00:00<00:00, 235.91it/s]\n",
            "100%|██████████| 3/3 [00:00<00:00, 259.82it/s]\n"
          ]
        },
        {
          "output_type": "stream",
          "name": "stdout",
          "text": [
            "0 1 35\n",
            "precheck\n",
            "check1\n",
            "check2\n",
            "check3\n",
            "check4\n"
          ]
        },
        {
          "output_type": "stream",
          "name": "stderr",
          "text": [
            "100%|██████████| 3/3 [00:00<00:00, 370.79it/s]\n",
            "100%|██████████| 3/3 [00:00<00:00, 149.81it/s]\n"
          ]
        },
        {
          "output_type": "stream",
          "name": "stdout",
          "text": [
            "0 1 36\n",
            "precheck\n",
            "check1\n",
            "check2\n",
            "check3\n",
            "check4\n"
          ]
        },
        {
          "output_type": "stream",
          "name": "stderr",
          "text": [
            "100%|██████████| 3/3 [00:00<00:00, 168.66it/s]\n",
            "100%|██████████| 3/3 [00:00<00:00, 175.63it/s]\n"
          ]
        },
        {
          "output_type": "stream",
          "name": "stdout",
          "text": [
            "0 1 37\n",
            "precheck\n",
            "check1\n",
            "check2\n",
            "check3\n",
            "check4\n"
          ]
        },
        {
          "output_type": "stream",
          "name": "stderr",
          "text": [
            "100%|██████████| 3/3 [00:00<00:00, 376.94it/s]\n",
            "100%|██████████| 3/3 [00:00<00:00, 436.03it/s]\n"
          ]
        },
        {
          "output_type": "stream",
          "name": "stdout",
          "text": [
            "0 1 38\n",
            "precheck\n",
            "check1\n",
            "check2\n",
            "check3\n",
            "check4\n"
          ]
        },
        {
          "output_type": "stream",
          "name": "stderr",
          "text": [
            "100%|██████████| 3/3 [00:00<00:00, 364.12it/s]\n",
            "100%|██████████| 3/3 [00:00<00:00, 214.80it/s]\n"
          ]
        },
        {
          "output_type": "stream",
          "name": "stdout",
          "text": [
            "0 1 39\n",
            "precheck\n",
            "check1\n",
            "check2\n",
            "check3\n",
            "check4\n"
          ]
        },
        {
          "output_type": "stream",
          "name": "stderr",
          "text": [
            "100%|██████████| 3/3 [00:00<00:00, 170.78it/s]\n",
            "100%|██████████| 3/3 [00:00<00:00, 173.86it/s]\n"
          ]
        },
        {
          "output_type": "stream",
          "name": "stdout",
          "text": [
            "0 1 40\n",
            "precheck\n",
            "check1\n",
            "check2\n",
            "check3\n",
            "check4\n"
          ]
        },
        {
          "output_type": "stream",
          "name": "stderr",
          "text": [
            "100%|██████████| 3/3 [00:00<00:00, 152.32it/s]\n",
            "100%|██████████| 3/3 [00:00<00:00, 121.91it/s]\n"
          ]
        },
        {
          "output_type": "stream",
          "name": "stdout",
          "text": [
            "0 1 41\n",
            "precheck\n",
            "check1\n",
            "check2\n",
            "check3\n",
            "check4\n"
          ]
        },
        {
          "output_type": "stream",
          "name": "stderr",
          "text": [
            "100%|██████████| 3/3 [00:00<00:00, 189.26it/s]\n",
            "100%|██████████| 3/3 [00:00<00:00, 249.81it/s]\n"
          ]
        },
        {
          "output_type": "stream",
          "name": "stdout",
          "text": [
            "0 1 42\n",
            "precheck\n",
            "check1\n",
            "check2\n",
            "check3\n",
            "check4\n"
          ]
        },
        {
          "output_type": "stream",
          "name": "stderr",
          "text": [
            "100%|██████████| 3/3 [00:00<00:00, 375.97it/s]\n",
            "100%|██████████| 3/3 [00:00<00:00, 243.43it/s]\n"
          ]
        },
        {
          "output_type": "stream",
          "name": "stdout",
          "text": [
            "0 1 43\n",
            "precheck\n",
            "check1\n",
            "check2\n",
            "check3\n",
            "check4\n"
          ]
        },
        {
          "output_type": "stream",
          "name": "stderr",
          "text": [
            "100%|██████████| 3/3 [00:00<00:00, 376.91it/s]\n",
            "100%|██████████| 3/3 [00:00<00:00, 391.54it/s]\n"
          ]
        },
        {
          "output_type": "stream",
          "name": "stdout",
          "text": [
            "0 1 44\n",
            "precheck\n",
            "check1\n",
            "check2\n",
            "check3\n",
            "check4\n"
          ]
        },
        {
          "output_type": "stream",
          "name": "stderr",
          "text": [
            "100%|██████████| 3/3 [00:00<00:00, 390.35it/s]\n",
            "100%|██████████| 3/3 [00:00<00:00, 242.08it/s]\n"
          ]
        },
        {
          "output_type": "stream",
          "name": "stdout",
          "text": [
            "0 1 45\n",
            "precheck\n",
            "check1\n",
            "check2\n",
            "check3\n",
            "check4\n"
          ]
        },
        {
          "output_type": "stream",
          "name": "stderr",
          "text": [
            "100%|██████████| 3/3 [00:00<00:00, 411.73it/s]\n",
            "100%|██████████| 3/3 [00:00<00:00, 402.51it/s]\n"
          ]
        },
        {
          "output_type": "stream",
          "name": "stdout",
          "text": [
            "0 1 46\n",
            "precheck\n",
            "check1\n",
            "check2\n",
            "check3\n",
            "check4\n"
          ]
        },
        {
          "output_type": "stream",
          "name": "stderr",
          "text": [
            "100%|██████████| 3/3 [00:00<00:00, 151.16it/s]\n",
            "100%|██████████| 3/3 [00:00<00:00, 158.10it/s]\n"
          ]
        },
        {
          "output_type": "stream",
          "name": "stdout",
          "text": [
            "0 1 47\n",
            "precheck\n",
            "check1\n",
            "check2\n",
            "check3\n",
            "check4\n"
          ]
        },
        {
          "output_type": "stream",
          "name": "stderr",
          "text": [
            "100%|██████████| 3/3 [00:00<00:00, 171.20it/s]\n",
            "100%|██████████| 3/3 [00:00<00:00, 256.66it/s]\n"
          ]
        },
        {
          "output_type": "stream",
          "name": "stdout",
          "text": [
            "0 1 48\n",
            "precheck\n",
            "check1\n",
            "check2\n",
            "check3\n",
            "check4\n"
          ]
        },
        {
          "output_type": "stream",
          "name": "stderr",
          "text": [
            "100%|██████████| 3/3 [00:00<00:00, 256.12it/s]\n",
            "100%|██████████| 3/3 [00:00<00:00, 367.87it/s]\n"
          ]
        },
        {
          "output_type": "stream",
          "name": "stdout",
          "text": [
            "0 1 49\n",
            "precheck\n",
            "check1\n",
            "check2\n",
            "check3\n",
            "check4\n"
          ]
        },
        {
          "output_type": "stream",
          "name": "stderr",
          "text": [
            "100%|██████████| 3/3 [00:00<00:00, 339.40it/s]\n",
            "100%|██████████| 3/3 [00:00<00:00, 159.20it/s]\n"
          ]
        },
        {
          "output_type": "stream",
          "name": "stdout",
          "text": [
            "0 1 50\n",
            "precheck\n",
            "check1\n",
            "check2\n",
            "check3\n",
            "check4\n"
          ]
        },
        {
          "output_type": "stream",
          "name": "stderr",
          "text": [
            "100%|██████████| 3/3 [00:00<00:00, 382.61it/s]\n",
            "100%|██████████| 3/3 [00:00<00:00, 290.71it/s]\n"
          ]
        },
        {
          "output_type": "stream",
          "name": "stdout",
          "text": [
            "0 1 51\n",
            "precheck\n",
            "check1\n",
            "check2\n",
            "check3\n",
            "check4\n"
          ]
        },
        {
          "output_type": "stream",
          "name": "stderr",
          "text": [
            "100%|██████████| 3/3 [00:00<00:00, 113.28it/s]\n",
            "100%|██████████| 3/3 [00:00<00:00, 90.53it/s]\n"
          ]
        },
        {
          "output_type": "stream",
          "name": "stdout",
          "text": [
            "0 1 52\n",
            "precheck\n",
            "check1\n",
            "check2\n",
            "check3\n",
            "check4\n"
          ]
        },
        {
          "output_type": "stream",
          "name": "stderr",
          "text": [
            "100%|██████████| 3/3 [00:00<00:00, 151.28it/s]\n",
            "100%|██████████| 3/3 [00:00<00:00, 116.16it/s]\n"
          ]
        },
        {
          "output_type": "stream",
          "name": "stdout",
          "text": [
            "0 1 53\n",
            "precheck\n",
            "check1\n",
            "check2\n",
            "check3\n",
            "check4\n"
          ]
        },
        {
          "output_type": "stream",
          "name": "stderr",
          "text": [
            "100%|██████████| 3/3 [00:00<00:00, 409.40it/s]\n",
            "100%|██████████| 3/3 [00:00<00:00, 386.33it/s]\n"
          ]
        },
        {
          "output_type": "stream",
          "name": "stdout",
          "text": [
            "0 1 54\n",
            "precheck\n",
            "check1\n",
            "check2\n",
            "check3\n",
            "check4\n"
          ]
        },
        {
          "output_type": "stream",
          "name": "stderr",
          "text": [
            "100%|██████████| 3/3 [00:00<00:00, 330.20it/s]\n",
            "100%|██████████| 3/3 [00:00<00:00, 160.93it/s]\n"
          ]
        },
        {
          "output_type": "stream",
          "name": "stdout",
          "text": [
            "0 1 55\n",
            "precheck\n",
            "check1\n",
            "check2\n",
            "check3\n",
            "check4\n"
          ]
        },
        {
          "output_type": "stream",
          "name": "stderr",
          "text": [
            "100%|██████████| 3/3 [00:00<00:00, 228.29it/s]\n",
            "100%|██████████| 3/3 [00:00<00:00, 385.38it/s]\n"
          ]
        },
        {
          "output_type": "stream",
          "name": "stdout",
          "text": [
            "0 1 56\n",
            "precheck\n",
            "check1\n",
            "check2\n",
            "check3\n",
            "check4\n"
          ]
        },
        {
          "output_type": "stream",
          "name": "stderr",
          "text": [
            "100%|██████████| 3/3 [00:00<00:00, 387.87it/s]\n",
            "100%|██████████| 3/3 [00:00<00:00, 207.98it/s]\n"
          ]
        },
        {
          "output_type": "stream",
          "name": "stdout",
          "text": [
            "0 1 57\n",
            "precheck\n",
            "check1\n",
            "check2\n",
            "check3\n",
            "check4\n"
          ]
        },
        {
          "output_type": "stream",
          "name": "stderr",
          "text": [
            "100%|██████████| 3/3 [00:00<00:00, 140.85it/s]\n",
            "100%|██████████| 3/3 [00:00<00:00, 131.43it/s]\n"
          ]
        },
        {
          "output_type": "stream",
          "name": "stdout",
          "text": [
            "0 1 58\n",
            "precheck\n",
            "check1\n",
            "check2\n",
            "check3\n",
            "check4\n"
          ]
        },
        {
          "output_type": "stream",
          "name": "stderr",
          "text": [
            "100%|██████████| 3/3 [00:00<00:00, 146.13it/s]\n",
            "100%|██████████| 3/3 [00:00<00:00, 124.49it/s]\n"
          ]
        },
        {
          "output_type": "stream",
          "name": "stdout",
          "text": [
            "0 1 59\n",
            "precheck\n",
            "check1\n",
            "check2\n",
            "check3\n",
            "check4\n"
          ]
        },
        {
          "output_type": "stream",
          "name": "stderr",
          "text": [
            "100%|██████████| 3/3 [00:00<00:00, 366.25it/s]\n",
            "100%|██████████| 3/3 [00:00<00:00, 367.92it/s]\n"
          ]
        },
        {
          "output_type": "stream",
          "name": "stdout",
          "text": [
            "0 1 60\n",
            "precheck\n",
            "check1\n",
            "check2\n",
            "check3\n",
            "check4\n"
          ]
        },
        {
          "output_type": "stream",
          "name": "stderr",
          "text": [
            "100%|██████████| 3/3 [00:00<00:00, 173.24it/s]\n",
            "100%|██████████| 3/3 [00:00<00:00, 167.09it/s]\n"
          ]
        },
        {
          "output_type": "stream",
          "name": "stdout",
          "text": [
            "0 1 61\n",
            "precheck\n",
            "check1\n",
            "check2\n",
            "check3\n",
            "check4\n"
          ]
        },
        {
          "output_type": "stream",
          "name": "stderr",
          "text": [
            "100%|██████████| 3/3 [00:00<00:00, 135.47it/s]\n",
            "100%|██████████| 3/3 [00:00<00:00, 100.46it/s]\n"
          ]
        },
        {
          "output_type": "stream",
          "name": "stdout",
          "text": [
            "0 1 62\n",
            "precheck\n",
            "check1\n",
            "check2\n",
            "check3\n",
            "check4\n"
          ]
        },
        {
          "output_type": "stream",
          "name": "stderr",
          "text": [
            "100%|██████████| 3/3 [00:00<00:00, 160.78it/s]\n",
            "100%|██████████| 3/3 [00:00<00:00, 135.56it/s]\n"
          ]
        },
        {
          "output_type": "stream",
          "name": "stdout",
          "text": [
            "0 1 63\n",
            "precheck\n",
            "check1\n",
            "check2\n",
            "check3\n",
            "check4\n"
          ]
        },
        {
          "output_type": "stream",
          "name": "stderr",
          "text": [
            "100%|██████████| 3/3 [00:00<00:00, 204.91it/s]\n",
            "100%|██████████| 3/3 [00:00<00:00, 155.83it/s]\n"
          ]
        },
        {
          "output_type": "stream",
          "name": "stdout",
          "text": [
            "0 1 64\n",
            "precheck\n",
            "check1\n",
            "check2\n",
            "check3\n",
            "check4\n"
          ]
        },
        {
          "output_type": "stream",
          "name": "stderr",
          "text": [
            "100%|██████████| 3/3 [00:00<00:00, 192.18it/s]\n",
            "100%|██████████| 3/3 [00:00<00:00, 177.75it/s]\n"
          ]
        },
        {
          "output_type": "stream",
          "name": "stdout",
          "text": [
            "0 1 65\n",
            "precheck\n",
            "check1\n",
            "check2\n",
            "check3\n",
            "check4\n"
          ]
        },
        {
          "output_type": "stream",
          "name": "stderr",
          "text": [
            "100%|██████████| 3/3 [00:00<00:00, 216.34it/s]\n",
            "100%|██████████| 3/3 [00:00<00:00, 273.06it/s]\n"
          ]
        },
        {
          "output_type": "stream",
          "name": "stdout",
          "text": [
            "0 1 66\n",
            "precheck\n",
            "check1\n",
            "check2\n",
            "check3\n",
            "check4\n"
          ]
        },
        {
          "output_type": "stream",
          "name": "stderr",
          "text": [
            "100%|██████████| 3/3 [00:00<00:00, 178.76it/s]\n",
            "100%|██████████| 3/3 [00:00<00:00, 322.49it/s]\n"
          ]
        },
        {
          "output_type": "stream",
          "name": "stdout",
          "text": [
            "0 1 67\n",
            "precheck\n",
            "check1\n",
            "check2\n",
            "check3\n",
            "check4\n"
          ]
        },
        {
          "output_type": "stream",
          "name": "stderr",
          "text": [
            "100%|██████████| 3/3 [00:00<00:00, 169.32it/s]\n",
            "100%|██████████| 3/3 [00:00<00:00, 324.94it/s]\n"
          ]
        },
        {
          "output_type": "stream",
          "name": "stdout",
          "text": [
            "0 1 68\n",
            "precheck\n",
            "check1\n",
            "check2\n",
            "check3\n",
            "check4\n"
          ]
        },
        {
          "output_type": "stream",
          "name": "stderr",
          "text": [
            "100%|██████████| 3/3 [00:00<00:00, 106.11it/s]\n",
            "100%|██████████| 3/3 [00:00<00:00, 78.53it/s]\n"
          ]
        },
        {
          "output_type": "stream",
          "name": "stdout",
          "text": [
            "0 1 69\n",
            "precheck\n",
            "check1\n",
            "check2\n",
            "check3\n",
            "check4\n"
          ]
        },
        {
          "output_type": "stream",
          "name": "stderr",
          "text": [
            "100%|██████████| 3/3 [00:00<00:00, 131.79it/s]\n",
            "100%|██████████| 3/3 [00:00<00:00, 114.29it/s]\n"
          ]
        },
        {
          "output_type": "stream",
          "name": "stdout",
          "text": [
            "0 1 70\n",
            "precheck\n",
            "check1\n",
            "check2\n",
            "check3\n",
            "check4\n"
          ]
        },
        {
          "output_type": "stream",
          "name": "stderr",
          "text": [
            "100%|██████████| 3/3 [00:00<00:00, 154.82it/s]\n",
            "100%|██████████| 3/3 [00:00<00:00, 172.36it/s]\n"
          ]
        },
        {
          "output_type": "stream",
          "name": "stdout",
          "text": [
            "0 1 71\n",
            "precheck\n",
            "check1\n",
            "check2\n",
            "check3\n",
            "check4\n"
          ]
        },
        {
          "output_type": "stream",
          "name": "stderr",
          "text": [
            "100%|██████████| 3/3 [00:00<00:00, 198.22it/s]\n",
            "100%|██████████| 3/3 [00:00<00:00, 333.07it/s]\n"
          ]
        },
        {
          "output_type": "stream",
          "name": "stdout",
          "text": [
            "0 1 72\n",
            "precheck\n",
            "check1\n",
            "check2\n",
            "check3\n",
            "check4\n"
          ]
        },
        {
          "output_type": "stream",
          "name": "stderr",
          "text": [
            "100%|██████████| 3/3 [00:00<00:00, 164.36it/s]\n",
            "100%|██████████| 3/3 [00:00<00:00, 385.62it/s]\n"
          ]
        },
        {
          "output_type": "stream",
          "name": "stdout",
          "text": [
            "0 1 73\n",
            "precheck\n",
            "check1\n",
            "check2\n",
            "check3\n",
            "check4\n"
          ]
        },
        {
          "output_type": "stream",
          "name": "stderr",
          "text": [
            "100%|██████████| 3/3 [00:00<00:00, 145.53it/s]\n",
            "100%|██████████| 3/3 [00:00<00:00, 209.87it/s]\n"
          ]
        },
        {
          "output_type": "stream",
          "name": "stdout",
          "text": [
            "0 1 74\n",
            "precheck\n",
            "check1\n",
            "check2\n",
            "check3\n",
            "check4\n"
          ]
        },
        {
          "output_type": "stream",
          "name": "stderr",
          "text": [
            "100%|██████████| 3/3 [00:00<00:00, 175.44it/s]\n",
            "100%|██████████| 3/3 [00:00<00:00, 121.47it/s]\n"
          ]
        },
        {
          "output_type": "stream",
          "name": "stdout",
          "text": [
            "0 1 75\n",
            "precheck\n",
            "check1\n",
            "check2\n",
            "check3\n",
            "check4\n"
          ]
        },
        {
          "output_type": "stream",
          "name": "stderr",
          "text": [
            "100%|██████████| 3/3 [00:00<00:00, 325.85it/s]\n",
            "100%|██████████| 3/3 [00:00<00:00, 327.06it/s]\n"
          ]
        },
        {
          "output_type": "stream",
          "name": "stdout",
          "text": [
            "0 1 76\n",
            "precheck\n",
            "check1\n",
            "check2\n",
            "check3\n",
            "check4\n"
          ]
        },
        {
          "output_type": "stream",
          "name": "stderr",
          "text": [
            "100%|██████████| 3/3 [00:00<00:00, 176.87it/s]\n",
            "100%|██████████| 3/3 [00:00<00:00, 146.57it/s]\n"
          ]
        },
        {
          "output_type": "stream",
          "name": "stdout",
          "text": [
            "0 1 77\n",
            "precheck\n",
            "check1\n",
            "check2\n",
            "check3\n",
            "check4\n"
          ]
        },
        {
          "output_type": "stream",
          "name": "stderr",
          "text": [
            "100%|██████████| 3/3 [00:00<00:00, 196.26it/s]\n",
            "100%|██████████| 3/3 [00:00<00:00, 208.40it/s]\n"
          ]
        },
        {
          "output_type": "stream",
          "name": "stdout",
          "text": [
            "0 1 78\n",
            "precheck\n",
            "check1\n",
            "check2\n",
            "check3\n",
            "check4\n"
          ]
        },
        {
          "output_type": "stream",
          "name": "stderr",
          "text": [
            "100%|██████████| 3/3 [00:00<00:00, 182.92it/s]\n",
            "100%|██████████| 3/3 [00:00<00:00, 263.16it/s]\n"
          ]
        },
        {
          "output_type": "stream",
          "name": "stdout",
          "text": [
            "0 1 79\n",
            "precheck\n",
            "check1\n",
            "check2\n",
            "check3\n",
            "check4\n"
          ]
        },
        {
          "output_type": "stream",
          "name": "stderr",
          "text": [
            "100%|██████████| 3/3 [00:00<00:00, 192.23it/s]\n",
            "100%|██████████| 3/3 [00:00<00:00, 346.28it/s]\n"
          ]
        },
        {
          "output_type": "stream",
          "name": "stdout",
          "text": [
            "0 1 80\n",
            "precheck\n",
            "check1\n",
            "check2\n",
            "check3\n",
            "check4\n"
          ]
        },
        {
          "output_type": "stream",
          "name": "stderr",
          "text": [
            "100%|██████████| 3/3 [00:00<00:00, 360.65it/s]\n",
            "100%|██████████| 3/3 [00:00<00:00, 296.84it/s]\n"
          ]
        },
        {
          "output_type": "stream",
          "name": "stdout",
          "text": [
            "0 1 81\n",
            "precheck\n",
            "check1\n",
            "check2\n",
            "check3\n",
            "check4\n"
          ]
        },
        {
          "output_type": "stream",
          "name": "stderr",
          "text": [
            "100%|██████████| 3/3 [00:00<00:00, 322.99it/s]\n",
            "100%|██████████| 3/3 [00:00<00:00, 138.18it/s]\n"
          ]
        },
        {
          "output_type": "stream",
          "name": "stdout",
          "text": [
            "0 1 82\n",
            "precheck\n",
            "check1\n",
            "check2\n",
            "check3\n",
            "check4\n"
          ]
        },
        {
          "output_type": "stream",
          "name": "stderr",
          "text": [
            "100%|██████████| 3/3 [00:00<00:00, 265.31it/s]\n",
            "100%|██████████| 3/3 [00:00<00:00, 248.11it/s]\n"
          ]
        },
        {
          "output_type": "stream",
          "name": "stdout",
          "text": [
            "0 1 83\n",
            "precheck\n",
            "check1\n",
            "check2\n",
            "check3\n",
            "check4\n"
          ]
        },
        {
          "output_type": "stream",
          "name": "stderr",
          "text": [
            "100%|██████████| 3/3 [00:00<00:00, 233.61it/s]\n",
            "100%|██████████| 3/3 [00:00<00:00, 247.17it/s]\n"
          ]
        },
        {
          "output_type": "stream",
          "name": "stdout",
          "text": [
            "0 1 84\n",
            "precheck\n",
            "check1\n",
            "check2\n",
            "check3\n",
            "check4\n"
          ]
        },
        {
          "output_type": "stream",
          "name": "stderr",
          "text": [
            "100%|██████████| 3/3 [00:00<00:00, 144.74it/s]\n",
            "100%|██████████| 3/3 [00:00<00:00, 253.43it/s]\n"
          ]
        },
        {
          "output_type": "stream",
          "name": "stdout",
          "text": [
            "0 1 85\n",
            "precheck\n",
            "check1\n",
            "check2\n",
            "check3\n",
            "check4\n"
          ]
        },
        {
          "output_type": "stream",
          "name": "stderr",
          "text": [
            "100%|██████████| 3/3 [00:00<00:00, 339.60it/s]\n",
            "100%|██████████| 3/3 [00:00<00:00, 294.98it/s]\n"
          ]
        },
        {
          "output_type": "stream",
          "name": "stdout",
          "text": [
            "0 1 86\n",
            "precheck\n",
            "check1\n",
            "check2\n",
            "check3\n",
            "check4\n"
          ]
        },
        {
          "output_type": "stream",
          "name": "stderr",
          "text": [
            "100%|██████████| 3/3 [00:00<00:00, 177.09it/s]\n",
            "100%|██████████| 3/3 [00:00<00:00, 187.31it/s]\n"
          ]
        },
        {
          "output_type": "stream",
          "name": "stdout",
          "text": [
            "0 1 87\n",
            "precheck\n",
            "check1\n",
            "check2\n",
            "check3\n",
            "check4\n"
          ]
        },
        {
          "output_type": "stream",
          "name": "stderr",
          "text": [
            "100%|██████████| 3/3 [00:00<00:00, 323.82it/s]\n",
            "100%|██████████| 3/3 [00:00<00:00, 363.72it/s]\n"
          ]
        },
        {
          "output_type": "stream",
          "name": "stdout",
          "text": [
            "0 1 88\n",
            "precheck\n",
            "check1\n",
            "check2\n",
            "check3\n",
            "check4\n"
          ]
        },
        {
          "output_type": "stream",
          "name": "stderr",
          "text": [
            "100%|██████████| 3/3 [00:00<00:00, 197.21it/s]\n",
            "100%|██████████| 3/3 [00:00<00:00, 270.44it/s]\n"
          ]
        },
        {
          "output_type": "stream",
          "name": "stdout",
          "text": [
            "0 1 89\n",
            "precheck\n",
            "check1\n",
            "check2\n",
            "check3\n",
            "check4\n"
          ]
        },
        {
          "output_type": "stream",
          "name": "stderr",
          "text": [
            "100%|██████████| 3/3 [00:00<00:00, 168.66it/s]\n",
            "100%|██████████| 3/3 [00:00<00:00, 199.56it/s]\n"
          ]
        },
        {
          "output_type": "stream",
          "name": "stdout",
          "text": [
            "0 1 90\n",
            "precheck\n",
            "check1\n",
            "check2\n",
            "check3\n",
            "check4\n"
          ]
        },
        {
          "output_type": "stream",
          "name": "stderr",
          "text": [
            "100%|██████████| 3/3 [00:00<00:00, 187.61it/s]\n",
            "100%|██████████| 3/3 [00:00<00:00, 234.97it/s]\n"
          ]
        },
        {
          "output_type": "stream",
          "name": "stdout",
          "text": [
            "0 1 91\n",
            "precheck\n",
            "check1\n",
            "check2\n",
            "check3\n",
            "check4\n"
          ]
        },
        {
          "output_type": "stream",
          "name": "stderr",
          "text": [
            "100%|██████████| 3/3 [00:00<00:00, 266.15it/s]\n",
            "100%|██████████| 3/3 [00:00<00:00, 305.37it/s]\n"
          ]
        },
        {
          "output_type": "stream",
          "name": "stdout",
          "text": [
            "0 1 92\n",
            "precheck\n",
            "check1\n",
            "check2\n",
            "check3\n",
            "check4\n"
          ]
        },
        {
          "output_type": "stream",
          "name": "stderr",
          "text": [
            "100%|██████████| 3/3 [00:00<00:00, 201.24it/s]\n",
            "100%|██████████| 3/3 [00:00<00:00, 333.33it/s]\n"
          ]
        },
        {
          "output_type": "stream",
          "name": "stdout",
          "text": [
            "0 1 93\n",
            "precheck\n",
            "check1\n",
            "check2\n",
            "check3\n",
            "check4\n"
          ]
        },
        {
          "output_type": "stream",
          "name": "stderr",
          "text": [
            "100%|██████████| 3/3 [00:00<00:00, 260.00it/s]\n",
            "100%|██████████| 3/3 [00:00<00:00, 175.43it/s]\n"
          ]
        },
        {
          "output_type": "stream",
          "name": "stdout",
          "text": [
            "0 1 94\n",
            "precheck\n",
            "check1\n",
            "check2\n",
            "check3\n",
            "check4\n"
          ]
        },
        {
          "output_type": "stream",
          "name": "stderr",
          "text": [
            "100%|██████████| 3/3 [00:00<00:00, 155.24it/s]\n",
            "100%|██████████| 3/3 [00:00<00:00, 221.17it/s]\n"
          ]
        },
        {
          "output_type": "stream",
          "name": "stdout",
          "text": [
            "0 1 95\n",
            "precheck\n",
            "check1\n",
            "check2\n",
            "check3\n",
            "check4\n"
          ]
        },
        {
          "output_type": "stream",
          "name": "stderr",
          "text": [
            "100%|██████████| 3/3 [00:00<00:00, 172.63it/s]\n",
            "100%|██████████| 3/3 [00:00<00:00, 256.84it/s]\n"
          ]
        },
        {
          "output_type": "stream",
          "name": "stdout",
          "text": [
            "0 1 96\n",
            "precheck\n",
            "check1\n",
            "check2\n",
            "check3\n",
            "check4\n"
          ]
        },
        {
          "output_type": "stream",
          "name": "stderr",
          "text": [
            "100%|██████████| 3/3 [00:00<00:00, 330.96it/s]\n",
            "100%|██████████| 3/3 [00:00<00:00, 386.74it/s]\n"
          ]
        },
        {
          "output_type": "stream",
          "name": "stdout",
          "text": [
            "0 1 97\n",
            "precheck\n",
            "check1\n",
            "check2\n",
            "check3\n",
            "check4\n"
          ]
        },
        {
          "output_type": "stream",
          "name": "stderr",
          "text": [
            "100%|██████████| 3/3 [00:00<00:00, 153.89it/s]\n",
            "100%|██████████| 3/3 [00:00<00:00, 123.90it/s]\n"
          ]
        },
        {
          "output_type": "stream",
          "name": "stdout",
          "text": [
            "0 1 98\n",
            "precheck\n",
            "check1\n",
            "check2\n",
            "check3\n",
            "check4\n"
          ]
        },
        {
          "output_type": "stream",
          "name": "stderr",
          "text": [
            "100%|██████████| 3/3 [00:00<00:00, 195.09it/s]\n",
            "100%|██████████| 3/3 [00:00<00:00, 254.21it/s]\n"
          ]
        },
        {
          "output_type": "stream",
          "name": "stdout",
          "text": [
            "0 1 99\n",
            "precheck\n",
            "check1\n",
            "check2\n",
            "check3\n",
            "check4\n"
          ]
        },
        {
          "output_type": "stream",
          "name": "stderr",
          "text": [
            "100%|██████████| 3/3 [00:00<00:00, 162.47it/s]\n",
            "100%|██████████| 3/3 [00:00<00:00, 241.60it/s]\n"
          ]
        },
        {
          "output_type": "stream",
          "name": "stdout",
          "text": [
            "0 2 0\n",
            "precheck\n",
            "check1\n",
            "check2\n",
            "check3\n",
            "check4\n"
          ]
        },
        {
          "output_type": "stream",
          "name": "stderr",
          "text": [
            "100%|██████████| 3/3 [00:00<00:00, 199.14it/s]\n",
            "100%|██████████| 3/3 [00:00<00:00, 142.67it/s]\n"
          ]
        },
        {
          "output_type": "stream",
          "name": "stdout",
          "text": [
            "0 2 1\n",
            "precheck\n",
            "check1\n",
            "check2\n",
            "check3\n",
            "check4\n"
          ]
        },
        {
          "output_type": "stream",
          "name": "stderr",
          "text": [
            "100%|██████████| 3/3 [00:00<00:00, 232.43it/s]\n",
            "100%|██████████| 3/3 [00:00<00:00, 329.91it/s]\n"
          ]
        },
        {
          "output_type": "stream",
          "name": "stdout",
          "text": [
            "0 2 2\n",
            "precheck\n",
            "check1\n",
            "check2\n",
            "check3\n",
            "check4\n"
          ]
        },
        {
          "output_type": "stream",
          "name": "stderr",
          "text": [
            "100%|██████████| 3/3 [00:00<00:00, 226.57it/s]\n",
            "100%|██████████| 3/3 [00:00<00:00, 366.84it/s]\n"
          ]
        },
        {
          "output_type": "stream",
          "name": "stdout",
          "text": [
            "0 2 3\n",
            "precheck\n",
            "check1\n",
            "check2\n",
            "check3\n",
            "check4\n"
          ]
        },
        {
          "output_type": "stream",
          "name": "stderr",
          "text": [
            "100%|██████████| 3/3 [00:00<00:00, 237.23it/s]\n",
            "100%|██████████| 3/3 [00:00<00:00, 237.78it/s]\n"
          ]
        },
        {
          "output_type": "stream",
          "name": "stdout",
          "text": [
            "0 2 4\n",
            "precheck\n",
            "check1\n",
            "check2\n",
            "check3\n",
            "check4\n"
          ]
        },
        {
          "output_type": "stream",
          "name": "stderr",
          "text": [
            "100%|██████████| 3/3 [00:00<00:00, 202.04it/s]\n",
            "100%|██████████| 3/3 [00:00<00:00, 204.42it/s]\n"
          ]
        },
        {
          "output_type": "stream",
          "name": "stdout",
          "text": [
            "0 2 5\n",
            "precheck\n",
            "check1\n",
            "check2\n",
            "check3\n",
            "check4\n"
          ]
        },
        {
          "output_type": "stream",
          "name": "stderr",
          "text": [
            "100%|██████████| 3/3 [00:00<00:00, 187.17it/s]\n",
            "100%|██████████| 3/3 [00:00<00:00, 170.46it/s]\n"
          ]
        },
        {
          "output_type": "stream",
          "name": "stdout",
          "text": [
            "0 2 6\n",
            "precheck\n",
            "check1\n",
            "check2\n",
            "check3\n",
            "check4\n"
          ]
        },
        {
          "output_type": "stream",
          "name": "stderr",
          "text": [
            "100%|██████████| 3/3 [00:00<00:00, 183.39it/s]\n",
            "100%|██████████| 3/3 [00:00<00:00, 180.35it/s]\n"
          ]
        },
        {
          "output_type": "stream",
          "name": "stdout",
          "text": [
            "0 2 7\n",
            "precheck\n",
            "check1\n",
            "check2\n",
            "check3\n",
            "check4\n"
          ]
        },
        {
          "output_type": "stream",
          "name": "stderr",
          "text": [
            "100%|██████████| 3/3 [00:00<00:00, 330.51it/s]\n",
            "100%|██████████| 3/3 [00:00<00:00, 193.10it/s]\n"
          ]
        },
        {
          "output_type": "stream",
          "name": "stdout",
          "text": [
            "0 2 8\n",
            "precheck\n",
            "check1\n",
            "check2\n",
            "check3\n",
            "check4\n"
          ]
        },
        {
          "output_type": "stream",
          "name": "stderr",
          "text": [
            "100%|██████████| 3/3 [00:00<00:00, 176.11it/s]\n",
            "100%|██████████| 3/3 [00:00<00:00, 147.40it/s]\n"
          ]
        },
        {
          "output_type": "stream",
          "name": "stdout",
          "text": [
            "0 2 9\n",
            "precheck\n",
            "check1\n",
            "check2\n",
            "check3\n",
            "check4\n"
          ]
        },
        {
          "output_type": "stream",
          "name": "stderr",
          "text": [
            "100%|██████████| 3/3 [00:00<00:00, 303.47it/s]\n",
            "100%|██████████| 3/3 [00:00<00:00, 410.78it/s]\n"
          ]
        },
        {
          "output_type": "stream",
          "name": "stdout",
          "text": [
            "0 2 10\n",
            "precheck\n",
            "check1\n",
            "check2\n",
            "check3\n",
            "check4\n"
          ]
        },
        {
          "output_type": "stream",
          "name": "stderr",
          "text": [
            "100%|██████████| 3/3 [00:00<00:00, 275.72it/s]\n",
            "100%|██████████| 3/3 [00:00<00:00, 350.11it/s]\n"
          ]
        },
        {
          "output_type": "stream",
          "name": "stdout",
          "text": [
            "0 2 11\n",
            "precheck\n",
            "check1\n",
            "check2\n",
            "check3\n",
            "check4\n"
          ]
        },
        {
          "output_type": "stream",
          "name": "stderr",
          "text": [
            "100%|██████████| 3/3 [00:00<00:00, 350.60it/s]\n",
            "100%|██████████| 3/3 [00:00<00:00, 387.18it/s]\n"
          ]
        },
        {
          "output_type": "stream",
          "name": "stdout",
          "text": [
            "0 2 12\n",
            "precheck\n",
            "check1\n",
            "check2\n",
            "check3\n",
            "check4\n"
          ]
        },
        {
          "output_type": "stream",
          "name": "stderr",
          "text": [
            "100%|██████████| 3/3 [00:00<00:00, 369.07it/s]\n",
            "100%|██████████| 3/3 [00:00<00:00, 239.79it/s]\n"
          ]
        },
        {
          "output_type": "stream",
          "name": "stdout",
          "text": [
            "0 2 13\n",
            "precheck\n",
            "check1\n",
            "check2\n",
            "check3\n",
            "check4\n"
          ]
        },
        {
          "output_type": "stream",
          "name": "stderr",
          "text": [
            "100%|██████████| 3/3 [00:00<00:00, 253.99it/s]\n",
            "100%|██████████| 3/3 [00:00<00:00, 180.47it/s]\n"
          ]
        },
        {
          "output_type": "stream",
          "name": "stdout",
          "text": [
            "0 2 14\n",
            "precheck\n",
            "check1\n",
            "check2\n",
            "check3\n",
            "check4\n"
          ]
        },
        {
          "output_type": "stream",
          "name": "stderr",
          "text": [
            "100%|██████████| 3/3 [00:00<00:00, 180.73it/s]\n",
            "100%|██████████| 3/3 [00:00<00:00, 389.37it/s]\n"
          ]
        },
        {
          "output_type": "stream",
          "name": "stdout",
          "text": [
            "0 2 15\n",
            "precheck\n",
            "check1\n",
            "check2\n",
            "check3\n",
            "check4\n"
          ]
        },
        {
          "output_type": "stream",
          "name": "stderr",
          "text": [
            "100%|██████████| 3/3 [00:00<00:00, 338.72it/s]\n",
            "100%|██████████| 3/3 [00:00<00:00, 290.70it/s]\n"
          ]
        },
        {
          "output_type": "stream",
          "name": "stdout",
          "text": [
            "0 2 16\n",
            "precheck\n",
            "check1\n",
            "check2\n",
            "check3\n",
            "check4\n"
          ]
        },
        {
          "output_type": "stream",
          "name": "stderr",
          "text": [
            "100%|██████████| 3/3 [00:00<00:00, 422.60it/s]\n",
            "100%|██████████| 3/3 [00:00<00:00, 148.20it/s]\n"
          ]
        },
        {
          "output_type": "stream",
          "name": "stdout",
          "text": [
            "0 2 17\n",
            "precheck\n",
            "check1\n",
            "check2\n",
            "check3\n",
            "check4\n"
          ]
        },
        {
          "output_type": "stream",
          "name": "stderr",
          "text": [
            "100%|██████████| 3/3 [00:00<00:00, 245.01it/s]\n",
            "100%|██████████| 3/3 [00:00<00:00, 191.60it/s]\n"
          ]
        },
        {
          "output_type": "stream",
          "name": "stdout",
          "text": [
            "0 2 18\n",
            "precheck\n",
            "check1\n",
            "check2\n",
            "check3\n",
            "check4\n"
          ]
        },
        {
          "output_type": "stream",
          "name": "stderr",
          "text": [
            "100%|██████████| 3/3 [00:00<00:00, 326.72it/s]\n",
            "100%|██████████| 3/3 [00:00<00:00, 181.06it/s]\n"
          ]
        },
        {
          "output_type": "stream",
          "name": "stdout",
          "text": [
            "0 2 19\n",
            "precheck\n",
            "check1\n",
            "check2\n",
            "check3\n",
            "check4\n"
          ]
        },
        {
          "output_type": "stream",
          "name": "stderr",
          "text": [
            "100%|██████████| 3/3 [00:00<00:00, 294.37it/s]\n",
            "100%|██████████| 3/3 [00:00<00:00, 314.73it/s]\n"
          ]
        },
        {
          "output_type": "stream",
          "name": "stdout",
          "text": [
            "0 2 20\n",
            "precheck\n",
            "check1\n",
            "check2\n",
            "check3\n",
            "check4\n"
          ]
        },
        {
          "output_type": "stream",
          "name": "stderr",
          "text": [
            "100%|██████████| 3/3 [00:00<00:00, 227.61it/s]\n",
            "100%|██████████| 3/3 [00:00<00:00, 238.47it/s]\n"
          ]
        },
        {
          "output_type": "stream",
          "name": "stdout",
          "text": [
            "0 2 21\n",
            "precheck\n",
            "check1\n",
            "check2\n",
            "check3\n",
            "check4\n"
          ]
        },
        {
          "output_type": "stream",
          "name": "stderr",
          "text": [
            "100%|██████████| 3/3 [00:00<00:00, 240.13it/s]\n",
            "100%|██████████| 3/3 [00:00<00:00, 158.37it/s]\n"
          ]
        },
        {
          "output_type": "stream",
          "name": "stdout",
          "text": [
            "0 2 22\n",
            "precheck\n",
            "check1\n",
            "check2\n",
            "check3\n",
            "check4\n"
          ]
        },
        {
          "output_type": "stream",
          "name": "stderr",
          "text": [
            "100%|██████████| 3/3 [00:00<00:00, 251.03it/s]\n",
            "100%|██████████| 3/3 [00:00<00:00, 370.88it/s]\n"
          ]
        },
        {
          "output_type": "stream",
          "name": "stdout",
          "text": [
            "0 2 23\n",
            "precheck\n",
            "check1\n",
            "check2\n",
            "check3\n",
            "check4\n"
          ]
        },
        {
          "output_type": "stream",
          "name": "stderr",
          "text": [
            "100%|██████████| 3/3 [00:00<00:00, 214.86it/s]\n",
            "100%|██████████| 3/3 [00:00<00:00, 262.26it/s]\n"
          ]
        },
        {
          "output_type": "stream",
          "name": "stdout",
          "text": [
            "0 2 24\n",
            "precheck\n",
            "check1\n",
            "check2\n",
            "check3\n",
            "check4\n"
          ]
        },
        {
          "output_type": "stream",
          "name": "stderr",
          "text": [
            "100%|██████████| 3/3 [00:00<00:00, 395.03it/s]\n",
            "100%|██████████| 3/3 [00:00<00:00, 423.50it/s]\n"
          ]
        },
        {
          "output_type": "stream",
          "name": "stdout",
          "text": [
            "0 2 25\n",
            "precheck\n",
            "check1\n",
            "check2\n",
            "check3\n",
            "check4\n"
          ]
        },
        {
          "output_type": "stream",
          "name": "stderr",
          "text": [
            "100%|██████████| 3/3 [00:00<00:00, 296.99it/s]\n",
            "100%|██████████| 3/3 [00:00<00:00, 291.97it/s]\n"
          ]
        },
        {
          "output_type": "stream",
          "name": "stdout",
          "text": [
            "0 2 26\n",
            "precheck\n",
            "check1\n",
            "check2\n",
            "check3\n",
            "check4\n"
          ]
        },
        {
          "output_type": "stream",
          "name": "stderr",
          "text": [
            "100%|██████████| 3/3 [00:00<00:00, 302.83it/s]\n",
            "100%|██████████| 3/3 [00:00<00:00, 178.51it/s]\n"
          ]
        },
        {
          "output_type": "stream",
          "name": "stdout",
          "text": [
            "0 2 27\n",
            "precheck\n",
            "check1\n",
            "check2\n",
            "check3\n",
            "check4\n"
          ]
        },
        {
          "output_type": "stream",
          "name": "stderr",
          "text": [
            "100%|██████████| 3/3 [00:00<00:00, 284.37it/s]\n",
            "100%|██████████| 3/3 [00:00<00:00, 160.07it/s]\n"
          ]
        },
        {
          "output_type": "stream",
          "name": "stdout",
          "text": [
            "0 2 28\n",
            "precheck\n",
            "check1\n",
            "check2\n",
            "check3\n",
            "check4\n"
          ]
        },
        {
          "output_type": "stream",
          "name": "stderr",
          "text": [
            "100%|██████████| 3/3 [00:00<00:00, 274.77it/s]\n",
            "100%|██████████| 3/3 [00:00<00:00, 320.22it/s]\n"
          ]
        },
        {
          "output_type": "stream",
          "name": "stdout",
          "text": [
            "0 2 29\n",
            "precheck\n",
            "check1\n",
            "check2\n",
            "check3\n",
            "check4\n"
          ]
        },
        {
          "output_type": "stream",
          "name": "stderr",
          "text": [
            "100%|██████████| 3/3 [00:00<00:00, 226.21it/s]\n",
            "100%|██████████| 3/3 [00:00<00:00, 230.89it/s]\n"
          ]
        },
        {
          "output_type": "stream",
          "name": "stdout",
          "text": [
            "0 2 30\n",
            "precheck\n",
            "check1\n",
            "check2\n",
            "check3\n",
            "check4\n"
          ]
        },
        {
          "output_type": "stream",
          "name": "stderr",
          "text": [
            "100%|██████████| 3/3 [00:00<00:00, 166.90it/s]\n",
            "100%|██████████| 3/3 [00:00<00:00, 136.15it/s]\n"
          ]
        },
        {
          "output_type": "stream",
          "name": "stdout",
          "text": [
            "0 2 31\n",
            "precheck\n",
            "check1\n",
            "check2\n",
            "check3\n",
            "check4\n"
          ]
        },
        {
          "output_type": "stream",
          "name": "stderr",
          "text": [
            "100%|██████████| 3/3 [00:00<00:00, 362.22it/s]\n",
            "100%|██████████| 3/3 [00:00<00:00, 180.02it/s]\n"
          ]
        },
        {
          "output_type": "stream",
          "name": "stdout",
          "text": [
            "0 2 32\n",
            "precheck\n",
            "check1\n",
            "check2\n",
            "check3\n",
            "check4\n"
          ]
        },
        {
          "output_type": "stream",
          "name": "stderr",
          "text": [
            "100%|██████████| 3/3 [00:00<00:00, 207.19it/s]\n",
            "100%|██████████| 3/3 [00:00<00:00, 189.56it/s]\n"
          ]
        },
        {
          "output_type": "stream",
          "name": "stdout",
          "text": [
            "0 2 33\n",
            "precheck\n",
            "check1\n",
            "check2\n",
            "check3\n",
            "check4\n"
          ]
        },
        {
          "output_type": "stream",
          "name": "stderr",
          "text": [
            "100%|██████████| 3/3 [00:00<00:00, 267.15it/s]\n",
            "100%|██████████| 3/3 [00:00<00:00, 177.15it/s]\n"
          ]
        },
        {
          "output_type": "stream",
          "name": "stdout",
          "text": [
            "0 2 34\n",
            "precheck\n",
            "check1\n",
            "check2\n",
            "check3\n",
            "check4\n"
          ]
        },
        {
          "output_type": "stream",
          "name": "stderr",
          "text": [
            "100%|██████████| 3/3 [00:00<00:00, 258.13it/s]\n",
            "100%|██████████| 3/3 [00:00<00:00, 445.89it/s]\n"
          ]
        },
        {
          "output_type": "stream",
          "name": "stdout",
          "text": [
            "0 2 35\n",
            "precheck\n",
            "check1\n",
            "check2\n",
            "check3\n",
            "check4\n"
          ]
        },
        {
          "output_type": "stream",
          "name": "stderr",
          "text": [
            "100%|██████████| 3/3 [00:00<00:00, 257.33it/s]\n",
            "100%|██████████| 3/3 [00:00<00:00, 296.84it/s]\n"
          ]
        },
        {
          "output_type": "stream",
          "name": "stdout",
          "text": [
            "0 2 36\n",
            "precheck\n",
            "check1\n",
            "check2\n",
            "check3\n",
            "check4\n"
          ]
        },
        {
          "output_type": "stream",
          "name": "stderr",
          "text": [
            "100%|██████████| 3/3 [00:00<00:00, 373.80it/s]\n",
            "100%|██████████| 3/3 [00:00<00:00, 161.38it/s]\n"
          ]
        },
        {
          "output_type": "stream",
          "name": "stdout",
          "text": [
            "0 2 37\n",
            "precheck\n",
            "check1\n",
            "check2\n",
            "check3\n",
            "check4\n"
          ]
        },
        {
          "output_type": "stream",
          "name": "stderr",
          "text": [
            "100%|██████████| 3/3 [00:00<00:00, 266.12it/s]\n",
            "100%|██████████| 3/3 [00:00<00:00, 178.61it/s]\n"
          ]
        },
        {
          "output_type": "stream",
          "name": "stdout",
          "text": [
            "0 2 38\n",
            "precheck\n",
            "check1\n",
            "check2\n",
            "check3\n",
            "check4\n"
          ]
        },
        {
          "output_type": "stream",
          "name": "stderr",
          "text": [
            "100%|██████████| 3/3 [00:00<00:00, 159.53it/s]\n",
            "100%|██████████| 3/3 [00:00<00:00, 390.30it/s]\n"
          ]
        },
        {
          "output_type": "stream",
          "name": "stdout",
          "text": [
            "0 2 39\n",
            "precheck\n",
            "check1\n",
            "check2\n",
            "check3\n",
            "check4\n"
          ]
        },
        {
          "output_type": "stream",
          "name": "stderr",
          "text": [
            "100%|██████████| 3/3 [00:00<00:00, 246.11it/s]\n",
            "100%|██████████| 3/3 [00:00<00:00, 168.87it/s]\n"
          ]
        },
        {
          "output_type": "stream",
          "name": "stdout",
          "text": [
            "0 2 40\n",
            "precheck\n",
            "check1\n",
            "check2\n",
            "check3\n",
            "check4\n"
          ]
        },
        {
          "output_type": "stream",
          "name": "stderr",
          "text": [
            "100%|██████████| 3/3 [00:00<00:00, 145.27it/s]\n",
            "100%|██████████| 3/3 [00:00<00:00, 303.85it/s]\n"
          ]
        },
        {
          "output_type": "stream",
          "name": "stdout",
          "text": [
            "0 2 41\n",
            "precheck\n",
            "check1\n",
            "check2\n",
            "check3\n",
            "check4\n"
          ]
        },
        {
          "output_type": "stream",
          "name": "stderr",
          "text": [
            "100%|██████████| 3/3 [00:00<00:00, 319.09it/s]\n",
            "100%|██████████| 3/3 [00:00<00:00, 368.34it/s]\n"
          ]
        },
        {
          "output_type": "stream",
          "name": "stdout",
          "text": [
            "0 2 42\n",
            "precheck\n",
            "check1\n",
            "check2\n",
            "check3\n",
            "check4\n"
          ]
        },
        {
          "output_type": "stream",
          "name": "stderr",
          "text": [
            "100%|██████████| 3/3 [00:00<00:00, 324.58it/s]\n",
            "100%|██████████| 3/3 [00:00<00:00, 279.56it/s]\n"
          ]
        },
        {
          "output_type": "stream",
          "name": "stdout",
          "text": [
            "0 2 43\n",
            "precheck\n",
            "check1\n",
            "check2\n",
            "check3\n",
            "check4\n"
          ]
        },
        {
          "output_type": "stream",
          "name": "stderr",
          "text": [
            "100%|██████████| 3/3 [00:00<00:00, 313.82it/s]\n",
            "100%|██████████| 3/3 [00:00<00:00, 388.88it/s]\n"
          ]
        },
        {
          "output_type": "stream",
          "name": "stdout",
          "text": [
            "0 2 44\n",
            "precheck\n",
            "check1\n",
            "check2\n",
            "check3\n",
            "check4\n"
          ]
        },
        {
          "output_type": "stream",
          "name": "stderr",
          "text": [
            "100%|██████████| 3/3 [00:00<00:00, 217.09it/s]\n",
            "100%|██████████| 3/3 [00:00<00:00, 154.76it/s]\n"
          ]
        },
        {
          "output_type": "stream",
          "name": "stdout",
          "text": [
            "0 2 45\n",
            "precheck\n",
            "check1\n",
            "check2\n",
            "check3\n",
            "check4\n"
          ]
        },
        {
          "output_type": "stream",
          "name": "stderr",
          "text": [
            "100%|██████████| 3/3 [00:00<00:00, 229.76it/s]\n",
            "100%|██████████| 3/3 [00:00<00:00, 260.94it/s]\n"
          ]
        },
        {
          "output_type": "stream",
          "name": "stdout",
          "text": [
            "0 2 46\n",
            "precheck\n",
            "check1\n",
            "check2\n",
            "check3\n",
            "check4\n"
          ]
        },
        {
          "output_type": "stream",
          "name": "stderr",
          "text": [
            "100%|██████████| 3/3 [00:00<00:00, 240.78it/s]\n",
            "100%|██████████| 3/3 [00:00<00:00, 209.04it/s]\n"
          ]
        },
        {
          "output_type": "stream",
          "name": "stdout",
          "text": [
            "0 2 47\n",
            "precheck\n",
            "check1\n",
            "check2\n",
            "check3\n",
            "check4\n"
          ]
        },
        {
          "output_type": "stream",
          "name": "stderr",
          "text": [
            "100%|██████████| 3/3 [00:00<00:00, 231.36it/s]\n",
            "100%|██████████| 3/3 [00:00<00:00, 165.81it/s]\n"
          ]
        },
        {
          "output_type": "stream",
          "name": "stdout",
          "text": [
            "0 2 48\n",
            "precheck\n",
            "check1\n",
            "check2\n",
            "check3\n",
            "check4\n"
          ]
        },
        {
          "output_type": "stream",
          "name": "stderr",
          "text": [
            "100%|██████████| 3/3 [00:00<00:00, 139.18it/s]\n",
            "100%|██████████| 3/3 [00:00<00:00, 389.66it/s]\n"
          ]
        },
        {
          "output_type": "stream",
          "name": "stdout",
          "text": [
            "0 2 49\n",
            "precheck\n",
            "check1\n",
            "check2\n",
            "check3\n",
            "check4\n"
          ]
        },
        {
          "output_type": "stream",
          "name": "stderr",
          "text": [
            "100%|██████████| 3/3 [00:00<00:00, 321.46it/s]\n",
            "100%|██████████| 3/3 [00:00<00:00, 243.27it/s]\n"
          ]
        },
        {
          "output_type": "stream",
          "name": "stdout",
          "text": [
            "0 2 50\n",
            "precheck\n",
            "check1\n",
            "check2\n",
            "check3\n",
            "check4\n"
          ]
        },
        {
          "output_type": "stream",
          "name": "stderr",
          "text": [
            "100%|██████████| 3/3 [00:00<00:00, 181.14it/s]\n",
            "100%|██████████| 3/3 [00:00<00:00, 194.11it/s]\n"
          ]
        },
        {
          "output_type": "stream",
          "name": "stdout",
          "text": [
            "0 2 51\n",
            "precheck\n",
            "check1\n",
            "check2\n",
            "check3\n",
            "check4\n"
          ]
        },
        {
          "output_type": "stream",
          "name": "stderr",
          "text": [
            "100%|██████████| 3/3 [00:00<00:00, 176.00it/s]\n",
            "100%|██████████| 3/3 [00:00<00:00, 249.31it/s]\n"
          ]
        },
        {
          "output_type": "stream",
          "name": "stdout",
          "text": [
            "0 2 52\n",
            "precheck\n",
            "check1\n",
            "check2\n",
            "check3\n",
            "check4\n"
          ]
        },
        {
          "output_type": "stream",
          "name": "stderr",
          "text": [
            "100%|██████████| 3/3 [00:00<00:00, 292.99it/s]\n",
            "100%|██████████| 3/3 [00:00<00:00, 277.00it/s]\n"
          ]
        },
        {
          "output_type": "stream",
          "name": "stdout",
          "text": [
            "0 2 53\n",
            "precheck\n",
            "check1\n",
            "check2\n",
            "check3\n",
            "check4\n"
          ]
        },
        {
          "output_type": "stream",
          "name": "stderr",
          "text": [
            "100%|██████████| 3/3 [00:00<00:00, 305.66it/s]\n",
            "100%|██████████| 3/3 [00:00<00:00, 232.88it/s]\n"
          ]
        },
        {
          "output_type": "stream",
          "name": "stdout",
          "text": [
            "0 2 54\n",
            "precheck\n",
            "check1\n",
            "check2\n",
            "check3\n",
            "check4\n"
          ]
        },
        {
          "output_type": "stream",
          "name": "stderr",
          "text": [
            "100%|██████████| 3/3 [00:00<00:00, 246.50it/s]\n",
            "100%|██████████| 3/3 [00:00<00:00, 316.15it/s]\n"
          ]
        },
        {
          "output_type": "stream",
          "name": "stdout",
          "text": [
            "0 2 55\n",
            "precheck\n",
            "check1\n",
            "check2\n",
            "check3\n",
            "check4\n"
          ]
        },
        {
          "output_type": "stream",
          "name": "stderr",
          "text": [
            "100%|██████████| 3/3 [00:00<00:00, 152.81it/s]\n",
            "100%|██████████| 3/3 [00:00<00:00, 168.46it/s]\n"
          ]
        },
        {
          "output_type": "stream",
          "name": "stdout",
          "text": [
            "0 2 56\n",
            "precheck\n",
            "check1\n",
            "check2\n",
            "check3\n",
            "check4\n"
          ]
        },
        {
          "output_type": "stream",
          "name": "stderr",
          "text": [
            "100%|██████████| 3/3 [00:00<00:00, 169.53it/s]\n",
            "100%|██████████| 3/3 [00:00<00:00, 127.19it/s]\n"
          ]
        },
        {
          "output_type": "stream",
          "name": "stdout",
          "text": [
            "0 2 57\n",
            "precheck\n",
            "check1\n",
            "check2\n",
            "check3\n",
            "check4\n"
          ]
        },
        {
          "output_type": "stream",
          "name": "stderr",
          "text": [
            "100%|██████████| 3/3 [00:00<00:00, 417.55it/s]\n",
            "100%|██████████| 3/3 [00:00<00:00, 350.07it/s]\n"
          ]
        },
        {
          "output_type": "stream",
          "name": "stdout",
          "text": [
            "0 2 58\n",
            "precheck\n",
            "check1\n",
            "check2\n",
            "check3\n",
            "check4\n"
          ]
        },
        {
          "output_type": "stream",
          "name": "stderr",
          "text": [
            "100%|██████████| 3/3 [00:00<00:00, 191.01it/s]\n",
            "100%|██████████| 3/3 [00:00<00:00, 197.81it/s]\n"
          ]
        },
        {
          "output_type": "stream",
          "name": "stdout",
          "text": [
            "0 2 59\n",
            "precheck\n",
            "check1\n",
            "check2\n",
            "check3\n",
            "check4\n"
          ]
        },
        {
          "output_type": "stream",
          "name": "stderr",
          "text": [
            "100%|██████████| 3/3 [00:00<00:00, 269.34it/s]\n",
            "100%|██████████| 3/3 [00:00<00:00, 321.76it/s]\n"
          ]
        },
        {
          "output_type": "stream",
          "name": "stdout",
          "text": [
            "0 2 60\n",
            "precheck\n",
            "check1\n",
            "check2\n",
            "check3\n",
            "check4\n"
          ]
        },
        {
          "output_type": "stream",
          "name": "stderr",
          "text": [
            "100%|██████████| 3/3 [00:00<00:00, 240.75it/s]\n",
            "100%|██████████| 3/3 [00:00<00:00, 391.66it/s]\n"
          ]
        },
        {
          "output_type": "stream",
          "name": "stdout",
          "text": [
            "0 2 61\n",
            "precheck\n",
            "check1\n",
            "check2\n",
            "check3\n",
            "check4\n"
          ]
        },
        {
          "output_type": "stream",
          "name": "stderr",
          "text": [
            "100%|██████████| 3/3 [00:00<00:00, 248.42it/s]\n",
            "100%|██████████| 3/3 [00:00<00:00, 194.59it/s]\n"
          ]
        },
        {
          "output_type": "stream",
          "name": "stdout",
          "text": [
            "0 2 62\n",
            "precheck\n",
            "check1\n",
            "check2\n",
            "check3\n",
            "check4\n"
          ]
        },
        {
          "output_type": "stream",
          "name": "stderr",
          "text": [
            "100%|██████████| 3/3 [00:00<00:00, 159.88it/s]\n",
            "100%|██████████| 3/3 [00:00<00:00, 165.07it/s]\n"
          ]
        },
        {
          "output_type": "stream",
          "name": "stdout",
          "text": [
            "0 2 63\n",
            "precheck\n",
            "check1\n",
            "check2\n",
            "check3\n",
            "check4\n"
          ]
        },
        {
          "output_type": "stream",
          "name": "stderr",
          "text": [
            "100%|██████████| 3/3 [00:00<00:00, 419.53it/s]\n",
            "100%|██████████| 3/3 [00:00<00:00, 267.49it/s]\n"
          ]
        },
        {
          "output_type": "stream",
          "name": "stdout",
          "text": [
            "0 2 64\n",
            "precheck\n",
            "check1\n",
            "check2\n",
            "check3\n",
            "check4\n"
          ]
        },
        {
          "output_type": "stream",
          "name": "stderr",
          "text": [
            "100%|██████████| 3/3 [00:00<00:00, 278.01it/s]\n",
            "100%|██████████| 3/3 [00:00<00:00, 370.33it/s]\n"
          ]
        },
        {
          "output_type": "stream",
          "name": "stdout",
          "text": [
            "0 2 65\n",
            "precheck\n",
            "check1\n",
            "check2\n",
            "check3\n",
            "check4\n"
          ]
        },
        {
          "output_type": "stream",
          "name": "stderr",
          "text": [
            "100%|██████████| 3/3 [00:00<00:00, 254.90it/s]\n",
            "100%|██████████| 3/3 [00:00<00:00, 347.25it/s]\n"
          ]
        },
        {
          "output_type": "stream",
          "name": "stdout",
          "text": [
            "0 2 66\n",
            "precheck\n",
            "check1\n",
            "check2\n",
            "check3\n",
            "check4\n"
          ]
        },
        {
          "output_type": "stream",
          "name": "stderr",
          "text": [
            "100%|██████████| 3/3 [00:00<00:00, 125.03it/s]\n",
            "100%|██████████| 3/3 [00:00<00:00, 193.80it/s]\n"
          ]
        },
        {
          "output_type": "stream",
          "name": "stdout",
          "text": [
            "0 2 67\n",
            "precheck\n",
            "check1\n",
            "check2\n",
            "check3\n",
            "check4\n"
          ]
        },
        {
          "output_type": "stream",
          "name": "stderr",
          "text": [
            "100%|██████████| 3/3 [00:00<00:00, 135.52it/s]\n",
            "100%|██████████| 3/3 [00:00<00:00, 151.63it/s]\n"
          ]
        },
        {
          "output_type": "stream",
          "name": "stdout",
          "text": [
            "0 2 68\n",
            "precheck\n",
            "check1\n",
            "check2\n",
            "check3\n",
            "check4\n"
          ]
        },
        {
          "output_type": "stream",
          "name": "stderr",
          "text": [
            "100%|██████████| 3/3 [00:00<00:00, 202.71it/s]\n",
            "100%|██████████| 3/3 [00:00<00:00, 170.56it/s]\n"
          ]
        },
        {
          "output_type": "stream",
          "name": "stdout",
          "text": [
            "0 2 69\n",
            "precheck\n",
            "check1\n",
            "check2\n",
            "check3\n",
            "check4\n"
          ]
        },
        {
          "output_type": "stream",
          "name": "stderr",
          "text": [
            "100%|██████████| 3/3 [00:00<00:00, 229.20it/s]\n",
            "100%|██████████| 3/3 [00:00<00:00, 204.69it/s]\n"
          ]
        },
        {
          "output_type": "stream",
          "name": "stdout",
          "text": [
            "0 2 70\n",
            "precheck\n",
            "check1\n",
            "check2\n",
            "check3\n",
            "check4\n"
          ]
        },
        {
          "output_type": "stream",
          "name": "stderr",
          "text": [
            "100%|██████████| 3/3 [00:00<00:00, 306.43it/s]\n",
            "100%|██████████| 3/3 [00:00<00:00, 252.27it/s]\n"
          ]
        },
        {
          "output_type": "stream",
          "name": "stdout",
          "text": [
            "0 2 71\n",
            "precheck\n",
            "check1\n",
            "check2\n",
            "check3\n",
            "check4\n"
          ]
        },
        {
          "output_type": "stream",
          "name": "stderr",
          "text": [
            "100%|██████████| 3/3 [00:00<00:00, 272.91it/s]\n",
            "100%|██████████| 3/3 [00:00<00:00, 301.94it/s]\n"
          ]
        },
        {
          "output_type": "stream",
          "name": "stdout",
          "text": [
            "0 2 72\n",
            "precheck\n",
            "check1\n",
            "check2\n",
            "check3\n",
            "check4\n"
          ]
        },
        {
          "output_type": "stream",
          "name": "stderr",
          "text": [
            "100%|██████████| 3/3 [00:00<00:00, 326.65it/s]\n",
            "100%|██████████| 3/3 [00:00<00:00, 384.82it/s]\n"
          ]
        },
        {
          "output_type": "stream",
          "name": "stdout",
          "text": [
            "0 2 73\n",
            "precheck\n",
            "check1\n",
            "check2\n",
            "check3\n",
            "check4\n"
          ]
        },
        {
          "output_type": "stream",
          "name": "stderr",
          "text": [
            "100%|██████████| 3/3 [00:00<00:00, 146.22it/s]\n",
            "100%|██████████| 3/3 [00:00<00:00, 399.91it/s]\n"
          ]
        },
        {
          "output_type": "stream",
          "name": "stdout",
          "text": [
            "0 2 74\n",
            "precheck\n",
            "check1\n",
            "check2\n",
            "check3\n",
            "check4\n"
          ]
        },
        {
          "output_type": "stream",
          "name": "stderr",
          "text": [
            "100%|██████████| 3/3 [00:00<00:00, 213.72it/s]\n",
            "100%|██████████| 3/3 [00:00<00:00, 407.85it/s]\n"
          ]
        },
        {
          "output_type": "stream",
          "name": "stdout",
          "text": [
            "0 2 75\n",
            "precheck\n",
            "check1\n",
            "check2\n",
            "check3\n",
            "check4\n"
          ]
        },
        {
          "output_type": "stream",
          "name": "stderr",
          "text": [
            "100%|██████████| 3/3 [00:00<00:00, 348.94it/s]\n",
            "100%|██████████| 3/3 [00:00<00:00, 367.63it/s]\n"
          ]
        },
        {
          "output_type": "stream",
          "name": "stdout",
          "text": [
            "0 2 76\n",
            "precheck\n",
            "check1\n",
            "check2\n",
            "check3\n",
            "check4\n"
          ]
        },
        {
          "output_type": "stream",
          "name": "stderr",
          "text": [
            "100%|██████████| 3/3 [00:00<00:00, 344.85it/s]\n",
            "100%|██████████| 3/3 [00:00<00:00, 240.85it/s]\n"
          ]
        },
        {
          "output_type": "stream",
          "name": "stdout",
          "text": [
            "0 2 77\n",
            "precheck\n",
            "check1\n",
            "check2\n",
            "check3\n",
            "check4\n"
          ]
        },
        {
          "output_type": "stream",
          "name": "stderr",
          "text": [
            "100%|██████████| 3/3 [00:00<00:00, 416.36it/s]\n",
            "100%|██████████| 3/3 [00:00<00:00, 398.18it/s]\n"
          ]
        },
        {
          "output_type": "stream",
          "name": "stdout",
          "text": [
            "0 2 78\n",
            "precheck\n",
            "check1\n",
            "check2\n",
            "check3\n",
            "check4\n"
          ]
        },
        {
          "output_type": "stream",
          "name": "stderr",
          "text": [
            "100%|██████████| 3/3 [00:00<00:00, 193.93it/s]\n",
            "100%|██████████| 3/3 [00:00<00:00, 313.35it/s]\n"
          ]
        },
        {
          "output_type": "stream",
          "name": "stdout",
          "text": [
            "0 2 79\n",
            "precheck\n",
            "check1\n",
            "check2\n",
            "check3\n",
            "check4\n"
          ]
        },
        {
          "output_type": "stream",
          "name": "stderr",
          "text": [
            "100%|██████████| 3/3 [00:00<00:00, 191.47it/s]\n",
            "100%|██████████| 3/3 [00:00<00:00, 160.90it/s]\n"
          ]
        },
        {
          "output_type": "stream",
          "name": "stdout",
          "text": [
            "0 2 80\n",
            "precheck\n",
            "check1\n",
            "check2\n",
            "check3\n",
            "check4\n"
          ]
        },
        {
          "output_type": "stream",
          "name": "stderr",
          "text": [
            "100%|██████████| 3/3 [00:00<00:00, 196.11it/s]\n",
            "100%|██████████| 3/3 [00:00<00:00, 127.53it/s]\n"
          ]
        },
        {
          "output_type": "stream",
          "name": "stdout",
          "text": [
            "0 2 81\n",
            "precheck\n",
            "check1\n",
            "check2\n",
            "check3\n",
            "check4\n"
          ]
        },
        {
          "output_type": "stream",
          "name": "stderr",
          "text": [
            "100%|██████████| 3/3 [00:00<00:00, 380.22it/s]\n",
            "100%|██████████| 3/3 [00:00<00:00, 404.17it/s]\n"
          ]
        },
        {
          "output_type": "stream",
          "name": "stdout",
          "text": [
            "0 2 82\n",
            "precheck\n",
            "check1\n",
            "check2\n",
            "check3\n",
            "check4\n"
          ]
        },
        {
          "output_type": "stream",
          "name": "stderr",
          "text": [
            "100%|██████████| 3/3 [00:00<00:00, 298.85it/s]\n",
            "100%|██████████| 3/3 [00:00<00:00, 135.73it/s]\n"
          ]
        },
        {
          "output_type": "stream",
          "name": "stdout",
          "text": [
            "0 2 83\n",
            "precheck\n",
            "check1\n",
            "check2\n",
            "check3\n",
            "check4\n"
          ]
        },
        {
          "output_type": "stream",
          "name": "stderr",
          "text": [
            "100%|██████████| 3/3 [00:00<00:00, 206.49it/s]\n",
            "100%|██████████| 3/3 [00:00<00:00, 418.33it/s]\n"
          ]
        },
        {
          "output_type": "stream",
          "name": "stdout",
          "text": [
            "0 2 84\n",
            "precheck\n",
            "check1\n",
            "check2\n",
            "check3\n",
            "check4\n"
          ]
        },
        {
          "output_type": "stream",
          "name": "stderr",
          "text": [
            "100%|██████████| 3/3 [00:00<00:00, 150.53it/s]\n",
            "100%|██████████| 3/3 [00:00<00:00, 248.71it/s]\n"
          ]
        },
        {
          "output_type": "stream",
          "name": "stdout",
          "text": [
            "0 2 85\n",
            "precheck\n",
            "check1\n",
            "check2\n",
            "check3\n",
            "check4\n"
          ]
        },
        {
          "output_type": "stream",
          "name": "stderr",
          "text": [
            "100%|██████████| 3/3 [00:00<00:00, 299.76it/s]\n",
            "100%|██████████| 3/3 [00:00<00:00, 200.54it/s]\n"
          ]
        },
        {
          "output_type": "stream",
          "name": "stdout",
          "text": [
            "0 2 86\n",
            "precheck\n",
            "check1\n",
            "check2\n",
            "check3\n",
            "check4\n"
          ]
        },
        {
          "output_type": "stream",
          "name": "stderr",
          "text": [
            "100%|██████████| 3/3 [00:00<00:00, 273.29it/s]\n",
            "100%|██████████| 3/3 [00:00<00:00, 170.30it/s]\n"
          ]
        },
        {
          "output_type": "stream",
          "name": "stdout",
          "text": [
            "0 2 87\n",
            "precheck\n",
            "check1\n",
            "check2\n",
            "check3\n",
            "check4\n"
          ]
        },
        {
          "output_type": "stream",
          "name": "stderr",
          "text": [
            "100%|██████████| 3/3 [00:00<00:00, 322.28it/s]\n",
            "100%|██████████| 3/3 [00:00<00:00, 401.52it/s]\n"
          ]
        },
        {
          "output_type": "stream",
          "name": "stdout",
          "text": [
            "0 2 88\n",
            "precheck\n",
            "check1\n",
            "check2\n",
            "check3\n",
            "check4\n"
          ]
        },
        {
          "output_type": "stream",
          "name": "stderr",
          "text": [
            "100%|██████████| 3/3 [00:00<00:00, 364.86it/s]\n",
            "100%|██████████| 3/3 [00:00<00:00, 207.23it/s]\n"
          ]
        },
        {
          "output_type": "stream",
          "name": "stdout",
          "text": [
            "0 2 89\n",
            "precheck\n",
            "check1\n",
            "check2\n",
            "check3\n",
            "check4\n"
          ]
        },
        {
          "output_type": "stream",
          "name": "stderr",
          "text": [
            "100%|██████████| 3/3 [00:00<00:00, 259.59it/s]\n",
            "100%|██████████| 3/3 [00:00<00:00, 368.67it/s]\n"
          ]
        },
        {
          "output_type": "stream",
          "name": "stdout",
          "text": [
            "0 2 90\n",
            "precheck\n",
            "check1\n",
            "check2\n",
            "check3\n",
            "check4\n"
          ]
        },
        {
          "output_type": "stream",
          "name": "stderr",
          "text": [
            "100%|██████████| 3/3 [00:00<00:00, 357.77it/s]\n",
            "100%|██████████| 3/3 [00:00<00:00, 184.63it/s]\n"
          ]
        },
        {
          "output_type": "stream",
          "name": "stdout",
          "text": [
            "0 2 91\n",
            "precheck\n",
            "check1\n",
            "check2\n",
            "check3\n",
            "check4\n"
          ]
        },
        {
          "output_type": "stream",
          "name": "stderr",
          "text": [
            "100%|██████████| 3/3 [00:00<00:00, 122.75it/s]\n",
            "100%|██████████| 3/3 [00:00<00:00, 276.30it/s]\n"
          ]
        },
        {
          "output_type": "stream",
          "name": "stdout",
          "text": [
            "0 2 92\n",
            "precheck\n",
            "check1\n",
            "check2\n",
            "check3\n",
            "check4\n"
          ]
        },
        {
          "output_type": "stream",
          "name": "stderr",
          "text": [
            "100%|██████████| 3/3 [00:00<00:00, 206.81it/s]\n",
            "100%|██████████| 3/3 [00:00<00:00, 141.33it/s]\n"
          ]
        },
        {
          "output_type": "stream",
          "name": "stdout",
          "text": [
            "0 2 93\n",
            "precheck\n",
            "check1\n",
            "check2\n",
            "check3\n",
            "check4\n"
          ]
        },
        {
          "output_type": "stream",
          "name": "stderr",
          "text": [
            "100%|██████████| 3/3 [00:00<00:00, 164.89it/s]\n",
            "100%|██████████| 3/3 [00:00<00:00, 212.82it/s]\n"
          ]
        },
        {
          "output_type": "stream",
          "name": "stdout",
          "text": [
            "0 2 94\n",
            "precheck\n",
            "check1\n",
            "check2\n",
            "check3\n",
            "check4\n"
          ]
        },
        {
          "output_type": "stream",
          "name": "stderr",
          "text": [
            "100%|██████████| 3/3 [00:00<00:00, 187.18it/s]\n",
            "100%|██████████| 3/3 [00:00<00:00, 168.37it/s]\n"
          ]
        },
        {
          "output_type": "stream",
          "name": "stdout",
          "text": [
            "0 2 95\n",
            "precheck\n",
            "check1\n",
            "check2\n",
            "check3\n",
            "check4\n"
          ]
        },
        {
          "output_type": "stream",
          "name": "stderr",
          "text": [
            "100%|██████████| 3/3 [00:00<00:00, 335.40it/s]\n",
            "100%|██████████| 3/3 [00:00<00:00, 354.13it/s]\n"
          ]
        },
        {
          "output_type": "stream",
          "name": "stdout",
          "text": [
            "0 2 96\n",
            "precheck\n",
            "check1\n",
            "check2\n",
            "check3\n",
            "check4\n"
          ]
        },
        {
          "output_type": "stream",
          "name": "stderr",
          "text": [
            "100%|██████████| 3/3 [00:00<00:00, 379.59it/s]\n",
            "100%|██████████| 3/3 [00:00<00:00, 307.10it/s]\n"
          ]
        },
        {
          "output_type": "stream",
          "name": "stdout",
          "text": [
            "0 2 97\n",
            "precheck\n",
            "check1\n",
            "check2\n",
            "check3\n",
            "check4\n"
          ]
        },
        {
          "output_type": "stream",
          "name": "stderr",
          "text": [
            "100%|██████████| 3/3 [00:00<00:00, 193.08it/s]\n",
            "100%|██████████| 3/3 [00:00<00:00, 335.58it/s]\n"
          ]
        },
        {
          "output_type": "stream",
          "name": "stdout",
          "text": [
            "0 2 98\n",
            "precheck\n",
            "check1\n",
            "check2\n",
            "check3\n",
            "check4\n"
          ]
        },
        {
          "output_type": "stream",
          "name": "stderr",
          "text": [
            "100%|██████████| 3/3 [00:00<00:00, 396.62it/s]\n",
            "100%|██████████| 3/3 [00:00<00:00, 431.41it/s]\n"
          ]
        },
        {
          "output_type": "stream",
          "name": "stdout",
          "text": [
            "0 2 99\n",
            "precheck\n",
            "check1\n",
            "check2\n",
            "check3\n",
            "check4\n"
          ]
        },
        {
          "output_type": "stream",
          "name": "stderr",
          "text": [
            "100%|██████████| 3/3 [00:00<00:00, 113.93it/s]\n",
            "100%|██████████| 3/3 [00:00<00:00, 155.40it/s]\n"
          ]
        },
        {
          "output_type": "stream",
          "name": "stdout",
          "text": [
            "0 3 0\n",
            "precheck\n",
            "check1\n",
            "check2\n",
            "check3\n",
            "check4\n"
          ]
        },
        {
          "output_type": "stream",
          "name": "stderr",
          "text": [
            "100%|██████████| 3/3 [00:00<00:00, 160.74it/s]\n",
            "100%|██████████| 3/3 [00:00<00:00, 344.42it/s]\n"
          ]
        },
        {
          "output_type": "stream",
          "name": "stdout",
          "text": [
            "0 3 1\n",
            "precheck\n",
            "check1\n",
            "check2\n",
            "check3\n",
            "check4\n"
          ]
        },
        {
          "output_type": "stream",
          "name": "stderr",
          "text": [
            "100%|██████████| 3/3 [00:00<00:00, 156.73it/s]\n",
            "100%|██████████| 3/3 [00:00<00:00, 234.36it/s]"
          ]
        },
        {
          "output_type": "stream",
          "name": "stdout",
          "text": [
            "0 3"
          ]
        },
        {
          "output_type": "stream",
          "name": "stderr",
          "text": [
            "\n"
          ]
        },
        {
          "output_type": "stream",
          "name": "stdout",
          "text": [
            " 2\n",
            "precheck\n",
            "check1\n",
            "check2\n",
            "check3\n",
            "check4\n"
          ]
        },
        {
          "output_type": "stream",
          "name": "stderr",
          "text": [
            "100%|██████████| 3/3 [00:00<00:00, 195.24it/s]\n",
            "100%|██████████| 3/3 [00:00<00:00, 141.60it/s]\n"
          ]
        },
        {
          "output_type": "stream",
          "name": "stdout",
          "text": [
            "0 3 3\n",
            "precheck\n",
            "check1\n",
            "check2\n",
            "check3\n",
            "check4\n"
          ]
        },
        {
          "output_type": "stream",
          "name": "stderr",
          "text": [
            "100%|██████████| 3/3 [00:00<00:00, 113.90it/s]\n",
            "100%|██████████| 3/3 [00:00<00:00, 168.73it/s]\n"
          ]
        },
        {
          "output_type": "stream",
          "name": "stdout",
          "text": [
            "0 3 4\n",
            "precheck\n",
            "check1\n",
            "check2\n",
            "check3\n",
            "check4\n"
          ]
        },
        {
          "output_type": "stream",
          "name": "stderr",
          "text": [
            "100%|██████████| 3/3 [00:00<00:00, 162.51it/s]\n",
            "100%|██████████| 3/3 [00:00<00:00, 350.47it/s]\n"
          ]
        },
        {
          "output_type": "stream",
          "name": "stdout",
          "text": [
            "0 3 5\n",
            "precheck\n",
            "check1\n",
            "check2\n",
            "check3\n",
            "check4\n"
          ]
        },
        {
          "output_type": "stream",
          "name": "stderr",
          "text": [
            "100%|██████████| 3/3 [00:00<00:00, 164.80it/s]\n",
            "100%|██████████| 3/3 [00:00<00:00, 205.43it/s]\n"
          ]
        },
        {
          "output_type": "stream",
          "name": "stdout",
          "text": [
            "0 3 6\n",
            "precheck\n",
            "check1\n",
            "check2\n",
            "check3\n",
            "check4\n"
          ]
        },
        {
          "output_type": "stream",
          "name": "stderr",
          "text": [
            "100%|██████████| 3/3 [00:00<00:00, 131.20it/s]\n",
            "100%|██████████| 3/3 [00:00<00:00, 261.17it/s]\n"
          ]
        },
        {
          "output_type": "stream",
          "name": "stdout",
          "text": [
            "0 3 7\n",
            "precheck\n",
            "check1\n",
            "check2\n",
            "check3\n",
            "check4\n"
          ]
        },
        {
          "output_type": "stream",
          "name": "stderr",
          "text": [
            "100%|██████████| 3/3 [00:00<00:00, 268.25it/s]\n",
            "100%|██████████| 3/3 [00:00<00:00, 215.87it/s]\n"
          ]
        },
        {
          "output_type": "stream",
          "name": "stdout",
          "text": [
            "0 3 8\n",
            "precheck\n",
            "check1\n",
            "check2\n",
            "check3\n",
            "check4\n"
          ]
        },
        {
          "output_type": "stream",
          "name": "stderr",
          "text": [
            "100%|██████████| 3/3 [00:00<00:00, 185.42it/s]\n",
            "100%|██████████| 3/3 [00:00<00:00, 240.07it/s]\n"
          ]
        },
        {
          "output_type": "stream",
          "name": "stdout",
          "text": [
            "0 3 9\n",
            "precheck\n",
            "check1\n",
            "check2\n",
            "check3\n",
            "check4\n"
          ]
        },
        {
          "output_type": "stream",
          "name": "stderr",
          "text": [
            "100%|██████████| 3/3 [00:00<00:00, 116.05it/s]\n",
            "100%|██████████| 3/3 [00:00<00:00, 140.98it/s]\n"
          ]
        },
        {
          "output_type": "stream",
          "name": "stdout",
          "text": [
            "0 3 10\n",
            "precheck\n",
            "check1\n",
            "check2\n",
            "check3\n",
            "check4\n"
          ]
        },
        {
          "output_type": "stream",
          "name": "stderr",
          "text": [
            "100%|██████████| 3/3 [00:00<00:00, 137.61it/s]\n",
            "100%|██████████| 3/3 [00:00<00:00, 236.96it/s]\n"
          ]
        },
        {
          "output_type": "stream",
          "name": "stdout",
          "text": [
            "0 3 11\n",
            "precheck\n",
            "check1\n",
            "check2\n",
            "check3\n",
            "check4\n"
          ]
        },
        {
          "output_type": "stream",
          "name": "stderr",
          "text": [
            "100%|██████████| 3/3 [00:00<00:00, 265.96it/s]\n",
            "100%|██████████| 3/3 [00:00<00:00, 136.26it/s]\n"
          ]
        },
        {
          "output_type": "stream",
          "name": "stdout",
          "text": [
            "0 3 12\n",
            "precheck\n",
            "check1\n",
            "check2\n",
            "check3\n",
            "check4\n"
          ]
        },
        {
          "output_type": "stream",
          "name": "stderr",
          "text": [
            "100%|██████████| 3/3 [00:00<00:00, 322.71it/s]\n",
            "100%|██████████| 3/3 [00:00<00:00, 353.14it/s]\n"
          ]
        },
        {
          "output_type": "stream",
          "name": "stdout",
          "text": [
            "0 3 13\n",
            "precheck\n",
            "check1\n",
            "check2\n",
            "check3\n",
            "check4\n"
          ]
        },
        {
          "output_type": "stream",
          "name": "stderr",
          "text": [
            "100%|██████████| 3/3 [00:00<00:00, 223.49it/s]\n",
            "100%|██████████| 3/3 [00:00<00:00, 349.88it/s]\n"
          ]
        },
        {
          "output_type": "stream",
          "name": "stdout",
          "text": [
            "0 3 14\n",
            "precheck\n",
            "check1\n",
            "check2\n",
            "check3\n",
            "check4\n"
          ]
        },
        {
          "output_type": "stream",
          "name": "stderr",
          "text": [
            "100%|██████████| 3/3 [00:00<00:00, 332.47it/s]\n",
            "100%|██████████| 3/3 [00:00<00:00, 353.16it/s]\n"
          ]
        },
        {
          "output_type": "stream",
          "name": "stdout",
          "text": [
            "0 3 15\n",
            "precheck\n",
            "check1\n",
            "check2\n",
            "check3\n",
            "check4\n"
          ]
        },
        {
          "output_type": "stream",
          "name": "stderr",
          "text": [
            "100%|██████████| 3/3 [00:00<00:00, 334.49it/s]\n",
            "100%|██████████| 3/3 [00:00<00:00, 195.85it/s]\n"
          ]
        },
        {
          "output_type": "stream",
          "name": "stdout",
          "text": [
            "0 3 16\n",
            "precheck\n",
            "check1\n",
            "check2\n",
            "check3\n",
            "check4\n"
          ]
        },
        {
          "output_type": "stream",
          "name": "stderr",
          "text": [
            "100%|██████████| 3/3 [00:00<00:00, 353.86it/s]\n",
            "100%|██████████| 3/3 [00:00<00:00, 223.41it/s]\n"
          ]
        },
        {
          "output_type": "stream",
          "name": "stdout",
          "text": [
            "0 3 17\n",
            "precheck\n",
            "check1\n",
            "check2\n",
            "check3\n",
            "check4\n"
          ]
        },
        {
          "output_type": "stream",
          "name": "stderr",
          "text": [
            "100%|██████████| 3/3 [00:00<00:00, 190.28it/s]\n",
            "100%|██████████| 3/3 [00:00<00:00, 104.04it/s]\n"
          ]
        },
        {
          "output_type": "stream",
          "name": "stdout",
          "text": [
            "0 3 18\n",
            "precheck\n",
            "check1\n",
            "check2\n",
            "check3\n",
            "check4\n"
          ]
        },
        {
          "output_type": "stream",
          "name": "stderr",
          "text": [
            "100%|██████████| 3/3 [00:00<00:00, 169.82it/s]\n",
            "100%|██████████| 3/3 [00:00<00:00, 191.37it/s]\n"
          ]
        },
        {
          "output_type": "stream",
          "name": "stdout",
          "text": [
            "0 3 19\n",
            "precheck\n",
            "check1\n",
            "check2\n",
            "check3\n",
            "check4\n"
          ]
        },
        {
          "output_type": "stream",
          "name": "stderr",
          "text": [
            "100%|██████████| 3/3 [00:00<00:00, 200.72it/s]\n",
            "100%|██████████| 3/3 [00:00<00:00, 409.61it/s]\n"
          ]
        },
        {
          "output_type": "stream",
          "name": "stdout",
          "text": [
            "0 3 20\n",
            "precheck\n",
            "check1\n",
            "check2\n",
            "check3\n",
            "check4\n"
          ]
        },
        {
          "output_type": "stream",
          "name": "stderr",
          "text": [
            "100%|██████████| 3/3 [00:00<00:00, 192.46it/s]\n",
            "100%|██████████| 3/3 [00:00<00:00, 275.75it/s]\n"
          ]
        },
        {
          "output_type": "stream",
          "name": "stdout",
          "text": [
            "0 3 21\n",
            "precheck\n",
            "check1\n",
            "check2\n",
            "check3\n",
            "check4\n"
          ]
        },
        {
          "output_type": "stream",
          "name": "stderr",
          "text": [
            "100%|██████████| 3/3 [00:00<00:00, 384.16it/s]\n",
            "100%|██████████| 3/3 [00:00<00:00, 376.91it/s]\n"
          ]
        },
        {
          "output_type": "stream",
          "name": "stdout",
          "text": [
            "0 3 22\n",
            "precheck\n",
            "check1\n",
            "check2\n",
            "check3\n",
            "check4\n"
          ]
        },
        {
          "output_type": "stream",
          "name": "stderr",
          "text": [
            "100%|██████████| 3/3 [00:00<00:00, 409.37it/s]\n",
            "100%|██████████| 3/3 [00:00<00:00, 419.57it/s]\n"
          ]
        },
        {
          "output_type": "stream",
          "name": "stdout",
          "text": [
            "0 3 23\n",
            "precheck\n",
            "check1\n",
            "check2\n",
            "check3\n",
            "check4\n"
          ]
        },
        {
          "output_type": "stream",
          "name": "stderr",
          "text": [
            "100%|██████████| 3/3 [00:00<00:00, 162.45it/s]\n",
            "100%|██████████| 3/3 [00:00<00:00, 178.16it/s]\n"
          ]
        },
        {
          "output_type": "stream",
          "name": "stdout",
          "text": [
            "0 3 24\n",
            "precheck\n",
            "check1\n",
            "check2\n",
            "check3\n",
            "check4\n"
          ]
        },
        {
          "output_type": "stream",
          "name": "stderr",
          "text": [
            "100%|██████████| 3/3 [00:00<00:00, 174.53it/s]\n",
            "100%|██████████| 3/3 [00:00<00:00, 111.72it/s]\n"
          ]
        },
        {
          "output_type": "stream",
          "name": "stdout",
          "text": [
            "0 3 25\n",
            "precheck\n",
            "check1\n",
            "check2\n",
            "check3\n",
            "check4\n"
          ]
        },
        {
          "output_type": "stream",
          "name": "stderr",
          "text": [
            "100%|██████████| 3/3 [00:00<00:00, 103.46it/s]\n",
            "100%|██████████| 3/3 [00:00<00:00, 251.52it/s]\n"
          ]
        },
        {
          "output_type": "stream",
          "name": "stdout",
          "text": [
            "0 3 26\n",
            "precheck\n",
            "check1\n",
            "check2\n",
            "check3\n",
            "check4\n"
          ]
        },
        {
          "output_type": "stream",
          "name": "stderr",
          "text": [
            "100%|██████████| 3/3 [00:00<00:00, 201.37it/s]\n",
            "100%|██████████| 3/3 [00:00<00:00, 132.42it/s]\n"
          ]
        },
        {
          "output_type": "stream",
          "name": "stdout",
          "text": [
            "0 3 27\n",
            "precheck\n",
            "check1\n",
            "check2\n",
            "check3\n",
            "check4\n"
          ]
        },
        {
          "output_type": "stream",
          "name": "stderr",
          "text": [
            "100%|██████████| 3/3 [00:00<00:00, 195.66it/s]\n",
            "100%|██████████| 3/3 [00:00<00:00, 133.18it/s]\n"
          ]
        },
        {
          "output_type": "stream",
          "name": "stdout",
          "text": [
            "0 3 28\n",
            "precheck\n",
            "check1\n",
            "check2\n",
            "check3\n",
            "check4\n"
          ]
        },
        {
          "output_type": "stream",
          "name": "stderr",
          "text": [
            "100%|██████████| 3/3 [00:00<00:00, 95.32it/s]\n",
            "100%|██████████| 3/3 [00:00<00:00, 178.70it/s]\n"
          ]
        },
        {
          "output_type": "stream",
          "name": "stdout",
          "text": [
            "0 3 29\n",
            "precheck\n",
            "check1\n",
            "check2\n",
            "check3\n",
            "check4\n"
          ]
        },
        {
          "output_type": "stream",
          "name": "stderr",
          "text": [
            "100%|██████████| 3/3 [00:00<00:00, 306.58it/s]\n",
            "100%|██████████| 3/3 [00:00<00:00, 320.89it/s]\n"
          ]
        },
        {
          "output_type": "stream",
          "name": "stdout",
          "text": [
            "0 3 30\n",
            "precheck\n",
            "check1\n",
            "check2\n",
            "check3\n",
            "check4\n"
          ]
        },
        {
          "output_type": "stream",
          "name": "stderr",
          "text": [
            "100%|██████████| 3/3 [00:00<00:00, 281.92it/s]\n",
            "100%|██████████| 3/3 [00:00<00:00, 420.51it/s]\n"
          ]
        },
        {
          "output_type": "stream",
          "name": "stdout",
          "text": [
            "0 3 31\n",
            "precheck\n",
            "check1\n",
            "check2\n",
            "check3\n",
            "check4\n"
          ]
        },
        {
          "output_type": "stream",
          "name": "stderr",
          "text": [
            "100%|██████████| 3/3 [00:00<00:00, 308.94it/s]\n",
            "100%|██████████| 3/3 [00:00<00:00, 395.15it/s]\n"
          ]
        },
        {
          "output_type": "stream",
          "name": "stdout",
          "text": [
            "0 3 32\n",
            "precheck\n",
            "check1\n",
            "check2\n",
            "check3\n",
            "check4\n"
          ]
        },
        {
          "output_type": "stream",
          "name": "stderr",
          "text": [
            "100%|██████████| 3/3 [00:00<00:00, 171.43it/s]\n",
            "100%|██████████| 3/3 [00:00<00:00, 315.54it/s]\n"
          ]
        },
        {
          "output_type": "stream",
          "name": "stdout",
          "text": [
            "0 3 33\n",
            "precheck\n",
            "check1\n",
            "check2\n",
            "check3\n",
            "check4\n"
          ]
        },
        {
          "output_type": "stream",
          "name": "stderr",
          "text": [
            "100%|██████████| 3/3 [00:00<00:00, 123.60it/s]\n",
            "100%|██████████| 3/3 [00:00<00:00, 338.81it/s]\n"
          ]
        },
        {
          "output_type": "stream",
          "name": "stdout",
          "text": [
            "0 3 34\n",
            "precheck\n",
            "check1\n",
            "check2\n",
            "check3\n",
            "check4\n"
          ]
        },
        {
          "output_type": "stream",
          "name": "stderr",
          "text": [
            "100%|██████████| 3/3 [00:00<00:00, 197.13it/s]\n",
            "100%|██████████| 3/3 [00:00<00:00, 180.29it/s]\n"
          ]
        },
        {
          "output_type": "stream",
          "name": "stdout",
          "text": [
            "0 3 35\n",
            "precheck\n",
            "check1\n",
            "check2\n",
            "check3\n",
            "check4\n"
          ]
        },
        {
          "output_type": "stream",
          "name": "stderr",
          "text": [
            "100%|██████████| 3/3 [00:00<00:00, 335.55it/s]\n",
            "100%|██████████| 3/3 [00:00<00:00, 458.76it/s]\n"
          ]
        },
        {
          "output_type": "stream",
          "name": "stdout",
          "text": [
            "0 3 36\n",
            "precheck\n",
            "check1\n",
            "check2\n",
            "check3\n",
            "check4\n"
          ]
        },
        {
          "output_type": "stream",
          "name": "stderr",
          "text": [
            "100%|██████████| 3/3 [00:00<00:00, 232.50it/s]\n",
            "100%|██████████| 3/3 [00:00<00:00, 151.30it/s]\n"
          ]
        },
        {
          "output_type": "stream",
          "name": "stdout",
          "text": [
            "0 3 37\n",
            "precheck\n",
            "check1\n",
            "check2\n",
            "check3\n",
            "check4\n"
          ]
        },
        {
          "output_type": "stream",
          "name": "stderr",
          "text": [
            "100%|██████████| 3/3 [00:00<00:00, 334.56it/s]\n",
            "100%|██████████| 3/3 [00:00<00:00, 270.01it/s]\n"
          ]
        },
        {
          "output_type": "stream",
          "name": "stdout",
          "text": [
            "0 3 38\n",
            "precheck\n",
            "check1\n",
            "check2\n",
            "check3\n",
            "check4\n"
          ]
        },
        {
          "output_type": "stream",
          "name": "stderr",
          "text": [
            "100%|██████████| 3/3 [00:00<00:00, 142.26it/s]\n",
            "100%|██████████| 3/3 [00:00<00:00, 452.30it/s]\n"
          ]
        },
        {
          "output_type": "stream",
          "name": "stdout",
          "text": [
            "0 3 39\n",
            "precheck\n",
            "check1\n",
            "check2\n",
            "check3\n",
            "check4\n"
          ]
        },
        {
          "output_type": "stream",
          "name": "stderr",
          "text": [
            "100%|██████████| 3/3 [00:00<00:00, 141.95it/s]\n",
            "100%|██████████| 3/3 [00:00<00:00, 392.37it/s]\n"
          ]
        },
        {
          "output_type": "stream",
          "name": "stdout",
          "text": [
            "0 3 40\n",
            "precheck\n",
            "check1\n",
            "check2\n",
            "check3\n",
            "check4\n"
          ]
        },
        {
          "output_type": "stream",
          "name": "stderr",
          "text": [
            "100%|██████████| 3/3 [00:00<00:00, 383.53it/s]\n",
            "100%|██████████| 3/3 [00:00<00:00, 397.23it/s]\n"
          ]
        },
        {
          "output_type": "stream",
          "name": "stdout",
          "text": [
            "0 3 41\n",
            "precheck\n",
            "check1\n",
            "check2\n",
            "check3\n",
            "check4\n"
          ]
        },
        {
          "output_type": "stream",
          "name": "stderr",
          "text": [
            "100%|██████████| 3/3 [00:00<00:00, 140.65it/s]\n",
            "100%|██████████| 3/3 [00:00<00:00, 105.07it/s]"
          ]
        },
        {
          "output_type": "stream",
          "name": "stdout",
          "text": [
            "0 3 42\n",
            "precheck\n",
            "check1\n",
            "check2"
          ]
        },
        {
          "output_type": "stream",
          "name": "stderr",
          "text": [
            "\n"
          ]
        },
        {
          "output_type": "stream",
          "name": "stdout",
          "text": [
            "\n",
            "check3\n",
            "check4\n"
          ]
        },
        {
          "output_type": "stream",
          "name": "stderr",
          "text": [
            "100%|██████████| 3/3 [00:00<00:00, 179.09it/s]\n",
            "100%|██████████| 3/3 [00:00<00:00, 143.36it/s]"
          ]
        },
        {
          "output_type": "stream",
          "name": "stdout",
          "text": [
            "0 3 43\n",
            "precheck\n",
            "check1\n",
            "check2"
          ]
        },
        {
          "output_type": "stream",
          "name": "stderr",
          "text": [
            "\n"
          ]
        },
        {
          "output_type": "stream",
          "name": "stdout",
          "text": [
            "\n",
            "check3\n",
            "check4\n"
          ]
        },
        {
          "output_type": "stream",
          "name": "stderr",
          "text": [
            "100%|██████████| 3/3 [00:00<00:00, 186.20it/s]\n",
            "100%|██████████| 3/3 [00:00<00:00, 353.42it/s]\n"
          ]
        },
        {
          "output_type": "stream",
          "name": "stdout",
          "text": [
            "0 3 44\n",
            "precheck\n",
            "check1\n",
            "check2\n",
            "check3\n",
            "check4\n"
          ]
        },
        {
          "output_type": "stream",
          "name": "stderr",
          "text": [
            "100%|██████████| 3/3 [00:00<00:00, 186.64it/s]\n",
            "100%|██████████| 3/3 [00:00<00:00, 191.47it/s]\n"
          ]
        },
        {
          "output_type": "stream",
          "name": "stdout",
          "text": [
            "0 3 45\n",
            "precheck\n",
            "check1\n",
            "check2\n",
            "check3\n",
            "check4\n"
          ]
        },
        {
          "output_type": "stream",
          "name": "stderr",
          "text": [
            "100%|██████████| 3/3 [00:00<00:00, 193.13it/s]\n",
            "100%|██████████| 3/3 [00:00<00:00, 313.34it/s]\n"
          ]
        },
        {
          "output_type": "stream",
          "name": "stdout",
          "text": [
            "0 3 46\n",
            "precheck\n",
            "check1\n",
            "check2\n",
            "check3\n",
            "check4\n"
          ]
        },
        {
          "output_type": "stream",
          "name": "stderr",
          "text": [
            "100%|██████████| 3/3 [00:00<00:00, 151.58it/s]\n",
            "100%|██████████| 3/3 [00:00<00:00, 213.03it/s]\n"
          ]
        },
        {
          "output_type": "stream",
          "name": "stdout",
          "text": [
            "0 3 47\n",
            "precheck\n",
            "check1\n",
            "check2\n",
            "check3\n",
            "check4\n"
          ]
        },
        {
          "output_type": "stream",
          "name": "stderr",
          "text": [
            "100%|██████████| 3/3 [00:00<00:00, 305.90it/s]\n",
            "100%|██████████| 3/3 [00:00<00:00, 334.70it/s]\n"
          ]
        },
        {
          "output_type": "stream",
          "name": "stdout",
          "text": [
            "0 3 48\n",
            "precheck\n",
            "check1\n",
            "check2\n",
            "check3\n",
            "check4\n"
          ]
        },
        {
          "output_type": "stream",
          "name": "stderr",
          "text": [
            "100%|██████████| 3/3 [00:00<00:00, 109.17it/s]\n",
            "100%|██████████| 3/3 [00:00<00:00, 287.52it/s]\n"
          ]
        },
        {
          "output_type": "stream",
          "name": "stdout",
          "text": [
            "0 3 49\n",
            "precheck\n",
            "check1\n",
            "check2\n",
            "check3\n",
            "check4\n"
          ]
        },
        {
          "output_type": "stream",
          "name": "stderr",
          "text": [
            "100%|██████████| 3/3 [00:00<00:00, 324.03it/s]\n",
            "100%|██████████| 3/3 [00:00<00:00, 141.42it/s]\n"
          ]
        },
        {
          "output_type": "stream",
          "name": "stdout",
          "text": [
            "0 3 50\n",
            "precheck\n",
            "check1\n",
            "check2\n",
            "check3\n",
            "check4\n"
          ]
        },
        {
          "output_type": "stream",
          "name": "stderr",
          "text": [
            "100%|██████████| 3/3 [00:00<00:00, 324.84it/s]\n",
            "100%|██████████| 3/3 [00:00<00:00, 383.59it/s]\n"
          ]
        },
        {
          "output_type": "stream",
          "name": "stdout",
          "text": [
            "0 3 51\n",
            "precheck\n",
            "check1\n",
            "check2\n",
            "check3\n",
            "check4\n"
          ]
        },
        {
          "output_type": "stream",
          "name": "stderr",
          "text": [
            "100%|██████████| 3/3 [00:00<00:00, 127.25it/s]\n",
            "100%|██████████| 3/3 [00:00<00:00, 306.98it/s]"
          ]
        },
        {
          "output_type": "stream",
          "name": "stdout",
          "text": [
            "0 3 52\n",
            "precheck\n",
            "check1\n",
            "check2"
          ]
        },
        {
          "output_type": "stream",
          "name": "stderr",
          "text": [
            "\n"
          ]
        },
        {
          "output_type": "stream",
          "name": "stdout",
          "text": [
            "\n",
            "check3\n",
            "check4\n"
          ]
        },
        {
          "output_type": "stream",
          "name": "stderr",
          "text": [
            "100%|██████████| 3/3 [00:00<00:00, 143.68it/s]\n",
            "100%|██████████| 3/3 [00:00<00:00, 153.45it/s]\n"
          ]
        },
        {
          "output_type": "stream",
          "name": "stdout",
          "text": [
            "0 3 53\n",
            "precheck\n",
            "check1\n",
            "check2\n",
            "check3\n",
            "check4\n"
          ]
        },
        {
          "output_type": "stream",
          "name": "stderr",
          "text": [
            "100%|██████████| 3/3 [00:00<00:00, 177.98it/s]\n",
            "100%|██████████| 3/3 [00:00<00:00, 243.71it/s]\n"
          ]
        },
        {
          "output_type": "stream",
          "name": "stdout",
          "text": [
            "0 3 54\n",
            "precheck\n",
            "check1\n",
            "check2\n",
            "check3\n",
            "check4\n"
          ]
        },
        {
          "output_type": "stream",
          "name": "stderr",
          "text": [
            "100%|██████████| 3/3 [00:00<00:00, 197.48it/s]\n",
            "100%|██████████| 3/3 [00:00<00:00, 190.14it/s]\n"
          ]
        },
        {
          "output_type": "stream",
          "name": "stdout",
          "text": [
            "0 3 55\n",
            "precheck\n",
            "check1\n",
            "check2\n",
            "check3\n",
            "check4\n"
          ]
        },
        {
          "output_type": "stream",
          "name": "stderr",
          "text": [
            "100%|██████████| 3/3 [00:00<00:00, 404.70it/s]\n",
            "100%|██████████| 3/3 [00:00<00:00, 236.48it/s]\n"
          ]
        },
        {
          "output_type": "stream",
          "name": "stdout",
          "text": [
            "0 3 56\n",
            "precheck\n",
            "check1\n",
            "check2\n",
            "check3\n",
            "check4\n"
          ]
        },
        {
          "output_type": "stream",
          "name": "stderr",
          "text": [
            "100%|██████████| 3/3 [00:00<00:00, 343.56it/s]\n",
            "100%|██████████| 3/3 [00:00<00:00, 397.20it/s]\n"
          ]
        },
        {
          "output_type": "stream",
          "name": "stdout",
          "text": [
            "0 3 57\n",
            "precheck\n",
            "check1\n",
            "check2\n",
            "check3\n",
            "check4\n"
          ]
        },
        {
          "output_type": "stream",
          "name": "stderr",
          "text": [
            "100%|██████████| 3/3 [00:00<00:00, 122.85it/s]\n",
            "100%|██████████| 3/3 [00:00<00:00, 160.52it/s]\n"
          ]
        },
        {
          "output_type": "stream",
          "name": "stdout",
          "text": [
            "0 3 58\n",
            "precheck\n",
            "check1\n",
            "check2\n",
            "check3\n",
            "check4\n"
          ]
        },
        {
          "output_type": "stream",
          "name": "stderr",
          "text": [
            "100%|██████████| 3/3 [00:00<00:00, 350.90it/s]\n",
            "100%|██████████| 3/3 [00:00<00:00, 304.28it/s]"
          ]
        },
        {
          "output_type": "stream",
          "name": "stdout",
          "text": [
            "0 3 59\n",
            "precheck\n",
            "check1\n",
            "check2\n",
            "check3\n",
            "check4\n"
          ]
        },
        {
          "output_type": "stream",
          "name": "stderr",
          "text": [
            "\n",
            "100%|██████████| 3/3 [00:00<00:00, 175.69it/s]\n",
            "100%|██████████| 3/3 [00:00<00:00, 366.10it/s]\n"
          ]
        },
        {
          "output_type": "stream",
          "name": "stdout",
          "text": [
            "0 3 60\n",
            "precheck\n",
            "check1\n",
            "check2\n",
            "check3\n",
            "check4\n"
          ]
        },
        {
          "output_type": "stream",
          "name": "stderr",
          "text": [
            "100%|██████████| 3/3 [00:00<00:00, 366.99it/s]\n",
            "100%|██████████| 3/3 [00:00<00:00, 223.02it/s]\n"
          ]
        },
        {
          "output_type": "stream",
          "name": "stdout",
          "text": [
            "0 3 61\n",
            "precheck\n",
            "check1\n",
            "check2\n",
            "check3\n",
            "check4\n"
          ]
        },
        {
          "output_type": "stream",
          "name": "stderr",
          "text": [
            "100%|██████████| 3/3 [00:00<00:00, 93.51it/s]\n",
            "100%|██████████| 3/3 [00:00<00:00, 321.14it/s]\n"
          ]
        },
        {
          "output_type": "stream",
          "name": "stdout",
          "text": [
            "0 3 62\n",
            "precheck\n",
            "check1\n",
            "check2\n",
            "check3\n",
            "check4\n"
          ]
        },
        {
          "output_type": "stream",
          "name": "stderr",
          "text": [
            "100%|██████████| 3/3 [00:00<00:00, 127.90it/s]\n",
            "100%|██████████| 3/3 [00:00<00:00, 155.10it/s]\n"
          ]
        },
        {
          "output_type": "stream",
          "name": "stdout",
          "text": [
            "0 3 63\n",
            "precheck\n",
            "check1\n",
            "check2\n",
            "check3\n",
            "check4\n"
          ]
        },
        {
          "output_type": "stream",
          "name": "stderr",
          "text": [
            "100%|██████████| 3/3 [00:00<00:00, 197.81it/s]\n",
            "100%|██████████| 3/3 [00:00<00:00, 177.34it/s]\n"
          ]
        },
        {
          "output_type": "stream",
          "name": "stdout",
          "text": [
            "0 3 64\n",
            "precheck\n",
            "check1\n",
            "check2\n",
            "check3\n",
            "check4\n"
          ]
        },
        {
          "output_type": "stream",
          "name": "stderr",
          "text": [
            "100%|██████████| 3/3 [00:00<00:00, 383.60it/s]\n",
            "100%|██████████| 3/3 [00:00<00:00, 398.85it/s]\n"
          ]
        },
        {
          "output_type": "stream",
          "name": "stdout",
          "text": [
            "0 3 65\n",
            "precheck\n",
            "check1\n",
            "check2\n",
            "check3\n",
            "check4\n"
          ]
        },
        {
          "output_type": "stream",
          "name": "stderr",
          "text": [
            "100%|██████████| 3/3 [00:00<00:00, 297.10it/s]\n",
            "100%|██████████| 3/3 [00:00<00:00, 221.89it/s]\n"
          ]
        },
        {
          "output_type": "stream",
          "name": "stdout",
          "text": [
            "0 3 66\n",
            "precheck\n",
            "check1\n",
            "check2\n",
            "check3\n",
            "check4\n"
          ]
        },
        {
          "output_type": "stream",
          "name": "stderr",
          "text": [
            "100%|██████████| 3/3 [00:00<00:00, 143.18it/s]\n",
            "100%|██████████| 3/3 [00:00<00:00, 124.50it/s]\n"
          ]
        },
        {
          "output_type": "stream",
          "name": "stdout",
          "text": [
            "0 3 67\n",
            "precheck\n",
            "check1\n",
            "check2\n",
            "check3\n",
            "check4\n"
          ]
        },
        {
          "output_type": "stream",
          "name": "stderr",
          "text": [
            "100%|██████████| 3/3 [00:00<00:00, 85.55it/s]\n",
            "100%|██████████| 3/3 [00:00<00:00, 125.88it/s]\n"
          ]
        },
        {
          "output_type": "stream",
          "name": "stdout",
          "text": [
            "0 3 68\n",
            "precheck\n",
            "check1\n",
            "check2\n",
            "check3\n",
            "check4\n"
          ]
        },
        {
          "output_type": "stream",
          "name": "stderr",
          "text": [
            "100%|██████████| 3/3 [00:00<00:00, 140.57it/s]\n",
            "100%|██████████| 3/3 [00:00<00:00, 178.73it/s]\n"
          ]
        },
        {
          "output_type": "stream",
          "name": "stdout",
          "text": [
            "0 3 69\n",
            "precheck\n",
            "check1\n",
            "check2\n",
            "check3\n",
            "check4\n"
          ]
        },
        {
          "output_type": "stream",
          "name": "stderr",
          "text": [
            "100%|██████████| 3/3 [00:00<00:00, 164.61it/s]\n",
            "100%|██████████| 3/3 [00:00<00:00, 140.09it/s]\n"
          ]
        },
        {
          "output_type": "stream",
          "name": "stdout",
          "text": [
            "0 3 70\n",
            "precheck\n",
            "check1\n",
            "check2\n",
            "check3\n",
            "check4\n"
          ]
        },
        {
          "output_type": "stream",
          "name": "stderr",
          "text": [
            "100%|██████████| 3/3 [00:00<00:00, 261.65it/s]\n",
            "100%|██████████| 3/3 [00:00<00:00, 243.79it/s]\n"
          ]
        },
        {
          "output_type": "stream",
          "name": "stdout",
          "text": [
            "0 3 71\n",
            "precheck\n",
            "check1\n",
            "check2\n",
            "check3\n",
            "check4\n"
          ]
        },
        {
          "output_type": "stream",
          "name": "stderr",
          "text": [
            "100%|██████████| 3/3 [00:00<00:00, 184.18it/s]\n",
            "100%|██████████| 3/3 [00:00<00:00, 251.29it/s]\n"
          ]
        },
        {
          "output_type": "stream",
          "name": "stdout",
          "text": [
            "0 3 72\n",
            "precheck\n",
            "check1\n",
            "check2\n",
            "check3\n",
            "check4\n"
          ]
        },
        {
          "output_type": "stream",
          "name": "stderr",
          "text": [
            "100%|██████████| 3/3 [00:00<00:00, 220.15it/s]\n",
            "100%|██████████| 3/3 [00:00<00:00, 132.79it/s]\n"
          ]
        },
        {
          "output_type": "stream",
          "name": "stdout",
          "text": [
            "0 3 73\n",
            "precheck\n",
            "check1\n",
            "check2\n",
            "check3\n",
            "check4\n"
          ]
        },
        {
          "output_type": "stream",
          "name": "stderr",
          "text": [
            "100%|██████████| 3/3 [00:00<00:00, 244.95it/s]\n",
            "100%|██████████| 3/3 [00:00<00:00, 208.02it/s]"
          ]
        },
        {
          "output_type": "stream",
          "name": "stdout",
          "text": [
            "0 3 74\n",
            "precheck\n",
            "check1\n",
            "check2\n",
            "check3\n",
            "check4\n"
          ]
        },
        {
          "output_type": "stream",
          "name": "stderr",
          "text": [
            "\n",
            "100%|██████████| 3/3 [00:00<00:00, 315.82it/s]\n",
            "100%|██████████| 3/3 [00:00<00:00, 376.32it/s]\n"
          ]
        },
        {
          "output_type": "stream",
          "name": "stdout",
          "text": [
            "0 3 75\n",
            "precheck\n",
            "check1\n",
            "check2\n",
            "check3\n",
            "check4\n"
          ]
        },
        {
          "output_type": "stream",
          "name": "stderr",
          "text": [
            "100%|██████████| 3/3 [00:00<00:00, 266.50it/s]\n",
            "100%|██████████| 3/3 [00:00<00:00, 192.71it/s]\n"
          ]
        },
        {
          "output_type": "stream",
          "name": "stdout",
          "text": [
            "0 3 76\n",
            "precheck\n",
            "check1\n",
            "check2\n",
            "check3\n",
            "check4\n"
          ]
        },
        {
          "output_type": "stream",
          "name": "stderr",
          "text": [
            "100%|██████████| 3/3 [00:00<00:00, 178.91it/s]\n",
            "100%|██████████| 3/3 [00:00<00:00, 260.20it/s]\n"
          ]
        },
        {
          "output_type": "stream",
          "name": "stdout",
          "text": [
            "0 3 77\n",
            "precheck\n",
            "check1\n",
            "check2\n",
            "check3\n",
            "check4\n"
          ]
        },
        {
          "output_type": "stream",
          "name": "stderr",
          "text": [
            "100%|██████████| 3/3 [00:00<00:00, 131.15it/s]\n",
            "100%|██████████| 3/3 [00:00<00:00, 137.07it/s]\n"
          ]
        },
        {
          "output_type": "stream",
          "name": "stdout",
          "text": [
            "0 3 78\n",
            "precheck\n",
            "check1\n",
            "check2\n",
            "check3\n",
            "check4\n"
          ]
        },
        {
          "output_type": "stream",
          "name": "stderr",
          "text": [
            "100%|██████████| 3/3 [00:00<00:00, 251.33it/s]\n",
            "100%|██████████| 3/3 [00:00<00:00, 149.50it/s]\n"
          ]
        },
        {
          "output_type": "stream",
          "name": "stdout",
          "text": [
            "0 3 79\n",
            "precheck\n",
            "check1\n",
            "check2\n",
            "check3\n",
            "check4\n"
          ]
        },
        {
          "output_type": "stream",
          "name": "stderr",
          "text": [
            "100%|██████████| 3/3 [00:00<00:00, 190.88it/s]\n",
            "100%|██████████| 3/3 [00:00<00:00, 235.43it/s]\n"
          ]
        },
        {
          "output_type": "stream",
          "name": "stdout",
          "text": [
            "0 3 80\n",
            "precheck\n",
            "check1\n",
            "check2\n",
            "check3\n",
            "check4\n"
          ]
        },
        {
          "output_type": "stream",
          "name": "stderr",
          "text": [
            "100%|██████████| 3/3 [00:00<00:00, 284.55it/s]\n",
            "100%|██████████| 3/3 [00:00<00:00, 288.64it/s]\n"
          ]
        },
        {
          "output_type": "stream",
          "name": "stdout",
          "text": [
            "0 3 81\n",
            "precheck\n",
            "check1\n",
            "check2\n",
            "check3\n",
            "check4\n"
          ]
        },
        {
          "output_type": "stream",
          "name": "stderr",
          "text": [
            "100%|██████████| 3/3 [00:00<00:00, 104.21it/s]\n",
            "100%|██████████| 3/3 [00:00<00:00, 293.64it/s]"
          ]
        },
        {
          "output_type": "stream",
          "name": "stdout",
          "text": [
            "0 3 82\n",
            "precheck\n",
            "check1\n",
            "check2"
          ]
        },
        {
          "output_type": "stream",
          "name": "stderr",
          "text": [
            "\n"
          ]
        },
        {
          "output_type": "stream",
          "name": "stdout",
          "text": [
            "\n",
            "check3\n",
            "check4\n"
          ]
        },
        {
          "output_type": "stream",
          "name": "stderr",
          "text": [
            "100%|██████████| 3/3 [00:00<00:00, 186.14it/s]\n",
            "100%|██████████| 3/3 [00:00<00:00, 389.96it/s]\n"
          ]
        },
        {
          "output_type": "stream",
          "name": "stdout",
          "text": [
            "0 3 83\n",
            "precheck\n",
            "check1\n",
            "check2\n",
            "check3\n",
            "check4\n"
          ]
        },
        {
          "output_type": "stream",
          "name": "stderr",
          "text": [
            "100%|██████████| 3/3 [00:00<00:00, 236.08it/s]\n",
            "100%|██████████| 3/3 [00:00<00:00, 169.93it/s]\n"
          ]
        },
        {
          "output_type": "stream",
          "name": "stdout",
          "text": [
            "0 3 84\n",
            "precheck\n",
            "check1\n",
            "check2\n",
            "check3\n",
            "check4\n"
          ]
        },
        {
          "output_type": "stream",
          "name": "stderr",
          "text": [
            "100%|██████████| 3/3 [00:00<00:00, 269.33it/s]\n",
            "100%|██████████| 3/3 [00:00<00:00, 178.61it/s]\n"
          ]
        },
        {
          "output_type": "stream",
          "name": "stdout",
          "text": [
            "0 3 85\n",
            "precheck\n",
            "check1\n",
            "check2\n",
            "check3\n",
            "check4\n"
          ]
        },
        {
          "output_type": "stream",
          "name": "stderr",
          "text": [
            "100%|██████████| 3/3 [00:00<00:00, 271.26it/s]\n",
            "100%|██████████| 3/3 [00:00<00:00, 162.05it/s]\n"
          ]
        },
        {
          "output_type": "stream",
          "name": "stdout",
          "text": [
            "0 3 86\n",
            "precheck\n",
            "check1\n",
            "check2\n",
            "check3\n",
            "check4\n"
          ]
        },
        {
          "output_type": "stream",
          "name": "stderr",
          "text": [
            "100%|██████████| 3/3 [00:00<00:00, 129.26it/s]\n",
            "100%|██████████| 3/3 [00:00<00:00, 194.79it/s]\n"
          ]
        },
        {
          "output_type": "stream",
          "name": "stdout",
          "text": [
            "0 3 87\n",
            "precheck\n",
            "check1\n",
            "check2\n",
            "check3\n",
            "check4\n"
          ]
        },
        {
          "output_type": "stream",
          "name": "stderr",
          "text": [
            "100%|██████████| 3/3 [00:00<00:00, 201.80it/s]\n",
            "100%|██████████| 3/3 [00:00<00:00, 250.15it/s]\n"
          ]
        },
        {
          "output_type": "stream",
          "name": "stdout",
          "text": [
            "0 3 88\n",
            "precheck\n",
            "check1\n",
            "check2\n",
            "check3\n",
            "check4\n"
          ]
        },
        {
          "output_type": "stream",
          "name": "stderr",
          "text": [
            "100%|██████████| 3/3 [00:00<00:00, 223.92it/s]\n",
            "100%|██████████| 3/3 [00:00<00:00, 277.22it/s]\n"
          ]
        },
        {
          "output_type": "stream",
          "name": "stdout",
          "text": [
            "0 3 89\n",
            "precheck\n",
            "check1\n",
            "check2\n",
            "check3\n",
            "check4\n"
          ]
        },
        {
          "output_type": "stream",
          "name": "stderr",
          "text": [
            "100%|██████████| 3/3 [00:00<00:00, 89.21it/s]\n",
            "100%|██████████| 3/3 [00:00<00:00, 297.55it/s]\n"
          ]
        },
        {
          "output_type": "stream",
          "name": "stdout",
          "text": [
            "0 3 90\n",
            "precheck\n",
            "check1\n",
            "check2\n",
            "check3\n",
            "check4\n"
          ]
        },
        {
          "output_type": "stream",
          "name": "stderr",
          "text": [
            "100%|██████████| 3/3 [00:00<00:00, 157.44it/s]\n",
            "100%|██████████| 3/3 [00:00<00:00, 186.59it/s]\n"
          ]
        },
        {
          "output_type": "stream",
          "name": "stdout",
          "text": [
            "0 3 91\n",
            "precheck\n",
            "check1\n",
            "check2\n",
            "check3\n",
            "check4\n"
          ]
        },
        {
          "output_type": "stream",
          "name": "stderr",
          "text": [
            "100%|██████████| 3/3 [00:00<00:00, 414.80it/s]\n",
            "100%|██████████| 3/3 [00:00<00:00, 297.10it/s]\n"
          ]
        },
        {
          "output_type": "stream",
          "name": "stdout",
          "text": [
            "0 3 92\n",
            "precheck\n",
            "check1\n",
            "check2\n",
            "check3\n",
            "check4\n"
          ]
        },
        {
          "output_type": "stream",
          "name": "stderr",
          "text": [
            "100%|██████████| 3/3 [00:00<00:00, 135.66it/s]\n",
            "100%|██████████| 3/3 [00:00<00:00, 196.82it/s]\n"
          ]
        },
        {
          "output_type": "stream",
          "name": "stdout",
          "text": [
            "0 3 93\n",
            "precheck\n",
            "check1\n",
            "check2\n",
            "check3\n",
            "check4\n"
          ]
        },
        {
          "output_type": "stream",
          "name": "stderr",
          "text": [
            "100%|██████████| 3/3 [00:00<00:00, 178.30it/s]\n",
            "100%|██████████| 3/3 [00:00<00:00, 183.49it/s]\n"
          ]
        },
        {
          "output_type": "stream",
          "name": "stdout",
          "text": [
            "0 3 94\n",
            "precheck\n",
            "check1\n",
            "check2\n",
            "check3\n",
            "check4\n"
          ]
        },
        {
          "output_type": "stream",
          "name": "stderr",
          "text": [
            "100%|██████████| 3/3 [00:00<00:00, 231.44it/s]\n",
            "100%|██████████| 3/3 [00:00<00:00, 152.58it/s]\n"
          ]
        },
        {
          "output_type": "stream",
          "name": "stdout",
          "text": [
            "0 3 95\n",
            "precheck\n",
            "check1\n",
            "check2\n",
            "check3\n",
            "check4\n"
          ]
        },
        {
          "output_type": "stream",
          "name": "stderr",
          "text": [
            "100%|██████████| 3/3 [00:00<00:00, 309.49it/s]\n",
            "100%|██████████| 3/3 [00:00<00:00, 182.99it/s]\n"
          ]
        },
        {
          "output_type": "stream",
          "name": "stdout",
          "text": [
            "0 3 96\n",
            "precheck\n",
            "check1\n",
            "check2\n",
            "check3\n",
            "check4\n"
          ]
        },
        {
          "output_type": "stream",
          "name": "stderr",
          "text": [
            "100%|██████████| 3/3 [00:00<00:00, 354.58it/s]\n",
            "100%|██████████| 3/3 [00:00<00:00, 329.16it/s]\n"
          ]
        },
        {
          "output_type": "stream",
          "name": "stdout",
          "text": [
            "0 3 97\n",
            "precheck\n",
            "check1\n",
            "check2\n",
            "check3\n",
            "check4\n"
          ]
        },
        {
          "output_type": "stream",
          "name": "stderr",
          "text": [
            "100%|██████████| 3/3 [00:00<00:00, 200.20it/s]\n",
            "100%|██████████| 3/3 [00:00<00:00, 184.62it/s]\n"
          ]
        },
        {
          "output_type": "stream",
          "name": "stdout",
          "text": [
            "0 3 98\n",
            "precheck\n",
            "check1\n",
            "check2\n",
            "check3\n",
            "check4\n"
          ]
        },
        {
          "output_type": "stream",
          "name": "stderr",
          "text": [
            "100%|██████████| 3/3 [00:00<00:00, 333.53it/s]\n",
            "100%|██████████| 3/3 [00:00<00:00, 351.68it/s]\n"
          ]
        },
        {
          "output_type": "stream",
          "name": "stdout",
          "text": [
            "0 3 99\n",
            "precheck\n",
            "check1\n",
            "check2\n",
            "check3\n",
            "check4\n"
          ]
        },
        {
          "output_type": "stream",
          "name": "stderr",
          "text": [
            "100%|██████████| 3/3 [00:00<00:00, 251.61it/s]\n",
            "100%|██████████| 3/3 [00:00<00:00, 137.20it/s]\n"
          ]
        },
        {
          "output_type": "stream",
          "name": "stdout",
          "text": [
            "1 0 0\n"
          ]
        },
        {
          "output_type": "stream",
          "name": "stderr",
          "text": [
            "100%|██████████| 3/3 [00:00<00:00, 130.64it/s]\n",
            "100%|██████████| 3/3 [00:00<00:00, 279.23it/s]\n"
          ]
        },
        {
          "output_type": "stream",
          "name": "stdout",
          "text": [
            "1 0 1\n"
          ]
        },
        {
          "output_type": "stream",
          "name": "stderr",
          "text": [
            "100%|██████████| 3/3 [00:00<00:00, 225.66it/s]\n",
            "100%|██████████| 3/3 [00:00<00:00, 294.71it/s]\n"
          ]
        },
        {
          "output_type": "stream",
          "name": "stdout",
          "text": [
            "1 0 2\n"
          ]
        },
        {
          "output_type": "stream",
          "name": "stderr",
          "text": [
            "100%|██████████| 3/3 [00:00<00:00, 140.20it/s]\n",
            "100%|██████████| 3/3 [00:00<00:00, 121.76it/s]\n"
          ]
        },
        {
          "output_type": "stream",
          "name": "stdout",
          "text": [
            "1 0 3\n"
          ]
        },
        {
          "output_type": "stream",
          "name": "stderr",
          "text": [
            "100%|██████████| 3/3 [00:00<00:00, 94.86it/s]\n",
            "100%|██████████| 3/3 [00:00<00:00, 80.35it/s]\n"
          ]
        },
        {
          "output_type": "stream",
          "name": "stdout",
          "text": [
            "1 0 4\n"
          ]
        },
        {
          "output_type": "stream",
          "name": "stderr",
          "text": [
            "100%|██████████| 3/3 [00:00<00:00, 123.06it/s]\n",
            "100%|██████████| 3/3 [00:00<00:00, 140.39it/s]\n"
          ]
        },
        {
          "output_type": "stream",
          "name": "stdout",
          "text": [
            "1 0 5\n"
          ]
        },
        {
          "output_type": "stream",
          "name": "stderr",
          "text": [
            "100%|██████████| 3/3 [00:00<00:00, 262.11it/s]\n",
            "100%|██████████| 3/3 [00:00<00:00, 196.68it/s]\n"
          ]
        },
        {
          "output_type": "stream",
          "name": "stdout",
          "text": [
            "1 0 6\n"
          ]
        },
        {
          "output_type": "stream",
          "name": "stderr",
          "text": [
            "100%|██████████| 3/3 [00:00<00:00, 106.74it/s]\n",
            "100%|██████████| 3/3 [00:00<00:00, 236.00it/s]\n"
          ]
        },
        {
          "output_type": "stream",
          "name": "stdout",
          "text": [
            "1 0 7\n"
          ]
        },
        {
          "output_type": "stream",
          "name": "stderr",
          "text": [
            "100%|██████████| 3/3 [00:00<00:00, 294.51it/s]\n",
            "100%|██████████| 3/3 [00:00<00:00, 278.78it/s]\n"
          ]
        },
        {
          "output_type": "stream",
          "name": "stdout",
          "text": [
            "1 0 8\n"
          ]
        },
        {
          "output_type": "stream",
          "name": "stderr",
          "text": [
            "100%|██████████| 3/3 [00:00<00:00, 333.05it/s]\n",
            "100%|██████████| 3/3 [00:00<00:00, 109.31it/s]\n"
          ]
        },
        {
          "output_type": "stream",
          "name": "stdout",
          "text": [
            "1 0 9\n"
          ]
        },
        {
          "output_type": "stream",
          "name": "stderr",
          "text": [
            "100%|██████████| 3/3 [00:00<00:00, 164.44it/s]\n",
            "100%|██████████| 3/3 [00:00<00:00, 108.54it/s]\n"
          ]
        },
        {
          "output_type": "stream",
          "name": "stdout",
          "text": [
            "1 0 10\n"
          ]
        },
        {
          "output_type": "stream",
          "name": "stderr",
          "text": [
            "100%|██████████| 3/3 [00:00<00:00, 169.47it/s]\n",
            "100%|██████████| 3/3 [00:00<00:00, 157.37it/s]\n"
          ]
        },
        {
          "output_type": "stream",
          "name": "stdout",
          "text": [
            "1 0 11\n"
          ]
        },
        {
          "output_type": "stream",
          "name": "stderr",
          "text": [
            "100%|██████████| 3/3 [00:00<00:00, 125.69it/s]\n",
            "100%|██████████| 3/3 [00:00<00:00, 129.97it/s]\n"
          ]
        },
        {
          "output_type": "stream",
          "name": "stdout",
          "text": [
            "1 0 12\n"
          ]
        },
        {
          "output_type": "stream",
          "name": "stderr",
          "text": [
            "100%|██████████| 3/3 [00:00<00:00, 83.68it/s]\n",
            "100%|██████████| 3/3 [00:00<00:00, 188.36it/s]\n"
          ]
        },
        {
          "output_type": "stream",
          "name": "stdout",
          "text": [
            "1 0 13\n"
          ]
        },
        {
          "output_type": "stream",
          "name": "stderr",
          "text": [
            "100%|██████████| 3/3 [00:00<00:00, 146.33it/s]\n",
            "100%|██████████| 3/3 [00:00<00:00, 122.72it/s]\n"
          ]
        },
        {
          "output_type": "stream",
          "name": "stdout",
          "text": [
            "1 0 14\n"
          ]
        },
        {
          "output_type": "stream",
          "name": "stderr",
          "text": [
            "100%|██████████| 3/3 [00:00<00:00, 158.05it/s]\n",
            "100%|██████████| 3/3 [00:00<00:00, 149.42it/s]\n"
          ]
        },
        {
          "output_type": "stream",
          "name": "stdout",
          "text": [
            "1 0 15\n"
          ]
        },
        {
          "output_type": "stream",
          "name": "stderr",
          "text": [
            "100%|██████████| 3/3 [00:00<00:00, 150.91it/s]\n",
            "100%|██████████| 3/3 [00:00<00:00, 153.63it/s]\n"
          ]
        },
        {
          "output_type": "stream",
          "name": "stdout",
          "text": [
            "1 0 16\n"
          ]
        },
        {
          "output_type": "stream",
          "name": "stderr",
          "text": [
            "100%|██████████| 3/3 [00:00<00:00, 77.31it/s]\n",
            "100%|██████████| 3/3 [00:00<00:00, 123.72it/s]\n"
          ]
        },
        {
          "output_type": "stream",
          "name": "stdout",
          "text": [
            "1 0 17\n"
          ]
        },
        {
          "output_type": "stream",
          "name": "stderr",
          "text": [
            "100%|██████████| 3/3 [00:00<00:00, 204.82it/s]\n",
            "100%|██████████| 3/3 [00:00<00:00, 437.89it/s]\n"
          ]
        },
        {
          "output_type": "stream",
          "name": "stdout",
          "text": [
            "1 0 18\n"
          ]
        },
        {
          "output_type": "stream",
          "name": "stderr",
          "text": [
            "100%|██████████| 3/3 [00:00<00:00, 74.39it/s]\n",
            "100%|██████████| 3/3 [00:00<00:00, 65.10it/s]\n"
          ]
        },
        {
          "output_type": "stream",
          "name": "stdout",
          "text": [
            "1 0 19\n"
          ]
        },
        {
          "output_type": "stream",
          "name": "stderr",
          "text": [
            "100%|██████████| 3/3 [00:00<00:00, 63.16it/s]\n",
            "100%|██████████| 3/3 [00:00<00:00, 152.98it/s]\n"
          ]
        },
        {
          "output_type": "stream",
          "name": "stdout",
          "text": [
            "1 0 20\n"
          ]
        },
        {
          "output_type": "stream",
          "name": "stderr",
          "text": [
            "100%|██████████| 3/3 [00:00<00:00, 59.74it/s]\n",
            "100%|██████████| 3/3 [00:00<00:00, 164.73it/s]\n"
          ]
        },
        {
          "output_type": "stream",
          "name": "stdout",
          "text": [
            "1 0 21\n"
          ]
        },
        {
          "output_type": "stream",
          "name": "stderr",
          "text": [
            "100%|██████████| 3/3 [00:00<00:00, 174.30it/s]\n",
            "100%|██████████| 3/3 [00:00<00:00, 345.88it/s]\n"
          ]
        },
        {
          "output_type": "stream",
          "name": "stdout",
          "text": [
            "1 0 22\n"
          ]
        },
        {
          "output_type": "stream",
          "name": "stderr",
          "text": [
            "100%|██████████| 3/3 [00:00<00:00, 107.34it/s]\n",
            "100%|██████████| 3/3 [00:00<00:00, 211.31it/s]\n"
          ]
        },
        {
          "output_type": "stream",
          "name": "stdout",
          "text": [
            "1 0 23\n"
          ]
        },
        {
          "output_type": "stream",
          "name": "stderr",
          "text": [
            "100%|██████████| 3/3 [00:00<00:00, 165.84it/s]\n",
            "100%|██████████| 3/3 [00:00<00:00, 108.03it/s]\n"
          ]
        },
        {
          "output_type": "stream",
          "name": "stdout",
          "text": [
            "1 0 24\n"
          ]
        },
        {
          "output_type": "stream",
          "name": "stderr",
          "text": [
            "100%|██████████| 3/3 [00:00<00:00, 91.89it/s]\n",
            "100%|██████████| 3/3 [00:00<00:00, 95.01it/s]\n"
          ]
        },
        {
          "output_type": "stream",
          "name": "stdout",
          "text": [
            "1 0 25\n"
          ]
        },
        {
          "output_type": "stream",
          "name": "stderr",
          "text": [
            "100%|██████████| 3/3 [00:00<00:00, 145.73it/s]\n",
            "100%|██████████| 3/3 [00:00<00:00, 163.39it/s]\n"
          ]
        },
        {
          "output_type": "stream",
          "name": "stdout",
          "text": [
            "1 0 26\n"
          ]
        },
        {
          "output_type": "stream",
          "name": "stderr",
          "text": [
            "100%|██████████| 3/3 [00:00<00:00, 159.82it/s]\n",
            "100%|██████████| 3/3 [00:00<00:00, 452.28it/s]\n"
          ]
        },
        {
          "output_type": "stream",
          "name": "stdout",
          "text": [
            "1 0 27\n"
          ]
        },
        {
          "output_type": "stream",
          "name": "stderr",
          "text": [
            "100%|██████████| 3/3 [00:00<00:00, 251.58it/s]\n",
            "100%|██████████| 3/3 [00:00<00:00, 404.88it/s]\n"
          ]
        },
        {
          "output_type": "stream",
          "name": "stdout",
          "text": [
            "1 0 28\n"
          ]
        },
        {
          "output_type": "stream",
          "name": "stderr",
          "text": [
            "100%|██████████| 3/3 [00:00<00:00, 179.61it/s]\n",
            "100%|██████████| 3/3 [00:00<00:00, 233.17it/s]\n"
          ]
        },
        {
          "output_type": "stream",
          "name": "stdout",
          "text": [
            "1 0 29\n"
          ]
        },
        {
          "output_type": "stream",
          "name": "stderr",
          "text": [
            "100%|██████████| 3/3 [00:00<00:00, 98.59it/s]\n",
            "100%|██████████| 3/3 [00:00<00:00, 85.98it/s]\n"
          ]
        },
        {
          "output_type": "stream",
          "name": "stdout",
          "text": [
            "1 0 30\n"
          ]
        },
        {
          "output_type": "stream",
          "name": "stderr",
          "text": [
            "100%|██████████| 3/3 [00:00<00:00, 124.49it/s]\n",
            "100%|██████████| 3/3 [00:00<00:00, 128.19it/s]\n"
          ]
        },
        {
          "output_type": "stream",
          "name": "stdout",
          "text": [
            "1 0 31\n"
          ]
        },
        {
          "output_type": "stream",
          "name": "stderr",
          "text": [
            "100%|██████████| 3/3 [00:00<00:00, 72.38it/s]\n",
            "100%|██████████| 3/3 [00:00<00:00, 85.72it/s]\n"
          ]
        },
        {
          "output_type": "stream",
          "name": "stdout",
          "text": [
            "1 0 32\n"
          ]
        },
        {
          "output_type": "stream",
          "name": "stderr",
          "text": [
            "100%|██████████| 3/3 [00:00<00:00, 293.72it/s]\n",
            "100%|██████████| 3/3 [00:00<00:00, 110.90it/s]\n"
          ]
        },
        {
          "output_type": "stream",
          "name": "stdout",
          "text": [
            "1 0 33\n"
          ]
        },
        {
          "output_type": "stream",
          "name": "stderr",
          "text": [
            "100%|██████████| 3/3 [00:00<00:00, 90.02it/s]\n",
            "100%|██████████| 3/3 [00:00<00:00, 102.35it/s]\n"
          ]
        },
        {
          "output_type": "stream",
          "name": "stdout",
          "text": [
            "1 0 34\n"
          ]
        },
        {
          "output_type": "stream",
          "name": "stderr",
          "text": [
            "100%|██████████| 3/3 [00:00<00:00, 113.39it/s]\n",
            "100%|██████████| 3/3 [00:00<00:00, 249.20it/s]\n"
          ]
        },
        {
          "output_type": "stream",
          "name": "stdout",
          "text": [
            "1 0 35\n"
          ]
        },
        {
          "output_type": "stream",
          "name": "stderr",
          "text": [
            "100%|██████████| 3/3 [00:00<00:00, 328.10it/s]\n",
            "100%|██████████| 3/3 [00:00<00:00, 121.24it/s]\n"
          ]
        },
        {
          "output_type": "stream",
          "name": "stdout",
          "text": [
            "1 0 36\n"
          ]
        },
        {
          "output_type": "stream",
          "name": "stderr",
          "text": [
            "100%|██████████| 3/3 [00:00<00:00, 172.84it/s]\n",
            "100%|██████████| 3/3 [00:00<00:00, 145.58it/s]\n"
          ]
        },
        {
          "output_type": "stream",
          "name": "stdout",
          "text": [
            "1 0 37\n"
          ]
        },
        {
          "output_type": "stream",
          "name": "stderr",
          "text": [
            "100%|██████████| 3/3 [00:00<00:00, 167.09it/s]\n",
            "100%|██████████| 3/3 [00:00<00:00, 98.95it/s]\n"
          ]
        },
        {
          "output_type": "stream",
          "name": "stdout",
          "text": [
            "1 0 38\n"
          ]
        },
        {
          "output_type": "stream",
          "name": "stderr",
          "text": [
            "100%|██████████| 3/3 [00:00<00:00, 121.73it/s]\n",
            "100%|██████████| 3/3 [00:00<00:00, 298.21it/s]\n"
          ]
        },
        {
          "output_type": "stream",
          "name": "stdout",
          "text": [
            "1 0 39\n"
          ]
        },
        {
          "output_type": "stream",
          "name": "stderr",
          "text": [
            "100%|██████████| 3/3 [00:00<00:00, 247.35it/s]\n",
            "100%|██████████| 3/3 [00:00<00:00, 154.78it/s]\n"
          ]
        },
        {
          "output_type": "stream",
          "name": "stdout",
          "text": [
            "1 0 40\n"
          ]
        },
        {
          "output_type": "stream",
          "name": "stderr",
          "text": [
            "100%|██████████| 3/3 [00:00<00:00, 177.25it/s]\n",
            "100%|██████████| 3/3 [00:00<00:00, 114.30it/s]\n"
          ]
        },
        {
          "output_type": "stream",
          "name": "stdout",
          "text": [
            "1 0 41\n"
          ]
        },
        {
          "output_type": "stream",
          "name": "stderr",
          "text": [
            "100%|██████████| 3/3 [00:00<00:00, 116.37it/s]\n",
            "100%|██████████| 3/3 [00:00<00:00, 221.96it/s]\n"
          ]
        },
        {
          "output_type": "stream",
          "name": "stdout",
          "text": [
            "1 0 42\n"
          ]
        },
        {
          "output_type": "stream",
          "name": "stderr",
          "text": [
            "100%|██████████| 3/3 [00:00<00:00, 135.45it/s]\n",
            "100%|██████████| 3/3 [00:00<00:00, 112.40it/s]\n"
          ]
        },
        {
          "output_type": "stream",
          "name": "stdout",
          "text": [
            "1 0 43\n"
          ]
        },
        {
          "output_type": "stream",
          "name": "stderr",
          "text": [
            "100%|██████████| 3/3 [00:00<00:00, 166.89it/s]\n",
            "100%|██████████| 3/3 [00:00<00:00, 273.04it/s]\n"
          ]
        },
        {
          "output_type": "stream",
          "name": "stdout",
          "text": [
            "1 0 44\n"
          ]
        },
        {
          "output_type": "stream",
          "name": "stderr",
          "text": [
            "100%|██████████| 3/3 [00:00<00:00, 353.17it/s]\n",
            "100%|██████████| 3/3 [00:00<00:00, 272.16it/s]\n"
          ]
        },
        {
          "output_type": "stream",
          "name": "stdout",
          "text": [
            "1 0 45\n"
          ]
        },
        {
          "output_type": "stream",
          "name": "stderr",
          "text": [
            "100%|██████████| 3/3 [00:00<00:00, 177.54it/s]\n",
            "100%|██████████| 3/3 [00:00<00:00, 174.13it/s]\n"
          ]
        },
        {
          "output_type": "stream",
          "name": "stdout",
          "text": [
            "1 0 46\n"
          ]
        },
        {
          "output_type": "stream",
          "name": "stderr",
          "text": [
            "100%|██████████| 3/3 [00:00<00:00, 182.55it/s]\n",
            "100%|██████████| 3/3 [00:00<00:00, 195.40it/s]\n"
          ]
        },
        {
          "output_type": "stream",
          "name": "stdout",
          "text": [
            "1 0 47\n"
          ]
        },
        {
          "output_type": "stream",
          "name": "stderr",
          "text": [
            "100%|██████████| 3/3 [00:00<00:00, 81.05it/s]\n",
            "100%|██████████| 3/3 [00:00<00:00, 63.83it/s]\n"
          ]
        },
        {
          "output_type": "stream",
          "name": "stdout",
          "text": [
            "1 0 48\n"
          ]
        },
        {
          "output_type": "stream",
          "name": "stderr",
          "text": [
            "100%|██████████| 3/3 [00:00<00:00, 82.27it/s]\n",
            "100%|██████████| 3/3 [00:00<00:00, 167.78it/s]\n"
          ]
        },
        {
          "output_type": "stream",
          "name": "stdout",
          "text": [
            "1 0 49\n"
          ]
        },
        {
          "output_type": "stream",
          "name": "stderr",
          "text": [
            "100%|██████████| 3/3 [00:00<00:00, 186.62it/s]\n",
            "100%|██████████| 3/3 [00:00<00:00, 132.39it/s]\n"
          ]
        },
        {
          "output_type": "stream",
          "name": "stdout",
          "text": [
            "1 0 50\n"
          ]
        },
        {
          "output_type": "stream",
          "name": "stderr",
          "text": [
            "100%|██████████| 3/3 [00:00<00:00, 167.90it/s]\n",
            "100%|██████████| 3/3 [00:00<00:00, 99.70it/s]\n"
          ]
        },
        {
          "output_type": "stream",
          "name": "stdout",
          "text": [
            "1 0 51\n"
          ]
        },
        {
          "output_type": "stream",
          "name": "stderr",
          "text": [
            "100%|██████████| 3/3 [00:00<00:00, 112.20it/s]\n",
            "100%|██████████| 3/3 [00:00<00:00, 225.35it/s]\n"
          ]
        },
        {
          "output_type": "stream",
          "name": "stdout",
          "text": [
            "1 0 52\n"
          ]
        },
        {
          "output_type": "stream",
          "name": "stderr",
          "text": [
            "100%|██████████| 3/3 [00:00<00:00, 134.62it/s]\n",
            "100%|██████████| 3/3 [00:00<00:00, 274.57it/s]\n"
          ]
        },
        {
          "output_type": "stream",
          "name": "stdout",
          "text": [
            "1 0 53\n"
          ]
        },
        {
          "output_type": "stream",
          "name": "stderr",
          "text": [
            "100%|██████████| 3/3 [00:00<00:00, 192.88it/s]\n",
            "100%|██████████| 3/3 [00:00<00:00, 150.64it/s]\n"
          ]
        },
        {
          "output_type": "stream",
          "name": "stdout",
          "text": [
            "1 0 54\n"
          ]
        },
        {
          "output_type": "stream",
          "name": "stderr",
          "text": [
            "100%|██████████| 3/3 [00:00<00:00, 99.02it/s]\n",
            "100%|██████████| 3/3 [00:00<00:00, 99.03it/s]\n"
          ]
        },
        {
          "output_type": "stream",
          "name": "stdout",
          "text": [
            "1 0 55\n"
          ]
        },
        {
          "output_type": "stream",
          "name": "stderr",
          "text": [
            "100%|██████████| 3/3 [00:00<00:00, 264.85it/s]\n",
            "100%|██████████| 3/3 [00:00<00:00, 451.08it/s]\n"
          ]
        },
        {
          "output_type": "stream",
          "name": "stdout",
          "text": [
            "1 0 56\n"
          ]
        },
        {
          "output_type": "stream",
          "name": "stderr",
          "text": [
            "100%|██████████| 3/3 [00:00<00:00, 322.91it/s]\n",
            "100%|██████████| 3/3 [00:00<00:00, 250.50it/s]\n"
          ]
        },
        {
          "output_type": "stream",
          "name": "stdout",
          "text": [
            "1 0 57\n"
          ]
        },
        {
          "output_type": "stream",
          "name": "stderr",
          "text": [
            "100%|██████████| 3/3 [00:00<00:00, 184.49it/s]\n",
            "100%|██████████| 3/3 [00:00<00:00, 103.49it/s]\n"
          ]
        },
        {
          "output_type": "stream",
          "name": "stdout",
          "text": [
            "1 0 58\n"
          ]
        },
        {
          "output_type": "stream",
          "name": "stderr",
          "text": [
            "100%|██████████| 3/3 [00:00<00:00, 147.88it/s]\n",
            "100%|██████████| 3/3 [00:00<00:00, 206.60it/s]\n"
          ]
        },
        {
          "output_type": "stream",
          "name": "stdout",
          "text": [
            "1 0 59\n"
          ]
        },
        {
          "output_type": "stream",
          "name": "stderr",
          "text": [
            "100%|██████████| 3/3 [00:00<00:00, 142.65it/s]\n",
            "100%|██████████| 3/3 [00:00<00:00, 170.47it/s]\n"
          ]
        },
        {
          "output_type": "stream",
          "name": "stdout",
          "text": [
            "1 0 60\n"
          ]
        },
        {
          "output_type": "stream",
          "name": "stderr",
          "text": [
            "100%|██████████| 3/3 [00:00<00:00, 231.55it/s]\n",
            "100%|██████████| 3/3 [00:00<00:00, 117.46it/s]\n"
          ]
        },
        {
          "output_type": "stream",
          "name": "stdout",
          "text": [
            "1 0 61\n"
          ]
        },
        {
          "output_type": "stream",
          "name": "stderr",
          "text": [
            "100%|██████████| 3/3 [00:00<00:00, 314.00it/s]\n",
            "100%|██████████| 3/3 [00:00<00:00, 313.26it/s]\n"
          ]
        },
        {
          "output_type": "stream",
          "name": "stdout",
          "text": [
            "1 0 62\n"
          ]
        },
        {
          "output_type": "stream",
          "name": "stderr",
          "text": [
            "100%|██████████| 3/3 [00:00<00:00, 233.54it/s]\n",
            "100%|██████████| 3/3 [00:00<00:00, 214.13it/s]\n"
          ]
        },
        {
          "output_type": "stream",
          "name": "stdout",
          "text": [
            "1 0 63\n"
          ]
        },
        {
          "output_type": "stream",
          "name": "stderr",
          "text": [
            "100%|██████████| 3/3 [00:00<00:00, 97.52it/s]\n",
            "100%|██████████| 3/3 [00:00<00:00, 124.50it/s]\n"
          ]
        },
        {
          "output_type": "stream",
          "name": "stdout",
          "text": [
            "1 0 64\n"
          ]
        },
        {
          "output_type": "stream",
          "name": "stderr",
          "text": [
            "100%|██████████| 3/3 [00:00<00:00, 181.41it/s]\n",
            "100%|██████████| 3/3 [00:00<00:00, 169.46it/s]\n"
          ]
        },
        {
          "output_type": "stream",
          "name": "stdout",
          "text": [
            "1 0 65\n"
          ]
        },
        {
          "output_type": "stream",
          "name": "stderr",
          "text": [
            "100%|██████████| 3/3 [00:00<00:00, 340.34it/s]\n",
            "100%|██████████| 3/3 [00:00<00:00, 301.84it/s]\n"
          ]
        },
        {
          "output_type": "stream",
          "name": "stdout",
          "text": [
            "1 0 66\n"
          ]
        },
        {
          "output_type": "stream",
          "name": "stderr",
          "text": [
            "100%|██████████| 3/3 [00:00<00:00, 122.54it/s]\n",
            "100%|██████████| 3/3 [00:00<00:00, 201.10it/s]\n"
          ]
        },
        {
          "output_type": "stream",
          "name": "stdout",
          "text": [
            "1 0 67\n"
          ]
        },
        {
          "output_type": "stream",
          "name": "stderr",
          "text": [
            "100%|██████████| 3/3 [00:00<00:00, 53.42it/s]\n",
            "100%|██████████| 3/3 [00:00<00:00, 178.66it/s]\n"
          ]
        },
        {
          "output_type": "stream",
          "name": "stdout",
          "text": [
            "1 0 68\n"
          ]
        },
        {
          "output_type": "stream",
          "name": "stderr",
          "text": [
            "100%|██████████| 3/3 [00:00<00:00, 143.60it/s]\n",
            "100%|██████████| 3/3 [00:00<00:00, 131.31it/s]\n"
          ]
        },
        {
          "output_type": "stream",
          "name": "stdout",
          "text": [
            "1 0 69\n"
          ]
        },
        {
          "output_type": "stream",
          "name": "stderr",
          "text": [
            "100%|██████████| 3/3 [00:00<00:00, 128.48it/s]\n",
            "100%|██████████| 3/3 [00:00<00:00, 190.27it/s]\n"
          ]
        },
        {
          "output_type": "stream",
          "name": "stdout",
          "text": [
            "1 0 70\n"
          ]
        },
        {
          "output_type": "stream",
          "name": "stderr",
          "text": [
            "100%|██████████| 3/3 [00:00<00:00, 92.63it/s]\n",
            "100%|██████████| 3/3 [00:00<00:00, 102.72it/s]\n"
          ]
        },
        {
          "output_type": "stream",
          "name": "stdout",
          "text": [
            "1 0 71\n"
          ]
        },
        {
          "output_type": "stream",
          "name": "stderr",
          "text": [
            "100%|██████████| 3/3 [00:00<00:00, 67.52it/s]\n",
            "100%|██████████| 3/3 [00:00<00:00, 70.89it/s]\n"
          ]
        },
        {
          "output_type": "stream",
          "name": "stdout",
          "text": [
            "1 0 72\n"
          ]
        },
        {
          "output_type": "stream",
          "name": "stderr",
          "text": [
            "100%|██████████| 3/3 [00:00<00:00, 157.75it/s]\n",
            "100%|██████████| 3/3 [00:00<00:00, 170.06it/s]\n"
          ]
        },
        {
          "output_type": "stream",
          "name": "stdout",
          "text": [
            "1 0 73\n"
          ]
        },
        {
          "output_type": "stream",
          "name": "stderr",
          "text": [
            "100%|██████████| 3/3 [00:00<00:00, 119.09it/s]\n",
            "100%|██████████| 3/3 [00:00<00:00, 171.51it/s]\n"
          ]
        },
        {
          "output_type": "stream",
          "name": "stdout",
          "text": [
            "1 0 74\n"
          ]
        },
        {
          "output_type": "stream",
          "name": "stderr",
          "text": [
            "100%|██████████| 3/3 [00:00<00:00, 176.57it/s]\n",
            "100%|██████████| 3/3 [00:00<00:00, 119.70it/s]\n"
          ]
        },
        {
          "output_type": "stream",
          "name": "stdout",
          "text": [
            "1 0 75\n"
          ]
        },
        {
          "output_type": "stream",
          "name": "stderr",
          "text": [
            "100%|██████████| 3/3 [00:00<00:00, 150.71it/s]\n",
            "100%|██████████| 3/3 [00:00<00:00, 114.96it/s]\n"
          ]
        },
        {
          "output_type": "stream",
          "name": "stdout",
          "text": [
            "1 0 76\n"
          ]
        },
        {
          "output_type": "stream",
          "name": "stderr",
          "text": [
            "100%|██████████| 3/3 [00:00<00:00, 89.68it/s]\n",
            "100%|██████████| 3/3 [00:00<00:00, 162.76it/s]\n"
          ]
        },
        {
          "output_type": "stream",
          "name": "stdout",
          "text": [
            "1 0 77\n"
          ]
        },
        {
          "output_type": "stream",
          "name": "stderr",
          "text": [
            "100%|██████████| 3/3 [00:00<00:00, 161.70it/s]\n",
            "100%|██████████| 3/3 [00:00<00:00, 183.03it/s]\n"
          ]
        },
        {
          "output_type": "stream",
          "name": "stdout",
          "text": [
            "1 0 78\n"
          ]
        },
        {
          "output_type": "stream",
          "name": "stderr",
          "text": [
            "100%|██████████| 3/3 [00:00<00:00, 163.27it/s]\n",
            "100%|██████████| 3/3 [00:00<00:00, 179.73it/s]\n"
          ]
        },
        {
          "output_type": "stream",
          "name": "stdout",
          "text": [
            "1 0 79\n"
          ]
        },
        {
          "output_type": "stream",
          "name": "stderr",
          "text": [
            "100%|██████████| 3/3 [00:00<00:00, 157.64it/s]\n",
            "100%|██████████| 3/3 [00:00<00:00, 115.14it/s]\n"
          ]
        },
        {
          "output_type": "stream",
          "name": "stdout",
          "text": [
            "1 0 80\n"
          ]
        },
        {
          "output_type": "stream",
          "name": "stderr",
          "text": [
            "100%|██████████| 3/3 [00:00<00:00, 124.24it/s]\n",
            "100%|██████████| 3/3 [00:00<00:00, 129.09it/s]\n"
          ]
        },
        {
          "output_type": "stream",
          "name": "stdout",
          "text": [
            "1 0 81\n"
          ]
        },
        {
          "output_type": "stream",
          "name": "stderr",
          "text": [
            "100%|██████████| 3/3 [00:00<00:00, 180.32it/s]\n",
            "100%|██████████| 3/3 [00:00<00:00, 144.82it/s]\n"
          ]
        },
        {
          "output_type": "stream",
          "name": "stdout",
          "text": [
            "1 0 82\n"
          ]
        },
        {
          "output_type": "stream",
          "name": "stderr",
          "text": [
            "100%|██████████| 3/3 [00:00<00:00, 114.82it/s]\n",
            "100%|██████████| 3/3 [00:00<00:00, 102.58it/s]\n"
          ]
        },
        {
          "output_type": "stream",
          "name": "stdout",
          "text": [
            "1 0 83\n"
          ]
        },
        {
          "output_type": "stream",
          "name": "stderr",
          "text": [
            "100%|██████████| 3/3 [00:00<00:00, 179.38it/s]\n",
            "100%|██████████| 3/3 [00:00<00:00, 138.81it/s]\n"
          ]
        },
        {
          "output_type": "stream",
          "name": "stdout",
          "text": [
            "1 0 84\n"
          ]
        },
        {
          "output_type": "stream",
          "name": "stderr",
          "text": [
            "100%|██████████| 3/3 [00:00<00:00, 198.93it/s]\n",
            "100%|██████████| 3/3 [00:00<00:00, 116.99it/s]\n"
          ]
        },
        {
          "output_type": "stream",
          "name": "stdout",
          "text": [
            "1 0 85\n"
          ]
        },
        {
          "output_type": "stream",
          "name": "stderr",
          "text": [
            "100%|██████████| 3/3 [00:00<00:00, 151.34it/s]\n",
            "100%|██████████| 3/3 [00:00<00:00, 138.50it/s]\n"
          ]
        },
        {
          "output_type": "stream",
          "name": "stdout",
          "text": [
            "1 0 86\n"
          ]
        },
        {
          "output_type": "stream",
          "name": "stderr",
          "text": [
            "100%|██████████| 3/3 [00:00<00:00, 133.21it/s]\n",
            "100%|██████████| 3/3 [00:00<00:00, 181.47it/s]\n"
          ]
        },
        {
          "output_type": "stream",
          "name": "stdout",
          "text": [
            "1 0 87\n"
          ]
        },
        {
          "output_type": "stream",
          "name": "stderr",
          "text": [
            "100%|██████████| 3/3 [00:00<00:00, 93.19it/s]\n",
            "100%|██████████| 3/3 [00:00<00:00, 192.76it/s]\n"
          ]
        },
        {
          "output_type": "stream",
          "name": "stdout",
          "text": [
            "1 0 88\n"
          ]
        },
        {
          "output_type": "stream",
          "name": "stderr",
          "text": [
            "100%|██████████| 3/3 [00:00<00:00, 69.48it/s]\n",
            "100%|██████████| 3/3 [00:00<00:00, 139.80it/s]\n"
          ]
        },
        {
          "output_type": "stream",
          "name": "stdout",
          "text": [
            "1 0 89\n"
          ]
        },
        {
          "output_type": "stream",
          "name": "stderr",
          "text": [
            "100%|██████████| 3/3 [00:00<00:00, 122.32it/s]\n",
            "100%|██████████| 3/3 [00:00<00:00, 90.69it/s]\n"
          ]
        },
        {
          "output_type": "stream",
          "name": "stdout",
          "text": [
            "1 0 90\n"
          ]
        },
        {
          "output_type": "stream",
          "name": "stderr",
          "text": [
            "100%|██████████| 3/3 [00:00<00:00, 164.17it/s]\n",
            "100%|██████████| 3/3 [00:00<00:00, 181.47it/s]\n"
          ]
        },
        {
          "output_type": "stream",
          "name": "stdout",
          "text": [
            "1 0 91\n"
          ]
        },
        {
          "output_type": "stream",
          "name": "stderr",
          "text": [
            "100%|██████████| 3/3 [00:00<00:00, 93.49it/s]\n",
            "100%|██████████| 3/3 [00:00<00:00, 67.70it/s]\n"
          ]
        },
        {
          "output_type": "stream",
          "name": "stdout",
          "text": [
            "1 0 92\n"
          ]
        },
        {
          "output_type": "stream",
          "name": "stderr",
          "text": [
            "100%|██████████| 3/3 [00:00<00:00, 170.17it/s]\n",
            "100%|██████████| 3/3 [00:00<00:00, 174.18it/s]\n"
          ]
        },
        {
          "output_type": "stream",
          "name": "stdout",
          "text": [
            "1 0 93\n"
          ]
        },
        {
          "output_type": "stream",
          "name": "stderr",
          "text": [
            "100%|██████████| 3/3 [00:00<00:00, 226.87it/s]\n",
            "100%|██████████| 3/3 [00:00<00:00, 249.10it/s]\n"
          ]
        },
        {
          "output_type": "stream",
          "name": "stdout",
          "text": [
            "1 0 94\n"
          ]
        },
        {
          "output_type": "stream",
          "name": "stderr",
          "text": [
            "100%|██████████| 3/3 [00:00<00:00, 180.16it/s]\n",
            "100%|██████████| 3/3 [00:00<00:00, 197.83it/s]\n"
          ]
        },
        {
          "output_type": "stream",
          "name": "stdout",
          "text": [
            "1 0 95\n"
          ]
        },
        {
          "output_type": "stream",
          "name": "stderr",
          "text": [
            "100%|██████████| 3/3 [00:00<00:00, 152.74it/s]\n",
            "100%|██████████| 3/3 [00:00<00:00, 149.58it/s]\n"
          ]
        },
        {
          "output_type": "stream",
          "name": "stdout",
          "text": [
            "1 0 96\n"
          ]
        },
        {
          "output_type": "stream",
          "name": "stderr",
          "text": [
            "100%|██████████| 3/3 [00:00<00:00, 159.37it/s]\n",
            "100%|██████████| 3/3 [00:00<00:00, 159.10it/s]\n"
          ]
        },
        {
          "output_type": "stream",
          "name": "stdout",
          "text": [
            "1 0 97\n"
          ]
        },
        {
          "output_type": "stream",
          "name": "stderr",
          "text": [
            "100%|██████████| 3/3 [00:00<00:00, 170.99it/s]\n",
            "100%|██████████| 3/3 [00:00<00:00, 178.65it/s]\n"
          ]
        },
        {
          "output_type": "stream",
          "name": "stdout",
          "text": [
            "1 0 98\n"
          ]
        },
        {
          "output_type": "stream",
          "name": "stderr",
          "text": [
            "100%|██████████| 3/3 [00:00<00:00, 169.69it/s]\n",
            "100%|██████████| 3/3 [00:00<00:00, 170.54it/s]\n"
          ]
        },
        {
          "output_type": "stream",
          "name": "stdout",
          "text": [
            "1 0 99\n"
          ]
        },
        {
          "output_type": "stream",
          "name": "stderr",
          "text": [
            "100%|██████████| 3/3 [00:00<00:00, 163.24it/s]\n",
            "100%|██████████| 3/3 [00:00<00:00, 170.62it/s]\n"
          ]
        },
        {
          "output_type": "stream",
          "name": "stdout",
          "text": [
            "1 1 0\n"
          ]
        },
        {
          "output_type": "stream",
          "name": "stderr",
          "text": [
            "100%|██████████| 3/3 [00:00<00:00, 369.64it/s]\n",
            "100%|██████████| 3/3 [00:00<00:00, 166.77it/s]\n"
          ]
        },
        {
          "output_type": "stream",
          "name": "stdout",
          "text": [
            "1 1 1\n"
          ]
        },
        {
          "output_type": "stream",
          "name": "stderr",
          "text": [
            "100%|██████████| 3/3 [00:00<00:00, 173.83it/s]\n",
            "100%|██████████| 3/3 [00:00<00:00, 181.29it/s]\n"
          ]
        },
        {
          "output_type": "stream",
          "name": "stdout",
          "text": [
            "1 1 2\n"
          ]
        },
        {
          "output_type": "stream",
          "name": "stderr",
          "text": [
            "100%|██████████| 3/3 [00:00<00:00, 171.27it/s]\n",
            "100%|██████████| 3/3 [00:00<00:00, 173.36it/s]\n"
          ]
        },
        {
          "output_type": "stream",
          "name": "stdout",
          "text": [
            "1 1 3\n"
          ]
        },
        {
          "output_type": "stream",
          "name": "stderr",
          "text": [
            "100%|██████████| 3/3 [00:00<00:00, 140.49it/s]\n",
            "100%|██████████| 3/3 [00:00<00:00, 302.27it/s]\n"
          ]
        },
        {
          "output_type": "stream",
          "name": "stdout",
          "text": [
            "1 1 4\n"
          ]
        },
        {
          "output_type": "stream",
          "name": "stderr",
          "text": [
            "100%|██████████| 3/3 [00:00<00:00, 189.97it/s]\n",
            "100%|██████████| 3/3 [00:00<00:00, 190.31it/s]\n"
          ]
        },
        {
          "output_type": "stream",
          "name": "stdout",
          "text": [
            "1 1 5\n"
          ]
        },
        {
          "output_type": "stream",
          "name": "stderr",
          "text": [
            "100%|██████████| 3/3 [00:00<00:00, 357.65it/s]\n",
            "100%|██████████| 3/3 [00:00<00:00, 460.24it/s]\n"
          ]
        },
        {
          "output_type": "stream",
          "name": "stdout",
          "text": [
            "1 1 6\n"
          ]
        },
        {
          "output_type": "stream",
          "name": "stderr",
          "text": [
            "100%|██████████| 3/3 [00:00<00:00, 185.63it/s]\n",
            "100%|██████████| 3/3 [00:00<00:00, 185.81it/s]\n"
          ]
        },
        {
          "output_type": "stream",
          "name": "stdout",
          "text": [
            "1 1 7\n"
          ]
        },
        {
          "output_type": "stream",
          "name": "stderr",
          "text": [
            "100%|██████████| 3/3 [00:00<00:00, 222.60it/s]\n",
            "100%|██████████| 3/3 [00:00<00:00, 199.99it/s]\n"
          ]
        },
        {
          "output_type": "stream",
          "name": "stdout",
          "text": [
            "1 1 8\n"
          ]
        },
        {
          "output_type": "stream",
          "name": "stderr",
          "text": [
            "100%|██████████| 3/3 [00:00<00:00, 78.96it/s]\n",
            "100%|██████████| 3/3 [00:00<00:00, 108.28it/s]\n"
          ]
        },
        {
          "output_type": "stream",
          "name": "stdout",
          "text": [
            "1 1 9\n"
          ]
        },
        {
          "output_type": "stream",
          "name": "stderr",
          "text": [
            "100%|██████████| 3/3 [00:00<00:00, 404.93it/s]\n",
            "100%|██████████| 3/3 [00:00<00:00, 404.75it/s]\n"
          ]
        },
        {
          "output_type": "stream",
          "name": "stdout",
          "text": [
            "1 1 10\n"
          ]
        },
        {
          "output_type": "stream",
          "name": "stderr",
          "text": [
            "100%|██████████| 3/3 [00:00<00:00, 152.95it/s]\n",
            "100%|██████████| 3/3 [00:00<00:00, 217.12it/s]\n"
          ]
        },
        {
          "output_type": "stream",
          "name": "stdout",
          "text": [
            "1 1 11\n"
          ]
        },
        {
          "output_type": "stream",
          "name": "stderr",
          "text": [
            "100%|██████████| 3/3 [00:00<00:00, 129.57it/s]\n",
            "100%|██████████| 3/3 [00:00<00:00, 131.27it/s]\n"
          ]
        },
        {
          "output_type": "stream",
          "name": "stdout",
          "text": [
            "1 1 12\n"
          ]
        },
        {
          "output_type": "stream",
          "name": "stderr",
          "text": [
            "100%|██████████| 3/3 [00:00<00:00, 305.35it/s]\n",
            "100%|██████████| 3/3 [00:00<00:00, 124.83it/s]\n"
          ]
        },
        {
          "output_type": "stream",
          "name": "stdout",
          "text": [
            "1 1 13\n"
          ]
        },
        {
          "output_type": "stream",
          "name": "stderr",
          "text": [
            "100%|██████████| 3/3 [00:00<00:00, 201.39it/s]\n",
            "100%|██████████| 3/3 [00:00<00:00, 168.37it/s]\n"
          ]
        },
        {
          "output_type": "stream",
          "name": "stdout",
          "text": [
            "1 1 14\n"
          ]
        },
        {
          "output_type": "stream",
          "name": "stderr",
          "text": [
            "100%|██████████| 3/3 [00:00<00:00, 161.91it/s]\n",
            "100%|██████████| 3/3 [00:00<00:00, 201.05it/s]\n"
          ]
        },
        {
          "output_type": "stream",
          "name": "stdout",
          "text": [
            "1 1 15\n"
          ]
        },
        {
          "output_type": "stream",
          "name": "stderr",
          "text": [
            "100%|██████████| 3/3 [00:00<00:00, 154.68it/s]\n",
            "100%|██████████| 3/3 [00:00<00:00, 313.79it/s]\n"
          ]
        },
        {
          "output_type": "stream",
          "name": "stdout",
          "text": [
            "1 1 16\n"
          ]
        },
        {
          "output_type": "stream",
          "name": "stderr",
          "text": [
            "100%|██████████| 3/3 [00:00<00:00, 145.26it/s]\n",
            "100%|██████████| 3/3 [00:00<00:00, 156.19it/s]\n"
          ]
        },
        {
          "output_type": "stream",
          "name": "stdout",
          "text": [
            "1 1 17\n"
          ]
        },
        {
          "output_type": "stream",
          "name": "stderr",
          "text": [
            "100%|██████████| 3/3 [00:00<00:00, 365.06it/s]\n",
            "100%|██████████| 3/3 [00:00<00:00, 256.78it/s]\n"
          ]
        },
        {
          "output_type": "stream",
          "name": "stdout",
          "text": [
            "1 1 18\n"
          ]
        },
        {
          "output_type": "stream",
          "name": "stderr",
          "text": [
            "100%|██████████| 3/3 [00:00<00:00, 188.19it/s]\n",
            "100%|██████████| 3/3 [00:00<00:00, 259.01it/s]\n"
          ]
        },
        {
          "output_type": "stream",
          "name": "stdout",
          "text": [
            "1 1 19\n"
          ]
        },
        {
          "output_type": "stream",
          "name": "stderr",
          "text": [
            "100%|██████████| 3/3 [00:00<00:00, 193.69it/s]\n",
            "100%|██████████| 3/3 [00:00<00:00, 243.28it/s]\n"
          ]
        },
        {
          "output_type": "stream",
          "name": "stdout",
          "text": [
            "1 1 20\n"
          ]
        },
        {
          "output_type": "stream",
          "name": "stderr",
          "text": [
            "100%|██████████| 3/3 [00:00<00:00, 217.39it/s]\n",
            "100%|██████████| 3/3 [00:00<00:00, 251.05it/s]\n"
          ]
        },
        {
          "output_type": "stream",
          "name": "stdout",
          "text": [
            "1 1 21\n"
          ]
        },
        {
          "output_type": "stream",
          "name": "stderr",
          "text": [
            "100%|██████████| 3/3 [00:00<00:00, 151.13it/s]\n",
            "100%|██████████| 3/3 [00:00<00:00, 86.79it/s]\n"
          ]
        },
        {
          "output_type": "stream",
          "name": "stdout",
          "text": [
            "1 1 22\n"
          ]
        },
        {
          "output_type": "stream",
          "name": "stderr",
          "text": [
            "100%|██████████| 3/3 [00:00<00:00, 197.31it/s]\n",
            "100%|██████████| 3/3 [00:00<00:00, 185.18it/s]\n"
          ]
        },
        {
          "output_type": "stream",
          "name": "stdout",
          "text": [
            "1 1 23\n"
          ]
        },
        {
          "output_type": "stream",
          "name": "stderr",
          "text": [
            "100%|██████████| 3/3 [00:00<00:00, 136.75it/s]\n",
            "100%|██████████| 3/3 [00:00<00:00, 127.01it/s]\n"
          ]
        },
        {
          "output_type": "stream",
          "name": "stdout",
          "text": [
            "1 1 24\n"
          ]
        },
        {
          "output_type": "stream",
          "name": "stderr",
          "text": [
            "100%|██████████| 3/3 [00:00<00:00, 208.39it/s]\n",
            "100%|██████████| 3/3 [00:00<00:00, 154.46it/s]\n"
          ]
        },
        {
          "output_type": "stream",
          "name": "stdout",
          "text": [
            "1 1 25\n"
          ]
        },
        {
          "output_type": "stream",
          "name": "stderr",
          "text": [
            "100%|██████████| 3/3 [00:00<00:00, 147.64it/s]\n",
            "100%|██████████| 3/3 [00:00<00:00, 145.27it/s]\n"
          ]
        },
        {
          "output_type": "stream",
          "name": "stdout",
          "text": [
            "1 1 26\n"
          ]
        },
        {
          "output_type": "stream",
          "name": "stderr",
          "text": [
            "100%|██████████| 3/3 [00:00<00:00, 163.00it/s]\n",
            "100%|██████████| 3/3 [00:00<00:00, 129.95it/s]\n"
          ]
        },
        {
          "output_type": "stream",
          "name": "stdout",
          "text": [
            "1 1 27\n"
          ]
        },
        {
          "output_type": "stream",
          "name": "stderr",
          "text": [
            "100%|██████████| 3/3 [00:00<00:00, 133.80it/s]\n",
            "100%|██████████| 3/3 [00:00<00:00, 130.73it/s]\n"
          ]
        },
        {
          "output_type": "stream",
          "name": "stdout",
          "text": [
            "1 1 28\n"
          ]
        },
        {
          "output_type": "stream",
          "name": "stderr",
          "text": [
            "100%|██████████| 3/3 [00:00<00:00, 201.00it/s]\n",
            "100%|██████████| 3/3 [00:00<00:00, 180.44it/s]\n"
          ]
        },
        {
          "output_type": "stream",
          "name": "stdout",
          "text": [
            "1 1 29\n"
          ]
        },
        {
          "output_type": "stream",
          "name": "stderr",
          "text": [
            "100%|██████████| 3/3 [00:00<00:00, 338.49it/s]\n",
            "100%|██████████| 3/3 [00:00<00:00, 187.79it/s]\n"
          ]
        },
        {
          "output_type": "stream",
          "name": "stdout",
          "text": [
            "1 1 30\n"
          ]
        },
        {
          "output_type": "stream",
          "name": "stderr",
          "text": [
            "100%|██████████| 3/3 [00:00<00:00, 111.72it/s]\n",
            "100%|██████████| 3/3 [00:00<00:00, 159.87it/s]\n"
          ]
        },
        {
          "output_type": "stream",
          "name": "stdout",
          "text": [
            "1 1 31\n"
          ]
        },
        {
          "output_type": "stream",
          "name": "stderr",
          "text": [
            "100%|██████████| 3/3 [00:00<00:00, 171.13it/s]\n",
            "100%|██████████| 3/3 [00:00<00:00, 101.16it/s]\n"
          ]
        },
        {
          "output_type": "stream",
          "name": "stdout",
          "text": [
            "1 1 32\n"
          ]
        },
        {
          "output_type": "stream",
          "name": "stderr",
          "text": [
            "100%|██████████| 3/3 [00:00<00:00, 397.77it/s]\n",
            "100%|██████████| 3/3 [00:00<00:00, 402.54it/s]\n"
          ]
        },
        {
          "output_type": "stream",
          "name": "stdout",
          "text": [
            "1 1 33\n"
          ]
        },
        {
          "output_type": "stream",
          "name": "stderr",
          "text": [
            "100%|██████████| 3/3 [00:00<00:00, 165.40it/s]\n",
            "100%|██████████| 3/3 [00:00<00:00, 167.66it/s]\n"
          ]
        },
        {
          "output_type": "stream",
          "name": "stdout",
          "text": [
            "1 1 34\n"
          ]
        },
        {
          "output_type": "stream",
          "name": "stderr",
          "text": [
            "100%|██████████| 3/3 [00:00<00:00, 203.81it/s]\n",
            "100%|██████████| 3/3 [00:00<00:00, 248.20it/s]\n"
          ]
        },
        {
          "output_type": "stream",
          "name": "stdout",
          "text": [
            "1 1 35\n"
          ]
        },
        {
          "output_type": "stream",
          "name": "stderr",
          "text": [
            "100%|██████████| 3/3 [00:00<00:00, 190.21it/s]\n",
            "100%|██████████| 3/3 [00:00<00:00, 268.84it/s]\n"
          ]
        },
        {
          "output_type": "stream",
          "name": "stdout",
          "text": [
            "1 1 36\n"
          ]
        },
        {
          "output_type": "stream",
          "name": "stderr",
          "text": [
            "100%|██████████| 3/3 [00:00<00:00, 143.30it/s]\n",
            "100%|██████████| 3/3 [00:00<00:00, 84.53it/s]\n"
          ]
        },
        {
          "output_type": "stream",
          "name": "stdout",
          "text": [
            "1 1 37\n"
          ]
        },
        {
          "output_type": "stream",
          "name": "stderr",
          "text": [
            "100%|██████████| 3/3 [00:00<00:00, 140.49it/s]\n",
            "100%|██████████| 3/3 [00:00<00:00, 92.53it/s]\n"
          ]
        },
        {
          "output_type": "stream",
          "name": "stdout",
          "text": [
            "1 1 38\n"
          ]
        },
        {
          "output_type": "stream",
          "name": "stderr",
          "text": [
            "100%|██████████| 3/3 [00:00<00:00, 257.77it/s]\n",
            "100%|██████████| 3/3 [00:00<00:00, 249.25it/s]\n"
          ]
        },
        {
          "output_type": "stream",
          "name": "stdout",
          "text": [
            "1 1 39\n"
          ]
        },
        {
          "output_type": "stream",
          "name": "stderr",
          "text": [
            "100%|██████████| 3/3 [00:00<00:00, 326.55it/s]\n",
            "100%|██████████| 3/3 [00:00<00:00, 202.57it/s]\n"
          ]
        },
        {
          "output_type": "stream",
          "name": "stdout",
          "text": [
            "1 1 40\n"
          ]
        },
        {
          "output_type": "stream",
          "name": "stderr",
          "text": [
            "100%|██████████| 3/3 [00:00<00:00, 165.62it/s]\n",
            "100%|██████████| 3/3 [00:00<00:00, 128.31it/s]\n"
          ]
        },
        {
          "output_type": "stream",
          "name": "stdout",
          "text": [
            "1 1 41\n"
          ]
        },
        {
          "output_type": "stream",
          "name": "stderr",
          "text": [
            "100%|██████████| 3/3 [00:00<00:00, 140.88it/s]\n",
            "100%|██████████| 3/3 [00:00<00:00, 250.37it/s]\n"
          ]
        },
        {
          "output_type": "stream",
          "name": "stdout",
          "text": [
            "1 1 42\n"
          ]
        },
        {
          "output_type": "stream",
          "name": "stderr",
          "text": [
            "100%|██████████| 3/3 [00:00<00:00, 197.38it/s]\n",
            "100%|██████████| 3/3 [00:00<00:00, 114.01it/s]\n"
          ]
        },
        {
          "output_type": "stream",
          "name": "stdout",
          "text": [
            "1 1 43\n"
          ]
        },
        {
          "output_type": "stream",
          "name": "stderr",
          "text": [
            "100%|██████████| 3/3 [00:00<00:00, 114.09it/s]\n",
            "100%|██████████| 3/3 [00:00<00:00, 192.89it/s]\n"
          ]
        },
        {
          "output_type": "stream",
          "name": "stdout",
          "text": [
            "1 1 44\n"
          ]
        },
        {
          "output_type": "stream",
          "name": "stderr",
          "text": [
            "100%|██████████| 3/3 [00:00<00:00, 197.12it/s]\n",
            "100%|██████████| 3/3 [00:00<00:00, 162.75it/s]\n"
          ]
        },
        {
          "output_type": "stream",
          "name": "stdout",
          "text": [
            "1 1 45\n"
          ]
        },
        {
          "output_type": "stream",
          "name": "stderr",
          "text": [
            "100%|██████████| 3/3 [00:00<00:00, 194.11it/s]\n",
            "100%|██████████| 3/3 [00:00<00:00, 110.74it/s]\n"
          ]
        },
        {
          "output_type": "stream",
          "name": "stdout",
          "text": [
            "1 1 46\n"
          ]
        },
        {
          "output_type": "stream",
          "name": "stderr",
          "text": [
            "100%|██████████| 3/3 [00:00<00:00, 206.90it/s]\n",
            "100%|██████████| 3/3 [00:00<00:00, 211.49it/s]\n"
          ]
        },
        {
          "output_type": "stream",
          "name": "stdout",
          "text": [
            "1 1 47\n"
          ]
        },
        {
          "output_type": "stream",
          "name": "stderr",
          "text": [
            "100%|██████████| 3/3 [00:00<00:00, 186.01it/s]\n",
            "100%|██████████| 3/3 [00:00<00:00, 271.52it/s]\n"
          ]
        },
        {
          "output_type": "stream",
          "name": "stdout",
          "text": [
            "1 1 48\n"
          ]
        },
        {
          "output_type": "stream",
          "name": "stderr",
          "text": [
            "100%|██████████| 3/3 [00:00<00:00, 201.23it/s]\n",
            "100%|██████████| 3/3 [00:00<00:00, 198.27it/s]\n"
          ]
        },
        {
          "output_type": "stream",
          "name": "stdout",
          "text": [
            "1 1 49\n"
          ]
        },
        {
          "output_type": "stream",
          "name": "stderr",
          "text": [
            "100%|██████████| 3/3 [00:00<00:00, 138.34it/s]\n",
            "100%|██████████| 3/3 [00:00<00:00, 270.28it/s]\n"
          ]
        },
        {
          "output_type": "stream",
          "name": "stdout",
          "text": [
            "1 1 50\n"
          ]
        },
        {
          "output_type": "stream",
          "name": "stderr",
          "text": [
            "100%|██████████| 3/3 [00:00<00:00, 392.17it/s]\n",
            "100%|██████████| 3/3 [00:00<00:00, 309.08it/s]\n"
          ]
        },
        {
          "output_type": "stream",
          "name": "stdout",
          "text": [
            "1 1 51\n"
          ]
        },
        {
          "output_type": "stream",
          "name": "stderr",
          "text": [
            "100%|██████████| 3/3 [00:00<00:00, 171.16it/s]\n",
            "100%|██████████| 3/3 [00:00<00:00, 169.20it/s]\n"
          ]
        },
        {
          "output_type": "stream",
          "name": "stdout",
          "text": [
            "1 1 52\n"
          ]
        },
        {
          "output_type": "stream",
          "name": "stderr",
          "text": [
            "100%|██████████| 3/3 [00:00<00:00, 92.89it/s]\n",
            "100%|██████████| 3/3 [00:00<00:00, 303.10it/s]\n"
          ]
        },
        {
          "output_type": "stream",
          "name": "stdout",
          "text": [
            "1 1 53\n"
          ]
        },
        {
          "output_type": "stream",
          "name": "stderr",
          "text": [
            "100%|██████████| 3/3 [00:00<00:00, 237.97it/s]\n",
            "100%|██████████| 3/3 [00:00<00:00, 412.76it/s]\n"
          ]
        },
        {
          "output_type": "stream",
          "name": "stdout",
          "text": [
            "1 1 54\n"
          ]
        },
        {
          "output_type": "stream",
          "name": "stderr",
          "text": [
            "100%|██████████| 3/3 [00:00<00:00, 161.53it/s]\n",
            "100%|██████████| 3/3 [00:00<00:00, 178.84it/s]\n"
          ]
        },
        {
          "output_type": "stream",
          "name": "stdout",
          "text": [
            "1 1 55\n"
          ]
        },
        {
          "output_type": "stream",
          "name": "stderr",
          "text": [
            "100%|██████████| 3/3 [00:00<00:00, 93.11it/s]\n",
            "100%|██████████| 3/3 [00:00<00:00, 150.27it/s]\n"
          ]
        },
        {
          "output_type": "stream",
          "name": "stdout",
          "text": [
            "1 1 56\n"
          ]
        },
        {
          "output_type": "stream",
          "name": "stderr",
          "text": [
            "100%|██████████| 3/3 [00:00<00:00, 196.43it/s]\n",
            "100%|██████████| 3/3 [00:00<00:00, 255.53it/s]\n"
          ]
        },
        {
          "output_type": "stream",
          "name": "stdout",
          "text": [
            "1 1 57\n"
          ]
        },
        {
          "output_type": "stream",
          "name": "stderr",
          "text": [
            "100%|██████████| 3/3 [00:00<00:00, 378.27it/s]\n",
            "100%|██████████| 3/3 [00:00<00:00, 399.93it/s]\n"
          ]
        },
        {
          "output_type": "stream",
          "name": "stdout",
          "text": [
            "1 1 58\n"
          ]
        },
        {
          "output_type": "stream",
          "name": "stderr",
          "text": [
            "100%|██████████| 3/3 [00:00<00:00, 178.69it/s]\n",
            "100%|██████████| 3/3 [00:00<00:00, 105.42it/s]\n"
          ]
        },
        {
          "output_type": "stream",
          "name": "stdout",
          "text": [
            "1 1 59\n"
          ]
        },
        {
          "output_type": "stream",
          "name": "stderr",
          "text": [
            "100%|██████████| 3/3 [00:00<00:00, 217.41it/s]\n",
            "100%|██████████| 3/3 [00:00<00:00, 140.89it/s]\n"
          ]
        },
        {
          "output_type": "stream",
          "name": "stdout",
          "text": [
            "1 1 60\n"
          ]
        },
        {
          "output_type": "stream",
          "name": "stderr",
          "text": [
            "100%|██████████| 3/3 [00:00<00:00, 136.18it/s]\n",
            "100%|██████████| 3/3 [00:00<00:00, 120.55it/s]\n"
          ]
        },
        {
          "output_type": "stream",
          "name": "stdout",
          "text": [
            "1 1 61\n"
          ]
        },
        {
          "output_type": "stream",
          "name": "stderr",
          "text": [
            "100%|██████████| 3/3 [00:00<00:00, 222.99it/s]\n",
            "100%|██████████| 3/3 [00:00<00:00, 164.48it/s]\n"
          ]
        },
        {
          "output_type": "stream",
          "name": "stdout",
          "text": [
            "1 1 62\n"
          ]
        },
        {
          "output_type": "stream",
          "name": "stderr",
          "text": [
            "100%|██████████| 3/3 [00:00<00:00, 173.00it/s]\n",
            "100%|██████████| 3/3 [00:00<00:00, 180.54it/s]\n"
          ]
        },
        {
          "output_type": "stream",
          "name": "stdout",
          "text": [
            "1 1 63\n"
          ]
        },
        {
          "output_type": "stream",
          "name": "stderr",
          "text": [
            "100%|██████████| 3/3 [00:00<00:00, 144.99it/s]\n",
            "100%|██████████| 3/3 [00:00<00:00, 175.99it/s]\n"
          ]
        },
        {
          "output_type": "stream",
          "name": "stdout",
          "text": [
            "1 1 64\n"
          ]
        },
        {
          "output_type": "stream",
          "name": "stderr",
          "text": [
            "100%|██████████| 3/3 [00:00<00:00, 192.46it/s]\n",
            "100%|██████████| 3/3 [00:00<00:00, 132.30it/s]\n"
          ]
        },
        {
          "output_type": "stream",
          "name": "stdout",
          "text": [
            "1 1 65\n"
          ]
        },
        {
          "output_type": "stream",
          "name": "stderr",
          "text": [
            "100%|██████████| 3/3 [00:00<00:00, 100.20it/s]\n",
            "100%|██████████| 3/3 [00:00<00:00, 197.61it/s]\n"
          ]
        },
        {
          "output_type": "stream",
          "name": "stdout",
          "text": [
            "1 1 66\n"
          ]
        },
        {
          "output_type": "stream",
          "name": "stderr",
          "text": [
            "100%|██████████| 3/3 [00:00<00:00, 97.95it/s]\n",
            "100%|██████████| 3/3 [00:00<00:00, 112.93it/s]\n"
          ]
        },
        {
          "output_type": "stream",
          "name": "stdout",
          "text": [
            "1 1 67\n"
          ]
        },
        {
          "output_type": "stream",
          "name": "stderr",
          "text": [
            "100%|██████████| 3/3 [00:00<00:00, 162.74it/s]\n",
            "100%|██████████| 3/3 [00:00<00:00, 152.86it/s]\n"
          ]
        },
        {
          "output_type": "stream",
          "name": "stdout",
          "text": [
            "1 1 68\n"
          ]
        },
        {
          "output_type": "stream",
          "name": "stderr",
          "text": [
            "100%|██████████| 3/3 [00:00<00:00, 365.51it/s]\n",
            "100%|██████████| 3/3 [00:00<00:00, 151.47it/s]\n"
          ]
        },
        {
          "output_type": "stream",
          "name": "stdout",
          "text": [
            "1 1 69\n"
          ]
        },
        {
          "output_type": "stream",
          "name": "stderr",
          "text": [
            "100%|██████████| 3/3 [00:00<00:00, 230.08it/s]\n",
            "100%|██████████| 3/3 [00:00<00:00, 272.87it/s]\n"
          ]
        },
        {
          "output_type": "stream",
          "name": "stdout",
          "text": [
            "1 1 70\n"
          ]
        },
        {
          "output_type": "stream",
          "name": "stderr",
          "text": [
            "100%|██████████| 3/3 [00:00<00:00, 352.22it/s]\n",
            "100%|██████████| 3/3 [00:00<00:00, 277.51it/s]\n"
          ]
        },
        {
          "output_type": "stream",
          "name": "stdout",
          "text": [
            "1 1 71\n"
          ]
        },
        {
          "output_type": "stream",
          "name": "stderr",
          "text": [
            "100%|██████████| 3/3 [00:00<00:00, 93.88it/s]\n",
            "100%|██████████| 3/3 [00:00<00:00, 83.67it/s]\n"
          ]
        },
        {
          "output_type": "stream",
          "name": "stdout",
          "text": [
            "1 1 72\n"
          ]
        },
        {
          "output_type": "stream",
          "name": "stderr",
          "text": [
            "100%|██████████| 3/3 [00:00<00:00, 137.36it/s]\n",
            "100%|██████████| 3/3 [00:00<00:00, 228.96it/s]\n"
          ]
        },
        {
          "output_type": "stream",
          "name": "stdout",
          "text": [
            "1 1 73\n"
          ]
        },
        {
          "output_type": "stream",
          "name": "stderr",
          "text": [
            "100%|██████████| 3/3 [00:00<00:00, 199.37it/s]\n",
            "100%|██████████| 3/3 [00:00<00:00, 189.77it/s]\n"
          ]
        },
        {
          "output_type": "stream",
          "name": "stdout",
          "text": [
            "1 1 74\n"
          ]
        },
        {
          "output_type": "stream",
          "name": "stderr",
          "text": [
            "100%|██████████| 3/3 [00:00<00:00, 70.19it/s]\n",
            "100%|██████████| 3/3 [00:00<00:00, 84.22it/s]\n"
          ]
        },
        {
          "output_type": "stream",
          "name": "stdout",
          "text": [
            "1 1 75\n"
          ]
        },
        {
          "output_type": "stream",
          "name": "stderr",
          "text": [
            "100%|██████████| 3/3 [00:00<00:00, 143.90it/s]\n",
            "100%|██████████| 3/3 [00:00<00:00, 125.38it/s]\n"
          ]
        },
        {
          "output_type": "stream",
          "name": "stdout",
          "text": [
            "1 1 76\n"
          ]
        },
        {
          "output_type": "stream",
          "name": "stderr",
          "text": [
            "100%|██████████| 3/3 [00:00<00:00, 199.11it/s]\n",
            "100%|██████████| 3/3 [00:00<00:00, 239.71it/s]\n"
          ]
        },
        {
          "output_type": "stream",
          "name": "stdout",
          "text": [
            "1 1 77\n"
          ]
        },
        {
          "output_type": "stream",
          "name": "stderr",
          "text": [
            "100%|██████████| 3/3 [00:00<00:00, 197.75it/s]\n",
            "100%|██████████| 3/3 [00:00<00:00, 220.06it/s]\n"
          ]
        },
        {
          "output_type": "stream",
          "name": "stdout",
          "text": [
            "1 1 78\n"
          ]
        },
        {
          "output_type": "stream",
          "name": "stderr",
          "text": [
            "100%|██████████| 3/3 [00:00<00:00, 196.72it/s]\n",
            "100%|██████████| 3/3 [00:00<00:00, 196.07it/s]\n"
          ]
        },
        {
          "output_type": "stream",
          "name": "stdout",
          "text": [
            "1 1 79\n"
          ]
        },
        {
          "output_type": "stream",
          "name": "stderr",
          "text": [
            "100%|██████████| 3/3 [00:00<00:00, 392.74it/s]\n",
            "100%|██████████| 3/3 [00:00<00:00, 130.13it/s]\n"
          ]
        },
        {
          "output_type": "stream",
          "name": "stdout",
          "text": [
            "1 1 80\n"
          ]
        },
        {
          "output_type": "stream",
          "name": "stderr",
          "text": [
            "100%|██████████| 3/3 [00:00<00:00, 438.44it/s]\n",
            "100%|██████████| 3/3 [00:00<00:00, 343.06it/s]\n"
          ]
        },
        {
          "output_type": "stream",
          "name": "stdout",
          "text": [
            "1 1 81\n"
          ]
        },
        {
          "output_type": "stream",
          "name": "stderr",
          "text": [
            "100%|██████████| 3/3 [00:00<00:00, 193.51it/s]\n",
            "100%|██████████| 3/3 [00:00<00:00, 187.10it/s]\n"
          ]
        },
        {
          "output_type": "stream",
          "name": "stdout",
          "text": [
            "1 1 82\n"
          ]
        },
        {
          "output_type": "stream",
          "name": "stderr",
          "text": [
            "100%|██████████| 3/3 [00:00<00:00, 257.32it/s]\n",
            "100%|██████████| 3/3 [00:00<00:00, 83.96it/s]\n"
          ]
        },
        {
          "output_type": "stream",
          "name": "stdout",
          "text": [
            "1 1 83\n"
          ]
        },
        {
          "output_type": "stream",
          "name": "stderr",
          "text": [
            "100%|██████████| 3/3 [00:00<00:00, 173.38it/s]\n",
            "100%|██████████| 3/3 [00:00<00:00, 172.63it/s]\n"
          ]
        },
        {
          "output_type": "stream",
          "name": "stdout",
          "text": [
            "1 1 84\n"
          ]
        },
        {
          "output_type": "stream",
          "name": "stderr",
          "text": [
            "100%|██████████| 3/3 [00:00<00:00, 127.61it/s]\n",
            "100%|██████████| 3/3 [00:00<00:00, 78.19it/s]\n"
          ]
        },
        {
          "output_type": "stream",
          "name": "stdout",
          "text": [
            "1 1 85\n"
          ]
        },
        {
          "output_type": "stream",
          "name": "stderr",
          "text": [
            "100%|██████████| 3/3 [00:00<00:00, 164.05it/s]\n",
            "100%|██████████| 3/3 [00:00<00:00, 293.68it/s]\n"
          ]
        },
        {
          "output_type": "stream",
          "name": "stdout",
          "text": [
            "1 1 86\n"
          ]
        },
        {
          "output_type": "stream",
          "name": "stderr",
          "text": [
            "100%|██████████| 3/3 [00:00<00:00, 233.86it/s]\n",
            "100%|██████████| 3/3 [00:00<00:00, 105.52it/s]\n"
          ]
        },
        {
          "output_type": "stream",
          "name": "stdout",
          "text": [
            "1 1 87\n"
          ]
        },
        {
          "output_type": "stream",
          "name": "stderr",
          "text": [
            "100%|██████████| 3/3 [00:00<00:00, 346.66it/s]\n",
            "100%|██████████| 3/3 [00:00<00:00, 197.79it/s]\n"
          ]
        },
        {
          "output_type": "stream",
          "name": "stdout",
          "text": [
            "1 1 88\n"
          ]
        },
        {
          "output_type": "stream",
          "name": "stderr",
          "text": [
            "100%|██████████| 3/3 [00:00<00:00, 114.25it/s]\n",
            "100%|██████████| 3/3 [00:00<00:00, 186.78it/s]\n"
          ]
        },
        {
          "output_type": "stream",
          "name": "stdout",
          "text": [
            "1 1 89\n"
          ]
        },
        {
          "output_type": "stream",
          "name": "stderr",
          "text": [
            "100%|██████████| 3/3 [00:00<00:00, 164.49it/s]\n",
            "100%|██████████| 3/3 [00:00<00:00, 164.09it/s]\n"
          ]
        },
        {
          "output_type": "stream",
          "name": "stdout",
          "text": [
            "1 1 90\n"
          ]
        },
        {
          "output_type": "stream",
          "name": "stderr",
          "text": [
            "100%|██████████| 3/3 [00:00<00:00, 168.78it/s]\n",
            "100%|██████████| 3/3 [00:00<00:00, 224.47it/s]\n"
          ]
        },
        {
          "output_type": "stream",
          "name": "stdout",
          "text": [
            "1 1 91\n"
          ]
        },
        {
          "output_type": "stream",
          "name": "stderr",
          "text": [
            "100%|██████████| 3/3 [00:00<00:00, 178.15it/s]\n",
            "100%|██████████| 3/3 [00:00<00:00, 183.44it/s]\n"
          ]
        },
        {
          "output_type": "stream",
          "name": "stdout",
          "text": [
            "1 1 92\n"
          ]
        },
        {
          "output_type": "stream",
          "name": "stderr",
          "text": [
            "100%|██████████| 3/3 [00:00<00:00, 311.20it/s]\n",
            "100%|██████████| 3/3 [00:00<00:00, 326.52it/s]\n"
          ]
        },
        {
          "output_type": "stream",
          "name": "stdout",
          "text": [
            "1 1 93\n"
          ]
        },
        {
          "output_type": "stream",
          "name": "stderr",
          "text": [
            "100%|██████████| 3/3 [00:00<00:00, 283.87it/s]\n",
            "100%|██████████| 3/3 [00:00<00:00, 240.78it/s]\n"
          ]
        },
        {
          "output_type": "stream",
          "name": "stdout",
          "text": [
            "1 1 94\n"
          ]
        },
        {
          "output_type": "stream",
          "name": "stderr",
          "text": [
            "100%|██████████| 3/3 [00:00<00:00, 108.88it/s]\n",
            "100%|██████████| 3/3 [00:00<00:00, 167.52it/s]\n"
          ]
        },
        {
          "output_type": "stream",
          "name": "stdout",
          "text": [
            "1 1 95\n"
          ]
        },
        {
          "output_type": "stream",
          "name": "stderr",
          "text": [
            "100%|██████████| 3/3 [00:00<00:00, 180.96it/s]\n",
            "100%|██████████| 3/3 [00:00<00:00, 181.37it/s]\n"
          ]
        },
        {
          "output_type": "stream",
          "name": "stdout",
          "text": [
            "1 1 96\n"
          ]
        },
        {
          "output_type": "stream",
          "name": "stderr",
          "text": [
            "100%|██████████| 3/3 [00:00<00:00, 178.12it/s]\n",
            "100%|██████████| 3/3 [00:00<00:00, 184.52it/s]\n"
          ]
        },
        {
          "output_type": "stream",
          "name": "stdout",
          "text": [
            "1 1 97\n"
          ]
        },
        {
          "output_type": "stream",
          "name": "stderr",
          "text": [
            "100%|██████████| 3/3 [00:00<00:00, 131.91it/s]\n",
            "100%|██████████| 3/3 [00:00<00:00, 181.14it/s]\n"
          ]
        },
        {
          "output_type": "stream",
          "name": "stdout",
          "text": [
            "1 1 98\n"
          ]
        },
        {
          "output_type": "stream",
          "name": "stderr",
          "text": [
            "100%|██████████| 3/3 [00:00<00:00, 196.60it/s]\n",
            "100%|██████████| 3/3 [00:00<00:00, 244.67it/s]\n"
          ]
        },
        {
          "output_type": "stream",
          "name": "stdout",
          "text": [
            "1 1 99\n"
          ]
        },
        {
          "output_type": "stream",
          "name": "stderr",
          "text": [
            "100%|██████████| 3/3 [00:00<00:00, 195.78it/s]\n",
            "100%|██████████| 3/3 [00:00<00:00, 327.96it/s]\n"
          ]
        },
        {
          "output_type": "stream",
          "name": "stdout",
          "text": [
            "1 2 0\n"
          ]
        },
        {
          "output_type": "stream",
          "name": "stderr",
          "text": [
            "100%|██████████| 3/3 [00:00<00:00, 136.17it/s]\n",
            "100%|██████████| 3/3 [00:00<00:00, 163.29it/s]\n"
          ]
        },
        {
          "output_type": "stream",
          "name": "stdout",
          "text": [
            "1 2 1\n"
          ]
        },
        {
          "output_type": "stream",
          "name": "stderr",
          "text": [
            "100%|██████████| 3/3 [00:00<00:00, 361.86it/s]\n",
            "100%|██████████| 3/3 [00:00<00:00, 390.43it/s]\n"
          ]
        },
        {
          "output_type": "stream",
          "name": "stdout",
          "text": [
            "1 2 2\n"
          ]
        },
        {
          "output_type": "stream",
          "name": "stderr",
          "text": [
            "100%|██████████| 3/3 [00:00<00:00, 215.48it/s]\n",
            "100%|██████████| 3/3 [00:00<00:00, 165.11it/s]\n"
          ]
        },
        {
          "output_type": "stream",
          "name": "stdout",
          "text": [
            "1 2 3\n"
          ]
        },
        {
          "output_type": "stream",
          "name": "stderr",
          "text": [
            "100%|██████████| 3/3 [00:00<00:00, 194.85it/s]\n",
            "100%|██████████| 3/3 [00:00<00:00, 96.99it/s]\n"
          ]
        },
        {
          "output_type": "stream",
          "name": "stdout",
          "text": [
            "1 2 4\n"
          ]
        },
        {
          "output_type": "stream",
          "name": "stderr",
          "text": [
            "100%|██████████| 3/3 [00:00<00:00, 328.54it/s]\n",
            "100%|██████████| 3/3 [00:00<00:00, 430.01it/s]\n"
          ]
        },
        {
          "output_type": "stream",
          "name": "stdout",
          "text": [
            "1 2 5\n"
          ]
        },
        {
          "output_type": "stream",
          "name": "stderr",
          "text": [
            "100%|██████████| 3/3 [00:00<00:00, 271.29it/s]\n",
            "100%|██████████| 3/3 [00:00<00:00, 259.38it/s]\n"
          ]
        },
        {
          "output_type": "stream",
          "name": "stdout",
          "text": [
            "1 2 6\n"
          ]
        },
        {
          "output_type": "stream",
          "name": "stderr",
          "text": [
            "100%|██████████| 3/3 [00:00<00:00, 126.83it/s]\n",
            "100%|██████████| 3/3 [00:00<00:00, 255.81it/s]\n"
          ]
        },
        {
          "output_type": "stream",
          "name": "stdout",
          "text": [
            "1 2 7\n"
          ]
        },
        {
          "output_type": "stream",
          "name": "stderr",
          "text": [
            "100%|██████████| 3/3 [00:00<00:00, 193.00it/s]\n",
            "100%|██████████| 3/3 [00:00<00:00, 270.74it/s]\n"
          ]
        },
        {
          "output_type": "stream",
          "name": "stdout",
          "text": [
            "1 2 8\n"
          ]
        },
        {
          "output_type": "stream",
          "name": "stderr",
          "text": [
            "100%|██████████| 3/3 [00:00<00:00, 164.36it/s]\n",
            "100%|██████████| 3/3 [00:00<00:00, 273.23it/s]\n"
          ]
        },
        {
          "output_type": "stream",
          "name": "stdout",
          "text": [
            "1 2 9\n"
          ]
        },
        {
          "output_type": "stream",
          "name": "stderr",
          "text": [
            "100%|██████████| 3/3 [00:00<00:00, 104.75it/s]\n",
            "100%|██████████| 3/3 [00:00<00:00, 415.31it/s]\n"
          ]
        },
        {
          "output_type": "stream",
          "name": "stdout",
          "text": [
            "1 2 10\n"
          ]
        },
        {
          "output_type": "stream",
          "name": "stderr",
          "text": [
            "100%|██████████| 3/3 [00:00<00:00, 126.36it/s]\n",
            "100%|██████████| 3/3 [00:00<00:00, 172.94it/s]\n"
          ]
        },
        {
          "output_type": "stream",
          "name": "stdout",
          "text": [
            "1 2 11\n"
          ]
        },
        {
          "output_type": "stream",
          "name": "stderr",
          "text": [
            "100%|██████████| 3/3 [00:00<00:00, 166.14it/s]\n",
            "100%|██████████| 3/3 [00:00<00:00, 253.60it/s]\n"
          ]
        },
        {
          "output_type": "stream",
          "name": "stdout",
          "text": [
            "1 2 12\n"
          ]
        },
        {
          "output_type": "stream",
          "name": "stderr",
          "text": [
            "100%|██████████| 3/3 [00:00<00:00, 141.55it/s]\n",
            "100%|██████████| 3/3 [00:00<00:00, 260.18it/s]\n"
          ]
        },
        {
          "output_type": "stream",
          "name": "stdout",
          "text": [
            "1 2 13\n"
          ]
        },
        {
          "output_type": "stream",
          "name": "stderr",
          "text": [
            "100%|██████████| 3/3 [00:00<00:00, 204.68it/s]\n",
            "100%|██████████| 3/3 [00:00<00:00, 189.83it/s]\n"
          ]
        },
        {
          "output_type": "stream",
          "name": "stdout",
          "text": [
            "1 2 14\n"
          ]
        },
        {
          "output_type": "stream",
          "name": "stderr",
          "text": [
            "100%|██████████| 3/3 [00:00<00:00, 235.04it/s]\n",
            "100%|██████████| 3/3 [00:00<00:00, 140.90it/s]\n"
          ]
        },
        {
          "output_type": "stream",
          "name": "stdout",
          "text": [
            "1 2 15\n"
          ]
        },
        {
          "output_type": "stream",
          "name": "stderr",
          "text": [
            "100%|██████████| 3/3 [00:00<00:00, 222.34it/s]\n",
            "100%|██████████| 3/3 [00:00<00:00, 369.75it/s]\n"
          ]
        },
        {
          "output_type": "stream",
          "name": "stdout",
          "text": [
            "1 2 16\n"
          ]
        },
        {
          "output_type": "stream",
          "name": "stderr",
          "text": [
            "100%|██████████| 3/3 [00:00<00:00, 354.71it/s]\n",
            "100%|██████████| 3/3 [00:00<00:00, 379.99it/s]\n"
          ]
        },
        {
          "output_type": "stream",
          "name": "stdout",
          "text": [
            "1 2 17\n"
          ]
        },
        {
          "output_type": "stream",
          "name": "stderr",
          "text": [
            "100%|██████████| 3/3 [00:00<00:00, 357.47it/s]\n",
            "100%|██████████| 3/3 [00:00<00:00, 157.98it/s]\n"
          ]
        },
        {
          "output_type": "stream",
          "name": "stdout",
          "text": [
            "1 2 18\n"
          ]
        },
        {
          "output_type": "stream",
          "name": "stderr",
          "text": [
            "100%|██████████| 3/3 [00:00<00:00, 142.19it/s]\n",
            "100%|██████████| 3/3 [00:00<00:00, 113.59it/s]\n"
          ]
        },
        {
          "output_type": "stream",
          "name": "stdout",
          "text": [
            "1 2 19\n"
          ]
        },
        {
          "output_type": "stream",
          "name": "stderr",
          "text": [
            "100%|██████████| 3/3 [00:00<00:00, 200.82it/s]\n",
            "100%|██████████| 3/3 [00:00<00:00, 267.36it/s]\n"
          ]
        },
        {
          "output_type": "stream",
          "name": "stdout",
          "text": [
            "1 2 20\n"
          ]
        },
        {
          "output_type": "stream",
          "name": "stderr",
          "text": [
            "100%|██████████| 3/3 [00:00<00:00, 137.91it/s]\n",
            "100%|██████████| 3/3 [00:00<00:00, 140.77it/s]\n"
          ]
        },
        {
          "output_type": "stream",
          "name": "stdout",
          "text": [
            "1 2 21\n"
          ]
        },
        {
          "output_type": "stream",
          "name": "stderr",
          "text": [
            "100%|██████████| 3/3 [00:00<00:00, 376.52it/s]\n",
            "100%|██████████| 3/3 [00:00<00:00, 126.02it/s]\n"
          ]
        },
        {
          "output_type": "stream",
          "name": "stdout",
          "text": [
            "1 2 22\n"
          ]
        },
        {
          "output_type": "stream",
          "name": "stderr",
          "text": [
            "100%|██████████| 3/3 [00:00<00:00, 197.44it/s]\n",
            "100%|██████████| 3/3 [00:00<00:00, 247.67it/s]\n"
          ]
        },
        {
          "output_type": "stream",
          "name": "stdout",
          "text": [
            "1 2 23\n"
          ]
        },
        {
          "output_type": "stream",
          "name": "stderr",
          "text": [
            "100%|██████████| 3/3 [00:00<00:00, 372.75it/s]\n",
            "100%|██████████| 3/3 [00:00<00:00, 368.76it/s]\n"
          ]
        },
        {
          "output_type": "stream",
          "name": "stdout",
          "text": [
            "1 2 24\n"
          ]
        },
        {
          "output_type": "stream",
          "name": "stderr",
          "text": [
            "100%|██████████| 3/3 [00:00<00:00, 371.71it/s]\n",
            "100%|██████████| 3/3 [00:00<00:00, 370.52it/s]\n"
          ]
        },
        {
          "output_type": "stream",
          "name": "stdout",
          "text": [
            "1 2 25\n"
          ]
        },
        {
          "output_type": "stream",
          "name": "stderr",
          "text": [
            "100%|██████████| 3/3 [00:00<00:00, 370.35it/s]\n",
            "100%|██████████| 3/3 [00:00<00:00, 360.96it/s]\n"
          ]
        },
        {
          "output_type": "stream",
          "name": "stdout",
          "text": [
            "1 2 26\n"
          ]
        },
        {
          "output_type": "stream",
          "name": "stderr",
          "text": [
            "100%|██████████| 3/3 [00:00<00:00, 375.55it/s]\n",
            "100%|██████████| 3/3 [00:00<00:00, 343.45it/s]\n"
          ]
        },
        {
          "output_type": "stream",
          "name": "stdout",
          "text": [
            "1 2 27\n"
          ]
        },
        {
          "output_type": "stream",
          "name": "stderr",
          "text": [
            "100%|██████████| 3/3 [00:00<00:00, 133.57it/s]\n",
            "100%|██████████| 3/3 [00:00<00:00, 188.82it/s]\n"
          ]
        },
        {
          "output_type": "stream",
          "name": "stdout",
          "text": [
            "1 2 28\n"
          ]
        },
        {
          "output_type": "stream",
          "name": "stderr",
          "text": [
            "100%|██████████| 3/3 [00:00<00:00, 329.28it/s]\n",
            "100%|██████████| 3/3 [00:00<00:00, 187.54it/s]\n"
          ]
        },
        {
          "output_type": "stream",
          "name": "stdout",
          "text": [
            "1 2 29\n"
          ]
        },
        {
          "output_type": "stream",
          "name": "stderr",
          "text": [
            "100%|██████████| 3/3 [00:00<00:00, 268.72it/s]\n",
            "100%|██████████| 3/3 [00:00<00:00, 193.74it/s]\n"
          ]
        },
        {
          "output_type": "stream",
          "name": "stdout",
          "text": [
            "1 2 30\n"
          ]
        },
        {
          "output_type": "stream",
          "name": "stderr",
          "text": [
            "100%|██████████| 3/3 [00:00<00:00, 380.64it/s]\n",
            "100%|██████████| 3/3 [00:00<00:00, 354.14it/s]\n"
          ]
        },
        {
          "output_type": "stream",
          "name": "stdout",
          "text": [
            "1 2 31\n"
          ]
        },
        {
          "output_type": "stream",
          "name": "stderr",
          "text": [
            "100%|██████████| 3/3 [00:00<00:00, 360.99it/s]\n",
            "100%|██████████| 3/3 [00:00<00:00, 408.05it/s]\n"
          ]
        },
        {
          "output_type": "stream",
          "name": "stdout",
          "text": [
            "1 2 32\n"
          ]
        },
        {
          "output_type": "stream",
          "name": "stderr",
          "text": [
            "100%|██████████| 3/3 [00:00<00:00, 391.07it/s]\n",
            "100%|██████████| 3/3 [00:00<00:00, 375.34it/s]\n"
          ]
        },
        {
          "output_type": "stream",
          "name": "stdout",
          "text": [
            "1 2 33\n"
          ]
        },
        {
          "output_type": "stream",
          "name": "stderr",
          "text": [
            "100%|██████████| 3/3 [00:00<00:00, 387.04it/s]\n",
            "100%|██████████| 3/3 [00:00<00:00, 202.84it/s]\n"
          ]
        },
        {
          "output_type": "stream",
          "name": "stdout",
          "text": [
            "1 2 34\n"
          ]
        },
        {
          "output_type": "stream",
          "name": "stderr",
          "text": [
            "100%|██████████| 3/3 [00:00<00:00, 268.76it/s]\n",
            "100%|██████████| 3/3 [00:00<00:00, 191.59it/s]\n"
          ]
        },
        {
          "output_type": "stream",
          "name": "stdout",
          "text": [
            "1 2 35\n"
          ]
        },
        {
          "output_type": "stream",
          "name": "stderr",
          "text": [
            "100%|██████████| 3/3 [00:00<00:00, 129.58it/s]\n",
            "100%|██████████| 3/3 [00:00<00:00, 354.69it/s]\n"
          ]
        },
        {
          "output_type": "stream",
          "name": "stdout",
          "text": [
            "1 2 36\n"
          ]
        },
        {
          "output_type": "stream",
          "name": "stderr",
          "text": [
            "100%|██████████| 3/3 [00:00<00:00, 193.35it/s]\n",
            "100%|██████████| 3/3 [00:00<00:00, 291.75it/s]\n"
          ]
        },
        {
          "output_type": "stream",
          "name": "stdout",
          "text": [
            "1 2 37\n"
          ]
        },
        {
          "output_type": "stream",
          "name": "stderr",
          "text": [
            "100%|██████████| 3/3 [00:00<00:00, 169.87it/s]\n",
            "100%|██████████| 3/3 [00:00<00:00, 201.60it/s]\n"
          ]
        },
        {
          "output_type": "stream",
          "name": "stdout",
          "text": [
            "1 2 38\n"
          ]
        },
        {
          "output_type": "stream",
          "name": "stderr",
          "text": [
            "100%|██████████| 3/3 [00:00<00:00, 381.62it/s]\n",
            "100%|██████████| 3/3 [00:00<00:00, 203.23it/s]\n"
          ]
        },
        {
          "output_type": "stream",
          "name": "stdout",
          "text": [
            "1 2 39\n"
          ]
        },
        {
          "output_type": "stream",
          "name": "stderr",
          "text": [
            "100%|██████████| 3/3 [00:00<00:00, 368.13it/s]\n",
            "100%|██████████| 3/3 [00:00<00:00, 143.51it/s]\n"
          ]
        },
        {
          "output_type": "stream",
          "name": "stdout",
          "text": [
            "1 2 40\n"
          ]
        },
        {
          "output_type": "stream",
          "name": "stderr",
          "text": [
            "100%|██████████| 3/3 [00:00<00:00, 274.23it/s]\n",
            "100%|██████████| 3/3 [00:00<00:00, 153.28it/s]\n"
          ]
        },
        {
          "output_type": "stream",
          "name": "stdout",
          "text": [
            "1 2 41\n"
          ]
        },
        {
          "output_type": "stream",
          "name": "stderr",
          "text": [
            "100%|██████████| 3/3 [00:00<00:00, 436.95it/s]\n",
            "100%|██████████| 3/3 [00:00<00:00, 222.47it/s]\n"
          ]
        },
        {
          "output_type": "stream",
          "name": "stdout",
          "text": [
            "1 2 42\n"
          ]
        },
        {
          "output_type": "stream",
          "name": "stderr",
          "text": [
            "100%|██████████| 3/3 [00:00<00:00, 355.37it/s]\n",
            "100%|██████████| 3/3 [00:00<00:00, 131.05it/s]\n"
          ]
        },
        {
          "output_type": "stream",
          "name": "stdout",
          "text": [
            "1 2 43\n"
          ]
        },
        {
          "output_type": "stream",
          "name": "stderr",
          "text": [
            "100%|██████████| 3/3 [00:00<00:00, 129.51it/s]\n",
            "100%|██████████| 3/3 [00:00<00:00, 140.39it/s]\n"
          ]
        },
        {
          "output_type": "stream",
          "name": "stdout",
          "text": [
            "1 2 44\n"
          ]
        },
        {
          "output_type": "stream",
          "name": "stderr",
          "text": [
            "100%|██████████| 3/3 [00:00<00:00, 199.77it/s]\n",
            "100%|██████████| 3/3 [00:00<00:00, 358.17it/s]\n"
          ]
        },
        {
          "output_type": "stream",
          "name": "stdout",
          "text": [
            "1 2 45\n"
          ]
        },
        {
          "output_type": "stream",
          "name": "stderr",
          "text": [
            "100%|██████████| 3/3 [00:00<00:00, 231.35it/s]\n",
            "100%|██████████| 3/3 [00:00<00:00, 148.83it/s]\n"
          ]
        },
        {
          "output_type": "stream",
          "name": "stdout",
          "text": [
            "1 2 46\n"
          ]
        },
        {
          "output_type": "stream",
          "name": "stderr",
          "text": [
            "100%|██████████| 3/3 [00:00<00:00, 355.24it/s]\n",
            "100%|██████████| 3/3 [00:00<00:00, 344.37it/s]\n"
          ]
        },
        {
          "output_type": "stream",
          "name": "stdout",
          "text": [
            "1 2 47\n"
          ]
        },
        {
          "output_type": "stream",
          "name": "stderr",
          "text": [
            "100%|██████████| 3/3 [00:00<00:00, 163.52it/s]\n",
            "100%|██████████| 3/3 [00:00<00:00, 354.94it/s]\n"
          ]
        },
        {
          "output_type": "stream",
          "name": "stdout",
          "text": [
            "1 2 48\n"
          ]
        },
        {
          "output_type": "stream",
          "name": "stderr",
          "text": [
            "100%|██████████| 3/3 [00:00<00:00, 377.76it/s]\n",
            "100%|██████████| 3/3 [00:00<00:00, 339.66it/s]\n"
          ]
        },
        {
          "output_type": "stream",
          "name": "stdout",
          "text": [
            "1 2 49\n"
          ]
        },
        {
          "output_type": "stream",
          "name": "stderr",
          "text": [
            "100%|██████████| 3/3 [00:00<00:00, 187.60it/s]\n",
            "100%|██████████| 3/3 [00:00<00:00, 299.40it/s]\n"
          ]
        },
        {
          "output_type": "stream",
          "name": "stdout",
          "text": [
            "1 2 50\n"
          ]
        },
        {
          "output_type": "stream",
          "name": "stderr",
          "text": [
            "100%|██████████| 3/3 [00:00<00:00, 262.97it/s]\n",
            "100%|██████████| 3/3 [00:00<00:00, 214.40it/s]\n"
          ]
        },
        {
          "output_type": "stream",
          "name": "stdout",
          "text": [
            "1 2 51\n"
          ]
        },
        {
          "output_type": "stream",
          "name": "stderr",
          "text": [
            "100%|██████████| 3/3 [00:00<00:00, 199.67it/s]\n",
            "100%|██████████| 3/3 [00:00<00:00, 178.86it/s]\n"
          ]
        },
        {
          "output_type": "stream",
          "name": "stdout",
          "text": [
            "1 2 52\n"
          ]
        },
        {
          "output_type": "stream",
          "name": "stderr",
          "text": [
            "100%|██████████| 3/3 [00:00<00:00, 398.82it/s]\n",
            "100%|██████████| 3/3 [00:00<00:00, 328.62it/s]\n"
          ]
        },
        {
          "output_type": "stream",
          "name": "stdout",
          "text": [
            "1 2 53\n"
          ]
        },
        {
          "output_type": "stream",
          "name": "stderr",
          "text": [
            "100%|██████████| 3/3 [00:00<00:00, 372.45it/s]\n",
            "100%|██████████| 3/3 [00:00<00:00, 173.20it/s]\n"
          ]
        },
        {
          "output_type": "stream",
          "name": "stdout",
          "text": [
            "1 2 54\n"
          ]
        },
        {
          "output_type": "stream",
          "name": "stderr",
          "text": [
            "100%|██████████| 3/3 [00:00<00:00, 285.29it/s]\n",
            "100%|██████████| 3/3 [00:00<00:00, 264.83it/s]\n"
          ]
        },
        {
          "output_type": "stream",
          "name": "stdout",
          "text": [
            "1 2 55\n"
          ]
        },
        {
          "output_type": "stream",
          "name": "stderr",
          "text": [
            "100%|██████████| 3/3 [00:00<00:00, 141.81it/s]\n",
            "100%|██████████| 3/3 [00:00<00:00, 158.00it/s]\n"
          ]
        },
        {
          "output_type": "stream",
          "name": "stdout",
          "text": [
            "1 2 56\n"
          ]
        },
        {
          "output_type": "stream",
          "name": "stderr",
          "text": [
            "100%|██████████| 3/3 [00:00<00:00, 363.58it/s]\n",
            "100%|██████████| 3/3 [00:00<00:00, 297.12it/s]\n"
          ]
        },
        {
          "output_type": "stream",
          "name": "stdout",
          "text": [
            "1 2 57\n"
          ]
        },
        {
          "output_type": "stream",
          "name": "stderr",
          "text": [
            "100%|██████████| 3/3 [00:00<00:00, 197.74it/s]\n",
            "100%|██████████| 3/3 [00:00<00:00, 353.82it/s]\n"
          ]
        },
        {
          "output_type": "stream",
          "name": "stdout",
          "text": [
            "1 2 58\n"
          ]
        },
        {
          "output_type": "stream",
          "name": "stderr",
          "text": [
            "100%|██████████| 3/3 [00:00<00:00, 150.50it/s]\n",
            "100%|██████████| 3/3 [00:00<00:00, 161.94it/s]\n"
          ]
        },
        {
          "output_type": "stream",
          "name": "stdout",
          "text": [
            "1 2 59\n"
          ]
        },
        {
          "output_type": "stream",
          "name": "stderr",
          "text": [
            "100%|██████████| 3/3 [00:00<00:00, 149.74it/s]\n",
            "100%|██████████| 3/3 [00:00<00:00, 159.12it/s]\n"
          ]
        },
        {
          "output_type": "stream",
          "name": "stdout",
          "text": [
            "1 2 60\n"
          ]
        },
        {
          "output_type": "stream",
          "name": "stderr",
          "text": [
            "100%|██████████| 3/3 [00:00<00:00, 295.23it/s]\n",
            "100%|██████████| 3/3 [00:00<00:00, 355.00it/s]\n"
          ]
        },
        {
          "output_type": "stream",
          "name": "stdout",
          "text": [
            "1 2 61\n"
          ]
        },
        {
          "output_type": "stream",
          "name": "stderr",
          "text": [
            "100%|██████████| 3/3 [00:00<00:00, 316.14it/s]\n",
            "100%|██████████| 3/3 [00:00<00:00, 350.72it/s]\n"
          ]
        },
        {
          "output_type": "stream",
          "name": "stdout",
          "text": [
            "1 2 62\n"
          ]
        },
        {
          "output_type": "stream",
          "name": "stderr",
          "text": [
            "100%|██████████| 3/3 [00:00<00:00, 144.15it/s]\n",
            "100%|██████████| 3/3 [00:00<00:00, 327.28it/s]\n"
          ]
        },
        {
          "output_type": "stream",
          "name": "stdout",
          "text": [
            "1 2 63\n"
          ]
        },
        {
          "output_type": "stream",
          "name": "stderr",
          "text": [
            "100%|██████████| 3/3 [00:00<00:00, 334.83it/s]\n",
            "100%|██████████| 3/3 [00:00<00:00, 273.21it/s]\n"
          ]
        },
        {
          "output_type": "stream",
          "name": "stdout",
          "text": [
            "1 2 64\n"
          ]
        },
        {
          "output_type": "stream",
          "name": "stderr",
          "text": [
            "100%|██████████| 3/3 [00:00<00:00, 235.92it/s]\n",
            "100%|██████████| 3/3 [00:00<00:00, 354.29it/s]\n"
          ]
        },
        {
          "output_type": "stream",
          "name": "stdout",
          "text": [
            "1 2 65\n"
          ]
        },
        {
          "output_type": "stream",
          "name": "stderr",
          "text": [
            "100%|██████████| 3/3 [00:00<00:00, 313.62it/s]\n",
            "100%|██████████| 3/3 [00:00<00:00, 121.95it/s]\n"
          ]
        },
        {
          "output_type": "stream",
          "name": "stdout",
          "text": [
            "1 2 66\n"
          ]
        },
        {
          "output_type": "stream",
          "name": "stderr",
          "text": [
            "100%|██████████| 3/3 [00:00<00:00, 217.22it/s]\n",
            "100%|██████████| 3/3 [00:00<00:00, 229.18it/s]\n"
          ]
        },
        {
          "output_type": "stream",
          "name": "stdout",
          "text": [
            "1 2 67\n"
          ]
        },
        {
          "output_type": "stream",
          "name": "stderr",
          "text": [
            "100%|██████████| 3/3 [00:00<00:00, 292.32it/s]\n",
            "100%|██████████| 3/3 [00:00<00:00, 409.03it/s]\n"
          ]
        },
        {
          "output_type": "stream",
          "name": "stdout",
          "text": [
            "1 2 68\n"
          ]
        },
        {
          "output_type": "stream",
          "name": "stderr",
          "text": [
            "100%|██████████| 3/3 [00:00<00:00, 269.24it/s]\n",
            "100%|██████████| 3/3 [00:00<00:00, 239.06it/s]\n"
          ]
        },
        {
          "output_type": "stream",
          "name": "stdout",
          "text": [
            "1 2 69\n"
          ]
        },
        {
          "output_type": "stream",
          "name": "stderr",
          "text": [
            "100%|██████████| 3/3 [00:00<00:00, 156.03it/s]\n",
            "100%|██████████| 3/3 [00:00<00:00, 166.54it/s]\n"
          ]
        },
        {
          "output_type": "stream",
          "name": "stdout",
          "text": [
            "1 2 70\n"
          ]
        },
        {
          "output_type": "stream",
          "name": "stderr",
          "text": [
            "100%|██████████| 3/3 [00:00<00:00, 320.59it/s]\n",
            "100%|██████████| 3/3 [00:00<00:00, 199.24it/s]\n"
          ]
        },
        {
          "output_type": "stream",
          "name": "stdout",
          "text": [
            "1 2 71\n"
          ]
        },
        {
          "output_type": "stream",
          "name": "stderr",
          "text": [
            "100%|██████████| 3/3 [00:00<00:00, 141.14it/s]\n",
            "100%|██████████| 3/3 [00:00<00:00, 358.86it/s]\n"
          ]
        },
        {
          "output_type": "stream",
          "name": "stdout",
          "text": [
            "1 2 72\n"
          ]
        },
        {
          "output_type": "stream",
          "name": "stderr",
          "text": [
            "100%|██████████| 3/3 [00:00<00:00, 363.73it/s]\n",
            "100%|██████████| 3/3 [00:00<00:00, 365.21it/s]\n"
          ]
        },
        {
          "output_type": "stream",
          "name": "stdout",
          "text": [
            "1 2 73\n"
          ]
        },
        {
          "output_type": "stream",
          "name": "stderr",
          "text": [
            "100%|██████████| 3/3 [00:00<00:00, 143.79it/s]\n",
            "100%|██████████| 3/3 [00:00<00:00, 182.31it/s]\n"
          ]
        },
        {
          "output_type": "stream",
          "name": "stdout",
          "text": [
            "1 2 74\n"
          ]
        },
        {
          "output_type": "stream",
          "name": "stderr",
          "text": [
            "100%|██████████| 3/3 [00:00<00:00, 317.03it/s]\n",
            "100%|██████████| 3/3 [00:00<00:00, 178.48it/s]\n"
          ]
        },
        {
          "output_type": "stream",
          "name": "stdout",
          "text": [
            "1 2 75\n"
          ]
        },
        {
          "output_type": "stream",
          "name": "stderr",
          "text": [
            "100%|██████████| 3/3 [00:00<00:00, 393.76it/s]\n",
            "100%|██████████| 3/3 [00:00<00:00, 192.56it/s]\n"
          ]
        },
        {
          "output_type": "stream",
          "name": "stdout",
          "text": [
            "1 2 76\n"
          ]
        },
        {
          "output_type": "stream",
          "name": "stderr",
          "text": [
            "100%|██████████| 3/3 [00:00<00:00, 127.33it/s]\n",
            "100%|██████████| 3/3 [00:00<00:00, 314.86it/s]\n"
          ]
        },
        {
          "output_type": "stream",
          "name": "stdout",
          "text": [
            "1 2 77\n"
          ]
        },
        {
          "output_type": "stream",
          "name": "stderr",
          "text": [
            "100%|██████████| 3/3 [00:00<00:00, 305.30it/s]\n",
            "100%|██████████| 3/3 [00:00<00:00, 158.06it/s]\n"
          ]
        },
        {
          "output_type": "stream",
          "name": "stdout",
          "text": [
            "1 2 78\n"
          ]
        },
        {
          "output_type": "stream",
          "name": "stderr",
          "text": [
            "100%|██████████| 3/3 [00:00<00:00, 347.21it/s]\n",
            "100%|██████████| 3/3 [00:00<00:00, 294.89it/s]\n"
          ]
        },
        {
          "output_type": "stream",
          "name": "stdout",
          "text": [
            "1 2 79\n"
          ]
        },
        {
          "output_type": "stream",
          "name": "stderr",
          "text": [
            "100%|██████████| 3/3 [00:00<00:00, 210.53it/s]\n",
            "100%|██████████| 3/3 [00:00<00:00, 294.14it/s]\n"
          ]
        },
        {
          "output_type": "stream",
          "name": "stdout",
          "text": [
            "1 2 80\n"
          ]
        },
        {
          "output_type": "stream",
          "name": "stderr",
          "text": [
            "100%|██████████| 3/3 [00:00<00:00, 438.86it/s]\n",
            "100%|██████████| 3/3 [00:00<00:00, 194.29it/s]\n"
          ]
        },
        {
          "output_type": "stream",
          "name": "stdout",
          "text": [
            "1 2 81\n"
          ]
        },
        {
          "output_type": "stream",
          "name": "stderr",
          "text": [
            "100%|██████████| 3/3 [00:00<00:00, 188.54it/s]\n",
            "100%|██████████| 3/3 [00:00<00:00, 183.38it/s]\n"
          ]
        },
        {
          "output_type": "stream",
          "name": "stdout",
          "text": [
            "1 2 82\n"
          ]
        },
        {
          "output_type": "stream",
          "name": "stderr",
          "text": [
            "100%|██████████| 3/3 [00:00<00:00, 387.35it/s]\n",
            "100%|██████████| 3/3 [00:00<00:00, 202.98it/s]\n"
          ]
        },
        {
          "output_type": "stream",
          "name": "stdout",
          "text": [
            "1 2 83\n"
          ]
        },
        {
          "output_type": "stream",
          "name": "stderr",
          "text": [
            "100%|██████████| 3/3 [00:00<00:00, 310.54it/s]\n",
            "100%|██████████| 3/3 [00:00<00:00, 359.19it/s]\n"
          ]
        },
        {
          "output_type": "stream",
          "name": "stdout",
          "text": [
            "1 2 84\n"
          ]
        },
        {
          "output_type": "stream",
          "name": "stderr",
          "text": [
            "100%|██████████| 3/3 [00:00<00:00, 327.44it/s]\n",
            "100%|██████████| 3/3 [00:00<00:00, 353.68it/s]\n"
          ]
        },
        {
          "output_type": "stream",
          "name": "stdout",
          "text": [
            "1 2 85\n"
          ]
        },
        {
          "output_type": "stream",
          "name": "stderr",
          "text": [
            "100%|██████████| 3/3 [00:00<00:00, 359.85it/s]\n",
            "100%|██████████| 3/3 [00:00<00:00, 371.43it/s]\n"
          ]
        },
        {
          "output_type": "stream",
          "name": "stdout",
          "text": [
            "1 2 86\n"
          ]
        },
        {
          "output_type": "stream",
          "name": "stderr",
          "text": [
            "100%|██████████| 3/3 [00:00<00:00, 283.52it/s]\n",
            "100%|██████████| 3/3 [00:00<00:00, 166.11it/s]\n"
          ]
        },
        {
          "output_type": "stream",
          "name": "stdout",
          "text": [
            "1 2 87\n"
          ]
        },
        {
          "output_type": "stream",
          "name": "stderr",
          "text": [
            "100%|██████████| 3/3 [00:00<00:00, 115.51it/s]\n",
            "100%|██████████| 3/3 [00:00<00:00, 183.37it/s]\n"
          ]
        },
        {
          "output_type": "stream",
          "name": "stdout",
          "text": [
            "1 2 88\n"
          ]
        },
        {
          "output_type": "stream",
          "name": "stderr",
          "text": [
            "100%|██████████| 3/3 [00:00<00:00, 229.10it/s]\n",
            "100%|██████████| 3/3 [00:00<00:00, 150.35it/s]\n"
          ]
        },
        {
          "output_type": "stream",
          "name": "stdout",
          "text": [
            "1 2 89\n"
          ]
        },
        {
          "output_type": "stream",
          "name": "stderr",
          "text": [
            "100%|██████████| 3/3 [00:00<00:00, 236.21it/s]\n",
            "100%|██████████| 3/3 [00:00<00:00, 213.41it/s]\n"
          ]
        },
        {
          "output_type": "stream",
          "name": "stdout",
          "text": [
            "1 2 90\n"
          ]
        },
        {
          "output_type": "stream",
          "name": "stderr",
          "text": [
            "100%|██████████| 3/3 [00:00<00:00, 196.12it/s]\n",
            "100%|██████████| 3/3 [00:00<00:00, 220.40it/s]\n"
          ]
        },
        {
          "output_type": "stream",
          "name": "stdout",
          "text": [
            "1 2 91\n"
          ]
        },
        {
          "output_type": "stream",
          "name": "stderr",
          "text": [
            "100%|██████████| 3/3 [00:00<00:00, 218.03it/s]\n",
            "100%|██████████| 3/3 [00:00<00:00, 398.37it/s]\n"
          ]
        },
        {
          "output_type": "stream",
          "name": "stdout",
          "text": [
            "1 2 92\n"
          ]
        },
        {
          "output_type": "stream",
          "name": "stderr",
          "text": [
            "100%|██████████| 3/3 [00:00<00:00, 266.18it/s]\n",
            "100%|██████████| 3/3 [00:00<00:00, 250.71it/s]\n"
          ]
        },
        {
          "output_type": "stream",
          "name": "stdout",
          "text": [
            "1 2 93\n"
          ]
        },
        {
          "output_type": "stream",
          "name": "stderr",
          "text": [
            "100%|██████████| 3/3 [00:00<00:00, 323.52it/s]\n",
            "100%|██████████| 3/3 [00:00<00:00, 359.36it/s]\n"
          ]
        },
        {
          "output_type": "stream",
          "name": "stdout",
          "text": [
            "1 2 94\n"
          ]
        },
        {
          "output_type": "stream",
          "name": "stderr",
          "text": [
            "100%|██████████| 3/3 [00:00<00:00, 286.81it/s]\n",
            "100%|██████████| 3/3 [00:00<00:00, 182.58it/s]\n"
          ]
        },
        {
          "output_type": "stream",
          "name": "stdout",
          "text": [
            "1 2 95\n"
          ]
        },
        {
          "output_type": "stream",
          "name": "stderr",
          "text": [
            "100%|██████████| 3/3 [00:00<00:00, 279.66it/s]\n",
            "100%|██████████| 3/3 [00:00<00:00, 383.98it/s]\n"
          ]
        },
        {
          "output_type": "stream",
          "name": "stdout",
          "text": [
            "1 2 96\n"
          ]
        },
        {
          "output_type": "stream",
          "name": "stderr",
          "text": [
            "100%|██████████| 3/3 [00:00<00:00, 322.63it/s]\n",
            "100%|██████████| 3/3 [00:00<00:00, 331.42it/s]\n"
          ]
        },
        {
          "output_type": "stream",
          "name": "stdout",
          "text": [
            "1 2 97\n"
          ]
        },
        {
          "output_type": "stream",
          "name": "stderr",
          "text": [
            "100%|██████████| 3/3 [00:00<00:00, 323.89it/s]\n",
            "100%|██████████| 3/3 [00:00<00:00, 207.10it/s]\n"
          ]
        },
        {
          "output_type": "stream",
          "name": "stdout",
          "text": [
            "1 2 98\n"
          ]
        },
        {
          "output_type": "stream",
          "name": "stderr",
          "text": [
            "100%|██████████| 3/3 [00:00<00:00, 142.58it/s]\n",
            "100%|██████████| 3/3 [00:00<00:00, 264.52it/s]\n"
          ]
        },
        {
          "output_type": "stream",
          "name": "stdout",
          "text": [
            "1 2 99\n"
          ]
        },
        {
          "output_type": "stream",
          "name": "stderr",
          "text": [
            "100%|██████████| 3/3 [00:00<00:00, 323.15it/s]\n",
            "100%|██████████| 3/3 [00:00<00:00, 392.00it/s]\n"
          ]
        },
        {
          "output_type": "stream",
          "name": "stdout",
          "text": [
            "1 3 0\n"
          ]
        },
        {
          "output_type": "stream",
          "name": "stderr",
          "text": [
            "100%|██████████| 3/3 [00:00<00:00, 344.28it/s]\n",
            "100%|██████████| 3/3 [00:00<00:00, 327.47it/s]\n"
          ]
        },
        {
          "output_type": "stream",
          "name": "stdout",
          "text": [
            "1 3 1\n"
          ]
        },
        {
          "output_type": "stream",
          "name": "stderr",
          "text": [
            "100%|██████████| 3/3 [00:00<00:00, 308.41it/s]\n",
            "100%|██████████| 3/3 [00:00<00:00, 329.55it/s]\n"
          ]
        },
        {
          "output_type": "stream",
          "name": "stdout",
          "text": [
            "1 3 2\n"
          ]
        },
        {
          "output_type": "stream",
          "name": "stderr",
          "text": [
            "100%|██████████| 3/3 [00:00<00:00, 138.60it/s]\n",
            "100%|██████████| 3/3 [00:00<00:00, 127.85it/s]\n"
          ]
        },
        {
          "output_type": "stream",
          "name": "stdout",
          "text": [
            "1 3 3\n"
          ]
        },
        {
          "output_type": "stream",
          "name": "stderr",
          "text": [
            "100%|██████████| 3/3 [00:00<00:00, 389.21it/s]\n",
            "100%|██████████| 3/3 [00:00<00:00, 338.26it/s]\n"
          ]
        },
        {
          "output_type": "stream",
          "name": "stdout",
          "text": [
            "1 3 4\n"
          ]
        },
        {
          "output_type": "stream",
          "name": "stderr",
          "text": [
            "100%|██████████| 3/3 [00:00<00:00, 223.56it/s]\n",
            "100%|██████████| 3/3 [00:00<00:00, 334.93it/s]\n"
          ]
        },
        {
          "output_type": "stream",
          "name": "stdout",
          "text": [
            "1 3 5\n"
          ]
        },
        {
          "output_type": "stream",
          "name": "stderr",
          "text": [
            "100%|██████████| 3/3 [00:00<00:00, 177.00it/s]\n",
            "100%|██████████| 3/3 [00:00<00:00, 230.20it/s]\n"
          ]
        },
        {
          "output_type": "stream",
          "name": "stdout",
          "text": [
            "1 3 6\n"
          ]
        },
        {
          "output_type": "stream",
          "name": "stderr",
          "text": [
            "100%|██████████| 3/3 [00:00<00:00, 190.03it/s]\n",
            "100%|██████████| 3/3 [00:00<00:00, 170.43it/s]\n"
          ]
        },
        {
          "output_type": "stream",
          "name": "stdout",
          "text": [
            "1 3 7\n"
          ]
        },
        {
          "output_type": "stream",
          "name": "stderr",
          "text": [
            "100%|██████████| 3/3 [00:00<00:00, 200.66it/s]\n",
            "100%|██████████| 3/3 [00:00<00:00, 196.25it/s]\n"
          ]
        },
        {
          "output_type": "stream",
          "name": "stdout",
          "text": [
            "1 3 8\n"
          ]
        },
        {
          "output_type": "stream",
          "name": "stderr",
          "text": [
            "100%|██████████| 3/3 [00:00<00:00, 144.13it/s]\n",
            "100%|██████████| 3/3 [00:00<00:00, 293.22it/s]\n"
          ]
        },
        {
          "output_type": "stream",
          "name": "stdout",
          "text": [
            "1 3 9\n"
          ]
        },
        {
          "output_type": "stream",
          "name": "stderr",
          "text": [
            "100%|██████████| 3/3 [00:00<00:00, 116.13it/s]\n",
            "100%|██████████| 3/3 [00:00<00:00, 389.14it/s]\n"
          ]
        },
        {
          "output_type": "stream",
          "name": "stdout",
          "text": [
            "1 3 10\n"
          ]
        },
        {
          "output_type": "stream",
          "name": "stderr",
          "text": [
            "100%|██████████| 3/3 [00:00<00:00, 308.43it/s]\n",
            "100%|██████████| 3/3 [00:00<00:00, 186.64it/s]\n"
          ]
        },
        {
          "output_type": "stream",
          "name": "stdout",
          "text": [
            "1 3 11\n"
          ]
        },
        {
          "output_type": "stream",
          "name": "stderr",
          "text": [
            "100%|██████████| 3/3 [00:00<00:00, 164.64it/s]\n",
            "100%|██████████| 3/3 [00:00<00:00, 214.61it/s]\n"
          ]
        },
        {
          "output_type": "stream",
          "name": "stdout",
          "text": [
            "1 3 12\n"
          ]
        },
        {
          "output_type": "stream",
          "name": "stderr",
          "text": [
            "100%|██████████| 3/3 [00:00<00:00, 406.14it/s]\n",
            "100%|██████████| 3/3 [00:00<00:00, 381.49it/s]\n"
          ]
        },
        {
          "output_type": "stream",
          "name": "stdout",
          "text": [
            "1 3 13\n"
          ]
        },
        {
          "output_type": "stream",
          "name": "stderr",
          "text": [
            "100%|██████████| 3/3 [00:00<00:00, 150.23it/s]\n",
            "100%|██████████| 3/3 [00:00<00:00, 166.31it/s]\n"
          ]
        },
        {
          "output_type": "stream",
          "name": "stdout",
          "text": [
            "1 3 14\n"
          ]
        },
        {
          "output_type": "stream",
          "name": "stderr",
          "text": [
            "100%|██████████| 3/3 [00:00<00:00, 135.64it/s]\n",
            "100%|██████████| 3/3 [00:00<00:00, 169.18it/s]\n"
          ]
        },
        {
          "output_type": "stream",
          "name": "stdout",
          "text": [
            "1 3 15\n"
          ]
        },
        {
          "output_type": "stream",
          "name": "stderr",
          "text": [
            "100%|██████████| 3/3 [00:00<00:00, 276.06it/s]\n",
            "100%|██████████| 3/3 [00:00<00:00, 156.06it/s]\n"
          ]
        },
        {
          "output_type": "stream",
          "name": "stdout",
          "text": [
            "1 3 16\n"
          ]
        },
        {
          "output_type": "stream",
          "name": "stderr",
          "text": [
            "100%|██████████| 3/3 [00:00<00:00, 226.99it/s]\n",
            "100%|██████████| 3/3 [00:00<00:00, 199.03it/s]\n"
          ]
        },
        {
          "output_type": "stream",
          "name": "stdout",
          "text": [
            "1 3 17\n"
          ]
        },
        {
          "output_type": "stream",
          "name": "stderr",
          "text": [
            "100%|██████████| 3/3 [00:00<00:00, 334.15it/s]\n",
            "100%|██████████| 3/3 [00:00<00:00, 371.42it/s]\n"
          ]
        },
        {
          "output_type": "stream",
          "name": "stdout",
          "text": [
            "1 3 18\n"
          ]
        },
        {
          "output_type": "stream",
          "name": "stderr",
          "text": [
            "100%|██████████| 3/3 [00:00<00:00, 244.08it/s]\n",
            "100%|██████████| 3/3 [00:00<00:00, 188.18it/s]\n"
          ]
        },
        {
          "output_type": "stream",
          "name": "stdout",
          "text": [
            "1 3 19\n"
          ]
        },
        {
          "output_type": "stream",
          "name": "stderr",
          "text": [
            "100%|██████████| 3/3 [00:00<00:00, 299.33it/s]\n",
            "100%|██████████| 3/3 [00:00<00:00, 357.07it/s]\n"
          ]
        },
        {
          "output_type": "stream",
          "name": "stdout",
          "text": [
            "1 3 20\n"
          ]
        },
        {
          "output_type": "stream",
          "name": "stderr",
          "text": [
            "100%|██████████| 3/3 [00:00<00:00, 322.46it/s]\n",
            "100%|██████████| 3/3 [00:00<00:00, 336.51it/s]\n"
          ]
        },
        {
          "output_type": "stream",
          "name": "stdout",
          "text": [
            "1 3 21\n"
          ]
        },
        {
          "output_type": "stream",
          "name": "stderr",
          "text": [
            "100%|██████████| 3/3 [00:00<00:00, 125.45it/s]\n",
            "100%|██████████| 3/3 [00:00<00:00, 185.67it/s]\n"
          ]
        },
        {
          "output_type": "stream",
          "name": "stdout",
          "text": [
            "1 3 22\n"
          ]
        },
        {
          "output_type": "stream",
          "name": "stderr",
          "text": [
            "100%|██████████| 3/3 [00:00<00:00, 340.08it/s]\n",
            "100%|██████████| 3/3 [00:00<00:00, 340.76it/s]\n"
          ]
        },
        {
          "output_type": "stream",
          "name": "stdout",
          "text": [
            "1 3 23\n"
          ]
        },
        {
          "output_type": "stream",
          "name": "stderr",
          "text": [
            "100%|██████████| 3/3 [00:00<00:00, 148.91it/s]\n",
            "100%|██████████| 3/3 [00:00<00:00, 126.87it/s]\n"
          ]
        },
        {
          "output_type": "stream",
          "name": "stdout",
          "text": [
            "1 3 24\n"
          ]
        },
        {
          "output_type": "stream",
          "name": "stderr",
          "text": [
            "100%|██████████| 3/3 [00:00<00:00, 297.98it/s]\n",
            "100%|██████████| 3/3 [00:00<00:00, 349.49it/s]\n"
          ]
        },
        {
          "output_type": "stream",
          "name": "stdout",
          "text": [
            "1 3 25\n"
          ]
        },
        {
          "output_type": "stream",
          "name": "stderr",
          "text": [
            "100%|██████████| 3/3 [00:00<00:00, 314.23it/s]\n",
            "100%|██████████| 3/3 [00:00<00:00, 329.12it/s]\n"
          ]
        },
        {
          "output_type": "stream",
          "name": "stdout",
          "text": [
            "1 3 26\n"
          ]
        },
        {
          "output_type": "stream",
          "name": "stderr",
          "text": [
            "100%|██████████| 3/3 [00:00<00:00, 323.89it/s]\n",
            "100%|██████████| 3/3 [00:00<00:00, 324.85it/s]\n"
          ]
        },
        {
          "output_type": "stream",
          "name": "stdout",
          "text": [
            "1 3 27\n"
          ]
        },
        {
          "output_type": "stream",
          "name": "stderr",
          "text": [
            "100%|██████████| 3/3 [00:00<00:00, 302.37it/s]\n",
            "100%|██████████| 3/3 [00:00<00:00, 356.71it/s]\n"
          ]
        },
        {
          "output_type": "stream",
          "name": "stdout",
          "text": [
            "1 3 28\n"
          ]
        },
        {
          "output_type": "stream",
          "name": "stderr",
          "text": [
            "100%|██████████| 3/3 [00:00<00:00, 327.94it/s]\n",
            "100%|██████████| 3/3 [00:00<00:00, 322.04it/s]\n"
          ]
        },
        {
          "output_type": "stream",
          "name": "stdout",
          "text": [
            "1 3 29\n"
          ]
        },
        {
          "output_type": "stream",
          "name": "stderr",
          "text": [
            "100%|██████████| 3/3 [00:00<00:00, 201.26it/s]\n",
            "100%|██████████| 3/3 [00:00<00:00, 322.31it/s]\n"
          ]
        },
        {
          "output_type": "stream",
          "name": "stdout",
          "text": [
            "1 3 30\n"
          ]
        },
        {
          "output_type": "stream",
          "name": "stderr",
          "text": [
            "100%|██████████| 3/3 [00:00<00:00, 146.66it/s]\n",
            "100%|██████████| 3/3 [00:00<00:00, 157.19it/s]\n"
          ]
        },
        {
          "output_type": "stream",
          "name": "stdout",
          "text": [
            "1 3 31\n"
          ]
        },
        {
          "output_type": "stream",
          "name": "stderr",
          "text": [
            "100%|██████████| 3/3 [00:00<00:00, 275.88it/s]\n",
            "100%|██████████| 3/3 [00:00<00:00, 264.02it/s]\n"
          ]
        },
        {
          "output_type": "stream",
          "name": "stdout",
          "text": [
            "1 3 32\n"
          ]
        },
        {
          "output_type": "stream",
          "name": "stderr",
          "text": [
            "100%|██████████| 3/3 [00:00<00:00, 123.90it/s]\n",
            "100%|██████████| 3/3 [00:00<00:00, 185.68it/s]\n"
          ]
        },
        {
          "output_type": "stream",
          "name": "stdout",
          "text": [
            "1 3 33\n"
          ]
        },
        {
          "output_type": "stream",
          "name": "stderr",
          "text": [
            "100%|██████████| 3/3 [00:00<00:00, 323.22it/s]\n",
            "100%|██████████| 3/3 [00:00<00:00, 149.29it/s]\n"
          ]
        },
        {
          "output_type": "stream",
          "name": "stdout",
          "text": [
            "1 3 34\n"
          ]
        },
        {
          "output_type": "stream",
          "name": "stderr",
          "text": [
            "100%|██████████| 3/3 [00:00<00:00, 303.58it/s]\n",
            "100%|██████████| 3/3 [00:00<00:00, 334.07it/s]\n"
          ]
        },
        {
          "output_type": "stream",
          "name": "stdout",
          "text": [
            "1 3 35\n"
          ]
        },
        {
          "output_type": "stream",
          "name": "stderr",
          "text": [
            "100%|██████████| 3/3 [00:00<00:00, 326.41it/s]\n",
            "100%|██████████| 3/3 [00:00<00:00, 368.31it/s]\n"
          ]
        },
        {
          "output_type": "stream",
          "name": "stdout",
          "text": [
            "1 3 36\n"
          ]
        },
        {
          "output_type": "stream",
          "name": "stderr",
          "text": [
            "100%|██████████| 3/3 [00:00<00:00, 256.56it/s]\n",
            "100%|██████████| 3/3 [00:00<00:00, 149.88it/s]\n"
          ]
        },
        {
          "output_type": "stream",
          "name": "stdout",
          "text": [
            "1 3 37\n"
          ]
        },
        {
          "output_type": "stream",
          "name": "stderr",
          "text": [
            "100%|██████████| 3/3 [00:00<00:00, 120.14it/s]\n",
            "100%|██████████| 3/3 [00:00<00:00, 142.04it/s]\n"
          ]
        },
        {
          "output_type": "stream",
          "name": "stdout",
          "text": [
            "1 3 38\n"
          ]
        },
        {
          "output_type": "stream",
          "name": "stderr",
          "text": [
            "100%|██████████| 3/3 [00:00<00:00, 287.26it/s]\n",
            "100%|██████████| 3/3 [00:00<00:00, 149.97it/s]\n"
          ]
        },
        {
          "output_type": "stream",
          "name": "stdout",
          "text": [
            "1 3 39\n"
          ]
        },
        {
          "output_type": "stream",
          "name": "stderr",
          "text": [
            "100%|██████████| 3/3 [00:00<00:00, 115.15it/s]\n",
            "100%|██████████| 3/3 [00:00<00:00, 271.99it/s]\n"
          ]
        },
        {
          "output_type": "stream",
          "name": "stdout",
          "text": [
            "1 3 40\n"
          ]
        },
        {
          "output_type": "stream",
          "name": "stderr",
          "text": [
            "100%|██████████| 3/3 [00:00<00:00, 274.51it/s]\n",
            "100%|██████████| 3/3 [00:00<00:00, 420.19it/s]\n"
          ]
        },
        {
          "output_type": "stream",
          "name": "stdout",
          "text": [
            "1 3 41\n"
          ]
        },
        {
          "output_type": "stream",
          "name": "stderr",
          "text": [
            "100%|██████████| 3/3 [00:00<00:00, 405.60it/s]\n",
            "100%|██████████| 3/3 [00:00<00:00, 406.37it/s]\n"
          ]
        },
        {
          "output_type": "stream",
          "name": "stdout",
          "text": [
            "1 3 42\n"
          ]
        },
        {
          "output_type": "stream",
          "name": "stderr",
          "text": [
            "100%|██████████| 3/3 [00:00<00:00, 420.82it/s]\n",
            "100%|██████████| 3/3 [00:00<00:00, 368.27it/s]\n"
          ]
        },
        {
          "output_type": "stream",
          "name": "stdout",
          "text": [
            "1 3 43\n"
          ]
        },
        {
          "output_type": "stream",
          "name": "stderr",
          "text": [
            "100%|██████████| 3/3 [00:00<00:00, 157.67it/s]\n",
            "100%|██████████| 3/3 [00:00<00:00, 487.41it/s]\n"
          ]
        },
        {
          "output_type": "stream",
          "name": "stdout",
          "text": [
            "1 3 44\n"
          ]
        },
        {
          "output_type": "stream",
          "name": "stderr",
          "text": [
            "100%|██████████| 3/3 [00:00<00:00, 233.61it/s]\n",
            "100%|██████████| 3/3 [00:00<00:00, 170.75it/s]\n"
          ]
        },
        {
          "output_type": "stream",
          "name": "stdout",
          "text": [
            "1 3 45\n"
          ]
        },
        {
          "output_type": "stream",
          "name": "stderr",
          "text": [
            "100%|██████████| 3/3 [00:00<00:00, 293.26it/s]\n",
            "100%|██████████| 3/3 [00:00<00:00, 131.78it/s]\n"
          ]
        },
        {
          "output_type": "stream",
          "name": "stdout",
          "text": [
            "1 3 46\n"
          ]
        },
        {
          "output_type": "stream",
          "name": "stderr",
          "text": [
            "100%|██████████| 3/3 [00:00<00:00, 410.35it/s]\n",
            "100%|██████████| 3/3 [00:00<00:00, 216.69it/s]\n"
          ]
        },
        {
          "output_type": "stream",
          "name": "stdout",
          "text": [
            "1 3 47\n"
          ]
        },
        {
          "output_type": "stream",
          "name": "stderr",
          "text": [
            "100%|██████████| 3/3 [00:00<00:00, 387.58it/s]\n",
            "100%|██████████| 3/3 [00:00<00:00, 245.17it/s]\n"
          ]
        },
        {
          "output_type": "stream",
          "name": "stdout",
          "text": [
            "1 3 48\n"
          ]
        },
        {
          "output_type": "stream",
          "name": "stderr",
          "text": [
            "100%|██████████| 3/3 [00:00<00:00, 381.71it/s]\n",
            "100%|██████████| 3/3 [00:00<00:00, 305.92it/s]\n"
          ]
        },
        {
          "output_type": "stream",
          "name": "stdout",
          "text": [
            "1 3 49\n"
          ]
        },
        {
          "output_type": "stream",
          "name": "stderr",
          "text": [
            "100%|██████████| 3/3 [00:00<00:00, 138.73it/s]\n",
            "100%|██████████| 3/3 [00:00<00:00, 124.83it/s]\n"
          ]
        },
        {
          "output_type": "stream",
          "name": "stdout",
          "text": [
            "1 3 50\n"
          ]
        },
        {
          "output_type": "stream",
          "name": "stderr",
          "text": [
            "100%|██████████| 3/3 [00:00<00:00, 143.22it/s]\n",
            "100%|██████████| 3/3 [00:00<00:00, 125.73it/s]\n"
          ]
        },
        {
          "output_type": "stream",
          "name": "stdout",
          "text": [
            "1 3 51\n"
          ]
        },
        {
          "output_type": "stream",
          "name": "stderr",
          "text": [
            "100%|██████████| 3/3 [00:00<00:00, 264.52it/s]\n",
            "100%|██████████| 3/3 [00:00<00:00, 324.10it/s]\n"
          ]
        },
        {
          "output_type": "stream",
          "name": "stdout",
          "text": [
            "1 3 52\n"
          ]
        },
        {
          "output_type": "stream",
          "name": "stderr",
          "text": [
            "100%|██████████| 3/3 [00:00<00:00, 134.40it/s]\n",
            "100%|██████████| 3/3 [00:00<00:00, 325.53it/s]\n"
          ]
        },
        {
          "output_type": "stream",
          "name": "stdout",
          "text": [
            "1 3 53\n"
          ]
        },
        {
          "output_type": "stream",
          "name": "stderr",
          "text": [
            "100%|██████████| 3/3 [00:00<00:00, 151.56it/s]\n",
            "100%|██████████| 3/3 [00:00<00:00, 291.42it/s]\n"
          ]
        },
        {
          "output_type": "stream",
          "name": "stdout",
          "text": [
            "1 3 54\n"
          ]
        },
        {
          "output_type": "stream",
          "name": "stderr",
          "text": [
            "100%|██████████| 3/3 [00:00<00:00, 420.66it/s]\n",
            "100%|██████████| 3/3 [00:00<00:00, 349.88it/s]\n"
          ]
        },
        {
          "output_type": "stream",
          "name": "stdout",
          "text": [
            "1 3 55\n"
          ]
        },
        {
          "output_type": "stream",
          "name": "stderr",
          "text": [
            "100%|██████████| 3/3 [00:00<00:00, 368.96it/s]\n",
            "100%|██████████| 3/3 [00:00<00:00, 141.38it/s]\n"
          ]
        },
        {
          "output_type": "stream",
          "name": "stdout",
          "text": [
            "1 3 56\n"
          ]
        },
        {
          "output_type": "stream",
          "name": "stderr",
          "text": [
            "100%|██████████| 3/3 [00:00<00:00, 380.94it/s]\n",
            "100%|██████████| 3/3 [00:00<00:00, 229.32it/s]\n"
          ]
        },
        {
          "output_type": "stream",
          "name": "stdout",
          "text": [
            "1 3 57\n"
          ]
        },
        {
          "output_type": "stream",
          "name": "stderr",
          "text": [
            "100%|██████████| 3/3 [00:00<00:00, 256.69it/s]\n",
            "100%|██████████| 3/3 [00:00<00:00, 424.18it/s]\n"
          ]
        },
        {
          "output_type": "stream",
          "name": "stdout",
          "text": [
            "1 3 58\n"
          ]
        },
        {
          "output_type": "stream",
          "name": "stderr",
          "text": [
            "100%|██████████| 3/3 [00:00<00:00, 417.59it/s]\n",
            "100%|██████████| 3/3 [00:00<00:00, 387.11it/s]\n"
          ]
        },
        {
          "output_type": "stream",
          "name": "stdout",
          "text": [
            "1 3 59\n"
          ]
        },
        {
          "output_type": "stream",
          "name": "stderr",
          "text": [
            "100%|██████████| 3/3 [00:00<00:00, 154.18it/s]\n",
            "100%|██████████| 3/3 [00:00<00:00, 337.40it/s]\n"
          ]
        },
        {
          "output_type": "stream",
          "name": "stdout",
          "text": [
            "1 3 60\n"
          ]
        },
        {
          "output_type": "stream",
          "name": "stderr",
          "text": [
            "100%|██████████| 3/3 [00:00<00:00, 109.21it/s]\n",
            "100%|██████████| 3/3 [00:00<00:00, 118.77it/s]\n"
          ]
        },
        {
          "output_type": "stream",
          "name": "stdout",
          "text": [
            "1 3 61\n"
          ]
        },
        {
          "output_type": "stream",
          "name": "stderr",
          "text": [
            "100%|██████████| 3/3 [00:00<00:00, 284.53it/s]\n",
            "100%|██████████| 3/3 [00:00<00:00, 246.04it/s]\n"
          ]
        },
        {
          "output_type": "stream",
          "name": "stdout",
          "text": [
            "1 3 62\n"
          ]
        },
        {
          "output_type": "stream",
          "name": "stderr",
          "text": [
            "100%|██████████| 3/3 [00:00<00:00, 131.02it/s]\n",
            "100%|██████████| 3/3 [00:00<00:00, 134.72it/s]\n"
          ]
        },
        {
          "output_type": "stream",
          "name": "stdout",
          "text": [
            "1 3 63\n"
          ]
        },
        {
          "output_type": "stream",
          "name": "stderr",
          "text": [
            "100%|██████████| 3/3 [00:00<00:00, 363.70it/s]\n",
            "100%|██████████| 3/3 [00:00<00:00, 377.15it/s]\n"
          ]
        },
        {
          "output_type": "stream",
          "name": "stdout",
          "text": [
            "1 3 64\n"
          ]
        },
        {
          "output_type": "stream",
          "name": "stderr",
          "text": [
            "100%|██████████| 3/3 [00:00<00:00, 217.09it/s]\n",
            "100%|██████████| 3/3 [00:00<00:00, 148.26it/s]\n"
          ]
        },
        {
          "output_type": "stream",
          "name": "stdout",
          "text": [
            "1 3 65\n"
          ]
        },
        {
          "output_type": "stream",
          "name": "stderr",
          "text": [
            "100%|██████████| 3/3 [00:00<00:00, 421.89it/s]\n",
            "100%|██████████| 3/3 [00:00<00:00, 336.68it/s]\n"
          ]
        },
        {
          "output_type": "stream",
          "name": "stdout",
          "text": [
            "1 3 66\n"
          ]
        },
        {
          "output_type": "stream",
          "name": "stderr",
          "text": [
            "100%|██████████| 3/3 [00:00<00:00, 247.78it/s]\n",
            "100%|██████████| 3/3 [00:00<00:00, 319.45it/s]\n"
          ]
        },
        {
          "output_type": "stream",
          "name": "stdout",
          "text": [
            "1 3 67\n"
          ]
        },
        {
          "output_type": "stream",
          "name": "stderr",
          "text": [
            "100%|██████████| 3/3 [00:00<00:00, 385.23it/s]\n",
            "100%|██████████| 3/3 [00:00<00:00, 415.33it/s]\n"
          ]
        },
        {
          "output_type": "stream",
          "name": "stdout",
          "text": [
            "1 3 68\n"
          ]
        },
        {
          "output_type": "stream",
          "name": "stderr",
          "text": [
            "100%|██████████| 3/3 [00:00<00:00, 260.75it/s]\n",
            "100%|██████████| 3/3 [00:00<00:00, 170.29it/s]\n"
          ]
        },
        {
          "output_type": "stream",
          "name": "stdout",
          "text": [
            "1 3 69\n"
          ]
        },
        {
          "output_type": "stream",
          "name": "stderr",
          "text": [
            "100%|██████████| 3/3 [00:00<00:00, 399.94it/s]\n",
            "100%|██████████| 3/3 [00:00<00:00, 282.21it/s]\n"
          ]
        },
        {
          "output_type": "stream",
          "name": "stdout",
          "text": [
            "1 3 70\n"
          ]
        },
        {
          "output_type": "stream",
          "name": "stderr",
          "text": [
            "100%|██████████| 3/3 [00:00<00:00, 439.59it/s]\n",
            "100%|██████████| 3/3 [00:00<00:00, 386.68it/s]\n"
          ]
        },
        {
          "output_type": "stream",
          "name": "stdout",
          "text": [
            "1 3 71\n"
          ]
        },
        {
          "output_type": "stream",
          "name": "stderr",
          "text": [
            "100%|██████████| 3/3 [00:00<00:00, 389.41it/s]\n",
            "100%|██████████| 3/3 [00:00<00:00, 430.92it/s]\n"
          ]
        },
        {
          "output_type": "stream",
          "name": "stdout",
          "text": [
            "1 3 72\n"
          ]
        },
        {
          "output_type": "stream",
          "name": "stderr",
          "text": [
            "100%|██████████| 3/3 [00:00<00:00, 230.47it/s]\n",
            "100%|██████████| 3/3 [00:00<00:00, 453.47it/s]\n"
          ]
        },
        {
          "output_type": "stream",
          "name": "stdout",
          "text": [
            "1 3 73\n"
          ]
        },
        {
          "output_type": "stream",
          "name": "stderr",
          "text": [
            "100%|██████████| 3/3 [00:00<00:00, 118.57it/s]\n",
            "100%|██████████| 3/3 [00:00<00:00, 374.89it/s]\n"
          ]
        },
        {
          "output_type": "stream",
          "name": "stdout",
          "text": [
            "1 3 74\n"
          ]
        },
        {
          "output_type": "stream",
          "name": "stderr",
          "text": [
            "100%|██████████| 3/3 [00:00<00:00, 124.80it/s]\n",
            "100%|██████████| 3/3 [00:00<00:00, 209.40it/s]\n"
          ]
        },
        {
          "output_type": "stream",
          "name": "stdout",
          "text": [
            "1 3 75\n"
          ]
        },
        {
          "output_type": "stream",
          "name": "stderr",
          "text": [
            "100%|██████████| 3/3 [00:00<00:00, 415.20it/s]\n",
            "100%|██████████| 3/3 [00:00<00:00, 369.94it/s]\n"
          ]
        },
        {
          "output_type": "stream",
          "name": "stdout",
          "text": [
            "1 3 76\n"
          ]
        },
        {
          "output_type": "stream",
          "name": "stderr",
          "text": [
            "100%|██████████| 3/3 [00:00<00:00, 158.14it/s]\n",
            "100%|██████████| 3/3 [00:00<00:00, 270.14it/s]\n"
          ]
        },
        {
          "output_type": "stream",
          "name": "stdout",
          "text": [
            "1 3 77\n"
          ]
        },
        {
          "output_type": "stream",
          "name": "stderr",
          "text": [
            "100%|██████████| 3/3 [00:00<00:00, 301.61it/s]\n",
            "100%|██████████| 3/3 [00:00<00:00, 378.84it/s]\n"
          ]
        },
        {
          "output_type": "stream",
          "name": "stdout",
          "text": [
            "1 3 78\n"
          ]
        },
        {
          "output_type": "stream",
          "name": "stderr",
          "text": [
            "100%|██████████| 3/3 [00:00<00:00, 232.18it/s]\n",
            "100%|██████████| 3/3 [00:00<00:00, 132.27it/s]\n"
          ]
        },
        {
          "output_type": "stream",
          "name": "stdout",
          "text": [
            "1 3 79\n"
          ]
        },
        {
          "output_type": "stream",
          "name": "stderr",
          "text": [
            "100%|██████████| 3/3 [00:00<00:00, 117.89it/s]\n",
            "100%|██████████| 3/3 [00:00<00:00, 155.63it/s]\n"
          ]
        },
        {
          "output_type": "stream",
          "name": "stdout",
          "text": [
            "1 3 80\n"
          ]
        },
        {
          "output_type": "stream",
          "name": "stderr",
          "text": [
            "100%|██████████| 3/3 [00:00<00:00, 208.54it/s]\n",
            "100%|██████████| 3/3 [00:00<00:00, 184.08it/s]\n"
          ]
        },
        {
          "output_type": "stream",
          "name": "stdout",
          "text": [
            "1 3 81\n"
          ]
        },
        {
          "output_type": "stream",
          "name": "stderr",
          "text": [
            "100%|██████████| 3/3 [00:00<00:00, 252.40it/s]\n",
            "100%|██████████| 3/3 [00:00<00:00, 206.90it/s]\n"
          ]
        },
        {
          "output_type": "stream",
          "name": "stdout",
          "text": [
            "1 3 82\n"
          ]
        },
        {
          "output_type": "stream",
          "name": "stderr",
          "text": [
            "100%|██████████| 3/3 [00:00<00:00, 130.38it/s]\n",
            "100%|██████████| 3/3 [00:00<00:00, 183.99it/s]\n"
          ]
        },
        {
          "output_type": "stream",
          "name": "stdout",
          "text": [
            "1 3 83\n"
          ]
        },
        {
          "output_type": "stream",
          "name": "stderr",
          "text": [
            "100%|██████████| 3/3 [00:00<00:00, 266.16it/s]\n",
            "100%|██████████| 3/3 [00:00<00:00, 354.59it/s]\n"
          ]
        },
        {
          "output_type": "stream",
          "name": "stdout",
          "text": [
            "1 3 84\n"
          ]
        },
        {
          "output_type": "stream",
          "name": "stderr",
          "text": [
            "100%|██████████| 3/3 [00:00<00:00, 117.12it/s]\n",
            "100%|██████████| 3/3 [00:00<00:00, 108.50it/s]\n"
          ]
        },
        {
          "output_type": "stream",
          "name": "stdout",
          "text": [
            "1 3 85\n"
          ]
        },
        {
          "output_type": "stream",
          "name": "stderr",
          "text": [
            "100%|██████████| 3/3 [00:00<00:00, 147.75it/s]\n",
            "100%|██████████| 3/3 [00:00<00:00, 316.39it/s]\n"
          ]
        },
        {
          "output_type": "stream",
          "name": "stdout",
          "text": [
            "1 3 86\n"
          ]
        },
        {
          "output_type": "stream",
          "name": "stderr",
          "text": [
            "100%|██████████| 3/3 [00:00<00:00, 167.60it/s]\n",
            "100%|██████████| 3/3 [00:00<00:00, 240.11it/s]\n"
          ]
        },
        {
          "output_type": "stream",
          "name": "stdout",
          "text": [
            "1 3 87\n"
          ]
        },
        {
          "output_type": "stream",
          "name": "stderr",
          "text": [
            "100%|██████████| 3/3 [00:00<00:00, 370.36it/s]\n",
            "100%|██████████| 3/3 [00:00<00:00, 160.58it/s]\n"
          ]
        },
        {
          "output_type": "stream",
          "name": "stdout",
          "text": [
            "1 3 88\n"
          ]
        },
        {
          "output_type": "stream",
          "name": "stderr",
          "text": [
            "100%|██████████| 3/3 [00:00<00:00, 164.62it/s]\n",
            "100%|██████████| 3/3 [00:00<00:00, 216.92it/s]\n"
          ]
        },
        {
          "output_type": "stream",
          "name": "stdout",
          "text": [
            "1 3 89\n"
          ]
        },
        {
          "output_type": "stream",
          "name": "stderr",
          "text": [
            "100%|██████████| 3/3 [00:00<00:00, 245.01it/s]\n",
            "100%|██████████| 3/3 [00:00<00:00, 158.51it/s]\n"
          ]
        },
        {
          "output_type": "stream",
          "name": "stdout",
          "text": [
            "1 3 90\n"
          ]
        },
        {
          "output_type": "stream",
          "name": "stderr",
          "text": [
            "100%|██████████| 3/3 [00:00<00:00, 344.25it/s]\n",
            "100%|██████████| 3/3 [00:00<00:00, 278.56it/s]\n"
          ]
        },
        {
          "output_type": "stream",
          "name": "stdout",
          "text": [
            "1 3 91\n"
          ]
        },
        {
          "output_type": "stream",
          "name": "stderr",
          "text": [
            "100%|██████████| 3/3 [00:00<00:00, 151.85it/s]\n",
            "100%|██████████| 3/3 [00:00<00:00, 111.02it/s]\n"
          ]
        },
        {
          "output_type": "stream",
          "name": "stdout",
          "text": [
            "1 3 92\n"
          ]
        },
        {
          "output_type": "stream",
          "name": "stderr",
          "text": [
            "100%|██████████| 3/3 [00:00<00:00, 405.65it/s]\n",
            "100%|██████████| 3/3 [00:00<00:00, 178.88it/s]\n"
          ]
        },
        {
          "output_type": "stream",
          "name": "stdout",
          "text": [
            "1 3 93\n"
          ]
        },
        {
          "output_type": "stream",
          "name": "stderr",
          "text": [
            "100%|██████████| 3/3 [00:00<00:00, 253.87it/s]\n",
            "100%|██████████| 3/3 [00:00<00:00, 344.48it/s]\n"
          ]
        },
        {
          "output_type": "stream",
          "name": "stdout",
          "text": [
            "1 3 94\n"
          ]
        },
        {
          "output_type": "stream",
          "name": "stderr",
          "text": [
            "100%|██████████| 3/3 [00:00<00:00, 241.83it/s]\n",
            "100%|██████████| 3/3 [00:00<00:00, 256.40it/s]\n"
          ]
        },
        {
          "output_type": "stream",
          "name": "stdout",
          "text": [
            "1 3 95\n"
          ]
        },
        {
          "output_type": "stream",
          "name": "stderr",
          "text": [
            "100%|██████████| 3/3 [00:00<00:00, 111.41it/s]\n",
            "100%|██████████| 3/3 [00:00<00:00, 213.06it/s]\n"
          ]
        },
        {
          "output_type": "stream",
          "name": "stdout",
          "text": [
            "1 3 96\n"
          ]
        },
        {
          "output_type": "stream",
          "name": "stderr",
          "text": [
            "100%|██████████| 3/3 [00:00<00:00, 398.75it/s]\n",
            "100%|██████████| 3/3 [00:00<00:00, 340.09it/s]\n"
          ]
        },
        {
          "output_type": "stream",
          "name": "stdout",
          "text": [
            "1 3 97\n"
          ]
        },
        {
          "output_type": "stream",
          "name": "stderr",
          "text": [
            "100%|██████████| 3/3 [00:00<00:00, 192.23it/s]\n",
            "100%|██████████| 3/3 [00:00<00:00, 353.67it/s]\n"
          ]
        },
        {
          "output_type": "stream",
          "name": "stdout",
          "text": [
            "1 3 98\n"
          ]
        },
        {
          "output_type": "stream",
          "name": "stderr",
          "text": [
            "100%|██████████| 3/3 [00:00<00:00, 214.72it/s]\n",
            "100%|██████████| 3/3 [00:00<00:00, 348.40it/s]\n"
          ]
        },
        {
          "output_type": "stream",
          "name": "stdout",
          "text": [
            "1 3 99\n"
          ]
        },
        {
          "output_type": "stream",
          "name": "stderr",
          "text": [
            "100%|██████████| 3/3 [00:00<00:00, 113.74it/s]\n",
            "100%|██████████| 3/3 [00:00<00:00, 190.32it/s]\n"
          ]
        },
        {
          "output_type": "stream",
          "name": "stdout",
          "text": [
            "2 0 0\n"
          ]
        },
        {
          "output_type": "stream",
          "name": "stderr",
          "text": [
            "100%|██████████| 3/3 [00:00<00:00, 127.07it/s]\n",
            "100%|██████████| 3/3 [00:00<00:00, 219.86it/s]\n"
          ]
        },
        {
          "output_type": "stream",
          "name": "stdout",
          "text": [
            "2 0 1\n"
          ]
        },
        {
          "output_type": "stream",
          "name": "stderr",
          "text": [
            "100%|██████████| 3/3 [00:00<00:00, 145.80it/s]\n",
            "100%|██████████| 3/3 [00:00<00:00, 395.34it/s]\n"
          ]
        },
        {
          "output_type": "stream",
          "name": "stdout",
          "text": [
            "2 0 2\n"
          ]
        },
        {
          "output_type": "stream",
          "name": "stderr",
          "text": [
            "100%|██████████| 3/3 [00:00<00:00, 191.94it/s]\n",
            "100%|██████████| 3/3 [00:00<00:00, 140.23it/s]\n"
          ]
        },
        {
          "output_type": "stream",
          "name": "stdout",
          "text": [
            "2 0 3\n"
          ]
        },
        {
          "output_type": "stream",
          "name": "stderr",
          "text": [
            "100%|██████████| 3/3 [00:00<00:00, 81.02it/s]\n",
            "100%|██████████| 3/3 [00:00<00:00, 150.39it/s]\n"
          ]
        },
        {
          "output_type": "stream",
          "name": "stdout",
          "text": [
            "2 0 4\n"
          ]
        },
        {
          "output_type": "stream",
          "name": "stderr",
          "text": [
            "100%|██████████| 3/3 [00:00<00:00, 178.31it/s]\n",
            "100%|██████████| 3/3 [00:00<00:00, 128.67it/s]\n"
          ]
        },
        {
          "output_type": "stream",
          "name": "stdout",
          "text": [
            "2 0 5\n"
          ]
        },
        {
          "output_type": "stream",
          "name": "stderr",
          "text": [
            "100%|██████████| 3/3 [00:00<00:00, 138.86it/s]\n",
            "100%|██████████| 3/3 [00:00<00:00, 134.72it/s]\n"
          ]
        },
        {
          "output_type": "stream",
          "name": "stdout",
          "text": [
            "2 0 6\n"
          ]
        },
        {
          "output_type": "stream",
          "name": "stderr",
          "text": [
            "100%|██████████| 3/3 [00:00<00:00, 193.29it/s]\n",
            "100%|██████████| 3/3 [00:00<00:00, 143.85it/s]\n"
          ]
        },
        {
          "output_type": "stream",
          "name": "stdout",
          "text": [
            "2 0 7\n"
          ]
        },
        {
          "output_type": "stream",
          "name": "stderr",
          "text": [
            "100%|██████████| 3/3 [00:00<00:00, 187.43it/s]\n",
            "100%|██████████| 3/3 [00:00<00:00, 177.41it/s]\n"
          ]
        },
        {
          "output_type": "stream",
          "name": "stdout",
          "text": [
            "2 0 8\n"
          ]
        },
        {
          "output_type": "stream",
          "name": "stderr",
          "text": [
            "100%|██████████| 3/3 [00:00<00:00, 165.94it/s]\n",
            "100%|██████████| 3/3 [00:00<00:00, 136.31it/s]\n"
          ]
        },
        {
          "output_type": "stream",
          "name": "stdout",
          "text": [
            "2 0 9\n"
          ]
        },
        {
          "output_type": "stream",
          "name": "stderr",
          "text": [
            "100%|██████████| 3/3 [00:00<00:00, 165.22it/s]\n",
            "100%|██████████| 3/3 [00:00<00:00, 181.03it/s]\n"
          ]
        },
        {
          "output_type": "stream",
          "name": "stdout",
          "text": [
            "2 0 10\n"
          ]
        },
        {
          "output_type": "stream",
          "name": "stderr",
          "text": [
            "100%|██████████| 3/3 [00:00<00:00, 174.40it/s]\n",
            "100%|██████████| 3/3 [00:00<00:00, 248.73it/s]\n"
          ]
        },
        {
          "output_type": "stream",
          "name": "stdout",
          "text": [
            "2 0 11\n"
          ]
        },
        {
          "output_type": "stream",
          "name": "stderr",
          "text": [
            "100%|██████████| 3/3 [00:00<00:00, 96.21it/s]\n",
            "100%|██████████| 3/3 [00:00<00:00, 246.18it/s]\n"
          ]
        },
        {
          "output_type": "stream",
          "name": "stdout",
          "text": [
            "2 0 12\n"
          ]
        },
        {
          "output_type": "stream",
          "name": "stderr",
          "text": [
            "100%|██████████| 3/3 [00:00<00:00, 164.84it/s]\n",
            "100%|██████████| 3/3 [00:00<00:00, 123.07it/s]\n"
          ]
        },
        {
          "output_type": "stream",
          "name": "stdout",
          "text": [
            "2 0 13\n"
          ]
        },
        {
          "output_type": "stream",
          "name": "stderr",
          "text": [
            "100%|██████████| 3/3 [00:00<00:00, 148.76it/s]\n",
            "100%|██████████| 3/3 [00:00<00:00, 138.57it/s]\n"
          ]
        },
        {
          "output_type": "stream",
          "name": "stdout",
          "text": [
            "2 0 14\n"
          ]
        },
        {
          "output_type": "stream",
          "name": "stderr",
          "text": [
            "100%|██████████| 3/3 [00:00<00:00, 144.89it/s]\n",
            "100%|██████████| 3/3 [00:00<00:00, 65.82it/s]\n"
          ]
        },
        {
          "output_type": "stream",
          "name": "stdout",
          "text": [
            "2 0 15\n"
          ]
        },
        {
          "output_type": "stream",
          "name": "stderr",
          "text": [
            "100%|██████████| 3/3 [00:00<00:00, 211.12it/s]\n",
            "100%|██████████| 3/3 [00:00<00:00, 108.77it/s]\n"
          ]
        },
        {
          "output_type": "stream",
          "name": "stdout",
          "text": [
            "2 0 16\n"
          ]
        },
        {
          "output_type": "stream",
          "name": "stderr",
          "text": [
            "100%|██████████| 3/3 [00:00<00:00, 175.23it/s]\n",
            "100%|██████████| 3/3 [00:00<00:00, 241.57it/s]\n"
          ]
        },
        {
          "output_type": "stream",
          "name": "stdout",
          "text": [
            "2 0 17\n"
          ]
        },
        {
          "output_type": "stream",
          "name": "stderr",
          "text": [
            "100%|██████████| 3/3 [00:00<00:00, 197.70it/s]\n",
            "100%|██████████| 3/3 [00:00<00:00, 255.23it/s]\n"
          ]
        },
        {
          "output_type": "stream",
          "name": "stdout",
          "text": [
            "2 0 18\n"
          ]
        },
        {
          "output_type": "stream",
          "name": "stderr",
          "text": [
            "100%|██████████| 3/3 [00:00<00:00, 197.60it/s]\n",
            "100%|██████████| 3/3 [00:00<00:00, 167.85it/s]\n"
          ]
        },
        {
          "output_type": "stream",
          "name": "stdout",
          "text": [
            "2 0 19\n"
          ]
        },
        {
          "output_type": "stream",
          "name": "stderr",
          "text": [
            "100%|██████████| 3/3 [00:00<00:00, 269.12it/s]\n",
            "100%|██████████| 3/3 [00:00<00:00, 216.43it/s]\n"
          ]
        },
        {
          "output_type": "stream",
          "name": "stdout",
          "text": [
            "2 0 20\n"
          ]
        },
        {
          "output_type": "stream",
          "name": "stderr",
          "text": [
            "100%|██████████| 3/3 [00:00<00:00, 270.71it/s]\n",
            "100%|██████████| 3/3 [00:00<00:00, 195.22it/s]\n"
          ]
        },
        {
          "output_type": "stream",
          "name": "stdout",
          "text": [
            "2 0 21\n"
          ]
        },
        {
          "output_type": "stream",
          "name": "stderr",
          "text": [
            "100%|██████████| 3/3 [00:00<00:00, 228.41it/s]\n",
            "100%|██████████| 3/3 [00:00<00:00, 146.23it/s]\n"
          ]
        },
        {
          "output_type": "stream",
          "name": "stdout",
          "text": [
            "2 0 22\n"
          ]
        },
        {
          "output_type": "stream",
          "name": "stderr",
          "text": [
            "100%|██████████| 3/3 [00:00<00:00, 311.20it/s]\n",
            "100%|██████████| 3/3 [00:00<00:00, 362.82it/s]\n"
          ]
        },
        {
          "output_type": "stream",
          "name": "stdout",
          "text": [
            "2 0 23\n"
          ]
        },
        {
          "output_type": "stream",
          "name": "stderr",
          "text": [
            "100%|██████████| 3/3 [00:00<00:00, 111.08it/s]\n",
            "100%|██████████| 3/3 [00:00<00:00, 100.61it/s]\n"
          ]
        },
        {
          "output_type": "stream",
          "name": "stdout",
          "text": [
            "2 0 24\n"
          ]
        },
        {
          "output_type": "stream",
          "name": "stderr",
          "text": [
            "100%|██████████| 3/3 [00:00<00:00, 187.10it/s]\n",
            "100%|██████████| 3/3 [00:00<00:00, 145.01it/s]\n"
          ]
        },
        {
          "output_type": "stream",
          "name": "stdout",
          "text": [
            "2 0 25\n"
          ]
        },
        {
          "output_type": "stream",
          "name": "stderr",
          "text": [
            "100%|██████████| 3/3 [00:00<00:00, 167.25it/s]\n",
            "100%|██████████| 3/3 [00:00<00:00, 93.41it/s]\n"
          ]
        },
        {
          "output_type": "stream",
          "name": "stdout",
          "text": [
            "2 0 26\n"
          ]
        },
        {
          "output_type": "stream",
          "name": "stderr",
          "text": [
            "100%|██████████| 3/3 [00:00<00:00, 110.96it/s]\n",
            "100%|██████████| 3/3 [00:00<00:00, 185.99it/s]\n"
          ]
        },
        {
          "output_type": "stream",
          "name": "stdout",
          "text": [
            "2 0 27\n"
          ]
        },
        {
          "output_type": "stream",
          "name": "stderr",
          "text": [
            "100%|██████████| 3/3 [00:00<00:00, 171.97it/s]\n",
            "100%|██████████| 3/3 [00:00<00:00, 165.30it/s]\n"
          ]
        },
        {
          "output_type": "stream",
          "name": "stdout",
          "text": [
            "2 0 28\n"
          ]
        },
        {
          "output_type": "stream",
          "name": "stderr",
          "text": [
            "100%|██████████| 3/3 [00:00<00:00, 128.54it/s]\n",
            "100%|██████████| 3/3 [00:00<00:00, 101.90it/s]\n"
          ]
        },
        {
          "output_type": "stream",
          "name": "stdout",
          "text": [
            "2 0 29\n"
          ]
        },
        {
          "output_type": "stream",
          "name": "stderr",
          "text": [
            "100%|██████████| 3/3 [00:00<00:00, 174.54it/s]\n",
            "100%|██████████| 3/3 [00:00<00:00, 139.61it/s]\n"
          ]
        },
        {
          "output_type": "stream",
          "name": "stdout",
          "text": [
            "2 0 30\n"
          ]
        },
        {
          "output_type": "stream",
          "name": "stderr",
          "text": [
            "100%|██████████| 3/3 [00:00<00:00, 186.18it/s]\n",
            "100%|██████████| 3/3 [00:00<00:00, 168.12it/s]\n"
          ]
        },
        {
          "output_type": "stream",
          "name": "stdout",
          "text": [
            "2 0 31\n"
          ]
        },
        {
          "output_type": "stream",
          "name": "stderr",
          "text": [
            "100%|██████████| 3/3 [00:00<00:00, 106.89it/s]\n",
            "100%|██████████| 3/3 [00:00<00:00, 115.74it/s]\n"
          ]
        },
        {
          "output_type": "stream",
          "name": "stdout",
          "text": [
            "2 0 32\n"
          ]
        },
        {
          "output_type": "stream",
          "name": "stderr",
          "text": [
            "100%|██████████| 3/3 [00:00<00:00, 100.33it/s]\n",
            "100%|██████████| 3/3 [00:00<00:00, 181.33it/s]\n"
          ]
        },
        {
          "output_type": "stream",
          "name": "stdout",
          "text": [
            "2 0 33\n"
          ]
        },
        {
          "output_type": "stream",
          "name": "stderr",
          "text": [
            "100%|██████████| 3/3 [00:00<00:00, 146.01it/s]\n",
            "100%|██████████| 3/3 [00:00<00:00, 110.80it/s]\n"
          ]
        },
        {
          "output_type": "stream",
          "name": "stdout",
          "text": [
            "2 0 34\n"
          ]
        },
        {
          "output_type": "stream",
          "name": "stderr",
          "text": [
            "100%|██████████| 3/3 [00:00<00:00, 124.50it/s]\n",
            "100%|██████████| 3/3 [00:00<00:00, 139.15it/s]\n"
          ]
        },
        {
          "output_type": "stream",
          "name": "stdout",
          "text": [
            "2 0 35\n"
          ]
        },
        {
          "output_type": "stream",
          "name": "stderr",
          "text": [
            "100%|██████████| 3/3 [00:00<00:00, 165.63it/s]\n",
            "100%|██████████| 3/3 [00:00<00:00, 148.35it/s]\n"
          ]
        },
        {
          "output_type": "stream",
          "name": "stdout",
          "text": [
            "2 0 36\n"
          ]
        },
        {
          "output_type": "stream",
          "name": "stderr",
          "text": [
            "100%|██████████| 3/3 [00:00<00:00, 113.15it/s]\n",
            "100%|██████████| 3/3 [00:00<00:00, 198.84it/s]\n"
          ]
        },
        {
          "output_type": "stream",
          "name": "stdout",
          "text": [
            "2 0 37\n"
          ]
        },
        {
          "output_type": "stream",
          "name": "stderr",
          "text": [
            "100%|██████████| 3/3 [00:00<00:00, 199.81it/s]\n",
            "100%|██████████| 3/3 [00:00<00:00, 98.49it/s]\n"
          ]
        },
        {
          "output_type": "stream",
          "name": "stdout",
          "text": [
            "2 0 38\n"
          ]
        },
        {
          "output_type": "stream",
          "name": "stderr",
          "text": [
            "100%|██████████| 3/3 [00:00<00:00, 191.17it/s]\n",
            "100%|██████████| 3/3 [00:00<00:00, 185.21it/s]\n"
          ]
        },
        {
          "output_type": "stream",
          "name": "stdout",
          "text": [
            "2 0 39\n"
          ]
        },
        {
          "output_type": "stream",
          "name": "stderr",
          "text": [
            "100%|██████████| 3/3 [00:00<00:00, 169.62it/s]\n",
            "100%|██████████| 3/3 [00:00<00:00, 175.73it/s]\n"
          ]
        },
        {
          "output_type": "stream",
          "name": "stdout",
          "text": [
            "2 0 40\n"
          ]
        },
        {
          "output_type": "stream",
          "name": "stderr",
          "text": [
            "100%|██████████| 3/3 [00:00<00:00, 182.33it/s]\n",
            "100%|██████████| 3/3 [00:00<00:00, 196.31it/s]\n"
          ]
        },
        {
          "output_type": "stream",
          "name": "stdout",
          "text": [
            "2 0 41\n"
          ]
        },
        {
          "output_type": "stream",
          "name": "stderr",
          "text": [
            "100%|██████████| 3/3 [00:00<00:00, 129.80it/s]\n",
            "100%|██████████| 3/3 [00:00<00:00, 220.69it/s]\n"
          ]
        },
        {
          "output_type": "stream",
          "name": "stdout",
          "text": [
            "2 0 42\n"
          ]
        },
        {
          "output_type": "stream",
          "name": "stderr",
          "text": [
            "100%|██████████| 3/3 [00:00<00:00, 198.27it/s]\n",
            "100%|██████████| 3/3 [00:00<00:00, 130.57it/s]\n"
          ]
        },
        {
          "output_type": "stream",
          "name": "stdout",
          "text": [
            "2 0 43\n"
          ]
        },
        {
          "output_type": "stream",
          "name": "stderr",
          "text": [
            "100%|██████████| 3/3 [00:00<00:00, 333.15it/s]\n",
            "100%|██████████| 3/3 [00:00<00:00, 342.06it/s]\n"
          ]
        },
        {
          "output_type": "stream",
          "name": "stdout",
          "text": [
            "2 0 44\n"
          ]
        },
        {
          "output_type": "stream",
          "name": "stderr",
          "text": [
            "100%|██████████| 3/3 [00:00<00:00, 112.47it/s]\n",
            "100%|██████████| 3/3 [00:00<00:00, 155.47it/s]\n"
          ]
        },
        {
          "output_type": "stream",
          "name": "stdout",
          "text": [
            "2 0 45\n"
          ]
        },
        {
          "output_type": "stream",
          "name": "stderr",
          "text": [
            "100%|██████████| 3/3 [00:00<00:00, 293.83it/s]\n",
            "100%|██████████| 3/3 [00:00<00:00, 152.73it/s]\n"
          ]
        },
        {
          "output_type": "stream",
          "name": "stdout",
          "text": [
            "2 0 46\n"
          ]
        },
        {
          "output_type": "stream",
          "name": "stderr",
          "text": [
            "100%|██████████| 3/3 [00:00<00:00, 344.95it/s]\n",
            "100%|██████████| 3/3 [00:00<00:00, 198.28it/s]\n"
          ]
        },
        {
          "output_type": "stream",
          "name": "stdout",
          "text": [
            "2 0 47\n"
          ]
        },
        {
          "output_type": "stream",
          "name": "stderr",
          "text": [
            "100%|██████████| 3/3 [00:00<00:00, 228.23it/s]\n",
            "100%|██████████| 3/3 [00:00<00:00, 293.08it/s]\n"
          ]
        },
        {
          "output_type": "stream",
          "name": "stdout",
          "text": [
            "2 0 48\n"
          ]
        },
        {
          "output_type": "stream",
          "name": "stderr",
          "text": [
            "100%|██████████| 3/3 [00:00<00:00, 300.95it/s]\n",
            "100%|██████████| 3/3 [00:00<00:00, 183.67it/s]\n"
          ]
        },
        {
          "output_type": "stream",
          "name": "stdout",
          "text": [
            "2 0 49\n"
          ]
        },
        {
          "output_type": "stream",
          "name": "stderr",
          "text": [
            "100%|██████████| 3/3 [00:00<00:00, 104.05it/s]\n",
            "100%|██████████| 3/3 [00:00<00:00, 141.35it/s]\n"
          ]
        },
        {
          "output_type": "stream",
          "name": "stdout",
          "text": [
            "2 0 50\n"
          ]
        },
        {
          "output_type": "stream",
          "name": "stderr",
          "text": [
            "100%|██████████| 3/3 [00:00<00:00, 239.63it/s]\n",
            "100%|██████████| 3/3 [00:00<00:00, 119.22it/s]\n"
          ]
        },
        {
          "output_type": "stream",
          "name": "stdout",
          "text": [
            "2 0 51\n"
          ]
        },
        {
          "output_type": "stream",
          "name": "stderr",
          "text": [
            "100%|██████████| 3/3 [00:00<00:00, 93.17it/s]\n",
            "100%|██████████| 3/3 [00:00<00:00, 94.33it/s]\n"
          ]
        },
        {
          "output_type": "stream",
          "name": "stdout",
          "text": [
            "2 0 52\n"
          ]
        },
        {
          "output_type": "stream",
          "name": "stderr",
          "text": [
            "100%|██████████| 3/3 [00:00<00:00, 107.90it/s]\n",
            "100%|██████████| 3/3 [00:00<00:00, 107.02it/s]\n"
          ]
        },
        {
          "output_type": "stream",
          "name": "stdout",
          "text": [
            "2 0 53\n"
          ]
        },
        {
          "output_type": "stream",
          "name": "stderr",
          "text": [
            "100%|██████████| 3/3 [00:00<00:00, 197.61it/s]\n",
            "100%|██████████| 3/3 [00:00<00:00, 113.16it/s]\n"
          ]
        },
        {
          "output_type": "stream",
          "name": "stdout",
          "text": [
            "2 0 54\n"
          ]
        },
        {
          "output_type": "stream",
          "name": "stderr",
          "text": [
            "100%|██████████| 3/3 [00:00<00:00, 89.28it/s]\n",
            "100%|██████████| 3/3 [00:00<00:00, 101.43it/s]\n"
          ]
        },
        {
          "output_type": "stream",
          "name": "stdout",
          "text": [
            "2 0 55\n"
          ]
        },
        {
          "output_type": "stream",
          "name": "stderr",
          "text": [
            "100%|██████████| 3/3 [00:00<00:00, 193.09it/s]\n",
            "100%|██████████| 3/3 [00:00<00:00, 125.44it/s]\n"
          ]
        },
        {
          "output_type": "stream",
          "name": "stdout",
          "text": [
            "2 0 56\n"
          ]
        },
        {
          "output_type": "stream",
          "name": "stderr",
          "text": [
            "100%|██████████| 3/3 [00:00<00:00, 155.38it/s]\n",
            "100%|██████████| 3/3 [00:00<00:00, 182.96it/s]\n"
          ]
        },
        {
          "output_type": "stream",
          "name": "stdout",
          "text": [
            "2 0 57\n"
          ]
        },
        {
          "output_type": "stream",
          "name": "stderr",
          "text": [
            "100%|██████████| 3/3 [00:00<00:00, 137.43it/s]\n",
            "100%|██████████| 3/3 [00:00<00:00, 191.06it/s]\n"
          ]
        },
        {
          "output_type": "stream",
          "name": "stdout",
          "text": [
            "2 0 58\n"
          ]
        },
        {
          "output_type": "stream",
          "name": "stderr",
          "text": [
            "100%|██████████| 3/3 [00:00<00:00, 161.29it/s]\n",
            "100%|██████████| 3/3 [00:00<00:00, 193.15it/s]\n"
          ]
        },
        {
          "output_type": "stream",
          "name": "stdout",
          "text": [
            "2 0 59\n"
          ]
        },
        {
          "output_type": "stream",
          "name": "stderr",
          "text": [
            "100%|██████████| 3/3 [00:00<00:00, 64.47it/s]\n",
            "100%|██████████| 3/3 [00:00<00:00, 174.15it/s]\n"
          ]
        },
        {
          "output_type": "stream",
          "name": "stdout",
          "text": [
            "2 0 60\n"
          ]
        },
        {
          "output_type": "stream",
          "name": "stderr",
          "text": [
            "100%|██████████| 3/3 [00:00<00:00, 102.34it/s]\n",
            "100%|██████████| 3/3 [00:00<00:00, 101.28it/s]\n"
          ]
        },
        {
          "output_type": "stream",
          "name": "stdout",
          "text": [
            "2 0 61\n"
          ]
        },
        {
          "output_type": "stream",
          "name": "stderr",
          "text": [
            "100%|██████████| 3/3 [00:00<00:00, 85.85it/s]\n",
            "100%|██████████| 3/3 [00:00<00:00, 97.23it/s]"
          ]
        },
        {
          "output_type": "stream",
          "name": "stdout",
          "text": [
            "2 0 62\n"
          ]
        },
        {
          "output_type": "stream",
          "name": "stderr",
          "text": [
            "\n",
            "100%|██████████| 3/3 [00:00<00:00, 92.57it/s]\n",
            "100%|██████████| 3/3 [00:00<00:00, 191.20it/s]\n"
          ]
        },
        {
          "output_type": "stream",
          "name": "stdout",
          "text": [
            "2 0 63\n"
          ]
        },
        {
          "output_type": "stream",
          "name": "stderr",
          "text": [
            "100%|██████████| 3/3 [00:00<00:00, 184.64it/s]\n",
            "100%|██████████| 3/3 [00:00<00:00, 172.98it/s]\n"
          ]
        },
        {
          "output_type": "stream",
          "name": "stdout",
          "text": [
            "2 0 64\n"
          ]
        },
        {
          "output_type": "stream",
          "name": "stderr",
          "text": [
            "100%|██████████| 3/3 [00:00<00:00, 186.18it/s]\n",
            "100%|██████████| 3/3 [00:00<00:00, 199.33it/s]\n"
          ]
        },
        {
          "output_type": "stream",
          "name": "stdout",
          "text": [
            "2 0 65\n"
          ]
        },
        {
          "output_type": "stream",
          "name": "stderr",
          "text": [
            "100%|██████████| 3/3 [00:00<00:00, 265.80it/s]\n",
            "100%|██████████| 3/3 [00:00<00:00, 515.02it/s]\n"
          ]
        },
        {
          "output_type": "stream",
          "name": "stdout",
          "text": [
            "2 0 66\n"
          ]
        },
        {
          "output_type": "stream",
          "name": "stderr",
          "text": [
            "100%|██████████| 3/3 [00:00<00:00, 227.35it/s]\n",
            "100%|██████████| 3/3 [00:00<00:00, 134.42it/s]\n"
          ]
        },
        {
          "output_type": "stream",
          "name": "stdout",
          "text": [
            "2 0 67\n"
          ]
        },
        {
          "output_type": "stream",
          "name": "stderr",
          "text": [
            "100%|██████████| 3/3 [00:00<00:00, 197.03it/s]\n",
            "100%|██████████| 3/3 [00:00<00:00, 179.64it/s]\n"
          ]
        },
        {
          "output_type": "stream",
          "name": "stdout",
          "text": [
            "2 0 68\n"
          ]
        },
        {
          "output_type": "stream",
          "name": "stderr",
          "text": [
            "100%|██████████| 3/3 [00:00<00:00, 91.00it/s]\n",
            "100%|██████████| 3/3 [00:00<00:00, 190.54it/s]\n"
          ]
        },
        {
          "output_type": "stream",
          "name": "stdout",
          "text": [
            "2 0 69\n"
          ]
        },
        {
          "output_type": "stream",
          "name": "stderr",
          "text": [
            "100%|██████████| 3/3 [00:00<00:00, 194.44it/s]\n",
            "100%|██████████| 3/3 [00:00<00:00, 121.88it/s]\n"
          ]
        },
        {
          "output_type": "stream",
          "name": "stdout",
          "text": [
            "2 0 70\n"
          ]
        },
        {
          "output_type": "stream",
          "name": "stderr",
          "text": [
            "100%|██████████| 3/3 [00:00<00:00, 192.54it/s]\n",
            "100%|██████████| 3/3 [00:00<00:00, 196.11it/s]\n"
          ]
        },
        {
          "output_type": "stream",
          "name": "stdout",
          "text": [
            "2 0 71\n"
          ]
        },
        {
          "output_type": "stream",
          "name": "stderr",
          "text": [
            "100%|██████████| 3/3 [00:00<00:00, 195.00it/s]\n",
            "100%|██████████| 3/3 [00:00<00:00, 176.70it/s]\n"
          ]
        },
        {
          "output_type": "stream",
          "name": "stdout",
          "text": [
            "2 0 72\n"
          ]
        },
        {
          "output_type": "stream",
          "name": "stderr",
          "text": [
            "100%|██████████| 3/3 [00:00<00:00, 114.05it/s]\n",
            "100%|██████████| 3/3 [00:00<00:00, 166.29it/s]\n"
          ]
        },
        {
          "output_type": "stream",
          "name": "stdout",
          "text": [
            "2 0 73\n"
          ]
        },
        {
          "output_type": "stream",
          "name": "stderr",
          "text": [
            "100%|██████████| 3/3 [00:00<00:00, 172.79it/s]\n",
            "100%|██████████| 3/3 [00:00<00:00, 133.36it/s]\n"
          ]
        },
        {
          "output_type": "stream",
          "name": "stdout",
          "text": [
            "2 0 74\n"
          ]
        },
        {
          "output_type": "stream",
          "name": "stderr",
          "text": [
            "100%|██████████| 3/3 [00:00<00:00, 135.54it/s]\n",
            "100%|██████████| 3/3 [00:00<00:00, 109.85it/s]\n"
          ]
        },
        {
          "output_type": "stream",
          "name": "stdout",
          "text": [
            "2 0 75\n"
          ]
        },
        {
          "output_type": "stream",
          "name": "stderr",
          "text": [
            "100%|██████████| 3/3 [00:00<00:00, 190.55it/s]\n",
            "100%|██████████| 3/3 [00:00<00:00, 97.28it/s]\n"
          ]
        },
        {
          "output_type": "stream",
          "name": "stdout",
          "text": [
            "2 0 76\n"
          ]
        },
        {
          "output_type": "stream",
          "name": "stderr",
          "text": [
            "100%|██████████| 3/3 [00:00<00:00, 112.95it/s]\n",
            "100%|██████████| 3/3 [00:00<00:00, 192.13it/s]\n"
          ]
        },
        {
          "output_type": "stream",
          "name": "stdout",
          "text": [
            "2 0 77\n"
          ]
        },
        {
          "output_type": "stream",
          "name": "stderr",
          "text": [
            "100%|██████████| 3/3 [00:00<00:00, 147.76it/s]\n",
            "100%|██████████| 3/3 [00:00<00:00, 103.24it/s]\n"
          ]
        },
        {
          "output_type": "stream",
          "name": "stdout",
          "text": [
            "2 0 78\n"
          ]
        },
        {
          "output_type": "stream",
          "name": "stderr",
          "text": [
            "100%|██████████| 3/3 [00:00<00:00, 350.66it/s]\n",
            "100%|██████████| 3/3 [00:00<00:00, 402.34it/s]\n"
          ]
        },
        {
          "output_type": "stream",
          "name": "stdout",
          "text": [
            "2 0 79\n"
          ]
        },
        {
          "output_type": "stream",
          "name": "stderr",
          "text": [
            "100%|██████████| 3/3 [00:00<00:00, 162.68it/s]\n",
            "100%|██████████| 3/3 [00:00<00:00, 126.65it/s]"
          ]
        },
        {
          "output_type": "stream",
          "name": "stdout",
          "text": [
            "2 0 80\n"
          ]
        },
        {
          "output_type": "stream",
          "name": "stderr",
          "text": [
            "\n",
            "100%|██████████| 3/3 [00:00<00:00, 174.84it/s]\n",
            "100%|██████████| 3/3 [00:00<00:00, 198.43it/s]\n"
          ]
        },
        {
          "output_type": "stream",
          "name": "stdout",
          "text": [
            "2 0 81\n"
          ]
        },
        {
          "output_type": "stream",
          "name": "stderr",
          "text": [
            "100%|██████████| 3/3 [00:00<00:00, 167.93it/s]\n",
            "100%|██████████| 3/3 [00:00<00:00, 159.70it/s]\n"
          ]
        },
        {
          "output_type": "stream",
          "name": "stdout",
          "text": [
            "2 0 82\n"
          ]
        },
        {
          "output_type": "stream",
          "name": "stderr",
          "text": [
            "100%|██████████| 3/3 [00:00<00:00, 138.11it/s]\n",
            "100%|██████████| 3/3 [00:00<00:00, 64.86it/s]"
          ]
        },
        {
          "output_type": "stream",
          "name": "stdout",
          "text": [
            "2 0 83\n"
          ]
        },
        {
          "output_type": "stream",
          "name": "stderr",
          "text": [
            "\n",
            "100%|██████████| 3/3 [00:00<00:00, 129.05it/s]\n",
            "100%|██████████| 3/3 [00:00<00:00, 124.43it/s]\n"
          ]
        },
        {
          "output_type": "stream",
          "name": "stdout",
          "text": [
            "2 0 84\n"
          ]
        },
        {
          "output_type": "stream",
          "name": "stderr",
          "text": [
            "100%|██████████| 3/3 [00:00<00:00, 193.91it/s]\n",
            "100%|██████████| 3/3 [00:00<00:00, 191.43it/s]\n"
          ]
        },
        {
          "output_type": "stream",
          "name": "stdout",
          "text": [
            "2 0 85\n"
          ]
        },
        {
          "output_type": "stream",
          "name": "stderr",
          "text": [
            "100%|██████████| 3/3 [00:00<00:00, 205.09it/s]\n",
            "100%|██████████| 3/3 [00:00<00:00, 158.12it/s]\n"
          ]
        },
        {
          "output_type": "stream",
          "name": "stdout",
          "text": [
            "2 0 86\n"
          ]
        },
        {
          "output_type": "stream",
          "name": "stderr",
          "text": [
            "100%|██████████| 3/3 [00:00<00:00, 128.68it/s]\n",
            "100%|██████████| 3/3 [00:00<00:00, 70.93it/s]\n"
          ]
        },
        {
          "output_type": "stream",
          "name": "stdout",
          "text": [
            "2 0 87\n"
          ]
        },
        {
          "output_type": "stream",
          "name": "stderr",
          "text": [
            "100%|██████████| 3/3 [00:00<00:00, 167.41it/s]\n",
            "100%|██████████| 3/3 [00:00<00:00, 159.67it/s]\n"
          ]
        },
        {
          "output_type": "stream",
          "name": "stdout",
          "text": [
            "2 0 88\n"
          ]
        },
        {
          "output_type": "stream",
          "name": "stderr",
          "text": [
            "100%|██████████| 3/3 [00:00<00:00, 155.05it/s]\n",
            "100%|██████████| 3/3 [00:00<00:00, 171.20it/s]\n"
          ]
        },
        {
          "output_type": "stream",
          "name": "stdout",
          "text": [
            "2 0 89\n"
          ]
        },
        {
          "output_type": "stream",
          "name": "stderr",
          "text": [
            "100%|██████████| 3/3 [00:00<00:00, 143.24it/s]\n",
            "100%|██████████| 3/3 [00:00<00:00, 145.28it/s]\n"
          ]
        },
        {
          "output_type": "stream",
          "name": "stdout",
          "text": [
            "2 0 90\n"
          ]
        },
        {
          "output_type": "stream",
          "name": "stderr",
          "text": [
            "100%|██████████| 3/3 [00:00<00:00, 250.14it/s]\n",
            "100%|██████████| 3/3 [00:00<00:00, 223.33it/s]\n"
          ]
        },
        {
          "output_type": "stream",
          "name": "stdout",
          "text": [
            "2 0 91\n"
          ]
        },
        {
          "output_type": "stream",
          "name": "stderr",
          "text": [
            "100%|██████████| 3/3 [00:00<00:00, 171.39it/s]\n",
            "100%|██████████| 3/3 [00:00<00:00, 132.71it/s]\n"
          ]
        },
        {
          "output_type": "stream",
          "name": "stdout",
          "text": [
            "2 0 92\n"
          ]
        },
        {
          "output_type": "stream",
          "name": "stderr",
          "text": [
            "100%|██████████| 3/3 [00:00<00:00, 135.80it/s]\n",
            "100%|██████████| 3/3 [00:00<00:00, 85.96it/s]\n"
          ]
        },
        {
          "output_type": "stream",
          "name": "stdout",
          "text": [
            "2 0 93\n"
          ]
        },
        {
          "output_type": "stream",
          "name": "stderr",
          "text": [
            "100%|██████████| 3/3 [00:00<00:00, 178.73it/s]\n",
            "100%|██████████| 3/3 [00:00<00:00, 162.22it/s]\n"
          ]
        },
        {
          "output_type": "stream",
          "name": "stdout",
          "text": [
            "2 0 94\n"
          ]
        },
        {
          "output_type": "stream",
          "name": "stderr",
          "text": [
            "100%|██████████| 3/3 [00:00<00:00, 117.04it/s]\n",
            "100%|██████████| 3/3 [00:00<00:00, 164.39it/s]\n"
          ]
        },
        {
          "output_type": "stream",
          "name": "stdout",
          "text": [
            "2 0 95\n"
          ]
        },
        {
          "output_type": "stream",
          "name": "stderr",
          "text": [
            "100%|██████████| 3/3 [00:00<00:00, 102.63it/s]\n",
            "100%|██████████| 3/3 [00:00<00:00, 117.34it/s]\n"
          ]
        },
        {
          "output_type": "stream",
          "name": "stdout",
          "text": [
            "2 0 96\n"
          ]
        },
        {
          "output_type": "stream",
          "name": "stderr",
          "text": [
            "100%|██████████| 3/3 [00:00<00:00, 176.35it/s]\n",
            "100%|██████████| 3/3 [00:00<00:00, 173.36it/s]\n"
          ]
        },
        {
          "output_type": "stream",
          "name": "stdout",
          "text": [
            "2 0 97\n"
          ]
        },
        {
          "output_type": "stream",
          "name": "stderr",
          "text": [
            "100%|██████████| 3/3 [00:00<00:00, 218.51it/s]\n",
            "100%|██████████| 3/3 [00:00<00:00, 386.04it/s]\n"
          ]
        },
        {
          "output_type": "stream",
          "name": "stdout",
          "text": [
            "2 0 98\n"
          ]
        },
        {
          "output_type": "stream",
          "name": "stderr",
          "text": [
            "100%|██████████| 3/3 [00:00<00:00, 167.55it/s]\n",
            "100%|██████████| 3/3 [00:00<00:00, 123.10it/s]\n"
          ]
        },
        {
          "output_type": "stream",
          "name": "stdout",
          "text": [
            "2 0 99\n"
          ]
        },
        {
          "output_type": "stream",
          "name": "stderr",
          "text": [
            "100%|██████████| 3/3 [00:00<00:00, 103.13it/s]\n",
            "100%|██████████| 3/3 [00:00<00:00, 111.11it/s]\n"
          ]
        },
        {
          "output_type": "stream",
          "name": "stdout",
          "text": [
            "2 1 0\n"
          ]
        },
        {
          "output_type": "stream",
          "name": "stderr",
          "text": [
            "100%|██████████| 3/3 [00:00<00:00, 177.98it/s]\n",
            "100%|██████████| 3/3 [00:00<00:00, 202.73it/s]\n"
          ]
        },
        {
          "output_type": "stream",
          "name": "stdout",
          "text": [
            "2 1 1\n"
          ]
        },
        {
          "output_type": "stream",
          "name": "stderr",
          "text": [
            "100%|██████████| 3/3 [00:00<00:00, 164.33it/s]\n",
            "100%|██████████| 3/3 [00:00<00:00, 149.45it/s]\n"
          ]
        },
        {
          "output_type": "stream",
          "name": "stdout",
          "text": [
            "2 1 2\n"
          ]
        },
        {
          "output_type": "stream",
          "name": "stderr",
          "text": [
            "100%|██████████| 3/3 [00:00<00:00, 383.59it/s]\n",
            "100%|██████████| 3/3 [00:00<00:00, 340.71it/s]\n"
          ]
        },
        {
          "output_type": "stream",
          "name": "stdout",
          "text": [
            "2 1 3\n"
          ]
        },
        {
          "output_type": "stream",
          "name": "stderr",
          "text": [
            "100%|██████████| 3/3 [00:00<00:00, 93.11it/s]\n",
            "100%|██████████| 3/3 [00:00<00:00, 84.35it/s]\n"
          ]
        },
        {
          "output_type": "stream",
          "name": "stdout",
          "text": [
            "2 1 4\n"
          ]
        },
        {
          "output_type": "stream",
          "name": "stderr",
          "text": [
            "100%|██████████| 3/3 [00:00<00:00, 166.49it/s]\n",
            "100%|██████████| 3/3 [00:00<00:00, 194.66it/s]\n"
          ]
        },
        {
          "output_type": "stream",
          "name": "stdout",
          "text": [
            "2 1 5\n"
          ]
        },
        {
          "output_type": "stream",
          "name": "stderr",
          "text": [
            "100%|██████████| 3/3 [00:00<00:00, 260.55it/s]\n",
            "100%|██████████| 3/3 [00:00<00:00, 288.94it/s]\n"
          ]
        },
        {
          "output_type": "stream",
          "name": "stdout",
          "text": [
            "2 1 6\n"
          ]
        },
        {
          "output_type": "stream",
          "name": "stderr",
          "text": [
            "100%|██████████| 3/3 [00:00<00:00, 168.87it/s]\n",
            "100%|██████████| 3/3 [00:00<00:00, 198.47it/s]\n"
          ]
        },
        {
          "output_type": "stream",
          "name": "stdout",
          "text": [
            "2 1 7\n"
          ]
        },
        {
          "output_type": "stream",
          "name": "stderr",
          "text": [
            "100%|██████████| 3/3 [00:00<00:00, 64.54it/s]\n",
            "100%|██████████| 3/3 [00:00<00:00, 161.14it/s]\n"
          ]
        },
        {
          "output_type": "stream",
          "name": "stdout",
          "text": [
            "2 1 8\n"
          ]
        },
        {
          "output_type": "stream",
          "name": "stderr",
          "text": [
            "100%|██████████| 3/3 [00:00<00:00, 94.23it/s]\n",
            "100%|██████████| 3/3 [00:00<00:00, 132.80it/s]\n"
          ]
        },
        {
          "output_type": "stream",
          "name": "stdout",
          "text": [
            "2 1 9\n"
          ]
        },
        {
          "output_type": "stream",
          "name": "stderr",
          "text": [
            "100%|██████████| 3/3 [00:00<00:00, 387.11it/s]\n",
            "100%|██████████| 3/3 [00:00<00:00, 443.00it/s]\n"
          ]
        },
        {
          "output_type": "stream",
          "name": "stdout",
          "text": [
            "2 1 10\n"
          ]
        },
        {
          "output_type": "stream",
          "name": "stderr",
          "text": [
            "100%|██████████| 3/3 [00:00<00:00, 110.16it/s]\n",
            "100%|██████████| 3/3 [00:00<00:00, 435.88it/s]\n"
          ]
        },
        {
          "output_type": "stream",
          "name": "stdout",
          "text": [
            "2 1 11\n"
          ]
        },
        {
          "output_type": "stream",
          "name": "stderr",
          "text": [
            "100%|██████████| 3/3 [00:00<00:00, 172.31it/s]\n",
            "100%|██████████| 3/3 [00:00<00:00, 270.27it/s]\n"
          ]
        },
        {
          "output_type": "stream",
          "name": "stdout",
          "text": [
            "2 1 12\n"
          ]
        },
        {
          "output_type": "stream",
          "name": "stderr",
          "text": [
            "100%|██████████| 3/3 [00:00<00:00, 159.90it/s]\n",
            "100%|██████████| 3/3 [00:00<00:00, 334.66it/s]\n"
          ]
        },
        {
          "output_type": "stream",
          "name": "stdout",
          "text": [
            "2 1 13\n"
          ]
        },
        {
          "output_type": "stream",
          "name": "stderr",
          "text": [
            "100%|██████████| 3/3 [00:00<00:00, 183.58it/s]\n",
            "100%|██████████| 3/3 [00:00<00:00, 274.57it/s]\n"
          ]
        },
        {
          "output_type": "stream",
          "name": "stdout",
          "text": [
            "2 1 14\n"
          ]
        },
        {
          "output_type": "stream",
          "name": "stderr",
          "text": [
            "100%|██████████| 3/3 [00:00<00:00, 200.83it/s]\n",
            "100%|██████████| 3/3 [00:00<00:00, 174.53it/s]\n"
          ]
        },
        {
          "output_type": "stream",
          "name": "stdout",
          "text": [
            "2 1 15\n"
          ]
        },
        {
          "output_type": "stream",
          "name": "stderr",
          "text": [
            "100%|██████████| 3/3 [00:00<00:00, 186.01it/s]\n",
            "100%|██████████| 3/3 [00:00<00:00, 183.33it/s]\n"
          ]
        },
        {
          "output_type": "stream",
          "name": "stdout",
          "text": [
            "2 1 16\n"
          ]
        },
        {
          "output_type": "stream",
          "name": "stderr",
          "text": [
            "100%|██████████| 3/3 [00:00<00:00, 169.75it/s]\n",
            "100%|██████████| 3/3 [00:00<00:00, 188.11it/s]\n"
          ]
        },
        {
          "output_type": "stream",
          "name": "stdout",
          "text": [
            "2 1 17\n"
          ]
        },
        {
          "output_type": "stream",
          "name": "stderr",
          "text": [
            "100%|██████████| 3/3 [00:00<00:00, 175.37it/s]\n",
            "100%|██████████| 3/3 [00:00<00:00, 229.41it/s]\n"
          ]
        },
        {
          "output_type": "stream",
          "name": "stdout",
          "text": [
            "2 1 18\n"
          ]
        },
        {
          "output_type": "stream",
          "name": "stderr",
          "text": [
            "100%|██████████| 3/3 [00:00<00:00, 78.44it/s]\n",
            "100%|██████████| 3/3 [00:00<00:00, 165.49it/s]\n"
          ]
        },
        {
          "output_type": "stream",
          "name": "stdout",
          "text": [
            "2 1 19\n"
          ]
        },
        {
          "output_type": "stream",
          "name": "stderr",
          "text": [
            "100%|██████████| 3/3 [00:00<00:00, 208.57it/s]\n",
            "100%|██████████| 3/3 [00:00<00:00, 400.92it/s]\n"
          ]
        },
        {
          "output_type": "stream",
          "name": "stdout",
          "text": [
            "2 1 20\n"
          ]
        },
        {
          "output_type": "stream",
          "name": "stderr",
          "text": [
            "100%|██████████| 3/3 [00:00<00:00, 170.45it/s]\n",
            "100%|██████████| 3/3 [00:00<00:00, 84.22it/s]\n"
          ]
        },
        {
          "output_type": "stream",
          "name": "stdout",
          "text": [
            "2 1 21\n"
          ]
        },
        {
          "output_type": "stream",
          "name": "stderr",
          "text": [
            "100%|██████████| 3/3 [00:00<00:00, 218.67it/s]\n",
            "100%|██████████| 3/3 [00:00<00:00, 157.54it/s]\n"
          ]
        },
        {
          "output_type": "stream",
          "name": "stdout",
          "text": [
            "2 1 22\n"
          ]
        },
        {
          "output_type": "stream",
          "name": "stderr",
          "text": [
            "100%|██████████| 3/3 [00:00<00:00, 166.36it/s]\n",
            "100%|██████████| 3/3 [00:00<00:00, 115.20it/s]\n"
          ]
        },
        {
          "output_type": "stream",
          "name": "stdout",
          "text": [
            "2 1 23\n"
          ]
        },
        {
          "output_type": "stream",
          "name": "stderr",
          "text": [
            "100%|██████████| 3/3 [00:00<00:00, 345.30it/s]\n",
            "100%|██████████| 3/3 [00:00<00:00, 279.08it/s]\n"
          ]
        },
        {
          "output_type": "stream",
          "name": "stdout",
          "text": [
            "2 1 24\n"
          ]
        },
        {
          "output_type": "stream",
          "name": "stderr",
          "text": [
            "100%|██████████| 3/3 [00:00<00:00, 88.83it/s]\n",
            "100%|██████████| 3/3 [00:00<00:00, 129.49it/s]\n"
          ]
        },
        {
          "output_type": "stream",
          "name": "stdout",
          "text": [
            "2 1 25\n"
          ]
        },
        {
          "output_type": "stream",
          "name": "stderr",
          "text": [
            "100%|██████████| 3/3 [00:00<00:00, 241.60it/s]\n",
            "100%|██████████| 3/3 [00:00<00:00, 238.25it/s]\n"
          ]
        },
        {
          "output_type": "stream",
          "name": "stdout",
          "text": [
            "2 1 26\n"
          ]
        },
        {
          "output_type": "stream",
          "name": "stderr",
          "text": [
            "100%|██████████| 3/3 [00:00<00:00, 151.98it/s]\n",
            "100%|██████████| 3/3 [00:00<00:00, 171.42it/s]\n"
          ]
        },
        {
          "output_type": "stream",
          "name": "stdout",
          "text": [
            "2 1 27\n"
          ]
        },
        {
          "output_type": "stream",
          "name": "stderr",
          "text": [
            "100%|██████████| 3/3 [00:00<00:00, 176.45it/s]\n",
            "100%|██████████| 3/3 [00:00<00:00, 281.40it/s]\n"
          ]
        },
        {
          "output_type": "stream",
          "name": "stdout",
          "text": [
            "2 1 28\n"
          ]
        },
        {
          "output_type": "stream",
          "name": "stderr",
          "text": [
            "100%|██████████| 3/3 [00:00<00:00, 395.02it/s]\n",
            "100%|██████████| 3/3 [00:00<00:00, 281.19it/s]\n"
          ]
        },
        {
          "output_type": "stream",
          "name": "stdout",
          "text": [
            "2 1 29\n"
          ]
        },
        {
          "output_type": "stream",
          "name": "stderr",
          "text": [
            "100%|██████████| 3/3 [00:00<00:00, 248.03it/s]\n",
            "100%|██████████| 3/3 [00:00<00:00, 451.40it/s]\n"
          ]
        },
        {
          "output_type": "stream",
          "name": "stdout",
          "text": [
            "2 1 30\n"
          ]
        },
        {
          "output_type": "stream",
          "name": "stderr",
          "text": [
            "100%|██████████| 3/3 [00:00<00:00, 291.33it/s]\n",
            "100%|██████████| 3/3 [00:00<00:00, 255.57it/s]\n"
          ]
        },
        {
          "output_type": "stream",
          "name": "stdout",
          "text": [
            "2 1 31\n"
          ]
        },
        {
          "output_type": "stream",
          "name": "stderr",
          "text": [
            "100%|██████████| 3/3 [00:00<00:00, 190.83it/s]\n",
            "100%|██████████| 3/3 [00:00<00:00, 234.17it/s]\n"
          ]
        },
        {
          "output_type": "stream",
          "name": "stdout",
          "text": [
            "2 1 32\n"
          ]
        },
        {
          "output_type": "stream",
          "name": "stderr",
          "text": [
            "100%|██████████| 3/3 [00:00<00:00, 401.59it/s]\n",
            "100%|██████████| 3/3 [00:00<00:00, 426.99it/s]\n"
          ]
        },
        {
          "output_type": "stream",
          "name": "stdout",
          "text": [
            "2 1 33\n"
          ]
        },
        {
          "output_type": "stream",
          "name": "stderr",
          "text": [
            "100%|██████████| 3/3 [00:00<00:00, 77.11it/s]\n",
            "100%|██████████| 3/3 [00:00<00:00, 124.27it/s]\n"
          ]
        },
        {
          "output_type": "stream",
          "name": "stdout",
          "text": [
            "2 1 34\n"
          ]
        },
        {
          "output_type": "stream",
          "name": "stderr",
          "text": [
            "100%|██████████| 3/3 [00:00<00:00, 361.97it/s]\n",
            "100%|██████████| 3/3 [00:00<00:00, 213.59it/s]\n"
          ]
        },
        {
          "output_type": "stream",
          "name": "stdout",
          "text": [
            "2 1 35\n"
          ]
        },
        {
          "output_type": "stream",
          "name": "stderr",
          "text": [
            "100%|██████████| 3/3 [00:00<00:00, 203.45it/s]\n",
            "100%|██████████| 3/3 [00:00<00:00, 263.24it/s]\n"
          ]
        },
        {
          "output_type": "stream",
          "name": "stdout",
          "text": [
            "2 1 36\n"
          ]
        },
        {
          "output_type": "stream",
          "name": "stderr",
          "text": [
            "100%|██████████| 3/3 [00:00<00:00, 145.22it/s]\n",
            "100%|██████████| 3/3 [00:00<00:00, 117.76it/s]\n"
          ]
        },
        {
          "output_type": "stream",
          "name": "stdout",
          "text": [
            "2 1 37\n"
          ]
        },
        {
          "output_type": "stream",
          "name": "stderr",
          "text": [
            "100%|██████████| 3/3 [00:00<00:00, 123.15it/s]\n",
            "100%|██████████| 3/3 [00:00<00:00, 318.11it/s]\n"
          ]
        },
        {
          "output_type": "stream",
          "name": "stdout",
          "text": [
            "2 1 38\n"
          ]
        },
        {
          "output_type": "stream",
          "name": "stderr",
          "text": [
            "100%|██████████| 3/3 [00:00<00:00, 155.14it/s]\n",
            "100%|██████████| 3/3 [00:00<00:00, 167.26it/s]\n"
          ]
        },
        {
          "output_type": "stream",
          "name": "stdout",
          "text": [
            "2 1 39\n"
          ]
        },
        {
          "output_type": "stream",
          "name": "stderr",
          "text": [
            "100%|██████████| 3/3 [00:00<00:00, 171.47it/s]\n",
            "100%|██████████| 3/3 [00:00<00:00, 227.04it/s]\n"
          ]
        },
        {
          "output_type": "stream",
          "name": "stdout",
          "text": [
            "2 1 40\n"
          ]
        },
        {
          "output_type": "stream",
          "name": "stderr",
          "text": [
            "100%|██████████| 3/3 [00:00<00:00, 120.00it/s]\n",
            "100%|██████████| 3/3 [00:00<00:00, 135.26it/s]\n"
          ]
        },
        {
          "output_type": "stream",
          "name": "stdout",
          "text": [
            "2 1 41\n"
          ]
        },
        {
          "output_type": "stream",
          "name": "stderr",
          "text": [
            "100%|██████████| 3/3 [00:00<00:00, 165.21it/s]\n",
            "100%|██████████| 3/3 [00:00<00:00, 133.54it/s]\n"
          ]
        },
        {
          "output_type": "stream",
          "name": "stdout",
          "text": [
            "2 1 42\n"
          ]
        },
        {
          "output_type": "stream",
          "name": "stderr",
          "text": [
            "100%|██████████| 3/3 [00:00<00:00, 91.79it/s]\n",
            "100%|██████████| 3/3 [00:00<00:00, 62.35it/s]\n"
          ]
        },
        {
          "output_type": "stream",
          "name": "stdout",
          "text": [
            "2 1 43\n"
          ]
        },
        {
          "output_type": "stream",
          "name": "stderr",
          "text": [
            "100%|██████████| 3/3 [00:00<00:00, 195.98it/s]\n",
            "100%|██████████| 3/3 [00:00<00:00, 295.32it/s]\n"
          ]
        },
        {
          "output_type": "stream",
          "name": "stdout",
          "text": [
            "2 1 44\n"
          ]
        },
        {
          "output_type": "stream",
          "name": "stderr",
          "text": [
            "100%|██████████| 3/3 [00:00<00:00, 234.43it/s]\n",
            "100%|██████████| 3/3 [00:00<00:00, 254.73it/s]\n"
          ]
        },
        {
          "output_type": "stream",
          "name": "stdout",
          "text": [
            "2 1 45\n"
          ]
        },
        {
          "output_type": "stream",
          "name": "stderr",
          "text": [
            "100%|██████████| 3/3 [00:00<00:00, 124.43it/s]\n",
            "100%|██████████| 3/3 [00:00<00:00, 198.93it/s]\n"
          ]
        },
        {
          "output_type": "stream",
          "name": "stdout",
          "text": [
            "2 1 46\n"
          ]
        },
        {
          "output_type": "stream",
          "name": "stderr",
          "text": [
            "100%|██████████| 3/3 [00:00<00:00, 82.03it/s]\n",
            "100%|██████████| 3/3 [00:00<00:00, 143.62it/s]\n"
          ]
        },
        {
          "output_type": "stream",
          "name": "stdout",
          "text": [
            "2 1 47\n"
          ]
        },
        {
          "output_type": "stream",
          "name": "stderr",
          "text": [
            "100%|██████████| 3/3 [00:00<00:00, 106.25it/s]\n",
            "100%|██████████| 3/3 [00:00<00:00, 104.56it/s]\n"
          ]
        },
        {
          "output_type": "stream",
          "name": "stdout",
          "text": [
            "2 1 48\n"
          ]
        },
        {
          "output_type": "stream",
          "name": "stderr",
          "text": [
            "100%|██████████| 3/3 [00:00<00:00, 86.94it/s]\n",
            "100%|██████████| 3/3 [00:00<00:00, 144.45it/s]\n"
          ]
        },
        {
          "output_type": "stream",
          "name": "stdout",
          "text": [
            "2 1 49\n"
          ]
        },
        {
          "output_type": "stream",
          "name": "stderr",
          "text": [
            "100%|██████████| 3/3 [00:00<00:00, 194.84it/s]\n",
            "100%|██████████| 3/3 [00:00<00:00, 293.68it/s]\n"
          ]
        },
        {
          "output_type": "stream",
          "name": "stdout",
          "text": [
            "2 1 50\n"
          ]
        },
        {
          "output_type": "stream",
          "name": "stderr",
          "text": [
            "100%|██████████| 3/3 [00:00<00:00, 357.97it/s]\n",
            "100%|██████████| 3/3 [00:00<00:00, 400.18it/s]\n"
          ]
        },
        {
          "output_type": "stream",
          "name": "stdout",
          "text": [
            "2 1 51\n"
          ]
        },
        {
          "output_type": "stream",
          "name": "stderr",
          "text": [
            "100%|██████████| 3/3 [00:00<00:00, 169.32it/s]\n",
            "100%|██████████| 3/3 [00:00<00:00, 431.62it/s]\n"
          ]
        },
        {
          "output_type": "stream",
          "name": "stdout",
          "text": [
            "2 1 52\n"
          ]
        },
        {
          "output_type": "stream",
          "name": "stderr",
          "text": [
            "100%|██████████| 3/3 [00:00<00:00, 182.69it/s]\n",
            "100%|██████████| 3/3 [00:00<00:00, 387.12it/s]\n"
          ]
        },
        {
          "output_type": "stream",
          "name": "stdout",
          "text": [
            "2 1 53\n"
          ]
        },
        {
          "output_type": "stream",
          "name": "stderr",
          "text": [
            "100%|██████████| 3/3 [00:00<00:00, 161.09it/s]\n",
            "100%|██████████| 3/3 [00:00<00:00, 250.88it/s]\n"
          ]
        },
        {
          "output_type": "stream",
          "name": "stdout",
          "text": [
            "2 1 54\n"
          ]
        },
        {
          "output_type": "stream",
          "name": "stderr",
          "text": [
            "100%|██████████| 3/3 [00:00<00:00, 157.15it/s]\n",
            "100%|██████████| 3/3 [00:00<00:00, 149.10it/s]\n"
          ]
        },
        {
          "output_type": "stream",
          "name": "stdout",
          "text": [
            "2 1 55\n"
          ]
        },
        {
          "output_type": "stream",
          "name": "stderr",
          "text": [
            "100%|██████████| 3/3 [00:00<00:00, 388.52it/s]\n",
            "100%|██████████| 3/3 [00:00<00:00, 338.23it/s]\n"
          ]
        },
        {
          "output_type": "stream",
          "name": "stdout",
          "text": [
            "2 1 56\n"
          ]
        },
        {
          "output_type": "stream",
          "name": "stderr",
          "text": [
            "100%|██████████| 3/3 [00:00<00:00, 173.81it/s]\n",
            "100%|██████████| 3/3 [00:00<00:00, 287.04it/s]\n"
          ]
        },
        {
          "output_type": "stream",
          "name": "stdout",
          "text": [
            "2 1 57\n"
          ]
        },
        {
          "output_type": "stream",
          "name": "stderr",
          "text": [
            "100%|██████████| 3/3 [00:00<00:00, 366.84it/s]\n",
            "100%|██████████| 3/3 [00:00<00:00, 327.76it/s]\n"
          ]
        },
        {
          "output_type": "stream",
          "name": "stdout",
          "text": [
            "2 1 58\n"
          ]
        },
        {
          "output_type": "stream",
          "name": "stderr",
          "text": [
            "100%|██████████| 3/3 [00:00<00:00, 114.41it/s]\n",
            "100%|██████████| 3/3 [00:00<00:00, 197.93it/s]\n"
          ]
        },
        {
          "output_type": "stream",
          "name": "stdout",
          "text": [
            "2 1 59\n"
          ]
        },
        {
          "output_type": "stream",
          "name": "stderr",
          "text": [
            "100%|██████████| 3/3 [00:00<00:00, 354.53it/s]\n",
            "100%|██████████| 3/3 [00:00<00:00, 156.67it/s]\n"
          ]
        },
        {
          "output_type": "stream",
          "name": "stdout",
          "text": [
            "2 1 60\n"
          ]
        },
        {
          "output_type": "stream",
          "name": "stderr",
          "text": [
            "100%|██████████| 3/3 [00:00<00:00, 320.62it/s]\n",
            "100%|██████████| 3/3 [00:00<00:00, 381.55it/s]\n"
          ]
        },
        {
          "output_type": "stream",
          "name": "stdout",
          "text": [
            "2 1 61\n"
          ]
        },
        {
          "output_type": "stream",
          "name": "stderr",
          "text": [
            "100%|██████████| 3/3 [00:00<00:00, 268.06it/s]\n",
            "100%|██████████| 3/3 [00:00<00:00, 284.82it/s]\n"
          ]
        },
        {
          "output_type": "stream",
          "name": "stdout",
          "text": [
            "2 1 62\n"
          ]
        },
        {
          "output_type": "stream",
          "name": "stderr",
          "text": [
            "100%|██████████| 3/3 [00:00<00:00, 135.37it/s]\n",
            "100%|██████████| 3/3 [00:00<00:00, 142.26it/s]\n"
          ]
        },
        {
          "output_type": "stream",
          "name": "stdout",
          "text": [
            "2 1 63\n"
          ]
        },
        {
          "output_type": "stream",
          "name": "stderr",
          "text": [
            "100%|██████████| 3/3 [00:00<00:00, 217.21it/s]\n",
            "100%|██████████| 3/3 [00:00<00:00, 166.85it/s]\n"
          ]
        },
        {
          "output_type": "stream",
          "name": "stdout",
          "text": [
            "2 1 64\n"
          ]
        },
        {
          "output_type": "stream",
          "name": "stderr",
          "text": [
            "100%|██████████| 3/3 [00:00<00:00, 187.62it/s]\n",
            "100%|██████████| 3/3 [00:00<00:00, 181.95it/s]\n"
          ]
        },
        {
          "output_type": "stream",
          "name": "stdout",
          "text": [
            "2 1 65\n"
          ]
        },
        {
          "output_type": "stream",
          "name": "stderr",
          "text": [
            "100%|██████████| 3/3 [00:00<00:00, 133.96it/s]\n",
            "100%|██████████| 3/3 [00:00<00:00, 165.91it/s]\n"
          ]
        },
        {
          "output_type": "stream",
          "name": "stdout",
          "text": [
            "2 1 66\n"
          ]
        },
        {
          "output_type": "stream",
          "name": "stderr",
          "text": [
            "100%|██████████| 3/3 [00:00<00:00, 366.08it/s]\n",
            "100%|██████████| 3/3 [00:00<00:00, 119.59it/s]\n"
          ]
        },
        {
          "output_type": "stream",
          "name": "stdout",
          "text": [
            "2 1 67\n"
          ]
        },
        {
          "output_type": "stream",
          "name": "stderr",
          "text": [
            "100%|██████████| 3/3 [00:00<00:00, 349.34it/s]\n",
            "100%|██████████| 3/3 [00:00<00:00, 395.01it/s]\n"
          ]
        },
        {
          "output_type": "stream",
          "name": "stdout",
          "text": [
            "2 1 68\n"
          ]
        },
        {
          "output_type": "stream",
          "name": "stderr",
          "text": [
            "100%|██████████| 3/3 [00:00<00:00, 323.66it/s]\n",
            "100%|██████████| 3/3 [00:00<00:00, 453.03it/s]\n"
          ]
        },
        {
          "output_type": "stream",
          "name": "stdout",
          "text": [
            "2 1 69\n"
          ]
        },
        {
          "output_type": "stream",
          "name": "stderr",
          "text": [
            "100%|██████████| 3/3 [00:00<00:00, 312.17it/s]\n",
            "100%|██████████| 3/3 [00:00<00:00, 329.65it/s]\n"
          ]
        },
        {
          "output_type": "stream",
          "name": "stdout",
          "text": [
            "2 1 70\n"
          ]
        },
        {
          "output_type": "stream",
          "name": "stderr",
          "text": [
            "100%|██████████| 3/3 [00:00<00:00, 105.96it/s]\n",
            "100%|██████████| 3/3 [00:00<00:00, 132.96it/s]\n"
          ]
        },
        {
          "output_type": "stream",
          "name": "stdout",
          "text": [
            "2 1 71\n"
          ]
        },
        {
          "output_type": "stream",
          "name": "stderr",
          "text": [
            "100%|██████████| 3/3 [00:00<00:00, 85.91it/s]\n",
            "100%|██████████| 3/3 [00:00<00:00, 124.80it/s]\n"
          ]
        },
        {
          "output_type": "stream",
          "name": "stdout",
          "text": [
            "2 1 72\n"
          ]
        },
        {
          "output_type": "stream",
          "name": "stderr",
          "text": [
            "100%|██████████| 3/3 [00:00<00:00, 88.02it/s]\n",
            "100%|██████████| 3/3 [00:00<00:00, 238.70it/s]\n"
          ]
        },
        {
          "output_type": "stream",
          "name": "stdout",
          "text": [
            "2 1 73\n"
          ]
        },
        {
          "output_type": "stream",
          "name": "stderr",
          "text": [
            "100%|██████████| 3/3 [00:00<00:00, 269.35it/s]\n",
            "100%|██████████| 3/3 [00:00<00:00, 290.12it/s]\n"
          ]
        },
        {
          "output_type": "stream",
          "name": "stdout",
          "text": [
            "2 1 74\n"
          ]
        },
        {
          "output_type": "stream",
          "name": "stderr",
          "text": [
            "100%|██████████| 3/3 [00:00<00:00, 209.03it/s]\n",
            "100%|██████████| 3/3 [00:00<00:00, 373.03it/s]\n"
          ]
        },
        {
          "output_type": "stream",
          "name": "stdout",
          "text": [
            "2 1 75\n"
          ]
        },
        {
          "output_type": "stream",
          "name": "stderr",
          "text": [
            "100%|██████████| 3/3 [00:00<00:00, 135.57it/s]\n",
            "100%|██████████| 3/3 [00:00<00:00, 148.69it/s]\n"
          ]
        },
        {
          "output_type": "stream",
          "name": "stdout",
          "text": [
            "2 1 76\n"
          ]
        },
        {
          "output_type": "stream",
          "name": "stderr",
          "text": [
            "100%|██████████| 3/3 [00:00<00:00, 232.65it/s]\n",
            "100%|██████████| 3/3 [00:00<00:00, 260.07it/s]\n"
          ]
        },
        {
          "output_type": "stream",
          "name": "stdout",
          "text": [
            "2 1 77\n"
          ]
        },
        {
          "output_type": "stream",
          "name": "stderr",
          "text": [
            "100%|██████████| 3/3 [00:00<00:00, 219.20it/s]\n",
            "100%|██████████| 3/3 [00:00<00:00, 242.71it/s]\n"
          ]
        },
        {
          "output_type": "stream",
          "name": "stdout",
          "text": [
            "2 1 78\n"
          ]
        },
        {
          "output_type": "stream",
          "name": "stderr",
          "text": [
            "100%|██████████| 3/3 [00:00<00:00, 67.29it/s]\n",
            "100%|██████████| 3/3 [00:00<00:00, 301.32it/s]\n"
          ]
        },
        {
          "output_type": "stream",
          "name": "stdout",
          "text": [
            "2 1 79\n"
          ]
        },
        {
          "output_type": "stream",
          "name": "stderr",
          "text": [
            "100%|██████████| 3/3 [00:00<00:00, 185.87it/s]\n",
            "100%|██████████| 3/3 [00:00<00:00, 183.59it/s]\n"
          ]
        },
        {
          "output_type": "stream",
          "name": "stdout",
          "text": [
            "2 1 80\n"
          ]
        },
        {
          "output_type": "stream",
          "name": "stderr",
          "text": [
            "100%|██████████| 3/3 [00:00<00:00, 339.80it/s]\n",
            "100%|██████████| 3/3 [00:00<00:00, 419.44it/s]\n"
          ]
        },
        {
          "output_type": "stream",
          "name": "stdout",
          "text": [
            "2 1 81\n"
          ]
        },
        {
          "output_type": "stream",
          "name": "stderr",
          "text": [
            "100%|██████████| 3/3 [00:00<00:00, 163.30it/s]\n",
            "100%|██████████| 3/3 [00:00<00:00, 260.45it/s]\n"
          ]
        },
        {
          "output_type": "stream",
          "name": "stdout",
          "text": [
            "2 1 82\n"
          ]
        },
        {
          "output_type": "stream",
          "name": "stderr",
          "text": [
            "100%|██████████| 3/3 [00:00<00:00, 127.51it/s]\n",
            "100%|██████████| 3/3 [00:00<00:00, 130.14it/s]\n"
          ]
        },
        {
          "output_type": "stream",
          "name": "stdout",
          "text": [
            "2 1 83\n"
          ]
        },
        {
          "output_type": "stream",
          "name": "stderr",
          "text": [
            "100%|██████████| 3/3 [00:00<00:00, 142.95it/s]\n",
            "100%|██████████| 3/3 [00:00<00:00, 218.80it/s]\n"
          ]
        },
        {
          "output_type": "stream",
          "name": "stdout",
          "text": [
            "2 1 84\n"
          ]
        },
        {
          "output_type": "stream",
          "name": "stderr",
          "text": [
            "100%|██████████| 3/3 [00:00<00:00, 173.03it/s]\n",
            "100%|██████████| 3/3 [00:00<00:00, 119.64it/s]\n"
          ]
        },
        {
          "output_type": "stream",
          "name": "stdout",
          "text": [
            "2 1 85\n"
          ]
        },
        {
          "output_type": "stream",
          "name": "stderr",
          "text": [
            "100%|██████████| 3/3 [00:00<00:00, 286.84it/s]\n",
            "100%|██████████| 3/3 [00:00<00:00, 261.03it/s]\n"
          ]
        },
        {
          "output_type": "stream",
          "name": "stdout",
          "text": [
            "2 1 86\n"
          ]
        },
        {
          "output_type": "stream",
          "name": "stderr",
          "text": [
            "100%|██████████| 3/3 [00:00<00:00, 281.62it/s]\n",
            "100%|██████████| 3/3 [00:00<00:00, 234.26it/s]\n"
          ]
        },
        {
          "output_type": "stream",
          "name": "stdout",
          "text": [
            "2 1 87\n"
          ]
        },
        {
          "output_type": "stream",
          "name": "stderr",
          "text": [
            "100%|██████████| 3/3 [00:00<00:00, 98.68it/s]\n",
            "100%|██████████| 3/3 [00:00<00:00, 97.43it/s]\n"
          ]
        },
        {
          "output_type": "stream",
          "name": "stdout",
          "text": [
            "2 1 88\n"
          ]
        },
        {
          "output_type": "stream",
          "name": "stderr",
          "text": [
            "100%|██████████| 3/3 [00:00<00:00, 128.27it/s]\n",
            "100%|██████████| 3/3 [00:00<00:00, 348.48it/s]\n"
          ]
        },
        {
          "output_type": "stream",
          "name": "stdout",
          "text": [
            "2 1 89\n"
          ]
        },
        {
          "output_type": "stream",
          "name": "stderr",
          "text": [
            "100%|██████████| 3/3 [00:00<00:00, 352.42it/s]\n",
            "100%|██████████| 3/3 [00:00<00:00, 307.78it/s]\n"
          ]
        },
        {
          "output_type": "stream",
          "name": "stdout",
          "text": [
            "2 1 90\n"
          ]
        },
        {
          "output_type": "stream",
          "name": "stderr",
          "text": [
            "100%|██████████| 3/3 [00:00<00:00, 177.13it/s]\n",
            "100%|██████████| 3/3 [00:00<00:00, 183.50it/s]\n"
          ]
        },
        {
          "output_type": "stream",
          "name": "stdout",
          "text": [
            "2 1 91\n"
          ]
        },
        {
          "output_type": "stream",
          "name": "stderr",
          "text": [
            "100%|██████████| 3/3 [00:00<00:00, 155.89it/s]\n",
            "100%|██████████| 3/3 [00:00<00:00, 236.17it/s]\n"
          ]
        },
        {
          "output_type": "stream",
          "name": "stdout",
          "text": [
            "2 1 92\n"
          ]
        },
        {
          "output_type": "stream",
          "name": "stderr",
          "text": [
            "100%|██████████| 3/3 [00:00<00:00, 184.37it/s]\n",
            "100%|██████████| 3/3 [00:00<00:00, 259.97it/s]\n"
          ]
        },
        {
          "output_type": "stream",
          "name": "stdout",
          "text": [
            "2 1 93\n"
          ]
        },
        {
          "output_type": "stream",
          "name": "stderr",
          "text": [
            "100%|██████████| 3/3 [00:00<00:00, 286.88it/s]\n",
            "100%|██████████| 3/3 [00:00<00:00, 320.32it/s]\n"
          ]
        },
        {
          "output_type": "stream",
          "name": "stdout",
          "text": [
            "2 1 94\n"
          ]
        },
        {
          "output_type": "stream",
          "name": "stderr",
          "text": [
            "100%|██████████| 3/3 [00:00<00:00, 208.42it/s]\n",
            "100%|██████████| 3/3 [00:00<00:00, 333.89it/s]\n"
          ]
        },
        {
          "output_type": "stream",
          "name": "stdout",
          "text": [
            "2 1 95\n"
          ]
        },
        {
          "output_type": "stream",
          "name": "stderr",
          "text": [
            "100%|██████████| 3/3 [00:00<00:00, 168.61it/s]\n",
            "100%|██████████| 3/3 [00:00<00:00, 186.15it/s]\n"
          ]
        },
        {
          "output_type": "stream",
          "name": "stdout",
          "text": [
            "2 1 96\n"
          ]
        },
        {
          "output_type": "stream",
          "name": "stderr",
          "text": [
            "100%|██████████| 3/3 [00:00<00:00, 180.63it/s]\n",
            "100%|██████████| 3/3 [00:00<00:00, 286.32it/s]\n"
          ]
        },
        {
          "output_type": "stream",
          "name": "stdout",
          "text": [
            "2 1 97\n"
          ]
        },
        {
          "output_type": "stream",
          "name": "stderr",
          "text": [
            "100%|██████████| 3/3 [00:00<00:00, 156.98it/s]\n",
            "100%|██████████| 3/3 [00:00<00:00, 244.54it/s]\n"
          ]
        },
        {
          "output_type": "stream",
          "name": "stdout",
          "text": [
            "2 1 98\n"
          ]
        },
        {
          "output_type": "stream",
          "name": "stderr",
          "text": [
            "100%|██████████| 3/3 [00:00<00:00, 170.72it/s]\n",
            "100%|██████████| 3/3 [00:00<00:00, 131.42it/s]\n"
          ]
        },
        {
          "output_type": "stream",
          "name": "stdout",
          "text": [
            "2 1 99\n"
          ]
        },
        {
          "output_type": "stream",
          "name": "stderr",
          "text": [
            "100%|██████████| 3/3 [00:00<00:00, 173.31it/s]\n",
            "100%|██████████| 3/3 [00:00<00:00, 166.24it/s]\n"
          ]
        },
        {
          "output_type": "stream",
          "name": "stdout",
          "text": [
            "2 2 0\n"
          ]
        },
        {
          "output_type": "stream",
          "name": "stderr",
          "text": [
            "100%|██████████| 3/3 [00:00<00:00, 224.17it/s]\n",
            "100%|██████████| 3/3 [00:00<00:00, 340.02it/s]\n"
          ]
        },
        {
          "output_type": "stream",
          "name": "stdout",
          "text": [
            "2 2 1\n"
          ]
        },
        {
          "output_type": "stream",
          "name": "stderr",
          "text": [
            "100%|██████████| 3/3 [00:00<00:00, 259.85it/s]\n",
            "100%|██████████| 3/3 [00:00<00:00, 313.55it/s]\n"
          ]
        },
        {
          "output_type": "stream",
          "name": "stdout",
          "text": [
            "2 2 2\n"
          ]
        },
        {
          "output_type": "stream",
          "name": "stderr",
          "text": [
            "100%|██████████| 3/3 [00:00<00:00, 256.96it/s]\n",
            "100%|██████████| 3/3 [00:00<00:00, 181.85it/s]\n"
          ]
        },
        {
          "output_type": "stream",
          "name": "stdout",
          "text": [
            "2 2 3\n"
          ]
        },
        {
          "output_type": "stream",
          "name": "stderr",
          "text": [
            "100%|██████████| 3/3 [00:00<00:00, 221.53it/s]\n",
            "100%|██████████| 3/3 [00:00<00:00, 166.59it/s]\n"
          ]
        },
        {
          "output_type": "stream",
          "name": "stdout",
          "text": [
            "2 2 4\n"
          ]
        },
        {
          "output_type": "stream",
          "name": "stderr",
          "text": [
            "100%|██████████| 3/3 [00:00<00:00, 248.51it/s]\n",
            "100%|██████████| 3/3 [00:00<00:00, 169.44it/s]\n"
          ]
        },
        {
          "output_type": "stream",
          "name": "stdout",
          "text": [
            "2 2 5\n"
          ]
        },
        {
          "output_type": "stream",
          "name": "stderr",
          "text": [
            "100%|██████████| 3/3 [00:00<00:00, 112.28it/s]\n",
            "100%|██████████| 3/3 [00:00<00:00, 170.29it/s]\n"
          ]
        },
        {
          "output_type": "stream",
          "name": "stdout",
          "text": [
            "2 2 6\n"
          ]
        },
        {
          "output_type": "stream",
          "name": "stderr",
          "text": [
            "100%|██████████| 3/3 [00:00<00:00, 237.60it/s]\n",
            "100%|██████████| 3/3 [00:00<00:00, 443.56it/s]\n"
          ]
        },
        {
          "output_type": "stream",
          "name": "stdout",
          "text": [
            "2 2 7\n"
          ]
        },
        {
          "output_type": "stream",
          "name": "stderr",
          "text": [
            "100%|██████████| 3/3 [00:00<00:00, 163.06it/s]\n",
            "100%|██████████| 3/3 [00:00<00:00, 129.84it/s]\n"
          ]
        },
        {
          "output_type": "stream",
          "name": "stdout",
          "text": [
            "2 2 8\n"
          ]
        },
        {
          "output_type": "stream",
          "name": "stderr",
          "text": [
            "100%|██████████| 3/3 [00:00<00:00, 262.22it/s]\n",
            "100%|██████████| 3/3 [00:00<00:00, 194.04it/s]\n"
          ]
        },
        {
          "output_type": "stream",
          "name": "stdout",
          "text": [
            "2 2 9\n"
          ]
        },
        {
          "output_type": "stream",
          "name": "stderr",
          "text": [
            "100%|██████████| 3/3 [00:00<00:00, 115.29it/s]\n",
            "100%|██████████| 3/3 [00:00<00:00, 138.84it/s]\n"
          ]
        },
        {
          "output_type": "stream",
          "name": "stdout",
          "text": [
            "2 2 10\n"
          ]
        },
        {
          "output_type": "stream",
          "name": "stderr",
          "text": [
            "100%|██████████| 3/3 [00:00<00:00, 145.67it/s]\n",
            "100%|██████████| 3/3 [00:00<00:00, 152.68it/s]\n"
          ]
        },
        {
          "output_type": "stream",
          "name": "stdout",
          "text": [
            "2 2 11\n"
          ]
        },
        {
          "output_type": "stream",
          "name": "stderr",
          "text": [
            "100%|██████████| 3/3 [00:00<00:00, 342.18it/s]\n",
            "100%|██████████| 3/3 [00:00<00:00, 135.23it/s]\n"
          ]
        },
        {
          "output_type": "stream",
          "name": "stdout",
          "text": [
            "2 2 12\n"
          ]
        },
        {
          "output_type": "stream",
          "name": "stderr",
          "text": [
            "100%|██████████| 3/3 [00:00<00:00, 405.74it/s]\n",
            "100%|██████████| 3/3 [00:00<00:00, 148.92it/s]\n"
          ]
        },
        {
          "output_type": "stream",
          "name": "stdout",
          "text": [
            "2 2 13\n"
          ]
        },
        {
          "output_type": "stream",
          "name": "stderr",
          "text": [
            "100%|██████████| 3/3 [00:00<00:00, 181.08it/s]\n",
            "100%|██████████| 3/3 [00:00<00:00, 202.58it/s]\n"
          ]
        },
        {
          "output_type": "stream",
          "name": "stdout",
          "text": [
            "2 2 14\n"
          ]
        },
        {
          "output_type": "stream",
          "name": "stderr",
          "text": [
            "100%|██████████| 3/3 [00:00<00:00, 330.92it/s]\n",
            "100%|██████████| 3/3 [00:00<00:00, 290.00it/s]\n"
          ]
        },
        {
          "output_type": "stream",
          "name": "stdout",
          "text": [
            "2 2 15\n"
          ]
        },
        {
          "output_type": "stream",
          "name": "stderr",
          "text": [
            "100%|██████████| 3/3 [00:00<00:00, 191.05it/s]\n",
            "100%|██████████| 3/3 [00:00<00:00, 153.00it/s]\n"
          ]
        },
        {
          "output_type": "stream",
          "name": "stdout",
          "text": [
            "2 2 16\n"
          ]
        },
        {
          "output_type": "stream",
          "name": "stderr",
          "text": [
            "100%|██████████| 3/3 [00:00<00:00, 390.01it/s]\n",
            "100%|██████████| 3/3 [00:00<00:00, 277.69it/s]\n"
          ]
        },
        {
          "output_type": "stream",
          "name": "stdout",
          "text": [
            "2 2 17\n"
          ]
        },
        {
          "output_type": "stream",
          "name": "stderr",
          "text": [
            "100%|██████████| 3/3 [00:00<00:00, 407.32it/s]\n",
            "100%|██████████| 3/3 [00:00<00:00, 397.02it/s]\n"
          ]
        },
        {
          "output_type": "stream",
          "name": "stdout",
          "text": [
            "2 2 18\n"
          ]
        },
        {
          "output_type": "stream",
          "name": "stderr",
          "text": [
            "100%|██████████| 3/3 [00:00<00:00, 404.99it/s]\n",
            "100%|██████████| 3/3 [00:00<00:00, 402.90it/s]\n"
          ]
        },
        {
          "output_type": "stream",
          "name": "stdout",
          "text": [
            "2 2 19\n"
          ]
        },
        {
          "output_type": "stream",
          "name": "stderr",
          "text": [
            "100%|██████████| 3/3 [00:00<00:00, 134.90it/s]\n",
            "100%|██████████| 3/3 [00:00<00:00, 192.38it/s]\n"
          ]
        },
        {
          "output_type": "stream",
          "name": "stdout",
          "text": [
            "2 2 20\n"
          ]
        },
        {
          "output_type": "stream",
          "name": "stderr",
          "text": [
            "100%|██████████| 3/3 [00:00<00:00, 328.18it/s]\n",
            "100%|██████████| 3/3 [00:00<00:00, 325.91it/s]\n"
          ]
        },
        {
          "output_type": "stream",
          "name": "stdout",
          "text": [
            "2 2 21\n"
          ]
        },
        {
          "output_type": "stream",
          "name": "stderr",
          "text": [
            "100%|██████████| 3/3 [00:00<00:00, 157.97it/s]\n",
            "100%|██████████| 3/3 [00:00<00:00, 254.77it/s]\n"
          ]
        },
        {
          "output_type": "stream",
          "name": "stdout",
          "text": [
            "2 2 22\n"
          ]
        },
        {
          "output_type": "stream",
          "name": "stderr",
          "text": [
            "100%|██████████| 3/3 [00:00<00:00, 396.66it/s]\n",
            "100%|██████████| 3/3 [00:00<00:00, 315.74it/s]\n"
          ]
        },
        {
          "output_type": "stream",
          "name": "stdout",
          "text": [
            "2 2 23\n"
          ]
        },
        {
          "output_type": "stream",
          "name": "stderr",
          "text": [
            "100%|██████████| 3/3 [00:00<00:00, 370.87it/s]\n",
            "100%|██████████| 3/3 [00:00<00:00, 259.47it/s]\n"
          ]
        },
        {
          "output_type": "stream",
          "name": "stdout",
          "text": [
            "2 2 24\n"
          ]
        },
        {
          "output_type": "stream",
          "name": "stderr",
          "text": [
            "100%|██████████| 3/3 [00:00<00:00, 138.61it/s]\n",
            "100%|██████████| 3/3 [00:00<00:00, 163.80it/s]\n"
          ]
        },
        {
          "output_type": "stream",
          "name": "stdout",
          "text": [
            "2 2 25\n"
          ]
        },
        {
          "output_type": "stream",
          "name": "stderr",
          "text": [
            "100%|██████████| 3/3 [00:00<00:00, 351.48it/s]\n",
            "100%|██████████| 3/3 [00:00<00:00, 302.83it/s]\n"
          ]
        },
        {
          "output_type": "stream",
          "name": "stdout",
          "text": [
            "2 2 26\n"
          ]
        },
        {
          "output_type": "stream",
          "name": "stderr",
          "text": [
            "100%|██████████| 3/3 [00:00<00:00, 368.05it/s]\n",
            "100%|██████████| 3/3 [00:00<00:00, 317.52it/s]\n"
          ]
        },
        {
          "output_type": "stream",
          "name": "stdout",
          "text": [
            "2 2 27\n"
          ]
        },
        {
          "output_type": "stream",
          "name": "stderr",
          "text": [
            "100%|██████████| 3/3 [00:00<00:00, 128.02it/s]\n",
            "100%|██████████| 3/3 [00:00<00:00, 134.94it/s]\n"
          ]
        },
        {
          "output_type": "stream",
          "name": "stdout",
          "text": [
            "2 2 28\n"
          ]
        },
        {
          "output_type": "stream",
          "name": "stderr",
          "text": [
            "100%|██████████| 3/3 [00:00<00:00, 314.66it/s]\n",
            "100%|██████████| 3/3 [00:00<00:00, 377.77it/s]\n"
          ]
        },
        {
          "output_type": "stream",
          "name": "stdout",
          "text": [
            "2 2 29\n"
          ]
        },
        {
          "output_type": "stream",
          "name": "stderr",
          "text": [
            "100%|██████████| 3/3 [00:00<00:00, 99.50it/s]\n",
            "100%|██████████| 3/3 [00:00<00:00, 194.13it/s]\n"
          ]
        },
        {
          "output_type": "stream",
          "name": "stdout",
          "text": [
            "2 2 30\n"
          ]
        },
        {
          "output_type": "stream",
          "name": "stderr",
          "text": [
            "100%|██████████| 3/3 [00:00<00:00, 145.66it/s]\n",
            "100%|██████████| 3/3 [00:00<00:00, 191.45it/s]\n"
          ]
        },
        {
          "output_type": "stream",
          "name": "stdout",
          "text": [
            "2 2 31\n"
          ]
        },
        {
          "output_type": "stream",
          "name": "stderr",
          "text": [
            "100%|██████████| 3/3 [00:00<00:00, 96.69it/s]\n",
            "100%|██████████| 3/3 [00:00<00:00, 155.46it/s]\n"
          ]
        },
        {
          "output_type": "stream",
          "name": "stdout",
          "text": [
            "2 2 32\n"
          ]
        },
        {
          "output_type": "stream",
          "name": "stderr",
          "text": [
            "100%|██████████| 3/3 [00:00<00:00, 187.75it/s]\n",
            "100%|██████████| 3/3 [00:00<00:00, 179.48it/s]\n"
          ]
        },
        {
          "output_type": "stream",
          "name": "stdout",
          "text": [
            "2 2 33\n"
          ]
        },
        {
          "output_type": "stream",
          "name": "stderr",
          "text": [
            "100%|██████████| 3/3 [00:00<00:00, 167.46it/s]\n",
            "100%|██████████| 3/3 [00:00<00:00, 204.36it/s]\n"
          ]
        },
        {
          "output_type": "stream",
          "name": "stdout",
          "text": [
            "2 2 34\n"
          ]
        },
        {
          "output_type": "stream",
          "name": "stderr",
          "text": [
            "100%|██████████| 3/3 [00:00<00:00, 266.94it/s]\n",
            "100%|██████████| 3/3 [00:00<00:00, 323.35it/s]\n"
          ]
        },
        {
          "output_type": "stream",
          "name": "stdout",
          "text": [
            "2 2 35\n"
          ]
        },
        {
          "output_type": "stream",
          "name": "stderr",
          "text": [
            "100%|██████████| 3/3 [00:00<00:00, 149.88it/s]\n",
            "100%|██████████| 3/3 [00:00<00:00, 379.28it/s]\n"
          ]
        },
        {
          "output_type": "stream",
          "name": "stdout",
          "text": [
            "2 2 36\n"
          ]
        },
        {
          "output_type": "stream",
          "name": "stderr",
          "text": [
            "100%|██████████| 3/3 [00:00<00:00, 147.28it/s]\n",
            "100%|██████████| 3/3 [00:00<00:00, 190.55it/s]\n"
          ]
        },
        {
          "output_type": "stream",
          "name": "stdout",
          "text": [
            "2 2 37\n"
          ]
        },
        {
          "output_type": "stream",
          "name": "stderr",
          "text": [
            "100%|██████████| 3/3 [00:00<00:00, 284.37it/s]\n",
            "100%|██████████| 3/3 [00:00<00:00, 341.31it/s]\n"
          ]
        },
        {
          "output_type": "stream",
          "name": "stdout",
          "text": [
            "2 2 38\n"
          ]
        },
        {
          "output_type": "stream",
          "name": "stderr",
          "text": [
            "100%|██████████| 3/3 [00:00<00:00, 151.25it/s]\n",
            "100%|██████████| 3/3 [00:00<00:00, 191.57it/s]\n"
          ]
        },
        {
          "output_type": "stream",
          "name": "stdout",
          "text": [
            "2 2 39\n"
          ]
        },
        {
          "output_type": "stream",
          "name": "stderr",
          "text": [
            "100%|██████████| 3/3 [00:00<00:00, 109.17it/s]\n",
            "100%|██████████| 3/3 [00:00<00:00, 191.41it/s]\n"
          ]
        },
        {
          "output_type": "stream",
          "name": "stdout",
          "text": [
            "2 2 40\n"
          ]
        },
        {
          "output_type": "stream",
          "name": "stderr",
          "text": [
            "100%|██████████| 3/3 [00:00<00:00, 131.73it/s]\n",
            "100%|██████████| 3/3 [00:00<00:00, 261.03it/s]\n"
          ]
        },
        {
          "output_type": "stream",
          "name": "stdout",
          "text": [
            "2 2 41\n"
          ]
        },
        {
          "output_type": "stream",
          "name": "stderr",
          "text": [
            "100%|██████████| 3/3 [00:00<00:00, 136.13it/s]\n",
            "100%|██████████| 3/3 [00:00<00:00, 132.77it/s]\n"
          ]
        },
        {
          "output_type": "stream",
          "name": "stdout",
          "text": [
            "2 2 42\n"
          ]
        },
        {
          "output_type": "stream",
          "name": "stderr",
          "text": [
            "100%|██████████| 3/3 [00:00<00:00, 133.27it/s]\n",
            "100%|██████████| 3/3 [00:00<00:00, 289.47it/s]\n"
          ]
        },
        {
          "output_type": "stream",
          "name": "stdout",
          "text": [
            "2 2 43\n"
          ]
        },
        {
          "output_type": "stream",
          "name": "stderr",
          "text": [
            "100%|██████████| 3/3 [00:00<00:00, 400.67it/s]\n",
            "100%|██████████| 3/3 [00:00<00:00, 218.14it/s]\n"
          ]
        },
        {
          "output_type": "stream",
          "name": "stdout",
          "text": [
            "2 2 44\n"
          ]
        },
        {
          "output_type": "stream",
          "name": "stderr",
          "text": [
            "100%|██████████| 3/3 [00:00<00:00, 259.74it/s]\n",
            "100%|██████████| 3/3 [00:00<00:00, 378.38it/s]\n"
          ]
        },
        {
          "output_type": "stream",
          "name": "stdout",
          "text": [
            "2 2 45\n"
          ]
        },
        {
          "output_type": "stream",
          "name": "stderr",
          "text": [
            "100%|██████████| 3/3 [00:00<00:00, 344.78it/s]\n",
            "100%|██████████| 3/3 [00:00<00:00, 322.58it/s]\n"
          ]
        },
        {
          "output_type": "stream",
          "name": "stdout",
          "text": [
            "2 2 46\n"
          ]
        },
        {
          "output_type": "stream",
          "name": "stderr",
          "text": [
            "100%|██████████| 3/3 [00:00<00:00, 369.90it/s]\n",
            "100%|██████████| 3/3 [00:00<00:00, 390.88it/s]\n"
          ]
        },
        {
          "output_type": "stream",
          "name": "stdout",
          "text": [
            "2 2 47\n"
          ]
        },
        {
          "output_type": "stream",
          "name": "stderr",
          "text": [
            "100%|██████████| 3/3 [00:00<00:00, 363.79it/s]\n",
            "100%|██████████| 3/3 [00:00<00:00, 340.46it/s]\n"
          ]
        },
        {
          "output_type": "stream",
          "name": "stdout",
          "text": [
            "2 2 48\n"
          ]
        },
        {
          "output_type": "stream",
          "name": "stderr",
          "text": [
            "100%|██████████| 3/3 [00:00<00:00, 262.69it/s]\n",
            "100%|██████████| 3/3 [00:00<00:00, 336.54it/s]\n"
          ]
        },
        {
          "output_type": "stream",
          "name": "stdout",
          "text": [
            "2 2 49\n"
          ]
        },
        {
          "output_type": "stream",
          "name": "stderr",
          "text": [
            "100%|██████████| 3/3 [00:00<00:00, 395.75it/s]\n",
            "100%|██████████| 3/3 [00:00<00:00, 217.01it/s]\n"
          ]
        },
        {
          "output_type": "stream",
          "name": "stdout",
          "text": [
            "2 2 50\n"
          ]
        },
        {
          "output_type": "stream",
          "name": "stderr",
          "text": [
            "100%|██████████| 3/3 [00:00<00:00, 92.87it/s]\n",
            "100%|██████████| 3/3 [00:00<00:00, 182.89it/s]\n"
          ]
        },
        {
          "output_type": "stream",
          "name": "stdout",
          "text": [
            "2 2 51\n"
          ]
        },
        {
          "output_type": "stream",
          "name": "stderr",
          "text": [
            "100%|██████████| 3/3 [00:00<00:00, 224.72it/s]\n",
            "100%|██████████| 3/3 [00:00<00:00, 214.74it/s]\n"
          ]
        },
        {
          "output_type": "stream",
          "name": "stdout",
          "text": [
            "2 2 52\n"
          ]
        },
        {
          "output_type": "stream",
          "name": "stderr",
          "text": [
            "100%|██████████| 3/3 [00:00<00:00, 146.15it/s]\n",
            "100%|██████████| 3/3 [00:00<00:00, 134.20it/s]\n"
          ]
        },
        {
          "output_type": "stream",
          "name": "stdout",
          "text": [
            "2 2 53\n"
          ]
        },
        {
          "output_type": "stream",
          "name": "stderr",
          "text": [
            "100%|██████████| 3/3 [00:00<00:00, 330.36it/s]\n",
            "100%|██████████| 3/3 [00:00<00:00, 406.12it/s]\n"
          ]
        },
        {
          "output_type": "stream",
          "name": "stdout",
          "text": [
            "2 2 54\n"
          ]
        },
        {
          "output_type": "stream",
          "name": "stderr",
          "text": [
            "100%|██████████| 3/3 [00:00<00:00, 142.52it/s]\n",
            "100%|██████████| 3/3 [00:00<00:00, 168.34it/s]\n"
          ]
        },
        {
          "output_type": "stream",
          "name": "stdout",
          "text": [
            "2 2 55\n"
          ]
        },
        {
          "output_type": "stream",
          "name": "stderr",
          "text": [
            "100%|██████████| 3/3 [00:00<00:00, 346.28it/s]\n",
            "100%|██████████| 3/3 [00:00<00:00, 182.51it/s]\n"
          ]
        },
        {
          "output_type": "stream",
          "name": "stdout",
          "text": [
            "2 2 56\n"
          ]
        },
        {
          "output_type": "stream",
          "name": "stderr",
          "text": [
            "100%|██████████| 3/3 [00:00<00:00, 125.41it/s]\n",
            "100%|██████████| 3/3 [00:00<00:00, 170.99it/s]\n"
          ]
        },
        {
          "output_type": "stream",
          "name": "stdout",
          "text": [
            "2 2 57\n"
          ]
        },
        {
          "output_type": "stream",
          "name": "stderr",
          "text": [
            "100%|██████████| 3/3 [00:00<00:00, 178.22it/s]\n",
            "100%|██████████| 3/3 [00:00<00:00, 139.52it/s]\n"
          ]
        },
        {
          "output_type": "stream",
          "name": "stdout",
          "text": [
            "2 2 58\n"
          ]
        },
        {
          "output_type": "stream",
          "name": "stderr",
          "text": [
            "100%|██████████| 3/3 [00:00<00:00, 201.21it/s]\n",
            "100%|██████████| 3/3 [00:00<00:00, 128.22it/s]\n"
          ]
        },
        {
          "output_type": "stream",
          "name": "stdout",
          "text": [
            "2 2 59\n"
          ]
        },
        {
          "output_type": "stream",
          "name": "stderr",
          "text": [
            "100%|██████████| 3/3 [00:00<00:00, 159.01it/s]\n",
            "100%|██████████| 3/3 [00:00<00:00, 134.23it/s]\n"
          ]
        },
        {
          "output_type": "stream",
          "name": "stdout",
          "text": [
            "2 2 60\n"
          ]
        },
        {
          "output_type": "stream",
          "name": "stderr",
          "text": [
            "100%|██████████| 3/3 [00:00<00:00, 294.93it/s]\n",
            "100%|██████████| 3/3 [00:00<00:00, 381.93it/s]\n"
          ]
        },
        {
          "output_type": "stream",
          "name": "stdout",
          "text": [
            "2 2 61\n"
          ]
        },
        {
          "output_type": "stream",
          "name": "stderr",
          "text": [
            "100%|██████████| 3/3 [00:00<00:00, 151.29it/s]\n",
            "100%|██████████| 3/3 [00:00<00:00, 243.46it/s]\n"
          ]
        },
        {
          "output_type": "stream",
          "name": "stdout",
          "text": [
            "2 2 62\n"
          ]
        },
        {
          "output_type": "stream",
          "name": "stderr",
          "text": [
            "100%|██████████| 3/3 [00:00<00:00, 390.69it/s]\n",
            "100%|██████████| 3/3 [00:00<00:00, 401.51it/s]\n"
          ]
        },
        {
          "output_type": "stream",
          "name": "stdout",
          "text": [
            "2 2 63\n"
          ]
        },
        {
          "output_type": "stream",
          "name": "stderr",
          "text": [
            "100%|██████████| 3/3 [00:00<00:00, 120.94it/s]\n",
            "100%|██████████| 3/3 [00:00<00:00, 155.24it/s]\n"
          ]
        },
        {
          "output_type": "stream",
          "name": "stdout",
          "text": [
            "2 2 64\n"
          ]
        },
        {
          "output_type": "stream",
          "name": "stderr",
          "text": [
            "100%|██████████| 3/3 [00:00<00:00, 250.31it/s]\n",
            "100%|██████████| 3/3 [00:00<00:00, 269.84it/s]\n"
          ]
        },
        {
          "output_type": "stream",
          "name": "stdout",
          "text": [
            "2 2 65\n"
          ]
        },
        {
          "output_type": "stream",
          "name": "stderr",
          "text": [
            "100%|██████████| 3/3 [00:00<00:00, 216.09it/s]\n",
            "100%|██████████| 3/3 [00:00<00:00, 372.00it/s]\n"
          ]
        },
        {
          "output_type": "stream",
          "name": "stdout",
          "text": [
            "2 2 66\n"
          ]
        },
        {
          "output_type": "stream",
          "name": "stderr",
          "text": [
            "100%|██████████| 3/3 [00:00<00:00, 131.57it/s]\n",
            "100%|██████████| 3/3 [00:00<00:00, 361.12it/s]\n"
          ]
        },
        {
          "output_type": "stream",
          "name": "stdout",
          "text": [
            "2 2 67\n"
          ]
        },
        {
          "output_type": "stream",
          "name": "stderr",
          "text": [
            "100%|██████████| 3/3 [00:00<00:00, 301.78it/s]\n",
            "100%|██████████| 3/3 [00:00<00:00, 142.51it/s]\n"
          ]
        },
        {
          "output_type": "stream",
          "name": "stdout",
          "text": [
            "2 2 68\n"
          ]
        },
        {
          "output_type": "stream",
          "name": "stderr",
          "text": [
            "100%|██████████| 3/3 [00:00<00:00, 159.70it/s]\n",
            "100%|██████████| 3/3 [00:00<00:00, 316.05it/s]\n"
          ]
        },
        {
          "output_type": "stream",
          "name": "stdout",
          "text": [
            "2 2 69\n"
          ]
        },
        {
          "output_type": "stream",
          "name": "stderr",
          "text": [
            "100%|██████████| 3/3 [00:00<00:00, 268.83it/s]\n",
            "100%|██████████| 3/3 [00:00<00:00, 133.28it/s]\n"
          ]
        },
        {
          "output_type": "stream",
          "name": "stdout",
          "text": [
            "2 2 70\n"
          ]
        },
        {
          "output_type": "stream",
          "name": "stderr",
          "text": [
            "100%|██████████| 3/3 [00:00<00:00, 126.63it/s]\n",
            "100%|██████████| 3/3 [00:00<00:00, 312.33it/s]\n"
          ]
        },
        {
          "output_type": "stream",
          "name": "stdout",
          "text": [
            "2 2 71\n"
          ]
        },
        {
          "output_type": "stream",
          "name": "stderr",
          "text": [
            "100%|██████████| 3/3 [00:00<00:00, 141.75it/s]\n",
            "100%|██████████| 3/3 [00:00<00:00, 125.59it/s]\n"
          ]
        },
        {
          "output_type": "stream",
          "name": "stdout",
          "text": [
            "2 2 72\n"
          ]
        },
        {
          "output_type": "stream",
          "name": "stderr",
          "text": [
            "100%|██████████| 3/3 [00:00<00:00, 312.11it/s]\n",
            "100%|██████████| 3/3 [00:00<00:00, 253.92it/s]\n"
          ]
        },
        {
          "output_type": "stream",
          "name": "stdout",
          "text": [
            "2 2 73\n"
          ]
        },
        {
          "output_type": "stream",
          "name": "stderr",
          "text": [
            "100%|██████████| 3/3 [00:00<00:00, 347.57it/s]\n",
            "100%|██████████| 3/3 [00:00<00:00, 245.30it/s]\n"
          ]
        },
        {
          "output_type": "stream",
          "name": "stdout",
          "text": [
            "2 2 74\n"
          ]
        },
        {
          "output_type": "stream",
          "name": "stderr",
          "text": [
            "100%|██████████| 3/3 [00:00<00:00, 398.24it/s]\n",
            "100%|██████████| 3/3 [00:00<00:00, 305.34it/s]\n"
          ]
        },
        {
          "output_type": "stream",
          "name": "stdout",
          "text": [
            "2 2 75\n"
          ]
        },
        {
          "output_type": "stream",
          "name": "stderr",
          "text": [
            "100%|██████████| 3/3 [00:00<00:00, 149.92it/s]\n",
            "100%|██████████| 3/3 [00:00<00:00, 168.02it/s]\n"
          ]
        },
        {
          "output_type": "stream",
          "name": "stdout",
          "text": [
            "2 2 76\n"
          ]
        },
        {
          "output_type": "stream",
          "name": "stderr",
          "text": [
            "100%|██████████| 3/3 [00:00<00:00, 181.21it/s]\n",
            "100%|██████████| 3/3 [00:00<00:00, 176.50it/s]\n"
          ]
        },
        {
          "output_type": "stream",
          "name": "stdout",
          "text": [
            "2 2 77\n"
          ]
        },
        {
          "output_type": "stream",
          "name": "stderr",
          "text": [
            "100%|██████████| 3/3 [00:00<00:00, 413.27it/s]\n",
            "100%|██████████| 3/3 [00:00<00:00, 403.49it/s]\n"
          ]
        },
        {
          "output_type": "stream",
          "name": "stdout",
          "text": [
            "2 2 78\n"
          ]
        },
        {
          "output_type": "stream",
          "name": "stderr",
          "text": [
            "100%|██████████| 3/3 [00:00<00:00, 361.64it/s]\n",
            "100%|██████████| 3/3 [00:00<00:00, 311.91it/s]\n"
          ]
        },
        {
          "output_type": "stream",
          "name": "stdout",
          "text": [
            "2 2 79\n"
          ]
        },
        {
          "output_type": "stream",
          "name": "stderr",
          "text": [
            "100%|██████████| 3/3 [00:00<00:00, 160.22it/s]\n",
            "100%|██████████| 3/3 [00:00<00:00, 169.60it/s]\n"
          ]
        },
        {
          "output_type": "stream",
          "name": "stdout",
          "text": [
            "2 2 80\n"
          ]
        },
        {
          "output_type": "stream",
          "name": "stderr",
          "text": [
            "100%|██████████| 3/3 [00:00<00:00, 211.18it/s]\n",
            "100%|██████████| 3/3 [00:00<00:00, 182.49it/s]\n"
          ]
        },
        {
          "output_type": "stream",
          "name": "stdout",
          "text": [
            "2 2 81\n"
          ]
        },
        {
          "output_type": "stream",
          "name": "stderr",
          "text": [
            "100%|██████████| 3/3 [00:00<00:00, 211.40it/s]\n",
            "100%|██████████| 3/3 [00:00<00:00, 213.60it/s]\n"
          ]
        },
        {
          "output_type": "stream",
          "name": "stdout",
          "text": [
            "2 2 82\n"
          ]
        },
        {
          "output_type": "stream",
          "name": "stderr",
          "text": [
            "100%|██████████| 3/3 [00:00<00:00, 268.54it/s]\n",
            "100%|██████████| 3/3 [00:00<00:00, 203.67it/s]\n"
          ]
        },
        {
          "output_type": "stream",
          "name": "stdout",
          "text": [
            "2 2 83\n"
          ]
        },
        {
          "output_type": "stream",
          "name": "stderr",
          "text": [
            "100%|██████████| 3/3 [00:00<00:00, 269.01it/s]\n",
            "100%|██████████| 3/3 [00:00<00:00, 202.65it/s]\n"
          ]
        },
        {
          "output_type": "stream",
          "name": "stdout",
          "text": [
            "2 2 84\n"
          ]
        },
        {
          "output_type": "stream",
          "name": "stderr",
          "text": [
            "100%|██████████| 3/3 [00:00<00:00, 111.28it/s]\n",
            "100%|██████████| 3/3 [00:00<00:00, 151.91it/s]\n"
          ]
        },
        {
          "output_type": "stream",
          "name": "stdout",
          "text": [
            "2 2 85\n"
          ]
        },
        {
          "output_type": "stream",
          "name": "stderr",
          "text": [
            "100%|██████████| 3/3 [00:00<00:00, 133.29it/s]\n",
            "100%|██████████| 3/3 [00:00<00:00, 117.75it/s]\n"
          ]
        },
        {
          "output_type": "stream",
          "name": "stdout",
          "text": [
            "2 2 86\n"
          ]
        },
        {
          "output_type": "stream",
          "name": "stderr",
          "text": [
            "100%|██████████| 3/3 [00:00<00:00, 185.00it/s]\n",
            "100%|██████████| 3/3 [00:00<00:00, 327.23it/s]\n"
          ]
        },
        {
          "output_type": "stream",
          "name": "stdout",
          "text": [
            "2 2 87\n"
          ]
        },
        {
          "output_type": "stream",
          "name": "stderr",
          "text": [
            "100%|██████████| 3/3 [00:00<00:00, 145.27it/s]\n",
            "100%|██████████| 3/3 [00:00<00:00, 259.49it/s]\n"
          ]
        },
        {
          "output_type": "stream",
          "name": "stdout",
          "text": [
            "2 2 88\n"
          ]
        },
        {
          "output_type": "stream",
          "name": "stderr",
          "text": [
            "100%|██████████| 3/3 [00:00<00:00, 387.58it/s]\n",
            "100%|██████████| 3/3 [00:00<00:00, 254.61it/s]\n"
          ]
        },
        {
          "output_type": "stream",
          "name": "stdout",
          "text": [
            "2 2 89\n"
          ]
        },
        {
          "output_type": "stream",
          "name": "stderr",
          "text": [
            "100%|██████████| 3/3 [00:00<00:00, 211.81it/s]\n",
            "100%|██████████| 3/3 [00:00<00:00, 404.19it/s]\n"
          ]
        },
        {
          "output_type": "stream",
          "name": "stdout",
          "text": [
            "2 2 90\n"
          ]
        },
        {
          "output_type": "stream",
          "name": "stderr",
          "text": [
            "100%|██████████| 3/3 [00:00<00:00, 325.28it/s]\n",
            "100%|██████████| 3/3 [00:00<00:00, 208.88it/s]\n"
          ]
        },
        {
          "output_type": "stream",
          "name": "stdout",
          "text": [
            "2 2 91\n"
          ]
        },
        {
          "output_type": "stream",
          "name": "stderr",
          "text": [
            "100%|██████████| 3/3 [00:00<00:00, 249.92it/s]\n",
            "100%|██████████| 3/3 [00:00<00:00, 174.72it/s]\n"
          ]
        },
        {
          "output_type": "stream",
          "name": "stdout",
          "text": [
            "2 2 92\n"
          ]
        },
        {
          "output_type": "stream",
          "name": "stderr",
          "text": [
            "100%|██████████| 3/3 [00:00<00:00, 129.73it/s]\n",
            "100%|██████████| 3/3 [00:00<00:00, 109.70it/s]\n"
          ]
        },
        {
          "output_type": "stream",
          "name": "stdout",
          "text": [
            "2 2 93\n"
          ]
        },
        {
          "output_type": "stream",
          "name": "stderr",
          "text": [
            "100%|██████████| 3/3 [00:00<00:00, 402.06it/s]\n",
            "100%|██████████| 3/3 [00:00<00:00, 443.23it/s]\n"
          ]
        },
        {
          "output_type": "stream",
          "name": "stdout",
          "text": [
            "2 2 94\n"
          ]
        },
        {
          "output_type": "stream",
          "name": "stderr",
          "text": [
            "100%|██████████| 3/3 [00:00<00:00, 94.08it/s]\n",
            "100%|██████████| 3/3 [00:00<00:00, 114.48it/s]\n"
          ]
        },
        {
          "output_type": "stream",
          "name": "stdout",
          "text": [
            "2 2 95\n"
          ]
        },
        {
          "output_type": "stream",
          "name": "stderr",
          "text": [
            "100%|██████████| 3/3 [00:00<00:00, 307.88it/s]\n",
            "100%|██████████| 3/3 [00:00<00:00, 252.76it/s]\n"
          ]
        },
        {
          "output_type": "stream",
          "name": "stdout",
          "text": [
            "2 2 96\n"
          ]
        },
        {
          "output_type": "stream",
          "name": "stderr",
          "text": [
            "100%|██████████| 3/3 [00:00<00:00, 137.01it/s]\n",
            "100%|██████████| 3/3 [00:00<00:00, 145.39it/s]\n"
          ]
        },
        {
          "output_type": "stream",
          "name": "stdout",
          "text": [
            "2 2 97\n"
          ]
        },
        {
          "output_type": "stream",
          "name": "stderr",
          "text": [
            "100%|██████████| 3/3 [00:00<00:00, 349.23it/s]\n",
            "100%|██████████| 3/3 [00:00<00:00, 294.79it/s]\n"
          ]
        },
        {
          "output_type": "stream",
          "name": "stdout",
          "text": [
            "2 2 98\n"
          ]
        },
        {
          "output_type": "stream",
          "name": "stderr",
          "text": [
            "100%|██████████| 3/3 [00:00<00:00, 332.77it/s]\n",
            "100%|██████████| 3/3 [00:00<00:00, 312.08it/s]\n"
          ]
        },
        {
          "output_type": "stream",
          "name": "stdout",
          "text": [
            "2 2 99\n"
          ]
        },
        {
          "output_type": "stream",
          "name": "stderr",
          "text": [
            "100%|██████████| 3/3 [00:00<00:00, 152.56it/s]\n",
            "100%|██████████| 3/3 [00:00<00:00, 123.99it/s]\n"
          ]
        },
        {
          "output_type": "stream",
          "name": "stdout",
          "text": [
            "2 3 0\n"
          ]
        },
        {
          "output_type": "stream",
          "name": "stderr",
          "text": [
            "100%|██████████| 3/3 [00:00<00:00, 379.20it/s]\n",
            "100%|██████████| 3/3 [00:00<00:00, 320.36it/s]\n"
          ]
        },
        {
          "output_type": "stream",
          "name": "stdout",
          "text": [
            "2 3 1\n"
          ]
        },
        {
          "output_type": "stream",
          "name": "stderr",
          "text": [
            "100%|██████████| 3/3 [00:00<00:00, 230.19it/s]\n",
            "100%|██████████| 3/3 [00:00<00:00, 195.43it/s]\n"
          ]
        },
        {
          "output_type": "stream",
          "name": "stdout",
          "text": [
            "2 3 2\n"
          ]
        },
        {
          "output_type": "stream",
          "name": "stderr",
          "text": [
            "100%|██████████| 3/3 [00:00<00:00, 207.23it/s]\n",
            "100%|██████████| 3/3 [00:00<00:00, 407.20it/s]\n"
          ]
        },
        {
          "output_type": "stream",
          "name": "stdout",
          "text": [
            "2 3 3\n"
          ]
        },
        {
          "output_type": "stream",
          "name": "stderr",
          "text": [
            "100%|██████████| 3/3 [00:00<00:00, 336.70it/s]\n",
            "100%|██████████| 3/3 [00:00<00:00, 188.52it/s]\n"
          ]
        },
        {
          "output_type": "stream",
          "name": "stdout",
          "text": [
            "2 3 4\n"
          ]
        },
        {
          "output_type": "stream",
          "name": "stderr",
          "text": [
            "100%|██████████| 3/3 [00:00<00:00, 263.70it/s]\n",
            "100%|██████████| 3/3 [00:00<00:00, 277.14it/s]\n"
          ]
        },
        {
          "output_type": "stream",
          "name": "stdout",
          "text": [
            "2 3 5\n"
          ]
        },
        {
          "output_type": "stream",
          "name": "stderr",
          "text": [
            "100%|██████████| 3/3 [00:00<00:00, 90.02it/s]\n",
            "100%|██████████| 3/3 [00:00<00:00, 208.40it/s]\n"
          ]
        },
        {
          "output_type": "stream",
          "name": "stdout",
          "text": [
            "2 3 6\n"
          ]
        },
        {
          "output_type": "stream",
          "name": "stderr",
          "text": [
            "100%|██████████| 3/3 [00:00<00:00, 155.47it/s]\n",
            "100%|██████████| 3/3 [00:00<00:00, 234.85it/s]\n"
          ]
        },
        {
          "output_type": "stream",
          "name": "stdout",
          "text": [
            "2 3 7\n"
          ]
        },
        {
          "output_type": "stream",
          "name": "stderr",
          "text": [
            "100%|██████████| 3/3 [00:00<00:00, 103.83it/s]\n",
            "100%|██████████| 3/3 [00:00<00:00, 92.00it/s]\n"
          ]
        },
        {
          "output_type": "stream",
          "name": "stdout",
          "text": [
            "2 3 8\n"
          ]
        },
        {
          "output_type": "stream",
          "name": "stderr",
          "text": [
            "100%|██████████| 3/3 [00:00<00:00, 139.72it/s]\n",
            "100%|██████████| 3/3 [00:00<00:00, 297.68it/s]\n"
          ]
        },
        {
          "output_type": "stream",
          "name": "stdout",
          "text": [
            "2 3 9\n"
          ]
        },
        {
          "output_type": "stream",
          "name": "stderr",
          "text": [
            "100%|██████████| 3/3 [00:00<00:00, 144.55it/s]\n",
            "100%|██████████| 3/3 [00:00<00:00, 283.88it/s]\n"
          ]
        },
        {
          "output_type": "stream",
          "name": "stdout",
          "text": [
            "2 3 10\n"
          ]
        },
        {
          "output_type": "stream",
          "name": "stderr",
          "text": [
            "100%|██████████| 3/3 [00:00<00:00, 86.36it/s]\n",
            "100%|██████████| 3/3 [00:00<00:00, 330.02it/s]\n"
          ]
        },
        {
          "output_type": "stream",
          "name": "stdout",
          "text": [
            "2 3 11\n"
          ]
        },
        {
          "output_type": "stream",
          "name": "stderr",
          "text": [
            "100%|██████████| 3/3 [00:00<00:00, 327.19it/s]\n",
            "100%|██████████| 3/3 [00:00<00:00, 325.43it/s]\n"
          ]
        },
        {
          "output_type": "stream",
          "name": "stdout",
          "text": [
            "2 3 12\n"
          ]
        },
        {
          "output_type": "stream",
          "name": "stderr",
          "text": [
            "100%|██████████| 3/3 [00:00<00:00, 296.47it/s]\n",
            "100%|██████████| 3/3 [00:00<00:00, 361.06it/s]\n"
          ]
        },
        {
          "output_type": "stream",
          "name": "stdout",
          "text": [
            "2 3 13\n"
          ]
        },
        {
          "output_type": "stream",
          "name": "stderr",
          "text": [
            "100%|██████████| 3/3 [00:00<00:00, 254.68it/s]\n",
            "100%|██████████| 3/3 [00:00<00:00, 184.54it/s]\n"
          ]
        },
        {
          "output_type": "stream",
          "name": "stdout",
          "text": [
            "2 3 14\n"
          ]
        },
        {
          "output_type": "stream",
          "name": "stderr",
          "text": [
            "100%|██████████| 3/3 [00:00<00:00, 300.72it/s]\n",
            "100%|██████████| 3/3 [00:00<00:00, 306.61it/s]\n"
          ]
        },
        {
          "output_type": "stream",
          "name": "stdout",
          "text": [
            "2 3 15\n"
          ]
        },
        {
          "output_type": "stream",
          "name": "stderr",
          "text": [
            "100%|██████████| 3/3 [00:00<00:00, 404.80it/s]\n",
            "100%|██████████| 3/3 [00:00<00:00, 186.59it/s]\n"
          ]
        },
        {
          "output_type": "stream",
          "name": "stdout",
          "text": [
            "2 3 16\n"
          ]
        },
        {
          "output_type": "stream",
          "name": "stderr",
          "text": [
            "100%|██████████| 3/3 [00:00<00:00, 410.37it/s]\n",
            "100%|██████████| 3/3 [00:00<00:00, 299.58it/s]\n"
          ]
        },
        {
          "output_type": "stream",
          "name": "stdout",
          "text": [
            "2 3 17\n"
          ]
        },
        {
          "output_type": "stream",
          "name": "stderr",
          "text": [
            "100%|██████████| 3/3 [00:00<00:00, 111.72it/s]\n",
            "100%|██████████| 3/3 [00:00<00:00, 149.96it/s]\n"
          ]
        },
        {
          "output_type": "stream",
          "name": "stdout",
          "text": [
            "2 3 18\n"
          ]
        },
        {
          "output_type": "stream",
          "name": "stderr",
          "text": [
            "100%|██████████| 3/3 [00:00<00:00, 338.71it/s]\n",
            "100%|██████████| 3/3 [00:00<00:00, 169.85it/s]\n"
          ]
        },
        {
          "output_type": "stream",
          "name": "stdout",
          "text": [
            "2 3 19\n"
          ]
        },
        {
          "output_type": "stream",
          "name": "stderr",
          "text": [
            "100%|██████████| 3/3 [00:00<00:00, 130.37it/s]\n",
            "100%|██████████| 3/3 [00:00<00:00, 156.01it/s]\n"
          ]
        },
        {
          "output_type": "stream",
          "name": "stdout",
          "text": [
            "2 3 20\n"
          ]
        },
        {
          "output_type": "stream",
          "name": "stderr",
          "text": [
            "100%|██████████| 3/3 [00:00<00:00, 365.68it/s]\n",
            "100%|██████████| 3/3 [00:00<00:00, 370.10it/s]\n"
          ]
        },
        {
          "output_type": "stream",
          "name": "stdout",
          "text": [
            "2 3 21\n"
          ]
        },
        {
          "output_type": "stream",
          "name": "stderr",
          "text": [
            "100%|██████████| 3/3 [00:00<00:00, 301.55it/s]\n",
            "100%|██████████| 3/3 [00:00<00:00, 242.29it/s]\n"
          ]
        },
        {
          "output_type": "stream",
          "name": "stdout",
          "text": [
            "2 3 22\n"
          ]
        },
        {
          "output_type": "stream",
          "name": "stderr",
          "text": [
            "100%|██████████| 3/3 [00:00<00:00, 243.35it/s]\n",
            "100%|██████████| 3/3 [00:00<00:00, 373.70it/s]\n"
          ]
        },
        {
          "output_type": "stream",
          "name": "stdout",
          "text": [
            "2 3 23\n"
          ]
        },
        {
          "output_type": "stream",
          "name": "stderr",
          "text": [
            "100%|██████████| 3/3 [00:00<00:00, 182.29it/s]\n",
            "100%|██████████| 3/3 [00:00<00:00, 181.12it/s]\n"
          ]
        },
        {
          "output_type": "stream",
          "name": "stdout",
          "text": [
            "2 3 24\n"
          ]
        },
        {
          "output_type": "stream",
          "name": "stderr",
          "text": [
            "100%|██████████| 3/3 [00:00<00:00, 302.82it/s]\n",
            "100%|██████████| 3/3 [00:00<00:00, 207.21it/s]\n"
          ]
        },
        {
          "output_type": "stream",
          "name": "stdout",
          "text": [
            "2 3 25\n"
          ]
        },
        {
          "output_type": "stream",
          "name": "stderr",
          "text": [
            "100%|██████████| 3/3 [00:00<00:00, 88.35it/s]\n",
            "100%|██████████| 3/3 [00:00<00:00, 100.60it/s]\n"
          ]
        },
        {
          "output_type": "stream",
          "name": "stdout",
          "text": [
            "2 3 26\n"
          ]
        },
        {
          "output_type": "stream",
          "name": "stderr",
          "text": [
            "100%|██████████| 3/3 [00:00<00:00, 147.48it/s]\n",
            "100%|██████████| 3/3 [00:00<00:00, 138.48it/s]\n"
          ]
        },
        {
          "output_type": "stream",
          "name": "stdout",
          "text": [
            "2 3 27\n"
          ]
        },
        {
          "output_type": "stream",
          "name": "stderr",
          "text": [
            "100%|██████████| 3/3 [00:00<00:00, 124.41it/s]\n",
            "100%|██████████| 3/3 [00:00<00:00, 117.01it/s]\n"
          ]
        },
        {
          "output_type": "stream",
          "name": "stdout",
          "text": [
            "2 3 28\n"
          ]
        },
        {
          "output_type": "stream",
          "name": "stderr",
          "text": [
            "100%|██████████| 3/3 [00:00<00:00, 116.63it/s]\n",
            "100%|██████████| 3/3 [00:00<00:00, 103.36it/s]\n"
          ]
        },
        {
          "output_type": "stream",
          "name": "stdout",
          "text": [
            "2 3 29\n"
          ]
        },
        {
          "output_type": "stream",
          "name": "stderr",
          "text": [
            "100%|██████████| 3/3 [00:00<00:00, 287.62it/s]\n",
            "100%|██████████| 3/3 [00:00<00:00, 363.70it/s]\n"
          ]
        },
        {
          "output_type": "stream",
          "name": "stdout",
          "text": [
            "2 3 30\n"
          ]
        },
        {
          "output_type": "stream",
          "name": "stderr",
          "text": [
            "100%|██████████| 3/3 [00:00<00:00, 145.98it/s]\n",
            "100%|██████████| 3/3 [00:00<00:00, 200.17it/s]\n"
          ]
        },
        {
          "output_type": "stream",
          "name": "stdout",
          "text": [
            "2 3 31\n"
          ]
        },
        {
          "output_type": "stream",
          "name": "stderr",
          "text": [
            "100%|██████████| 3/3 [00:00<00:00, 167.40it/s]\n",
            "100%|██████████| 3/3 [00:00<00:00, 328.52it/s]\n"
          ]
        },
        {
          "output_type": "stream",
          "name": "stdout",
          "text": [
            "2 3 32\n"
          ]
        },
        {
          "output_type": "stream",
          "name": "stderr",
          "text": [
            "100%|██████████| 3/3 [00:00<00:00, 320.80it/s]\n",
            "100%|██████████| 3/3 [00:00<00:00, 392.31it/s]\n"
          ]
        },
        {
          "output_type": "stream",
          "name": "stdout",
          "text": [
            "2 3 33\n"
          ]
        },
        {
          "output_type": "stream",
          "name": "stderr",
          "text": [
            "100%|██████████| 3/3 [00:00<00:00, 236.03it/s]\n",
            "100%|██████████| 3/3 [00:00<00:00, 262.22it/s]\n"
          ]
        },
        {
          "output_type": "stream",
          "name": "stdout",
          "text": [
            "2 3 34\n"
          ]
        },
        {
          "output_type": "stream",
          "name": "stderr",
          "text": [
            "100%|██████████| 3/3 [00:00<00:00, 121.12it/s]\n",
            "100%|██████████| 3/3 [00:00<00:00, 111.25it/s]\n"
          ]
        },
        {
          "output_type": "stream",
          "name": "stdout",
          "text": [
            "2 3 35\n"
          ]
        },
        {
          "output_type": "stream",
          "name": "stderr",
          "text": [
            "100%|██████████| 3/3 [00:00<00:00, 156.57it/s]\n",
            "100%|██████████| 3/3 [00:00<00:00, 365.71it/s]\n"
          ]
        },
        {
          "output_type": "stream",
          "name": "stdout",
          "text": [
            "2 3 36\n"
          ]
        },
        {
          "output_type": "stream",
          "name": "stderr",
          "text": [
            "100%|██████████| 3/3 [00:00<00:00, 141.94it/s]\n",
            "100%|██████████| 3/3 [00:00<00:00, 129.67it/s]\n"
          ]
        },
        {
          "output_type": "stream",
          "name": "stdout",
          "text": [
            "2 3 37\n"
          ]
        },
        {
          "output_type": "stream",
          "name": "stderr",
          "text": [
            "100%|██████████| 3/3 [00:00<00:00, 181.18it/s]\n",
            "100%|██████████| 3/3 [00:00<00:00, 241.88it/s]\n"
          ]
        },
        {
          "output_type": "stream",
          "name": "stdout",
          "text": [
            "2 3 38\n"
          ]
        },
        {
          "output_type": "stream",
          "name": "stderr",
          "text": [
            "100%|██████████| 3/3 [00:00<00:00, 144.85it/s]\n",
            "100%|██████████| 3/3 [00:00<00:00, 178.08it/s]\n"
          ]
        },
        {
          "output_type": "stream",
          "name": "stdout",
          "text": [
            "2 3 39\n"
          ]
        },
        {
          "output_type": "stream",
          "name": "stderr",
          "text": [
            "100%|██████████| 3/3 [00:00<00:00, 365.77it/s]\n",
            "100%|██████████| 3/3 [00:00<00:00, 309.70it/s]\n"
          ]
        },
        {
          "output_type": "stream",
          "name": "stdout",
          "text": [
            "2 3 40\n"
          ]
        },
        {
          "output_type": "stream",
          "name": "stderr",
          "text": [
            "100%|██████████| 3/3 [00:00<00:00, 324.52it/s]\n",
            "100%|██████████| 3/3 [00:00<00:00, 316.09it/s]\n"
          ]
        },
        {
          "output_type": "stream",
          "name": "stdout",
          "text": [
            "2 3 41\n"
          ]
        },
        {
          "output_type": "stream",
          "name": "stderr",
          "text": [
            "100%|██████████| 3/3 [00:00<00:00, 106.86it/s]\n",
            "100%|██████████| 3/3 [00:00<00:00, 169.46it/s]\n"
          ]
        },
        {
          "output_type": "stream",
          "name": "stdout",
          "text": [
            "2 3 42\n"
          ]
        },
        {
          "output_type": "stream",
          "name": "stderr",
          "text": [
            "100%|██████████| 3/3 [00:00<00:00, 210.41it/s]\n",
            "100%|██████████| 3/3 [00:00<00:00, 181.59it/s]\n"
          ]
        },
        {
          "output_type": "stream",
          "name": "stdout",
          "text": [
            "2 3 43\n"
          ]
        },
        {
          "output_type": "stream",
          "name": "stderr",
          "text": [
            "100%|██████████| 3/3 [00:00<00:00, 370.01it/s]\n",
            "100%|██████████| 3/3 [00:00<00:00, 177.92it/s]\n"
          ]
        },
        {
          "output_type": "stream",
          "name": "stdout",
          "text": [
            "2 3 44\n"
          ]
        },
        {
          "output_type": "stream",
          "name": "stderr",
          "text": [
            "100%|██████████| 3/3 [00:00<00:00, 239.78it/s]\n",
            "100%|██████████| 3/3 [00:00<00:00, 211.69it/s]\n"
          ]
        },
        {
          "output_type": "stream",
          "name": "stdout",
          "text": [
            "2 3 45\n"
          ]
        },
        {
          "output_type": "stream",
          "name": "stderr",
          "text": [
            "100%|██████████| 3/3 [00:00<00:00, 333.17it/s]\n",
            "100%|██████████| 3/3 [00:00<00:00, 416.39it/s]\n"
          ]
        },
        {
          "output_type": "stream",
          "name": "stdout",
          "text": [
            "2 3 46\n"
          ]
        },
        {
          "output_type": "stream",
          "name": "stderr",
          "text": [
            "100%|██████████| 3/3 [00:00<00:00, 282.20it/s]\n",
            "100%|██████████| 3/3 [00:00<00:00, 361.01it/s]\n"
          ]
        },
        {
          "output_type": "stream",
          "name": "stdout",
          "text": [
            "2 3 47\n"
          ]
        },
        {
          "output_type": "stream",
          "name": "stderr",
          "text": [
            "100%|██████████| 3/3 [00:00<00:00, 121.95it/s]\n",
            "100%|██████████| 3/3 [00:00<00:00, 142.05it/s]\n"
          ]
        },
        {
          "output_type": "stream",
          "name": "stdout",
          "text": [
            "2 3 48\n"
          ]
        },
        {
          "output_type": "stream",
          "name": "stderr",
          "text": [
            "100%|██████████| 3/3 [00:00<00:00, 124.23it/s]\n",
            "100%|██████████| 3/3 [00:00<00:00, 238.51it/s]\n"
          ]
        },
        {
          "output_type": "stream",
          "name": "stdout",
          "text": [
            "2 3 49\n"
          ]
        },
        {
          "output_type": "stream",
          "name": "stderr",
          "text": [
            "100%|██████████| 3/3 [00:00<00:00, 351.44it/s]\n",
            "100%|██████████| 3/3 [00:00<00:00, 423.07it/s]\n"
          ]
        },
        {
          "output_type": "stream",
          "name": "stdout",
          "text": [
            "2 3 50\n"
          ]
        },
        {
          "output_type": "stream",
          "name": "stderr",
          "text": [
            "100%|██████████| 3/3 [00:00<00:00, 114.37it/s]\n",
            "100%|██████████| 3/3 [00:00<00:00, 349.43it/s]\n"
          ]
        },
        {
          "output_type": "stream",
          "name": "stdout",
          "text": [
            "2 3 51\n"
          ]
        },
        {
          "output_type": "stream",
          "name": "stderr",
          "text": [
            "100%|██████████| 3/3 [00:00<00:00, 433.59it/s]\n",
            "100%|██████████| 3/3 [00:00<00:00, 396.05it/s]\n"
          ]
        },
        {
          "output_type": "stream",
          "name": "stdout",
          "text": [
            "2 3 52\n"
          ]
        },
        {
          "output_type": "stream",
          "name": "stderr",
          "text": [
            "100%|██████████| 3/3 [00:00<00:00, 294.85it/s]\n",
            "100%|██████████| 3/3 [00:00<00:00, 335.85it/s]\n"
          ]
        },
        {
          "output_type": "stream",
          "name": "stdout",
          "text": [
            "2 3 53\n"
          ]
        },
        {
          "output_type": "stream",
          "name": "stderr",
          "text": [
            "100%|██████████| 3/3 [00:00<00:00, 134.54it/s]\n",
            "100%|██████████| 3/3 [00:00<00:00, 156.18it/s]\n"
          ]
        },
        {
          "output_type": "stream",
          "name": "stdout",
          "text": [
            "2 3 54\n"
          ]
        },
        {
          "output_type": "stream",
          "name": "stderr",
          "text": [
            "100%|██████████| 3/3 [00:00<00:00, 180.74it/s]\n",
            "100%|██████████| 3/3 [00:00<00:00, 149.93it/s]\n"
          ]
        },
        {
          "output_type": "stream",
          "name": "stdout",
          "text": [
            "2 3 55\n"
          ]
        },
        {
          "output_type": "stream",
          "name": "stderr",
          "text": [
            "100%|██████████| 3/3 [00:00<00:00, 224.19it/s]\n",
            "100%|██████████| 3/3 [00:00<00:00, 180.22it/s]\n"
          ]
        },
        {
          "output_type": "stream",
          "name": "stdout",
          "text": [
            "2 3 56\n"
          ]
        },
        {
          "output_type": "stream",
          "name": "stderr",
          "text": [
            "100%|██████████| 3/3 [00:00<00:00, 188.36it/s]\n",
            "100%|██████████| 3/3 [00:00<00:00, 257.43it/s]\n"
          ]
        },
        {
          "output_type": "stream",
          "name": "stdout",
          "text": [
            "2 3 57\n"
          ]
        },
        {
          "output_type": "stream",
          "name": "stderr",
          "text": [
            "100%|██████████| 3/3 [00:00<00:00, 280.11it/s]\n",
            "100%|██████████| 3/3 [00:00<00:00, 125.03it/s]\n"
          ]
        },
        {
          "output_type": "stream",
          "name": "stdout",
          "text": [
            "2 3 58\n"
          ]
        },
        {
          "output_type": "stream",
          "name": "stderr",
          "text": [
            "100%|██████████| 3/3 [00:00<00:00, 181.70it/s]\n",
            "100%|██████████| 3/3 [00:00<00:00, 143.37it/s]\n"
          ]
        },
        {
          "output_type": "stream",
          "name": "stdout",
          "text": [
            "2 3 59\n"
          ]
        },
        {
          "output_type": "stream",
          "name": "stderr",
          "text": [
            "100%|██████████| 3/3 [00:00<00:00, 249.29it/s]\n",
            "100%|██████████| 3/3 [00:00<00:00, 158.73it/s]\n"
          ]
        },
        {
          "output_type": "stream",
          "name": "stdout",
          "text": [
            "2 3 60\n"
          ]
        },
        {
          "output_type": "stream",
          "name": "stderr",
          "text": [
            "100%|██████████| 3/3 [00:00<00:00, 228.06it/s]\n",
            "100%|██████████| 3/3 [00:00<00:00, 372.75it/s]\n"
          ]
        },
        {
          "output_type": "stream",
          "name": "stdout",
          "text": [
            "2 3 61\n"
          ]
        },
        {
          "output_type": "stream",
          "name": "stderr",
          "text": [
            "100%|██████████| 3/3 [00:00<00:00, 194.36it/s]\n",
            "100%|██████████| 3/3 [00:00<00:00, 317.13it/s]\n"
          ]
        },
        {
          "output_type": "stream",
          "name": "stdout",
          "text": [
            "2 3 62\n"
          ]
        },
        {
          "output_type": "stream",
          "name": "stderr",
          "text": [
            "100%|██████████| 3/3 [00:00<00:00, 121.43it/s]\n",
            "100%|██████████| 3/3 [00:00<00:00, 312.98it/s]\n"
          ]
        },
        {
          "output_type": "stream",
          "name": "stdout",
          "text": [
            "2 3 63\n"
          ]
        },
        {
          "output_type": "stream",
          "name": "stderr",
          "text": [
            "100%|██████████| 3/3 [00:00<00:00, 113.48it/s]\n",
            "100%|██████████| 3/3 [00:00<00:00, 177.51it/s]\n"
          ]
        },
        {
          "output_type": "stream",
          "name": "stdout",
          "text": [
            "2 3 64\n"
          ]
        },
        {
          "output_type": "stream",
          "name": "stderr",
          "text": [
            "100%|██████████| 3/3 [00:00<00:00, 322.95it/s]\n",
            "100%|██████████| 3/3 [00:00<00:00, 248.91it/s]\n"
          ]
        },
        {
          "output_type": "stream",
          "name": "stdout",
          "text": [
            "2 3 65\n"
          ]
        },
        {
          "output_type": "stream",
          "name": "stderr",
          "text": [
            "100%|██████████| 3/3 [00:00<00:00, 191.19it/s]\n",
            "100%|██████████| 3/3 [00:00<00:00, 107.45it/s]\n"
          ]
        },
        {
          "output_type": "stream",
          "name": "stdout",
          "text": [
            "2 3 66\n"
          ]
        },
        {
          "output_type": "stream",
          "name": "stderr",
          "text": [
            "100%|██████████| 3/3 [00:00<00:00, 186.50it/s]\n",
            "100%|██████████| 3/3 [00:00<00:00, 229.82it/s]\n"
          ]
        },
        {
          "output_type": "stream",
          "name": "stdout",
          "text": [
            "2 3 67\n"
          ]
        },
        {
          "output_type": "stream",
          "name": "stderr",
          "text": [
            "100%|██████████| 3/3 [00:00<00:00, 312.99it/s]\n",
            "100%|██████████| 3/3 [00:00<00:00, 349.93it/s]\n"
          ]
        },
        {
          "output_type": "stream",
          "name": "stdout",
          "text": [
            "2 3 68\n"
          ]
        },
        {
          "output_type": "stream",
          "name": "stderr",
          "text": [
            "100%|██████████| 3/3 [00:00<00:00, 129.86it/s]\n",
            "100%|██████████| 3/3 [00:00<00:00, 187.67it/s]\n"
          ]
        },
        {
          "output_type": "stream",
          "name": "stdout",
          "text": [
            "2 3 69\n"
          ]
        },
        {
          "output_type": "stream",
          "name": "stderr",
          "text": [
            "100%|██████████| 3/3 [00:00<00:00, 308.41it/s]\n",
            "100%|██████████| 3/3 [00:00<00:00, 308.13it/s]\n"
          ]
        },
        {
          "output_type": "stream",
          "name": "stdout",
          "text": [
            "2 3 70\n"
          ]
        },
        {
          "output_type": "stream",
          "name": "stderr",
          "text": [
            "100%|██████████| 3/3 [00:00<00:00, 161.68it/s]\n",
            "100%|██████████| 3/3 [00:00<00:00, 175.61it/s]\n"
          ]
        },
        {
          "output_type": "stream",
          "name": "stdout",
          "text": [
            "2 3 71\n"
          ]
        },
        {
          "output_type": "stream",
          "name": "stderr",
          "text": [
            "100%|██████████| 3/3 [00:00<00:00, 106.48it/s]\n",
            "100%|██████████| 3/3 [00:00<00:00, 169.41it/s]\n"
          ]
        },
        {
          "output_type": "stream",
          "name": "stdout",
          "text": [
            "2 3 72\n"
          ]
        },
        {
          "output_type": "stream",
          "name": "stderr",
          "text": [
            "100%|██████████| 3/3 [00:00<00:00, 126.17it/s]\n",
            "100%|██████████| 3/3 [00:00<00:00, 377.81it/s]\n"
          ]
        },
        {
          "output_type": "stream",
          "name": "stdout",
          "text": [
            "2 3 73\n"
          ]
        },
        {
          "output_type": "stream",
          "name": "stderr",
          "text": [
            "100%|██████████| 3/3 [00:00<00:00, 341.43it/s]\n",
            "100%|██████████| 3/3 [00:00<00:00, 374.65it/s]\n"
          ]
        },
        {
          "output_type": "stream",
          "name": "stdout",
          "text": [
            "2 3 74\n"
          ]
        },
        {
          "output_type": "stream",
          "name": "stderr",
          "text": [
            "100%|██████████| 3/3 [00:00<00:00, 105.96it/s]\n",
            "100%|██████████| 3/3 [00:00<00:00, 252.41it/s]\n"
          ]
        },
        {
          "output_type": "stream",
          "name": "stdout",
          "text": [
            "2 3 75\n"
          ]
        },
        {
          "output_type": "stream",
          "name": "stderr",
          "text": [
            "100%|██████████| 3/3 [00:00<00:00, 369.42it/s]\n",
            "100%|██████████| 3/3 [00:00<00:00, 363.44it/s]\n"
          ]
        },
        {
          "output_type": "stream",
          "name": "stdout",
          "text": [
            "2 3 76\n"
          ]
        },
        {
          "output_type": "stream",
          "name": "stderr",
          "text": [
            "100%|██████████| 3/3 [00:00<00:00, 278.00it/s]\n",
            "100%|██████████| 3/3 [00:00<00:00, 336.08it/s]\n"
          ]
        },
        {
          "output_type": "stream",
          "name": "stdout",
          "text": [
            "2 3 77\n"
          ]
        },
        {
          "output_type": "stream",
          "name": "stderr",
          "text": [
            "100%|██████████| 3/3 [00:00<00:00, 114.00it/s]\n",
            "100%|██████████| 3/3 [00:00<00:00, 265.59it/s]\n"
          ]
        },
        {
          "output_type": "stream",
          "name": "stdout",
          "text": [
            "2 3 78\n"
          ]
        },
        {
          "output_type": "stream",
          "name": "stderr",
          "text": [
            "100%|██████████| 3/3 [00:00<00:00, 207.41it/s]\n",
            "100%|██████████| 3/3 [00:00<00:00, 130.97it/s]\n"
          ]
        },
        {
          "output_type": "stream",
          "name": "stdout",
          "text": [
            "2 3 79\n"
          ]
        },
        {
          "output_type": "stream",
          "name": "stderr",
          "text": [
            "100%|██████████| 3/3 [00:00<00:00, 309.67it/s]\n",
            "100%|██████████| 3/3 [00:00<00:00, 169.54it/s]\n"
          ]
        },
        {
          "output_type": "stream",
          "name": "stdout",
          "text": [
            "2 3 80\n"
          ]
        },
        {
          "output_type": "stream",
          "name": "stderr",
          "text": [
            "100%|██████████| 3/3 [00:00<00:00, 310.66it/s]\n",
            "100%|██████████| 3/3 [00:00<00:00, 352.09it/s]\n"
          ]
        },
        {
          "output_type": "stream",
          "name": "stdout",
          "text": [
            "2 3 81\n"
          ]
        },
        {
          "output_type": "stream",
          "name": "stderr",
          "text": [
            "100%|██████████| 3/3 [00:00<00:00, 333.72it/s]\n",
            "100%|██████████| 3/3 [00:00<00:00, 307.91it/s]\n"
          ]
        },
        {
          "output_type": "stream",
          "name": "stdout",
          "text": [
            "2 3 82\n"
          ]
        },
        {
          "output_type": "stream",
          "name": "stderr",
          "text": [
            "100%|██████████| 3/3 [00:00<00:00, 147.27it/s]\n",
            "100%|██████████| 3/3 [00:00<00:00, 179.97it/s]\n"
          ]
        },
        {
          "output_type": "stream",
          "name": "stdout",
          "text": [
            "2 3 83\n"
          ]
        },
        {
          "output_type": "stream",
          "name": "stderr",
          "text": [
            "100%|██████████| 3/3 [00:00<00:00, 119.33it/s]\n",
            "100%|██████████| 3/3 [00:00<00:00, 391.47it/s]\n"
          ]
        },
        {
          "output_type": "stream",
          "name": "stdout",
          "text": [
            "2 3 84\n"
          ]
        },
        {
          "output_type": "stream",
          "name": "stderr",
          "text": [
            "100%|██████████| 3/3 [00:00<00:00, 408.48it/s]\n",
            "100%|██████████| 3/3 [00:00<00:00, 386.06it/s]\n"
          ]
        },
        {
          "output_type": "stream",
          "name": "stdout",
          "text": [
            "2 3 85\n"
          ]
        },
        {
          "output_type": "stream",
          "name": "stderr",
          "text": [
            "100%|██████████| 3/3 [00:00<00:00, 445.05it/s]\n",
            "100%|██████████| 3/3 [00:00<00:00, 256.56it/s]\n"
          ]
        },
        {
          "output_type": "stream",
          "name": "stdout",
          "text": [
            "2 3 86\n"
          ]
        },
        {
          "output_type": "stream",
          "name": "stderr",
          "text": [
            "100%|██████████| 3/3 [00:00<00:00, 292.19it/s]\n",
            "100%|██████████| 3/3 [00:00<00:00, 334.19it/s]\n"
          ]
        },
        {
          "output_type": "stream",
          "name": "stdout",
          "text": [
            "2 3 87\n"
          ]
        },
        {
          "output_type": "stream",
          "name": "stderr",
          "text": [
            "100%|██████████| 3/3 [00:00<00:00, 312.39it/s]\n",
            "100%|██████████| 3/3 [00:00<00:00, 383.94it/s]\n"
          ]
        },
        {
          "output_type": "stream",
          "name": "stdout",
          "text": [
            "2 3 88\n"
          ]
        },
        {
          "output_type": "stream",
          "name": "stderr",
          "text": [
            "100%|██████████| 3/3 [00:00<00:00, 260.54it/s]\n",
            "100%|██████████| 3/3 [00:00<00:00, 193.01it/s]\n"
          ]
        },
        {
          "output_type": "stream",
          "name": "stdout",
          "text": [
            "2 3 89\n"
          ]
        },
        {
          "output_type": "stream",
          "name": "stderr",
          "text": [
            "100%|██████████| 3/3 [00:00<00:00, 419.64it/s]\n",
            "100%|██████████| 3/3 [00:00<00:00, 241.69it/s]\n"
          ]
        },
        {
          "output_type": "stream",
          "name": "stdout",
          "text": [
            "2 3 90\n"
          ]
        },
        {
          "output_type": "stream",
          "name": "stderr",
          "text": [
            "100%|██████████| 3/3 [00:00<00:00, 133.01it/s]\n",
            "100%|██████████| 3/3 [00:00<00:00, 121.75it/s]\n"
          ]
        },
        {
          "output_type": "stream",
          "name": "stdout",
          "text": [
            "2 3 91\n"
          ]
        },
        {
          "output_type": "stream",
          "name": "stderr",
          "text": [
            "100%|██████████| 3/3 [00:00<00:00, 127.27it/s]\n",
            "100%|██████████| 3/3 [00:00<00:00, 276.78it/s]\n"
          ]
        },
        {
          "output_type": "stream",
          "name": "stdout",
          "text": [
            "2 3 92\n"
          ]
        },
        {
          "output_type": "stream",
          "name": "stderr",
          "text": [
            "100%|██████████| 3/3 [00:00<00:00, 397.49it/s]\n",
            "100%|██████████| 3/3 [00:00<00:00, 191.04it/s]\n"
          ]
        },
        {
          "output_type": "stream",
          "name": "stdout",
          "text": [
            "2 3 93\n"
          ]
        },
        {
          "output_type": "stream",
          "name": "stderr",
          "text": [
            "100%|██████████| 3/3 [00:00<00:00, 289.36it/s]\n",
            "100%|██████████| 3/3 [00:00<00:00, 234.03it/s]\n"
          ]
        },
        {
          "output_type": "stream",
          "name": "stdout",
          "text": [
            "2 3 94\n"
          ]
        },
        {
          "output_type": "stream",
          "name": "stderr",
          "text": [
            "100%|██████████| 3/3 [00:00<00:00, 160.46it/s]\n",
            "100%|██████████| 3/3 [00:00<00:00, 146.70it/s]\n"
          ]
        },
        {
          "output_type": "stream",
          "name": "stdout",
          "text": [
            "2 3 95\n"
          ]
        },
        {
          "output_type": "stream",
          "name": "stderr",
          "text": [
            "100%|██████████| 3/3 [00:00<00:00, 152.12it/s]\n",
            "100%|██████████| 3/3 [00:00<00:00, 192.47it/s]\n"
          ]
        },
        {
          "output_type": "stream",
          "name": "stdout",
          "text": [
            "2 3 96\n"
          ]
        },
        {
          "output_type": "stream",
          "name": "stderr",
          "text": [
            "100%|██████████| 3/3 [00:00<00:00, 299.04it/s]\n",
            "100%|██████████| 3/3 [00:00<00:00, 321.22it/s]\n"
          ]
        },
        {
          "output_type": "stream",
          "name": "stdout",
          "text": [
            "2 3 97\n"
          ]
        },
        {
          "output_type": "stream",
          "name": "stderr",
          "text": [
            "100%|██████████| 3/3 [00:00<00:00, 159.97it/s]\n",
            "100%|██████████| 3/3 [00:00<00:00, 198.95it/s]\n"
          ]
        },
        {
          "output_type": "stream",
          "name": "stdout",
          "text": [
            "2 3 98\n"
          ]
        },
        {
          "output_type": "stream",
          "name": "stderr",
          "text": [
            "100%|██████████| 3/3 [00:00<00:00, 134.63it/s]\n",
            "100%|██████████| 3/3 [00:00<00:00, 134.95it/s]\n"
          ]
        },
        {
          "output_type": "stream",
          "name": "stdout",
          "text": [
            "2 3 99\n"
          ]
        },
        {
          "output_type": "stream",
          "name": "stderr",
          "text": [
            "100%|██████████| 3/3 [00:00<00:00, 429.49it/s]\n",
            "100%|██████████| 3/3 [00:00<00:00, 293.34it/s]\n"
          ]
        }
      ],
      "source": [
        "results = pd.DataFrame(columns=[\n",
        "    \"dataset\",\n",
        "    \"embedding\",\n",
        "    \"trial\",\n",
        "    \"x\",\n",
        "    \"y\",\n",
        "    \"z\",\n",
        "    \"statistic\",\n",
        "    \"latent\",\n",
        "    \"independent\",\n",
        "    \"all_correct\"\n",
        "])\n",
        "\n",
        "N_DIMS = 3\n",
        "N_NEIGHBORS = 5 # todo: vary this\n",
        "THRESHOLD = .2\n",
        "\n",
        "for i, dataset_generator in enumerate([generate_unconfounded, generate_dependent, generate_confounded]):\n",
        "    # We know something about the independence structure:\n",
        "    if i < 1:\n",
        "        true_n_independent = 6\n",
        "    else:\n",
        "        true_n_independent = 4\n",
        "    for k, embedding in enumerate([run_pca, run_isomap, run_lle, run_laplacian]):\n",
        "        for trial in range(100):\n",
        "            try:\n",
        "                # This part is mostly the same as the previous notebook, 'distribution of test statistics'\n",
        "                print(i,k,trial)\n",
        "\n",
        "                latent, observable, Y = dataset_generator(n=N_DIMS)\n",
        "                reduced = embedding(observable, n_neighbors=N_NEIGHBORS, n_dims=N_DIMS)\n",
        "                trial_results = test_independences(reduced, test=independent, return_statistics=True)\n",
        "                latent_results = test_independences(latent, test=independent, return_statistics=True)\n",
        "\n",
        "                # Now we want to test independences\n",
        "                n_independent = len([1 for result in trial_results if result[3] < THRESHOLD])\n",
        "\n",
        "                # TODO: add check that we have (x,y | 0) and (x,y | z) as our independences\n",
        "\n",
        "                for result, latent_result in zip(trial_results, latent_results):\n",
        "                    x, y, z, statistic = result\n",
        "                    _, _, _, latent_statistic = latent_result\n",
        "                    results = results.append({\n",
        "                        \"dataset\" : i,\n",
        "                        \"embedding\" : k,\n",
        "                        \"trial\" : trial,\n",
        "                        \"x\" : x, \"y\" : y, \"z\" : z,\n",
        "                        \"statistic\" : statistic,\n",
        "                        \"independent\" : statistic < THRESHOLD,\n",
        "                        \"latent\" : latent_statistic,\n",
        "                        \"all_correct\" : n_independent == true_n_independent\n",
        "                    }, ignore_index=True)\n",
        "            # Sometimes math errors happen\n",
        "            except Exception as e:\n",
        "                print(e)\n",
        "            \n",
        "\n",
        "            "
      ]
    },
    {
      "cell_type": "code",
      "execution_count": null,
      "metadata": {
        "id": "XVlQoEcSWhND"
      },
      "outputs": [],
      "source": [
        "# results.to_pickle(f\"{DD}/independence_reduced.pkl\")\n",
        "results = pd.read_pickle(f\"{DD}/independence_reduced.pkl\")"
      ]
    },
    {
      "cell_type": "code",
      "execution_count": null,
      "metadata": {
        "colab": {
          "base_uri": "https://localhost:8080/",
          "height": 356
        },
        "id": "ULJdB4GtWxhb",
        "outputId": "303bc595-0b1e-4981-eb97-9aecf359f981"
      },
      "outputs": [
        {
          "output_type": "execute_result",
          "data": {
            "text/plain": [
              "array([<matplotlib.axes._subplots.AxesSubplot object at 0x7fbecdccae90>,\n",
              "       <matplotlib.axes._subplots.AxesSubplot object at 0x7fbecdc3e850>],\n",
              "      dtype=object)"
            ]
          },
          "metadata": {},
          "execution_count": 5
        },
        {
          "output_type": "display_data",
          "data": {
            "text/plain": [
              "<Figure size 432x288 with 2 Axes>"
            ],
            "image/png": "[encoded data removed]"
          },
          "metadata": {
            "needs_background": "light"
          }
        }
      ],
      "source": [
        "results.boxplot(by=[\"dataset\", \"embedding\"])"
      ]
    },
    {
      "cell_type": "code",
      "execution_count": null,
      "metadata": {
        "colab": {
          "base_uri": "https://localhost:8080/",
          "height": 1000
        },
        "id": "seYoCMXvb5t8",
        "outputId": "2a53f581-4c52-487d-e522-7329a7157287"
      },
      "outputs": [
        {
          "output_type": "display_data",
          "data": {
            "text/plain": [
              "<Figure size 1440x1296 with 15 Axes>"
            ],
            "image/png": "[encoded data removed]"
          },
          "metadata": {
            "needs_background": "light"
          }
        }
      ],
      "source": [
        "# axs = results.hist(column=\"statistic\", by=[\"dataset\", \"embedding\"], figsize=(16,12), layout=(3,5))\n",
        "# for i, i_p in enumerate([\"PCA\", \"Isomap\", \"LLE\", \"Laplacian\"]):\n",
        "#     for j, j_p in enumerate([\"Independent\", \"Dependent\", \"Confounded\"]):\n",
        "#         axs[j,i+1].set_title(f\"{i_p}---{j_p}\")\n",
        "#         axs[j,i+1].set_xlabel(\"Statistic\")\n",
        "#         axs[j,i+1].set_ylabel(\"Frequency\")\n",
        "\n",
        "fig, axs = plt.subplots(3,5, figsize=(20,18))\n",
        "\n",
        "for i, model in enumerate([\"Independent\", \"Dependent\", \"Confounded\"]):\n",
        "    results.hist(\"latent\", ax=axs[i,0], grid=False)\n",
        "    axs[i,0].set_title(f\"Latent---{model}\")\n",
        "    for j, label in enumerate([\"PCA\", \"IsoMap\", \"LLE\", \"Spectral\"]):\n",
        "        results[results[\"embedding\"] == j].hist(\"statistic\", ax=axs[i,j+1], grid=False)\n",
        "        axs[i,j+1].set_title(f\"{label}---{model}\")"
      ]
    },
    {
      "cell_type": "code",
      "execution_count": null,
      "metadata": {
        "colab": {
          "base_uri": "https://localhost:8080/"
        },
        "id": "wnAoQb0KcG41",
        "outputId": "f7755c86-31fe-4ddf-d0cb-b3fbcb37443e"
      },
      "outputs": [
        {
          "data": {
            "text/plain": [
              "count      7200\n",
              "unique        2\n",
              "top       False\n",
              "freq       4716\n",
              "Name: all_correct, dtype: object"
            ]
          },
          "execution_count": 7,
          "metadata": {},
          "output_type": "execute_result"
        }
      ],
      "source": [
        "# We have some problems with this distribution...\n",
        "\n",
        "results[\"all_correct\"].describe()"
      ]
    },
    {
      "cell_type": "code",
      "execution_count": null,
      "metadata": {
        "colab": {
          "base_uri": "https://localhost:8080/",
          "height": 283
        },
        "id": "NqOT4aZKcREV",
        "outputId": "3b8973ff-2908-442b-98ef-ec166159ad7f"
      },
      "outputs": [
        {
          "data": {
            "text/plain": [
              "<matplotlib.axes._subplots.AxesSubplot at 0x7f773eecf490>"
            ]
          },
          "execution_count": 8,
          "metadata": {},
          "output_type": "execute_result"
        },
        {
          "data": {
            "image/png": "[encoded data removed]",
            "text/plain": [
              "<Figure size 432x288 with 1 Axes>"
            ]
          },
          "metadata": {},
          "output_type": "display_data"
        }
      ],
      "source": [
        "results[results[\"independent\"] == True].groupby([\"dataset\", \"embedding\", \"trial\"]).count()['x'].hist()"
      ]
    },
    {
      "cell_type": "markdown",
      "metadata": {
        "id": "T87hF_m4xUWe"
      },
      "source": [
        "# Same thing with N=10,000"
      ]
    },
    {
      "cell_type": "code",
      "execution_count": null,
      "metadata": {
        "colab": {
          "base_uri": "https://localhost:8080/"
        },
        "id": "satFA32kxVXN",
        "outputId": "c9288f46-1ff4-417a-b08b-9c7370f528ff"
      },
      "outputs": [
        {
          "output_type": "stream",
          "name": "stdout",
          "text": [
            "0 0 0\n",
            "0 0 1\n",
            "0 0 2\n",
            "0 0 3\n",
            "0 0 4\n",
            "0 0 5\n",
            "0 0 6\n",
            "0 0 7\n",
            "0 0 8\n",
            "0 0 9\n",
            "0 0 10\n",
            "0 0 11\n",
            "0 0 12\n",
            "0 0 13\n",
            "0 0 14\n",
            "0 0 15\n",
            "0 0 16\n",
            "0 0 17\n",
            "0 0 18\n",
            "0 0 19\n",
            "0 0 20\n",
            "0 0 21\n",
            "0 0 22\n",
            "0 0 23\n",
            "0 0 24\n",
            "0 0 25\n",
            "0 0 26\n",
            "0 0 27\n",
            "0 0 28\n",
            "0 0 29\n",
            "0 0 30\n",
            "0 0 31\n",
            "0 0 32\n",
            "0 0 33\n",
            "0 0 34\n",
            "0 0 35\n",
            "0 0 36\n",
            "0 0 37\n",
            "0 0 38\n",
            "0 0 39\n",
            "0 0 40\n",
            "0 0 41\n",
            "0 0 42\n",
            "0 0 43\n",
            "0 0 44\n",
            "0 0 45\n",
            "0 0 46\n",
            "0 0 47\n",
            "0 0 48\n",
            "0 0 49\n",
            "0 0 50\n",
            "0 0 51\n",
            "0 0 52\n",
            "0 0 53\n",
            "0 0 54\n",
            "0 0 55\n",
            "0 0 56\n",
            "0 0 57\n",
            "0 0 58\n",
            "0 0 59\n",
            "0 0 60\n",
            "0 0 61\n",
            "0 0 62\n",
            "0 0 63\n",
            "0 0 64\n",
            "0 0 65\n",
            "0 0 66\n",
            "0 0 67\n",
            "0 0 68\n",
            "0 0 69\n",
            "0 0 70\n",
            "0 0 71\n",
            "0 0 72\n",
            "0 0 73\n",
            "0 0 74\n",
            "0 0 75\n",
            "0 0 76\n",
            "0 0 77\n",
            "0 0 78\n",
            "0 0 79\n",
            "0 0 80\n",
            "0 0 81\n",
            "0 0 82\n",
            "0 0 83\n",
            "0 0 84\n",
            "0 0 85\n",
            "0 0 86\n",
            "0 0 87\n",
            "0 0 88\n",
            "0 0 89\n",
            "0 0 90\n",
            "0 0 91\n",
            "0 0 92\n",
            "0 0 93\n",
            "0 0 94\n",
            "0 0 95\n",
            "0 0 96\n",
            "0 0 97\n",
            "0 0 98\n",
            "0 0 99\n",
            "0 1 0\n",
            "0 1 1\n",
            "0 1 2\n",
            "0 1 3\n",
            "0 1 4\n",
            "0 1 5\n",
            "0 1 6\n",
            "0 1 7\n",
            "0 1 8\n",
            "0 1 9\n",
            "0 1 10\n",
            "0 1 11\n",
            "0 1 12\n",
            "0 1 13\n",
            "0 1 14\n",
            "0 1 15\n",
            "0 1 16\n",
            "0 1 17\n",
            "0 1 18\n",
            "0 1 19\n",
            "0 1 20\n",
            "0 1 21\n",
            "0 1 22\n",
            "0 1 23\n",
            "0 1 24\n",
            "0 1 25\n",
            "0 1 26\n",
            "0 1 27\n",
            "0 1 28\n",
            "0 1 29\n",
            "0 1 30\n",
            "0 1 31\n",
            "0 1 32\n",
            "0 1 33\n",
            "0 1 34\n",
            "0 1 35\n",
            "0 1 36\n",
            "0 1 37\n",
            "0 1 38\n",
            "0 1 39\n",
            "0 1 40\n",
            "0 1 41\n",
            "0 1 42\n",
            "0 1 43\n",
            "0 1 44\n",
            "0 1 45\n",
            "0 1 46\n",
            "0 1 47\n",
            "0 1 48\n",
            "0 1 49\n",
            "0 1 50\n",
            "0 1 51\n",
            "0 1 52\n",
            "0 1 53\n",
            "0 1 54\n",
            "0 1 55\n",
            "0 1 56\n",
            "0 1 57\n",
            "0 1 58\n",
            "0 1 59\n",
            "0 1 60\n",
            "0 1 61\n",
            "0 1 62\n",
            "0 1 63\n",
            "0 1 64\n",
            "0 1 65\n",
            "0 1 66\n",
            "0 1 67\n",
            "0 1 68\n",
            "0 1 69\n",
            "0 1 70\n",
            "0 1 71\n",
            "0 1 72\n",
            "0 1 73\n",
            "0 1 74\n",
            "0 1 75\n",
            "0 1 76\n",
            "0 1 77\n",
            "0 1 78\n",
            "0 1 79\n",
            "0 1 80\n",
            "0 1 81\n",
            "0 1 82\n",
            "0 1 83\n",
            "0 1 84\n",
            "0 1 85\n",
            "0 1 86\n",
            "0 1 87\n",
            "0 1 88\n",
            "0 1 89\n",
            "0 1 90\n",
            "0 1 91\n",
            "0 1 92\n",
            "0 1 93\n",
            "0 1 94\n",
            "0 1 95\n",
            "0 1 96\n",
            "0 1 97\n",
            "0 1 98\n",
            "0 1 99\n",
            "0 2 0\n",
            "0 2 1\n",
            "0 2 2\n",
            "0 2 3\n",
            "0 2 4\n",
            "0 2 5\n",
            "0 2 6\n",
            "0 2 7\n",
            "0 2 8\n",
            "0 2 9\n",
            "0 2 10\n",
            "0 2 11\n",
            "0 2 12\n",
            "0 2 13\n",
            "0 2 14\n",
            "0 2 15\n",
            "0 2 16\n",
            "0 2 17\n",
            "0 2 18\n",
            "0 2 19\n",
            "0 2 20\n",
            "0 2 21\n",
            "0 2 22\n",
            "0 2 23\n",
            "0 2 24\n",
            "0 2 25\n",
            "0 2 26\n",
            "0 2 27\n",
            "0 2 28\n",
            "0 2 29\n",
            "0 2 30\n",
            "0 2 31\n",
            "0 2 32\n",
            "0 2 33\n",
            "0 2 34\n",
            "0 2 35\n",
            "0 2 36\n",
            "0 2 37\n",
            "0 2 38\n",
            "0 2 39\n",
            "0 2 40\n",
            "0 2 41\n",
            "0 2 42\n",
            "0 2 43\n",
            "0 2 44\n",
            "0 2 45\n",
            "0 2 46\n",
            "0 2 47\n",
            "0 2 48\n",
            "0 2 49\n",
            "0 2 50\n",
            "0 2 51\n",
            "0 2 52\n",
            "0 2 53\n",
            "0 2 54\n",
            "0 2 55\n",
            "0 2 56\n",
            "0 2 57\n",
            "0 2 58\n",
            "0 2 59\n",
            "0 2 60\n",
            "0 2 61\n",
            "0 2 62\n",
            "0 2 63\n",
            "0 2 64\n",
            "0 2 65\n",
            "0 2 66\n",
            "0 2 67\n",
            "0 2 68\n",
            "0 2 69\n",
            "0 2 70\n",
            "0 2 71\n",
            "0 2 72\n",
            "0 2 73\n",
            "0 2 74\n",
            "0 2 75\n",
            "0 2 76\n",
            "0 2 77\n",
            "0 2 78\n",
            "0 2 79\n",
            "0 2 80\n",
            "0 2 81\n",
            "0 2 82\n",
            "0 2 83\n",
            "0 2 84\n",
            "0 2 85\n",
            "0 2 86\n",
            "0 2 87\n",
            "0 2 88\n",
            "0 2 89\n",
            "0 2 90\n",
            "0 2 91\n",
            "0 2 92\n",
            "0 2 93\n",
            "0 2 94\n",
            "0 2 95\n",
            "0 2 96\n",
            "0 2 97\n",
            "0 2 98\n",
            "0 2 99\n",
            "0 3 0\n",
            "0 3 1\n",
            "0 3 2\n",
            "0 3 3\n",
            "0 3 4\n",
            "0 3 5\n",
            "0 3 6\n",
            "0 3 7\n",
            "0 3 8\n",
            "0 3 9\n",
            "0 3 10\n",
            "0 3 11\n",
            "0 3 12\n",
            "0 3 13\n",
            "0 3 14\n",
            "0 3 15\n",
            "0 3 16\n",
            "0 3 17\n",
            "0 3 18\n",
            "0 3 19\n",
            "0 3 20\n",
            "0 3 21\n",
            "0 3 22\n",
            "0 3 23\n",
            "0 3 24\n",
            "0 3 25\n",
            "0 3 26\n",
            "0 3 27\n",
            "0 3 28\n",
            "0 3 29\n",
            "0 3 30\n",
            "0 3 31\n",
            "0 3 32\n",
            "0 3 33\n",
            "0 3 34\n",
            "0 3 35\n",
            "0 3 36\n",
            "0 3 37\n",
            "0 3 38\n",
            "0 3 39\n",
            "0 3 40\n",
            "0 3 41\n",
            "0 3 42\n",
            "0 3 43\n",
            "0 3 44\n",
            "0 3 45\n",
            "0 3 46\n",
            "0 3 47\n",
            "0 3 48\n",
            "0 3 49\n",
            "0 3 50\n",
            "0 3 51\n",
            "0 3 52\n",
            "0 3 53\n",
            "0 3 54\n",
            "0 3 55\n",
            "0 3 56\n",
            "0 3 57\n",
            "0 3 58\n",
            "0 3 59\n",
            "0 3 60\n",
            "0 3 61\n",
            "0 3 62\n",
            "0 3 63\n",
            "0 3 64\n",
            "0 3 65\n",
            "0 3 66\n",
            "0 3 67\n",
            "0 3 68\n",
            "0 3 69\n",
            "0 3 70\n",
            "0 3 71\n",
            "0 3 72\n",
            "0 3 73\n",
            "0 3 74\n",
            "0 3 75\n",
            "0 3 76\n",
            "0 3 77\n",
            "0 3 78\n",
            "0 3 79\n",
            "0 3 80\n",
            "0 3 81\n",
            "0 3 82\n",
            "0 3 83\n",
            "0 3 84\n",
            "0 3 85\n",
            "0 3 86\n",
            "0 3 87\n",
            "0 3 88\n",
            "0 3 89\n",
            "0 3 90\n",
            "0 3 91\n",
            "0 3 92\n",
            "0 3 93\n",
            "0 3 94\n",
            "0 3 95\n",
            "0 3 96\n",
            "0 3 97\n",
            "0 3 98\n",
            "0 3 99\n",
            "1 0 0\n",
            "1 0 1\n",
            "1 0 2\n",
            "1 0 3\n",
            "1 0 4\n",
            "1 0 5\n",
            "1 0 6\n",
            "1 0 7\n",
            "1 0 8\n",
            "1 0 9\n",
            "1 0 10\n",
            "1 0 11\n",
            "1 0 12\n",
            "1 0 13\n",
            "1 0 14\n",
            "1 0 15\n",
            "1 0 16\n",
            "1 0 17\n",
            "1 0 18\n",
            "1 0 19\n",
            "1 0 20\n",
            "1 0 21\n",
            "1 0 22\n",
            "1 0 23\n",
            "1 0 24\n",
            "1 0 25\n",
            "1 0 26\n",
            "1 0 27\n",
            "1 0 28\n",
            "1 0 29\n",
            "1 0 30\n",
            "1 0 31\n",
            "1 0 32\n",
            "1 0 33\n",
            "1 0 34\n",
            "1 0 35\n",
            "1 0 36\n",
            "1 0 37\n",
            "1 0 38\n",
            "1 0 39\n",
            "1 0 40\n",
            "1 0 41\n",
            "1 0 42\n",
            "1 0 43\n",
            "1 0 44\n",
            "1 0 45\n",
            "1 0 46\n",
            "1 0 47\n",
            "1 0 48\n",
            "1 0 49\n",
            "1 0 50\n",
            "1 0 51\n",
            "1 0 52\n",
            "1 0 53\n",
            "1 0 54\n",
            "1 0 55\n",
            "1 0 56\n",
            "1 0 57\n",
            "1 0 58\n",
            "1 0 59\n",
            "1 0 60\n",
            "1 0 61\n",
            "1 0 62\n",
            "1 0 63\n",
            "1 0 64\n",
            "1 0 65\n",
            "1 0 66\n",
            "1 0 67\n",
            "1 0 68\n",
            "1 0 69\n",
            "1 0 70\n",
            "1 0 71\n",
            "1 0 72\n",
            "1 0 73\n",
            "1 0 74\n",
            "1 0 75\n",
            "1 0 76\n",
            "1 0 77\n",
            "1 0 78\n",
            "1 0 79\n",
            "1 0 80\n",
            "1 0 81\n",
            "1 0 82\n",
            "1 0 83\n",
            "1 0 84\n",
            "1 0 85\n",
            "1 0 86\n",
            "1 0 87\n",
            "1 0 88\n",
            "1 0 89\n",
            "1 0 90\n",
            "1 0 91\n",
            "1 0 92\n",
            "1 0 93\n",
            "1 0 94\n",
            "1 0 95\n",
            "1 0 96\n",
            "1 0 97\n",
            "1 0 98\n",
            "1 0 99\n",
            "1 1 0\n",
            "1 1 1\n",
            "1 1 2\n",
            "1 1 3\n",
            "1 1 4\n",
            "1 1 5\n",
            "1 1 6\n",
            "1 1 7\n",
            "1 1 8\n",
            "1 1 9\n",
            "1 1 10\n",
            "1 1 11\n",
            "1 1 12\n",
            "1 1 13\n",
            "1 1 14\n",
            "1 1 15\n",
            "1 1 16\n",
            "1 1 17\n",
            "1 1 18\n",
            "1 1 19\n",
            "1 1 20\n",
            "1 1 21\n",
            "1 1 22\n",
            "1 1 23\n",
            "1 1 24\n",
            "1 1 25\n",
            "1 1 26\n",
            "1 1 27\n",
            "1 1 28\n",
            "1 1 29\n",
            "1 1 30\n",
            "1 1 31\n",
            "1 1 32\n",
            "1 1 33\n",
            "1 1 34\n",
            "1 1 35\n",
            "1 1 36\n",
            "1 1 37\n",
            "1 1 38\n",
            "1 1 39\n",
            "1 1 40\n",
            "1 1 41\n",
            "1 1 42\n",
            "1 1 43\n",
            "1 1 44\n",
            "1 1 45\n",
            "1 1 46\n",
            "1 1 47\n",
            "1 1 48\n",
            "1 1 49\n",
            "1 1 50\n",
            "1 1 51\n",
            "1 1 52\n",
            "1 1 53\n",
            "1 1 54\n",
            "1 1 55\n",
            "1 1 56\n",
            "1 1 57\n",
            "1 1 58\n",
            "1 1 59\n",
            "1 1 60\n",
            "1 1 61\n",
            "1 1 62\n",
            "1 1 63\n",
            "1 1 64\n",
            "1 1 65\n",
            "1 1 66\n",
            "1 1 67\n",
            "1 1 68\n",
            "1 1 69\n",
            "1 1 70\n",
            "1 1 71\n",
            "1 1 72\n",
            "1 1 73\n",
            "1 1 74\n",
            "1 1 75\n",
            "1 1 76\n",
            "1 1 77\n",
            "1 1 78\n",
            "1 1 79\n",
            "1 1 80\n",
            "1 1 81\n",
            "1 1 82\n",
            "1 1 83\n",
            "1 1 84\n",
            "1 1 85\n",
            "1 1 86\n",
            "1 1 87\n",
            "1 1 88\n",
            "1 1 89\n",
            "1 1 90\n",
            "1 1 91\n",
            "1 1 92\n",
            "1 1 93\n",
            "1 1 94\n",
            "1 1 95\n",
            "1 1 96\n",
            "1 1 97\n",
            "1 1 98\n",
            "1 1 99\n",
            "1 2 0\n",
            "1 2 1\n",
            "1 2 2\n",
            "1 2 3\n",
            "1 2 4\n",
            "1 2 5\n",
            "1 2 6\n",
            "1 2 7\n",
            "1 2 8\n",
            "1 2 9\n",
            "1 2 10\n",
            "1 2 11\n",
            "1 2 12\n",
            "1 2 13\n",
            "1 2 14\n",
            "1 2 15\n",
            "1 2 16\n",
            "1 2 17\n",
            "1 2 18\n",
            "1 2 19\n",
            "1 2 20\n",
            "1 2 21\n",
            "1 2 22\n",
            "1 2 23\n",
            "1 2 24\n",
            "1 2 25\n",
            "1 2 26\n",
            "1 2 27\n",
            "1 2 28\n",
            "1 2 29\n",
            "1 2 30\n",
            "1 2 31\n",
            "1 2 32\n",
            "1 2 33\n",
            "1 2 34\n",
            "1 2 35\n",
            "1 2 36\n",
            "1 2 37\n",
            "1 2 38\n",
            "1 2 39\n",
            "1 2 40\n",
            "1 2 41\n",
            "1 2 42\n",
            "1 2 43\n",
            "1 2 44\n",
            "1 2 45\n",
            "1 2 46\n",
            "1 2 47\n",
            "1 2 48\n",
            "1 2 49\n",
            "1 2 50\n",
            "1 2 51\n",
            "1 2 52\n",
            "1 2 53\n",
            "1 2 54\n",
            "1 2 55\n",
            "1 2 56\n",
            "1 2 57\n",
            "1 2 58\n",
            "1 2 59\n",
            "1 2 60\n",
            "1 2 61\n",
            "1 2 62\n",
            "1 2 63\n",
            "1 2 64\n",
            "1 2 65\n",
            "1 2 66\n",
            "1 2 67\n",
            "1 2 68\n",
            "1 2 69\n",
            "1 2 70\n",
            "1 2 71\n",
            "1 2 72\n",
            "1 2 73\n",
            "1 2 74\n",
            "1 2 75\n",
            "1 2 76\n",
            "1 2 77\n",
            "1 2 78\n",
            "1 2 79\n",
            "1 2 80\n",
            "1 2 81\n",
            "1 2 82\n",
            "1 2 83\n",
            "1 2 84\n",
            "1 2 85\n",
            "1 2 86\n",
            "1 2 87\n",
            "1 2 88\n",
            "1 2 89\n",
            "1 2 90\n",
            "1 2 91\n",
            "1 2 92\n",
            "1 2 93\n",
            "1 2 94\n",
            "1 2 95\n",
            "1 2 96\n",
            "1 2 97\n",
            "1 2 98\n",
            "1 2 99\n",
            "1 3 0\n",
            "1 3 1\n",
            "1 3 2\n",
            "1 3 3\n",
            "1 3 4\n",
            "1 3 5\n",
            "1 3 6\n",
            "1 3 7\n",
            "1 3 8\n",
            "1 3 9\n",
            "1 3 10\n",
            "1 3 11\n",
            "1 3 12\n",
            "1 3 13\n",
            "1 3 14\n",
            "1 3 15\n",
            "1 3 16\n",
            "1 3 17\n",
            "1 3 18\n",
            "1 3 19\n",
            "1 3 20\n",
            "1 3 21\n",
            "1 3 22\n",
            "1 3 23\n",
            "1 3 24\n",
            "1 3 25\n",
            "1 3 26\n",
            "1 3 27\n",
            "1 3 28\n",
            "1 3 29\n",
            "1 3 30\n",
            "1 3 31\n",
            "1 3 32\n",
            "1 3 33\n",
            "1 3 34\n",
            "1 3 35\n",
            "1 3 36\n",
            "1 3 37\n",
            "1 3 38\n",
            "1 3 39\n",
            "1 3 40\n",
            "1 3 41\n",
            "1 3 42\n",
            "1 3 43\n",
            "1 3 44\n",
            "1 3 45\n",
            "1 3 46\n",
            "1 3 47\n",
            "1 3 48\n",
            "1 3 49\n",
            "1 3 50\n",
            "1 3 51\n",
            "1 3 52\n",
            "1 3 53\n",
            "1 3 54\n",
            "1 3 55\n",
            "1 3 56\n",
            "1 3 57\n",
            "1 3 58\n",
            "1 3 59\n",
            "1 3 60\n",
            "1 3 61\n",
            "1 3 62\n",
            "1 3 63\n",
            "1 3 64\n",
            "1 3 65\n",
            "1 3 66\n",
            "1 3 67\n",
            "1 3 68\n",
            "1 3 69\n",
            "1 3 70\n",
            "1 3 71\n",
            "1 3 72\n",
            "1 3 73\n",
            "1 3 74\n",
            "1 3 75\n",
            "1 3 76\n",
            "1 3 77\n",
            "1 3 78\n",
            "1 3 79\n",
            "1 3 80\n",
            "1 3 81\n",
            "1 3 82\n",
            "1 3 83\n",
            "1 3 84\n",
            "1 3 85\n",
            "1 3 86\n",
            "1 3 87\n",
            "1 3 88\n",
            "1 3 89\n",
            "1 3 90\n",
            "1 3 91\n",
            "1 3 92\n",
            "1 3 93\n",
            "1 3 94\n",
            "1 3 95\n",
            "1 3 96\n",
            "1 3 97\n",
            "1 3 98\n",
            "1 3 99\n",
            "2 0 0\n",
            "2 0 1\n",
            "2 0 2\n",
            "2 0 3\n",
            "2 0 4\n",
            "2 0 5\n",
            "2 0 6\n",
            "2 0 7\n",
            "2 0 8\n",
            "2 0 9\n",
            "2 0 10\n",
            "2 0 11\n",
            "2 0 12\n",
            "2 0 13\n",
            "2 0 14\n",
            "2 0 15\n",
            "2 0 16\n",
            "2 0 17\n",
            "2 0 18\n",
            "2 0 19\n",
            "2 0 20\n",
            "2 0 21\n",
            "2 0 22\n",
            "2 0 23\n",
            "2 0 24\n",
            "2 0 25\n",
            "2 0 26\n",
            "2 0 27\n",
            "2 0 28\n",
            "2 0 29\n",
            "2 0 30\n",
            "2 0 31\n",
            "2 0 32\n",
            "2 0 33\n",
            "2 0 34\n",
            "2 0 35\n",
            "2 0 36\n",
            "2 0 37\n",
            "2 0 38\n",
            "2 0 39\n",
            "2 0 40\n",
            "2 0 41\n",
            "2 0 42\n",
            "2 0 43\n",
            "2 0 44\n",
            "2 0 45\n",
            "2 0 46\n",
            "2 0 47\n",
            "2 0 48\n",
            "2 0 49\n",
            "2 0 50\n",
            "2 0 51\n",
            "2 0 52\n",
            "2 0 53\n",
            "2 0 54\n",
            "2 0 55\n",
            "2 0 56\n",
            "2 0 57\n",
            "2 0 58\n",
            "2 0 59\n",
            "2 0 60\n",
            "2 0 61\n",
            "2 0 62\n",
            "2 0 63\n",
            "2 0 64\n",
            "2 0 65\n",
            "2 0 66\n",
            "2 0 67\n",
            "2 0 68\n",
            "2 0 69\n",
            "2 0 70\n",
            "2 0 71\n",
            "2 0 72\n",
            "2 0 73\n",
            "2 0 74\n",
            "2 0 75\n",
            "2 0 76\n",
            "2 0 77\n",
            "2 0 78\n",
            "2 0 79\n",
            "2 0 80\n",
            "2 0 81\n",
            "2 0 82\n",
            "2 0 83\n",
            "2 0 84\n",
            "2 0 85\n",
            "2 0 86\n",
            "2 0 87\n",
            "2 0 88\n",
            "2 0 89\n",
            "2 0 90\n",
            "2 0 91\n",
            "2 0 92\n",
            "2 0 93\n",
            "2 0 94\n",
            "2 0 95\n",
            "2 0 96\n",
            "2 0 97\n",
            "2 0 98\n",
            "2 0 99\n",
            "2 1 0\n",
            "2 1 1\n",
            "2 1 2\n",
            "2 1 3\n",
            "2 1 4\n",
            "2 1 5\n",
            "2 1 6\n",
            "2 1 7\n",
            "2 1 8\n",
            "2 1 9\n",
            "2 1 10\n",
            "2 1 11\n",
            "2 1 12\n",
            "2 1 13\n",
            "2 1 14\n",
            "2 1 15\n",
            "2 1 16\n",
            "2 1 17\n",
            "2 1 18\n",
            "2 1 19\n",
            "2 1 20\n",
            "2 1 21\n",
            "2 1 22\n",
            "2 1 23\n",
            "2 1 24\n",
            "2 1 25\n",
            "2 1 26\n",
            "2 1 27\n",
            "2 1 28\n",
            "2 1 29\n",
            "2 1 30\n",
            "2 1 31\n",
            "2 1 32\n",
            "2 1 33\n",
            "2 1 34\n",
            "2 1 35\n",
            "2 1 36\n",
            "2 1 37\n",
            "2 1 38\n",
            "2 1 39\n",
            "2 1 40\n",
            "2 1 41\n",
            "2 1 42\n",
            "2 1 43\n",
            "2 1 44\n",
            "2 1 45\n",
            "2 1 46\n",
            "2 1 47\n",
            "2 1 48\n",
            "2 1 49\n",
            "2 1 50\n",
            "2 1 51\n",
            "2 1 52\n",
            "2 1 53\n",
            "2 1 54\n",
            "2 1 55\n",
            "2 1 56\n",
            "2 1 57\n",
            "2 1 58\n",
            "2 1 59\n",
            "2 1 60\n",
            "2 1 61\n",
            "2 1 62\n",
            "2 1 63\n",
            "2 1 64\n",
            "2 1 65\n",
            "2 1 66\n",
            "2 1 67\n",
            "2 1 68\n",
            "2 1 69\n",
            "2 1 70\n",
            "2 1 71\n",
            "2 1 72\n",
            "2 1 73\n",
            "2 1 74\n",
            "2 1 75\n",
            "2 1 76\n",
            "2 1 77\n",
            "2 1 78\n",
            "2 1 79\n",
            "2 1 80\n",
            "2 1 81\n",
            "2 1 82\n",
            "2 1 83\n",
            "2 1 84\n",
            "2 1 85\n",
            "2 1 86\n",
            "2 1 87\n",
            "2 1 88\n",
            "2 1 89\n",
            "2 1 90\n",
            "2 1 91\n",
            "2 1 92\n",
            "2 1 93\n",
            "2 1 94\n",
            "2 1 95\n",
            "2 1 96\n",
            "2 1 97\n",
            "2 1 98\n",
            "2 1 99\n",
            "2 2 0\n",
            "2 2 1\n",
            "2 2 2\n",
            "2 2 3\n",
            "2 2 4\n",
            "2 2 5\n",
            "2 2 6\n",
            "2 2 7\n",
            "2 2 8\n",
            "2 2 9\n",
            "2 2 10\n",
            "2 2 11\n",
            "2 2 12\n",
            "2 2 13\n",
            "2 2 14\n",
            "2 2 15\n",
            "2 2 16\n",
            "2 2 17\n",
            "2 2 18\n",
            "2 2 19\n",
            "2 2 20\n",
            "2 2 21\n",
            "2 2 22\n",
            "2 2 23\n",
            "2 2 24\n",
            "2 2 25\n",
            "2 2 26\n",
            "2 2 27\n",
            "2 2 28\n",
            "2 2 29\n",
            "2 2 30\n",
            "2 2 31\n",
            "2 2 32\n",
            "2 2 33\n",
            "2 2 34\n",
            "2 2 35\n",
            "2 2 36\n",
            "2 2 37\n",
            "2 2 38\n",
            "2 2 39\n",
            "2 2 40\n",
            "2 2 41\n",
            "2 2 42\n",
            "2 2 43\n",
            "2 2 44\n",
            "2 2 45\n",
            "2 2 46\n",
            "2 2 47\n",
            "2 2 48\n",
            "2 2 49\n",
            "2 2 50\n",
            "2 2 51\n",
            "2 2 52\n",
            "2 2 53\n",
            "2 2 54\n",
            "2 2 55\n",
            "2 2 56\n",
            "2 2 57\n",
            "2 2 58\n",
            "2 2 59\n",
            "2 2 60\n",
            "2 2 61\n",
            "2 2 62\n",
            "2 2 63\n",
            "2 2 64\n",
            "2 2 65\n",
            "2 2 66\n",
            "2 2 67\n",
            "2 2 68\n",
            "2 2 69\n",
            "2 2 70\n",
            "2 2 71\n",
            "2 2 72\n",
            "2 2 73\n",
            "2 2 74\n",
            "2 2 75\n",
            "2 2 76\n",
            "2 2 77\n",
            "2 2 78\n",
            "2 2 79\n",
            "2 2 80\n",
            "2 2 81\n",
            "2 2 82\n",
            "2 2 83\n",
            "2 2 84\n",
            "2 2 85\n",
            "2 2 86\n",
            "2 2 87\n",
            "2 2 88\n",
            "2 2 89\n",
            "2 2 90\n",
            "2 2 91\n",
            "2 2 92\n",
            "2 2 93\n",
            "2 2 94\n",
            "2 2 95\n",
            "2 2 96\n",
            "2 2 97\n",
            "2 2 98\n",
            "2 2 99\n",
            "2 3 0\n",
            "2 3 1\n",
            "2 3 2\n",
            "2 3 3\n",
            "2 3 4\n",
            "2 3 5\n",
            "2 3 6\n",
            "2 3 7\n",
            "2 3 8\n",
            "2 3 9\n",
            "2 3 10\n",
            "2 3 11\n",
            "2 3 12\n",
            "2 3 13\n",
            "2 3 14\n",
            "2 3 15\n",
            "2 3 16\n",
            "2 3 17\n",
            "2 3 18\n",
            "2 3 19\n",
            "2 3 20\n",
            "2 3 21\n",
            "2 3 22\n",
            "2 3 23\n",
            "2 3 24\n",
            "2 3 25\n",
            "2 3 26\n",
            "2 3 27\n",
            "2 3 28\n",
            "2 3 29\n",
            "2 3 30\n",
            "2 3 31\n",
            "2 3 32\n",
            "2 3 33\n",
            "2 3 34\n",
            "2 3 35\n",
            "2 3 36\n",
            "2 3 37\n",
            "2 3 38\n",
            "2 3 39\n",
            "2 3 40\n",
            "2 3 41\n",
            "2 3 42\n",
            "2 3 43\n",
            "2 3 44\n",
            "2 3 45\n",
            "2 3 46\n",
            "2 3 47\n",
            "2 3 48\n",
            "2 3 49\n",
            "2 3 50\n",
            "2 3 51\n",
            "2 3 52\n",
            "2 3 53\n",
            "2 3 54\n",
            "2 3 55\n",
            "2 3 56\n",
            "2 3 57\n",
            "2 3 58\n",
            "2 3 59\n",
            "2 3 60\n",
            "2 3 61\n",
            "2 3 62\n",
            "2 3 63\n",
            "2 3 64\n",
            "2 3 65\n",
            "2 3 66\n",
            "2 3 67\n",
            "2 3 68\n",
            "2 3 69\n",
            "2 3 70\n",
            "2 3 71\n",
            "2 3 72\n",
            "2 3 73\n",
            "2 3 74\n",
            "2 3 75\n",
            "2 3 76\n",
            "2 3 77\n",
            "2 3 78\n",
            "2 3 79\n",
            "2 3 80\n",
            "2 3 81\n",
            "2 3 82\n",
            "2 3 83\n",
            "2 3 84\n",
            "2 3 85\n",
            "2 3 86\n",
            "2 3 87\n",
            "2 3 88\n",
            "2 3 89\n",
            "2 3 90\n",
            "2 3 91\n",
            "2 3 92\n",
            "2 3 93\n",
            "2 3 94\n",
            "2 3 95\n",
            "2 3 96\n",
            "2 3 97\n",
            "2 3 98\n",
            "2 3 99\n"
          ]
        }
      ],
      "source": [
        "results10k = pd.DataFrame(columns=[\n",
        "    \"dataset\",\n",
        "    \"embedding\",\n",
        "    \"trial\",\n",
        "    \"x\",\n",
        "    \"y\",\n",
        "    \"z\",\n",
        "    \"statistic\",\n",
        "    \"latent\",\n",
        "    \"independent\",\n",
        "    \"all_correct\"\n",
        "])\n",
        "\n",
        "N_DIMS = 3\n",
        "N_NEIGHBORS = 5 # todo: vary this\n",
        "THRESHOLD = .2\n",
        "\n",
        "for i, dataset_generator in enumerate([generate_unconfounded, generate_dependent, generate_confounded]):\n",
        "    # We know something about the independence structure:\n",
        "    if i < 1:\n",
        "        true_n_independent = 6\n",
        "    else:\n",
        "        true_n_independent = 4\n",
        "    for k, embedding in enumerate([run_pca, run_isomap, run_lle, run_laplacian]):\n",
        "        for trial in range(100):\n",
        "            try:\n",
        "                # This part is mostly the same as the previous notebook, 'distribution of test statistics'\n",
        "                print(i,k,trial)\n",
        "\n",
        "                latent, observable, Y = dataset_generator(10000, n=N_DIMS)\n",
        "                reduced = embedding(observable, n_neighbors=N_NEIGHBORS, n_dims=N_DIMS)\n",
        "                trial_results = test_independences(reduced, test=independent, return_statistics=True)\n",
        "                latent_results = test_independences(latent, test=independent, return_statistics=True)\n",
        "\n",
        "                # Now we want to test independences\n",
        "                n_independent = len([1 for result in trial_results if result[3] < THRESHOLD])\n",
        "\n",
        "                # TODO: add check that we have (x,y | 0) and (x,y | z) as our independences\n",
        "\n",
        "                for result, latent_result in zip(trial_results):\n",
        "                    x, y, z, statistic = result\n",
        "                    _, _, _, latent_statistic = latent_result\n",
        "                    results10k = results10k.append({\n",
        "                        \"dataset\" : i,\n",
        "                        \"embedding\" : k,\n",
        "                        \"trial\" : trial,\n",
        "                        \"x\" : x, \"y\" : y, \"z\" : z,\n",
        "                        \"statistic\" : statistic,\n",
        "                        \"independent\" : statistic < THRESHOLD,\n",
        "                        \"latent\" : latent_statistic,\n",
        "                        \"all_correct\" : n_independent == true_n_independent\n",
        "                    }, ignore_index=True)\n",
        "            # Sometimes math errors happen\n",
        "            except:\n",
        "                pass\n",
        "            \n",
        "\n",
        "            "
      ]
    },
    {
      "cell_type": "code",
      "execution_count": null,
      "metadata": {
        "colab": {
          "base_uri": "https://localhost:8080/",
          "height": 732
        },
        "id": "VmQ5J4-KxY6Y",
        "outputId": "52edd9bc-abb7-42b3-aef0-8a8555f416eb"
      },
      "outputs": [
        {
          "output_type": "display_data",
          "data": {
            "text/plain": [
              "<Figure size 1152x864 with 12 Axes>"
            ],
            "image/png": "[encoded data removed]"
          },
          "metadata": {
            "needs_background": "light"
          }
        }
      ],
      "source": [
        "axs = results100.hist(column=\"statistic\", by=[\"dataset\", \"embedding\"], figsize=(16,12), layout=(3,4))\n",
        "for i, i_p in enumerate([\"PCA\", \"Isomap\", \"LLE\", \"Laplacian\"]):\n",
        "    for j, j_p in enumerate([\"Independent\", \"Dependent\", \"Confounded\"]):\n",
        "        axs[j,i].set_title(f\"{i_p}---{j_p}\")\n",
        "        axs[j,i].set_xlabel(\"Statistic\")\n",
        "        axs[j,i].set_ylabel(\"Frequency\")"
      ]
    },
    {
      "cell_type": "code",
      "execution_count": null,
      "metadata": {
        "id": "Iep0ZiM8SLyO"
      },
      "outputs": [],
      "source": [
        "results100.to_pickle(f\"{DD}/independence_reduced100.pkl\")\n",
        "results100 = pd.read_pickle(f\"{DD}/independence_reduced100.pkl\")"
      ]
    },
    {
      "cell_type": "markdown",
      "metadata": {
        "id": "J4ObCEVHips8"
      },
      "source": [
        "# Same thing with `scm_large`"
      ]
    },
    {
      "cell_type": "code",
      "execution_count": null,
      "metadata": {
        "colab": {
          "base_uri": "https://localhost:8080/"
        },
        "id": "76yt0ZUyivAP",
        "outputId": "f3b6ad9f-37c6-445f-b0e5-2cde57bf5057"
      },
      "outputs": [
        {
          "output_type": "stream",
          "name": "stdout",
          "text": [
            "Collecting pycid\n",
            "  Downloading pycid-0.7.3-py3-none-any.whl (53 kB)\n",
            "\u001b[?25l\r\u001b[K     |██████                          | 10 kB 25.0 MB/s eta 0:00:01\r\u001b[K     |████████████▏                   | 20 kB 29.2 MB/s eta 0:00:01\r\u001b[K     |██████████████████▎             | 30 kB 29.8 MB/s eta 0:00:01\r\u001b[K     |████████████████████████▍       | 40 kB 32.4 MB/s eta 0:00:01\r\u001b[K     |██████████████████████████████▌ | 51 kB 35.2 MB/s eta 0:00:01\r\u001b[K     |████████████████████████████████| 53 kB 2.6 MB/s \n",
            "\u001b[?25hCollecting pgmpy==0.1.17\n",
            "  Downloading pgmpy-0.1.17-py3-none-any.whl (1.9 MB)\n",
            "\u001b[K     |████████████████████████████████| 1.9 MB 46.2 MB/s \n",
            "\u001b[?25hRequirement already satisfied: networkx in /usr/local/lib/python3.7/dist-packages (from pycid) (2.6.3)\n",
            "Requirement already satisfied: matplotlib in /usr/local/lib/python3.7/dist-packages (from pycid) (3.2.2)\n",
            "Collecting nashpy\n",
            "  Downloading nashpy-0.0.22.tar.gz (11 kB)\n",
            "\u001b[33mWARNING: Discarding https://files.pythonhosted.org/packages/93/1c/9005c6a0a3a3b183b5b216cc02cef14bb080fd3ee8733a1006fbcd81fffc/nashpy-0.0.22.tar.gz#sha256=9378fd492f01163ac01a7384dd94f7ffa3ce40e31fe2a08844a2e34576b3d8db (from https://pypi.org/simple/nashpy/). Command errored out with exit status 1: python setup.py egg_info Check the logs for full command output.\u001b[0m\n",
            "  Downloading nashpy-0.0.21.tar.gz (11 kB)\n",
            "Requirement already satisfied: numpy in /usr/local/lib/python3.7/dist-packages (from pycid) (1.21.6)\n",
            "Requirement already satisfied: scikit-learn in /usr/local/lib/python3.7/dist-packages (from pgmpy==0.1.17->pycid) (1.0.2)\n",
            "Requirement already satisfied: scipy in /usr/local/lib/python3.7/dist-packages (from pgmpy==0.1.17->pycid) (1.4.1)\n",
            "Requirement already satisfied: pandas in /usr/local/lib/python3.7/dist-packages (from pgmpy==0.1.17->pycid) (1.3.5)\n",
            "Requirement already satisfied: torch in /usr/local/lib/python3.7/dist-packages (from pgmpy==0.1.17->pycid) (1.11.0+cu113)\n",
            "Requirement already satisfied: joblib in /usr/local/lib/python3.7/dist-packages (from pgmpy==0.1.17->pycid) (1.1.0)\n",
            "Requirement already satisfied: pyparsing in /usr/local/lib/python3.7/dist-packages (from pgmpy==0.1.17->pycid) (3.0.8)\n",
            "Requirement already satisfied: statsmodels in /usr/local/lib/python3.7/dist-packages (from pgmpy==0.1.17->pycid) (0.10.2)\n",
            "Requirement already satisfied: tqdm in /usr/local/lib/python3.7/dist-packages (from pgmpy==0.1.17->pycid) (4.64.0)\n",
            "Requirement already satisfied: kiwisolver>=1.0.1 in /usr/local/lib/python3.7/dist-packages (from matplotlib->pycid) (1.4.2)\n",
            "Requirement already satisfied: cycler>=0.10 in /usr/local/lib/python3.7/dist-packages (from matplotlib->pycid) (0.11.0)\n",
            "Requirement already satisfied: python-dateutil>=2.1 in /usr/local/lib/python3.7/dist-packages (from matplotlib->pycid) (2.8.2)\n",
            "Requirement already satisfied: typing-extensions in /usr/local/lib/python3.7/dist-packages (from kiwisolver>=1.0.1->matplotlib->pycid) (4.2.0)\n",
            "Requirement already satisfied: six>=1.5 in /usr/local/lib/python3.7/dist-packages (from python-dateutil>=2.1->matplotlib->pycid) (1.15.0)\n",
            "Requirement already satisfied: pytz>=2017.3 in /usr/local/lib/python3.7/dist-packages (from pandas->pgmpy==0.1.17->pycid) (2022.1)\n",
            "Requirement already satisfied: threadpoolctl>=2.0.0 in /usr/local/lib/python3.7/dist-packages (from scikit-learn->pgmpy==0.1.17->pycid) (3.1.0)\n",
            "Requirement already satisfied: patsy>=0.4.0 in /usr/local/lib/python3.7/dist-packages (from statsmodels->pgmpy==0.1.17->pycid) (0.5.2)\n",
            "Building wheels for collected packages: nashpy\n",
            "  Building wheel for nashpy (setup.py) ... \u001b[?25l\u001b[?25hdone\n",
            "  Created wheel for nashpy: filename=nashpy-0.0.21-py3-none-any.whl size=15280 sha256=26b1867f4a254cf2395fa56e252a59fff168ffc5c18162223c85bf7d16c66fe9\n",
            "  Stored in directory: /root/.cache/pip/wheels/02/08/62/cf4fa931e0a317d180936b266169a57f4bb4eb801465bbe8a1\n",
            "Successfully built nashpy\n",
            "Installing collected packages: pgmpy, nashpy, pycid\n",
            "Successfully installed nashpy-0.0.21 pgmpy-0.1.17 pycid-0.7.3\n"
          ]
        }
      ],
      "source": [
        "!pip install pycid\n",
        "from gda_project.utils.scm_large import *\n"
      ]
    },
    {
      "cell_type": "code",
      "execution_count": null,
      "metadata": {
        "colab": {
          "base_uri": "https://localhost:8080/",
          "height": 248
        },
        "id": "4AqIDI-CjzJO",
        "outputId": "4ef8e86f-4d97-4521-c6bb-e9d599b49843"
      },
      "outputs": [
        {
          "data": {
            "image/png": "[encoded data removed]",
            "text/plain": [
              "<Figure size 432x288 with 1 Axes>"
            ]
          },
          "metadata": {},
          "output_type": "display_data"
        }
      ],
      "source": [
        "print_scm_large(1)"
      ]
    },
    {
      "cell_type": "code",
      "execution_count": null,
      "metadata": {
        "colab": {
          "base_uri": "https://localhost:8080/",
          "height": 248
        },
        "id": "tvXVtXN-kba4",
        "outputId": "e6ac297f-6e94-4488-e296-253307709fc9"
      },
      "outputs": [
        {
          "data": {
            "image/png": "[encoded data removed]",
            "text/plain": [
              "<Figure size 432x288 with 1 Axes>"
            ]
          },
          "metadata": {},
          "output_type": "display_data"
        }
      ],
      "source": [
        "print_scm_large(2)"
      ]
    },
    {
      "cell_type": "code",
      "execution_count": null,
      "metadata": {
        "colab": {
          "base_uri": "https://localhost:8080/",
          "height": 248
        },
        "id": "cMcR7Lj8kd1y",
        "outputId": "019e26aa-90e5-4392-d6a4-f4aba5dcbac5"
      },
      "outputs": [
        {
          "data": {
            "image/png": "[encoded data removed]",
            "text/plain": [
              "<Figure size 432x288 with 1 Axes>"
            ]
          },
          "metadata": {},
          "output_type": "display_data"
        }
      ],
      "source": [
        "print_scm_large(3)"
      ]
    },
    {
      "cell_type": "code",
      "execution_count": null,
      "metadata": {
        "colab": {
          "base_uri": "https://localhost:8080/"
        },
        "id": "sLtW_JcWiscx",
        "outputId": "0b14e578-6027-4af6-e9f2-04f29f255db7"
      },
      "outputs": [
        {
          "output_type": "stream",
          "name": "stderr",
          "text": [
            "100%|██████████| 100/100 [00:07<00:00, 12.52it/s]\n"
          ]
        },
        {
          "output_type": "stream",
          "name": "stdout",
          "text": [
            "1 0 0\n"
          ]
        },
        {
          "output_type": "stream",
          "name": "stderr",
          "text": [
            "100%|██████████| 3/3 [00:00<00:00, 307.54it/s]\n",
            "100%|██████████| 9/9 [00:05<00:00,  1.58it/s]\n"
          ]
        },
        {
          "output_type": "stream",
          "name": "stdout",
          "text": [
            "1 1 0\n"
          ]
        },
        {
          "output_type": "stream",
          "name": "stderr",
          "text": [
            "100%|██████████| 3/3 [00:00<00:00, 189.23it/s]\n",
            "100%|██████████| 9/9 [00:05<00:00,  1.63it/s]\n"
          ]
        },
        {
          "output_type": "stream",
          "name": "stdout",
          "text": [
            "1 2 0\n"
          ]
        },
        {
          "output_type": "stream",
          "name": "stderr",
          "text": [
            "100%|██████████| 3/3 [00:00<00:00, 426.81it/s]\n",
            "100%|██████████| 9/9 [00:05<00:00,  1.56it/s]\n"
          ]
        },
        {
          "output_type": "stream",
          "name": "stdout",
          "text": [
            "1 3 0\n"
          ]
        },
        {
          "output_type": "stream",
          "name": "stderr",
          "text": [
            "100%|██████████| 3/3 [00:00<00:00, 407.46it/s]\n",
            "100%|██████████| 9/9 [00:05<00:00,  1.69it/s]\n",
            "100%|██████████| 100/100 [00:35<00:00,  2.84it/s]\n"
          ]
        },
        {
          "output_type": "stream",
          "name": "stdout",
          "text": [
            "1 0 1\n"
          ]
        },
        {
          "output_type": "stream",
          "name": "stderr",
          "text": [
            "100%|██████████| 3/3 [00:00<00:00, 422.25it/s]\n",
            "100%|██████████| 9/9 [00:05<00:00,  1.60it/s]\n"
          ]
        },
        {
          "output_type": "stream",
          "name": "stdout",
          "text": [
            "1 1 1\n"
          ]
        },
        {
          "output_type": "stream",
          "name": "stderr",
          "text": [
            "100%|██████████| 3/3 [00:00<00:00, 414.58it/s]\n",
            "100%|██████████| 9/9 [00:05<00:00,  1.56it/s]\n"
          ]
        },
        {
          "output_type": "stream",
          "name": "stdout",
          "text": [
            "1 2 1\n"
          ]
        },
        {
          "output_type": "stream",
          "name": "stderr",
          "text": [
            "100%|██████████| 3/3 [00:00<00:00, 188.41it/s]\n",
            "100%|██████████| 9/9 [00:05<00:00,  1.62it/s]\n"
          ]
        },
        {
          "output_type": "stream",
          "name": "stdout",
          "text": [
            "1 3 1\n"
          ]
        },
        {
          "output_type": "stream",
          "name": "stderr",
          "text": [
            "100%|██████████| 3/3 [00:00<00:00, 253.95it/s]\n",
            "100%|██████████| 9/9 [00:05<00:00,  1.69it/s]\n",
            "100%|██████████| 100/100 [00:06<00:00, 15.54it/s]\n"
          ]
        },
        {
          "output_type": "stream",
          "name": "stdout",
          "text": [
            "1 0 2\n"
          ]
        },
        {
          "output_type": "stream",
          "name": "stderr",
          "text": [
            "100%|██████████| 3/3 [00:00<00:00, 226.30it/s]\n",
            "100%|██████████| 9/9 [00:05<00:00,  1.69it/s]\n"
          ]
        },
        {
          "output_type": "stream",
          "name": "stdout",
          "text": [
            "1 1 2\n"
          ]
        },
        {
          "output_type": "stream",
          "name": "stderr",
          "text": [
            "100%|██████████| 3/3 [00:00<00:00, 224.53it/s]\n",
            "100%|██████████| 9/9 [00:05<00:00,  1.61it/s]\n"
          ]
        },
        {
          "output_type": "stream",
          "name": "stdout",
          "text": [
            "1 2 2\n"
          ]
        },
        {
          "output_type": "stream",
          "name": "stderr",
          "text": [
            "100%|██████████| 3/3 [00:00<00:00, 342.96it/s]\n",
            "100%|██████████| 9/9 [00:05<00:00,  1.64it/s]\n"
          ]
        },
        {
          "output_type": "stream",
          "name": "stdout",
          "text": [
            "1 3 2\n"
          ]
        },
        {
          "output_type": "stream",
          "name": "stderr",
          "text": [
            "100%|██████████| 3/3 [00:00<00:00, 360.65it/s]\n",
            "100%|██████████| 9/9 [00:05<00:00,  1.75it/s]\n",
            "100%|██████████| 100/100 [00:06<00:00, 16.09it/s]\n"
          ]
        },
        {
          "output_type": "stream",
          "name": "stdout",
          "text": [
            "1 0 3\n"
          ]
        },
        {
          "output_type": "stream",
          "name": "stderr",
          "text": [
            "100%|██████████| 3/3 [00:00<00:00, 385.68it/s]\n",
            "100%|██████████| 9/9 [00:05<00:00,  1.68it/s]\n"
          ]
        },
        {
          "output_type": "stream",
          "name": "stdout",
          "text": [
            "1 1 3\n"
          ]
        },
        {
          "output_type": "stream",
          "name": "stderr",
          "text": [
            "100%|██████████| 3/3 [00:00<00:00, 321.21it/s]\n",
            "100%|██████████| 9/9 [00:05<00:00,  1.61it/s]\n"
          ]
        },
        {
          "output_type": "stream",
          "name": "stdout",
          "text": [
            "1 2 3\n"
          ]
        },
        {
          "output_type": "stream",
          "name": "stderr",
          "text": [
            "100%|██████████| 3/3 [00:00<00:00, 341.29it/s]\n",
            "100%|██████████| 9/9 [00:05<00:00,  1.67it/s]\n"
          ]
        },
        {
          "output_type": "stream",
          "name": "stdout",
          "text": [
            "1 3 3\n"
          ]
        },
        {
          "output_type": "stream",
          "name": "stderr",
          "text": [
            "100%|██████████| 3/3 [00:00<00:00, 319.29it/s]\n",
            "100%|██████████| 9/9 [00:05<00:00,  1.69it/s]\n",
            "100%|██████████| 100/100 [00:06<00:00, 15.77it/s]\n"
          ]
        },
        {
          "output_type": "stream",
          "name": "stdout",
          "text": [
            "1 0 4\n"
          ]
        },
        {
          "output_type": "stream",
          "name": "stderr",
          "text": [
            "100%|██████████| 3/3 [00:00<00:00, 262.19it/s]\n",
            "100%|██████████| 9/9 [00:05<00:00,  1.68it/s]\n"
          ]
        },
        {
          "output_type": "stream",
          "name": "stdout",
          "text": [
            "1 1 4\n"
          ]
        },
        {
          "output_type": "stream",
          "name": "stderr",
          "text": [
            "100%|██████████| 3/3 [00:00<00:00, 191.61it/s]\n",
            "100%|██████████| 9/9 [00:05<00:00,  1.68it/s]\n"
          ]
        },
        {
          "output_type": "stream",
          "name": "stdout",
          "text": [
            "1 2 4\n"
          ]
        },
        {
          "output_type": "stream",
          "name": "stderr",
          "text": [
            "100%|██████████| 3/3 [00:00<00:00, 360.71it/s]\n",
            "100%|██████████| 9/9 [00:05<00:00,  1.69it/s]\n"
          ]
        },
        {
          "output_type": "stream",
          "name": "stdout",
          "text": [
            "1 3 4\n"
          ]
        },
        {
          "output_type": "stream",
          "name": "stderr",
          "text": [
            "100%|██████████| 3/3 [00:00<00:00, 398.08it/s]\n",
            "100%|██████████| 9/9 [00:05<00:00,  1.73it/s]\n",
            "100%|██████████| 100/100 [00:07<00:00, 12.98it/s]\n"
          ]
        },
        {
          "output_type": "stream",
          "name": "stdout",
          "text": [
            "1 0 5\n"
          ]
        },
        {
          "output_type": "stream",
          "name": "stderr",
          "text": [
            "100%|██████████| 3/3 [00:00<00:00, 486.95it/s]\n",
            "100%|██████████| 9/9 [00:05<00:00,  1.63it/s]\n"
          ]
        },
        {
          "output_type": "stream",
          "name": "stdout",
          "text": [
            "1 1 5\n"
          ]
        },
        {
          "output_type": "stream",
          "name": "stderr",
          "text": [
            "100%|██████████| 3/3 [00:00<00:00, 391.99it/s]\n",
            "100%|██████████| 9/9 [00:05<00:00,  1.67it/s]\n"
          ]
        },
        {
          "output_type": "stream",
          "name": "stdout",
          "text": [
            "1 2 5\n"
          ]
        },
        {
          "output_type": "stream",
          "name": "stderr",
          "text": [
            "100%|██████████| 3/3 [00:00<00:00, 429.38it/s]\n",
            "100%|██████████| 9/9 [00:05<00:00,  1.61it/s]\n"
          ]
        },
        {
          "output_type": "stream",
          "name": "stdout",
          "text": [
            "1 3 5\n"
          ]
        },
        {
          "output_type": "stream",
          "name": "stderr",
          "text": [
            "100%|██████████| 3/3 [00:00<00:00, 237.11it/s]\n",
            "100%|██████████| 9/9 [00:05<00:00,  1.68it/s]\n",
            "100%|██████████| 100/100 [00:07<00:00, 13.74it/s]\n"
          ]
        },
        {
          "output_type": "stream",
          "name": "stdout",
          "text": [
            "1 0 6\n"
          ]
        },
        {
          "output_type": "stream",
          "name": "stderr",
          "text": [
            "100%|██████████| 3/3 [00:00<00:00, 264.41it/s]\n",
            "100%|██████████| 9/9 [00:05<00:00,  1.65it/s]\n"
          ]
        },
        {
          "output_type": "stream",
          "name": "stdout",
          "text": [
            "1 1 6\n"
          ]
        },
        {
          "output_type": "stream",
          "name": "stderr",
          "text": [
            "100%|██████████| 3/3 [00:00<00:00, 138.35it/s]\n",
            "100%|██████████| 9/9 [00:05<00:00,  1.68it/s]\n"
          ]
        },
        {
          "output_type": "stream",
          "name": "stdout",
          "text": [
            "1 2 6\n"
          ]
        },
        {
          "output_type": "stream",
          "name": "stderr",
          "text": [
            "100%|██████████| 3/3 [00:00<00:00, 240.52it/s]\n",
            "100%|██████████| 9/9 [00:05<00:00,  1.68it/s]\n"
          ]
        },
        {
          "output_type": "stream",
          "name": "stdout",
          "text": [
            "1 3 6\n"
          ]
        },
        {
          "output_type": "stream",
          "name": "stderr",
          "text": [
            "100%|██████████| 3/3 [00:00<00:00, 427.87it/s]\n",
            "100%|██████████| 9/9 [00:05<00:00,  1.65it/s]\n",
            "100%|██████████| 100/100 [00:13<00:00,  7.32it/s]\n"
          ]
        },
        {
          "output_type": "stream",
          "name": "stdout",
          "text": [
            "1 0 7\n"
          ]
        },
        {
          "output_type": "stream",
          "name": "stderr",
          "text": [
            "100%|██████████| 3/3 [00:00<00:00, 417.03it/s]\n",
            "100%|██████████| 9/9 [00:05<00:00,  1.67it/s]\n"
          ]
        },
        {
          "output_type": "stream",
          "name": "stdout",
          "text": [
            "1 1 7\n"
          ]
        },
        {
          "output_type": "stream",
          "name": "stderr",
          "text": [
            "100%|██████████| 3/3 [00:00<00:00, 203.32it/s]\n",
            "100%|██████████| 9/9 [00:05<00:00,  1.68it/s]\n"
          ]
        },
        {
          "output_type": "stream",
          "name": "stdout",
          "text": [
            "1 2 7\n"
          ]
        },
        {
          "output_type": "stream",
          "name": "stderr",
          "text": [
            "100%|██████████| 3/3 [00:00<00:00, 333.92it/s]\n",
            "100%|██████████| 9/9 [00:05<00:00,  1.70it/s]\n"
          ]
        },
        {
          "output_type": "stream",
          "name": "stdout",
          "text": [
            "1 3 7\n"
          ]
        },
        {
          "output_type": "stream",
          "name": "stderr",
          "text": [
            "100%|██████████| 3/3 [00:00<00:00, 455.87it/s]\n",
            "100%|██████████| 9/9 [00:05<00:00,  1.67it/s]\n",
            "100%|██████████| 100/100 [00:12<00:00,  8.18it/s]\n"
          ]
        },
        {
          "output_type": "stream",
          "name": "stdout",
          "text": [
            "1 0 8\n"
          ]
        },
        {
          "output_type": "stream",
          "name": "stderr",
          "text": [
            "100%|██████████| 3/3 [00:00<00:00, 279.20it/s]\n",
            "100%|██████████| 9/9 [00:05<00:00,  1.65it/s]\n"
          ]
        },
        {
          "output_type": "stream",
          "name": "stdout",
          "text": [
            "1 1 8\n"
          ]
        },
        {
          "output_type": "stream",
          "name": "stderr",
          "text": [
            "100%|██████████| 3/3 [00:00<00:00, 404.32it/s]\n",
            "100%|██████████| 9/9 [00:05<00:00,  1.64it/s]\n"
          ]
        },
        {
          "output_type": "stream",
          "name": "stdout",
          "text": [
            "1 2 8\n"
          ]
        },
        {
          "output_type": "stream",
          "name": "stderr",
          "text": [
            "100%|██████████| 3/3 [00:00<00:00, 261.89it/s]\n",
            "100%|██████████| 9/9 [00:05<00:00,  1.63it/s]\n"
          ]
        },
        {
          "output_type": "stream",
          "name": "stdout",
          "text": [
            "1 3 8\n"
          ]
        },
        {
          "output_type": "stream",
          "name": "stderr",
          "text": [
            "100%|██████████| 3/3 [00:00<00:00, 338.93it/s]\n",
            "100%|██████████| 9/9 [00:05<00:00,  1.63it/s]\n",
            "100%|██████████| 100/100 [00:15<00:00,  6.27it/s]\n"
          ]
        },
        {
          "output_type": "stream",
          "name": "stdout",
          "text": [
            "1 0 9\n"
          ]
        },
        {
          "output_type": "stream",
          "name": "stderr",
          "text": [
            "100%|██████████| 3/3 [00:00<00:00, 380.41it/s]\n",
            "100%|██████████| 9/9 [00:05<00:00,  1.61it/s]\n"
          ]
        },
        {
          "output_type": "stream",
          "name": "stdout",
          "text": [
            "1 1 9\n"
          ]
        },
        {
          "output_type": "stream",
          "name": "stderr",
          "text": [
            "100%|██████████| 3/3 [00:00<00:00, 172.18it/s]\n",
            "100%|██████████| 9/9 [00:05<00:00,  1.59it/s]\n"
          ]
        },
        {
          "output_type": "stream",
          "name": "stdout",
          "text": [
            "1 2 9\n"
          ]
        },
        {
          "output_type": "stream",
          "name": "stderr",
          "text": [
            "100%|██████████| 3/3 [00:00<00:00, 398.85it/s]\n",
            "100%|██████████| 9/9 [00:05<00:00,  1.64it/s]\n"
          ]
        },
        {
          "output_type": "stream",
          "name": "stdout",
          "text": [
            "1 3 9\n"
          ]
        },
        {
          "output_type": "stream",
          "name": "stderr",
          "text": [
            "100%|██████████| 3/3 [00:00<00:00, 240.26it/s]\n",
            "100%|██████████| 9/9 [00:05<00:00,  1.62it/s]\n"
          ]
        }
      ],
      "source": [
        "results = pd.DataFrame(columns=[\n",
        "    \"dataset\",\n",
        "    \"embedding\",\n",
        "    \"trial\",\n",
        "    \"x\",\n",
        "    \"y\",\n",
        "    \"z\",\n",
        "    \"statistic\",\n",
        "    \"independent\",\n",
        "    \"all_correct\"\n",
        "])\n",
        "\n",
        "N_DIMS = 3\n",
        "N_NEIGHBORS = 5 # todo: vary this\n",
        "THRESHOLD = .2\n",
        "\n",
        "# for i, dataset_generator in enumerate([generate_unconfounded, generate_dependent, generate_confounded]):\n",
        "# for i in [1,2]:\n",
        "for i in [1]:\n",
        "    for trial in range(10):\n",
        "        latent, observable, Y = scm_large(index=i, N=1000)\n",
        "        for k, embedding in enumerate([run_pca, run_isomap, run_lle, run_laplacian]):\n",
        "            try:\n",
        "                # This part is mostly the same as the previous notebook, 'distribution of test statistics'\n",
        "                print(i,k,trial)\n",
        "\n",
        "                # latent, observable, Y = dataset_generator(n=N_DIMS)\n",
        "                reduced = embedding(observable, n_neighbors=N_NEIGHBORS, n_dims=N_DIMS)\n",
        "                trial_results = test_independences(reduced, test=independent, return_statistics=True)\n",
        "                latent_results = test_independences(latent, test=independent, return_statistics=True)\n",
        "\n",
        "                # Now we want to test independences\n",
        "                n_independent = len([1 for result in trial_results if result[3] < THRESHOLD])\n",
        "\n",
        "                # TODO: add check that we have (x,y | 0) and (x,y | z) as our independences\n",
        "\n",
        "                for result, latent_result in zip(trial_results, latent_results):\n",
        "                    x, y, z, statistic = result\n",
        "                    _, _, _, latent_statistic = latent_result\n",
        "                    results = results.append({\n",
        "                        \"dataset\" : i,\n",
        "                        \"embedding\" : k,\n",
        "                        \"trial\" : trial,\n",
        "                        \"x\" : x, \"y\" : y, \"z\" : z,\n",
        "                        \"statistic\" : statistic,\n",
        "                        \"latent\" : latent_statistic,\n",
        "                        \"independent\" : statistic < THRESHOLD,\n",
        "                    }, ignore_index=True)\n",
        "            # Sometimes math errors happen\n",
        "            except Exception as e:\n",
        "                print(e)\n",
        "            \n",
        "\n",
        "            "
      ]
    },
    {
      "cell_type": "code",
      "execution_count": null,
      "metadata": {
        "id": "54rKYliNlh51"
      },
      "outputs": [],
      "source": [
        "results.to_pickle(f\"{DD}large_scm_stats.pkl\")"
      ]
    },
    {
      "cell_type": "code",
      "execution_count": null,
      "metadata": {
        "colab": {
          "base_uri": "https://localhost:8080/",
          "height": 430
        },
        "id": "XI-whQJZwAoL",
        "outputId": "85d27443-5cab-4b0b-cf1f-59c1735b33eb"
      },
      "outputs": [
        {
          "output_type": "display_data",
          "data": {
            "text/plain": [
              "<Figure size 1440x432 with 5 Axes>"
            ],
            "image/png": "[encoded data removed]"
          },
          "metadata": {
            "needs_background": "light"
          }
        }
      ],
      "source": [
        "fig, axs = plt.subplots(1,5, figsize=(20,6))\n",
        "\n",
        "fig.suptitle(\"Distributions for large SCM\")\n",
        "results.hist(\"latent\", ax=axs[0], grid=False)\n",
        "axs[0].set_title(\"Latent\")\n",
        "for i, label in enumerate([\"PCA\", \"IsoMap\", \"LLE\", \"Spectral\"]):\n",
        "    results[results[\"embedding\"] == i].hist(\"statistic\", ax=axs[i+1], grid=False)\n",
        "    axs[i+1].set_title(f\"Embedding={label}\")"
      ]
    },
    {
      "cell_type": "code",
      "source": [
        ""
      ],
      "metadata": {
        "id": "6i5LbPA6gfR_"
      },
      "execution_count": null,
      "outputs": []
    },
    {
      "cell_type": "markdown",
      "source": [
        "# Final figure for paper"
      ],
      "metadata": {
        "id": "PiMxAetUX-i2"
      }
    },
    {
      "cell_type": "code",
      "source": [
        "results_large = pd.read_pickle(f\"{DD}large_scm_stats.pkl\")\n",
        "\n",
        "fig, axs = plt.subplots(4,5, figsize=(20,20))\n",
        "\n",
        "for i, model in enumerate([\"Independent\", \"Dependent\", \"Confounded\", \"Large\"]):\n",
        "    if i < 3:\n",
        "        to_use = results\n",
        "    else:\n",
        "        to_use = results_large\n",
        "        to_use[\"dataset\"] = 3 # Hacky\n",
        "    \n",
        "    to_use[to_use[\"dataset\"] == i].hist(\"latent\", ax=axs[i,0], grid=False)\n",
        "    axs[i,0].set_title(f\"Latent---{model}\")\n",
        "\n",
        "    for j, label in enumerate([\"PCA\", \"IsoMap\", \"LLE\", \"Spectral\"]):\n",
        "        to_use[to_use[\"embedding\"] == j][to_use[\"dataset\"] == i].hist(\"statistic\", ax=axs[i,j+1], grid=False)\n",
        "        axs[i,j+1].set_title(f\"{label}---{model}\")\n"
      ],
      "metadata": {
        "colab": {
          "base_uri": "https://localhost:8080/",
          "height": 1000
        },
        "id": "3D4zp6mCX_ht",
        "outputId": "fa380ed0-20d3-4778-a450-295e03cb79b1"
      },
      "execution_count": null,
      "outputs": [
        {
          "output_type": "stream",
          "name": "stderr",
          "text": [
            "/usr/local/lib/python3.7/dist-packages/ipykernel_launcher.py:16: UserWarning: Boolean Series key will be reindexed to match DataFrame index.\n",
            "  app.launch_new_instance()\n"
          ]
        },
        {
          "output_type": "display_data",
          "data": {
            "text/plain": [
              "<Figure size 1440x1440 with 20 Axes>"
            ],
            "image/png": "[encoded data removed]"
          },
          "metadata": {
            "needs_background": "light"
          }
        }
      ]
    },
    {
      "cell_type": "code",
      "source": [
        "results_large"
      ],
      "metadata": {
        "colab": {
          "base_uri": "https://localhost:8080/",
          "height": 424
        },
        "id": "-LD8vjvRYe8C",
        "outputId": "3b5ddf75-3bd5-4061-a88e-30ebf07cad47"
      },
      "execution_count": null,
      "outputs": [
        {
          "output_type": "execute_result",
          "data": {
            "text/plain": [
              "    dataset embedding trial  x  y     z     statistic independent  \\\n",
              "0         1         0     0  1  0    ()  4.413137e-17        True   \n",
              "1         1         0     0  1  0  (2,)  3.497203e-17        True   \n",
              "2         1         0     0  2  0    ()  3.330669e-17        True   \n",
              "3         1         0     0  2  0  (1,)  1.609823e-17        True   \n",
              "4         1         0     0  2  1    ()  1.065814e-16        True   \n",
              "..      ...       ...   ... .. ..   ...           ...         ...   \n",
              "235       1         3     9  1  0  (2,)  1.708619e-01        True   \n",
              "236       1         3     9  2  0    ()  2.216012e-03        True   \n",
              "237       1         3     9  2  0  (1,)  2.081498e-03        True   \n",
              "238       1         3     9  2  1    ()  9.664092e-04        True   \n",
              "239       1         3     9  2  1  (0,)  5.965473e-04        True   \n",
              "\n",
              "     all_correct    latent  \n",
              "0            NaN  0.994880  \n",
              "1            NaN  0.049551  \n",
              "2            NaN  0.994876  \n",
              "3            NaN  0.994876  \n",
              "4            NaN  0.994880  \n",
              "..           ...       ...  \n",
              "235          NaN  0.969814  \n",
              "236          NaN  1.000000  \n",
              "237          NaN  1.000000  \n",
              "238          NaN  1.000000  \n",
              "239          NaN  1.000000  \n",
              "\n",
              "[240 rows x 10 columns]"
            ],
            "text/html": [
              "\n",
              "  <div id=\"df-a61f3d35-b284-4fcc-9067-4046b9b6a194\">\n",
              "    <div class=\"colab-df-container\">\n",
              "      <div>\n",
              "<style scoped>\n",
              "    .dataframe tbody tr th:only-of-type {\n",
              "        vertical-align: middle;\n",
              "    }\n",
              "\n",
              "    .dataframe tbody tr th {\n",
              "        vertical-align: top;\n",
              "    }\n",
              "\n",
              "    .dataframe thead th {\n",
              "        text-align: right;\n",
              "    }\n",
              "</style>\n",
              "<table border=\"1\" class=\"dataframe\">\n",
              "  <thead>\n",
              "    <tr style=\"text-align: right;\">\n",
              "      <th></th>\n",
              "      <th>dataset</th>\n",
              "      <th>embedding</th>\n",
              "      <th>trial</th>\n",
              "      <th>x</th>\n",
              "      <th>y</th>\n",
              "      <th>z</th>\n",
              "      <th>statistic</th>\n",
              "      <th>independent</th>\n",
              "      <th>all_correct</th>\n",
              "      <th>latent</th>\n",
              "    </tr>\n",
              "  </thead>\n",
              "  <tbody>\n",
              "    <tr>\n",
              "      <th>0</th>\n",
              "      <td>1</td>\n",
              "      <td>0</td>\n",
              "      <td>0</td>\n",
              "      <td>1</td>\n",
              "      <td>0</td>\n",
              "      <td>()</td>\n",
              "      <td>4.413137e-17</td>\n",
              "      <td>True</td>\n",
              "      <td>NaN</td>\n",
              "      <td>0.994880</td>\n",
              "    </tr>\n",
              "    <tr>\n",
              "      <th>1</th>\n",
              "      <td>1</td>\n",
              "      <td>0</td>\n",
              "      <td>0</td>\n",
              "      <td>1</td>\n",
              "      <td>0</td>\n",
              "      <td>(2,)</td>\n",
              "      <td>3.497203e-17</td>\n",
              "      <td>True</td>\n",
              "      <td>NaN</td>\n",
              "      <td>0.049551</td>\n",
              "    </tr>\n",
              "    <tr>\n",
              "      <th>2</th>\n",
              "      <td>1</td>\n",
              "      <td>0</td>\n",
              "      <td>0</td>\n",
              "      <td>2</td>\n",
              "      <td>0</td>\n",
              "      <td>()</td>\n",
              "      <td>3.330669e-17</td>\n",
              "      <td>True</td>\n",
              "      <td>NaN</td>\n",
              "      <td>0.994876</td>\n",
              "    </tr>\n",
              "    <tr>\n",
              "      <th>3</th>\n",
              "      <td>1</td>\n",
              "      <td>0</td>\n",
              "      <td>0</td>\n",
              "      <td>2</td>\n",
              "      <td>0</td>\n",
              "      <td>(1,)</td>\n",
              "      <td>1.609823e-17</td>\n",
              "      <td>True</td>\n",
              "      <td>NaN</td>\n",
              "      <td>0.994876</td>\n",
              "    </tr>\n",
              "    <tr>\n",
              "      <th>4</th>\n",
              "      <td>1</td>\n",
              "      <td>0</td>\n",
              "      <td>0</td>\n",
              "      <td>2</td>\n",
              "      <td>1</td>\n",
              "      <td>()</td>\n",
              "      <td>1.065814e-16</td>\n",
              "      <td>True</td>\n",
              "      <td>NaN</td>\n",
              "      <td>0.994880</td>\n",
              "    </tr>\n",
              "    <tr>\n",
              "      <th>...</th>\n",
              "      <td>...</td>\n",
              "      <td>...</td>\n",
              "      <td>...</td>\n",
              "      <td>...</td>\n",
              "      <td>...</td>\n",
              "      <td>...</td>\n",
              "      <td>...</td>\n",
              "      <td>...</td>\n",
              "      <td>...</td>\n",
              "      <td>...</td>\n",
              "    </tr>\n",
              "    <tr>\n",
              "      <th>235</th>\n",
              "      <td>1</td>\n",
              "      <td>3</td>\n",
              "      <td>9</td>\n",
              "      <td>1</td>\n",
              "      <td>0</td>\n",
              "      <td>(2,)</td>\n",
              "      <td>1.708619e-01</td>\n",
              "      <td>True</td>\n",
              "      <td>NaN</td>\n",
              "      <td>0.969814</td>\n",
              "    </tr>\n",
              "    <tr>\n",
              "      <th>236</th>\n",
              "      <td>1</td>\n",
              "      <td>3</td>\n",
              "      <td>9</td>\n",
              "      <td>2</td>\n",
              "      <td>0</td>\n",
              "      <td>()</td>\n",
              "      <td>2.216012e-03</td>\n",
              "      <td>True</td>\n",
              "      <td>NaN</td>\n",
              "      <td>1.000000</td>\n",
              "    </tr>\n",
              "    <tr>\n",
              "      <th>237</th>\n",
              "      <td>1</td>\n",
              "      <td>3</td>\n",
              "      <td>9</td>\n",
              "      <td>2</td>\n",
              "      <td>0</td>\n",
              "      <td>(1,)</td>\n",
              "      <td>2.081498e-03</td>\n",
              "      <td>True</td>\n",
              "      <td>NaN</td>\n",
              "      <td>1.000000</td>\n",
              "    </tr>\n",
              "    <tr>\n",
              "      <th>238</th>\n",
              "      <td>1</td>\n",
              "      <td>3</td>\n",
              "      <td>9</td>\n",
              "      <td>2</td>\n",
              "      <td>1</td>\n",
              "      <td>()</td>\n",
              "      <td>9.664092e-04</td>\n",
              "      <td>True</td>\n",
              "      <td>NaN</td>\n",
              "      <td>1.000000</td>\n",
              "    </tr>\n",
              "    <tr>\n",
              "      <th>239</th>\n",
              "      <td>1</td>\n",
              "      <td>3</td>\n",
              "      <td>9</td>\n",
              "      <td>2</td>\n",
              "      <td>1</td>\n",
              "      <td>(0,)</td>\n",
              "      <td>5.965473e-04</td>\n",
              "      <td>True</td>\n",
              "      <td>NaN</td>\n",
              "      <td>1.000000</td>\n",
              "    </tr>\n",
              "  </tbody>\n",
              "</table>\n",
              "<p>240 rows × 10 columns</p>\n",
              "</div>\n",
              "      <button class=\"colab-df-convert\" onclick=\"convertToInteractive('df-a61f3d35-b284-4fcc-9067-4046b9b6a194')\"\n",
              "              title=\"Convert this dataframe to an interactive table.\"\n",
              "              style=\"display:none;\">\n",
              "        \n",
              "  <svg xmlns=\"http://www.w3.org/2000/svg\" height=\"24px\"viewBox=\"0 0 24 24\"\n",
              "       width=\"24px\">\n",
              "    <path d=\"M0 0h24v24H0V0z\" fill=\"none\"/>\n",
              "    <path d=\"M18.56 5.44l.94 2.06.94-2.06 2.06-.94-2.06-.94-.94-2.06-.94 2.06-2.06.94zm-11 1L8.5 8.5l.94-2.06 2.06-.94-2.06-.94L8.5 2.5l-.94 2.06-2.06.94zm10 10l.94 2.06.94-2.06 2.06-.94-2.06-.94-.94-2.06-.94 2.06-2.06.94z\"/><path d=\"M17.41 7.96l-1.37-1.37c-.4-.4-.92-.59-1.43-.59-.52 0-1.04.2-1.43.59L10.3 9.45l-7.72 7.72c-.78.78-.78 2.05 0 2.83L4 21.41c.39.39.9.59 1.41.59.51 0 1.02-.2 1.41-.59l7.78-7.78 2.81-2.81c.8-.78.8-2.07 0-2.86zM5.41 20L4 18.59l7.72-7.72 1.47 1.35L5.41 20z\"/>\n",
              "  </svg>\n",
              "      </button>\n",
              "      \n",
              "  <style>\n",
              "    .colab-df-container {\n",
              "      display:flex;\n",
              "      flex-wrap:wrap;\n",
              "      gap: 12px;\n",
              "    }\n",
              "\n",
              "    .colab-df-convert {\n",
              "      background-color: #E8F0FE;\n",
              "      border: none;\n",
              "      border-radius: 50%;\n",
              "      cursor: pointer;\n",
              "      display: none;\n",
              "      fill: #1967D2;\n",
              "      height: 32px;\n",
              "      padding: 0 0 0 0;\n",
              "      width: 32px;\n",
              "    }\n",
              "\n",
              "    .colab-df-convert:hover {\n",
              "      background-color: #E2EBFA;\n",
              "      box-shadow: 0px 1px 2px rgba(60, 64, 67, 0.3), 0px 1px 3px 1px rgba(60, 64, 67, 0.15);\n",
              "      fill: #174EA6;\n",
              "    }\n",
              "\n",
              "    [theme=dark] .colab-df-convert {\n",
              "      background-color: #3B4455;\n",
              "      fill: #D2E3FC;\n",
              "    }\n",
              "\n",
              "    [theme=dark] .colab-df-convert:hover {\n",
              "      background-color: #434B5C;\n",
              "      box-shadow: 0px 1px 3px 1px rgba(0, 0, 0, 0.15);\n",
              "      filter: drop-shadow(0px 1px 2px rgba(0, 0, 0, 0.3));\n",
              "      fill: #FFFFFF;\n",
              "    }\n",
              "  </style>\n",
              "\n",
              "      <script>\n",
              "        const buttonEl =\n",
              "          document.querySelector('#df-a61f3d35-b284-4fcc-9067-4046b9b6a194 button.colab-df-convert');\n",
              "        buttonEl.style.display =\n",
              "          google.colab.kernel.accessAllowed ? 'block' : 'none';\n",
              "\n",
              "        async function convertToInteractive(key) {\n",
              "          const element = document.querySelector('#df-a61f3d35-b284-4fcc-9067-4046b9b6a194');\n",
              "          const dataTable =\n",
              "            await google.colab.kernel.invokeFunction('convertToInteractive',\n",
              "                                                     [key], {});\n",
              "          if (!dataTable) return;\n",
              "\n",
              "          const docLinkHtml = 'Like what you see? Visit the ' +\n",
              "            '<a target=\"_blank\" href=https://colab.research.google.com/notebooks/data_table.ipynb>data table notebook</a>'\n",
              "            + ' to learn more about interactive tables.';\n",
              "          element.innerHTML = '';\n",
              "          dataTable['output_type'] = 'display_data';\n",
              "          await google.colab.output.renderOutput(dataTable, element);\n",
              "          const docLink = document.createElement('div');\n",
              "          docLink.innerHTML = docLinkHtml;\n",
              "          element.appendChild(docLink);\n",
              "        }\n",
              "      </script>\n",
              "    </div>\n",
              "  </div>\n",
              "  "
            ]
          },
          "metadata": {},
          "execution_count": 14
        }
      ]
    },
    {
      "cell_type": "code",
      "source": [
        ""
      ],
      "metadata": {
        "id": "DWWYn-HeZUjD"
      },
      "execution_count": null,
      "outputs": []
    }
  ],
  "metadata": {
    "colab": {
      "collapsed_sections": [
        "T87hF_m4xUWe"
      ],
      "name": "Observing statistic distribution for embeddings.ipynb",
      "provenance": [],
      "authorship_tag": "ABX9TyPsByiTNokza1GfEEX1/Z0H",
      "include_colab_link": true
    },
    "kernelspec": {
      "display_name": "Python 3",
      "name": "python3"
    },
    "language_info": {
      "name": "python"
    }
  },
  "nbformat": 4,
  "nbformat_minor": 0
}