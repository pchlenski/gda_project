{
  "cells": [
    {
      "cell_type": "code",
      "source": [
        "!git clone https://github.com/pchlenski/gda_project/\n",
        "!cd gda_project && git pull"
      ],
      "metadata": {
        "id": "mhcgUPnN3Yvc"
      },
      "execution_count": null,
      "outputs": []
    },
    {
      "cell_type": "code",
      "execution_count": 20,
      "metadata": {
        "id": "faONGHjeWnvi"
      },
      "outputs": [],
      "source": [
        "# importing necessary libraries\n",
        "try:\n",
        "    import pycid\n",
        "except ModuleNotFoundError:\n",
        "    import sys\n",
        "\n",
        "    !{sys.executable} -m pip install git+https://github.com/causalincentives/pycid # for the latest development version\n",
        "    import pycid\n",
        "\n",
        "import numpy as np\n",
        "import random\n",
        "from tqdm import tqdm\n",
        "import matplotlib.pyplot as plt\n",
        "from sklearn.ensemble import RandomForestClassifier, RandomForestRegressor\n",
        "from gda_project.utils.embed import *\n",
        "from gda_project.utils.scm import *\n",
        "from gda_project.utils.scm_large import *\n",
        "import warnings\n",
        "warnings.filterwarnings('ignore')"
      ]
    },
    {
      "cell_type": "markdown",
      "source": [
        "## Experiments"
      ],
      "metadata": {
        "id": "PJwbN3FI7p6q"
      }
    },
    {
      "cell_type": "code",
      "source": [
        "def robustness(observables,Y,embedding_dim=9,max_depth = 50):\n",
        "  n_estimators = 10\n",
        "  n_dims = embedding_dim\n",
        "  traincount = 1600\n",
        "  validcount = traincount + 400\n",
        "\n",
        "  embed_pca = run_pca(observables, n_dims=n_dims)\n",
        "  embed_isomap = run_isomap(observables, n_dims=n_dims, n_neighbors=15, eigen_solver='dense')\n",
        "  embed_lle = run_lle(observables, n_dims=n_dims, n_neighbors=15, eigen_solver='dense')\n",
        "  embed_laplacian = run_laplacian(observables, n_dims=n_dims, n_neighbors=15)\n",
        "\n",
        "  reg1 = RandomForestRegressor(n_estimators=n_estimators, max_depth=max_depth)\n",
        "  reg2 = RandomForestRegressor(n_estimators=n_estimators, max_depth=max_depth)\n",
        "  reg3 = RandomForestRegressor(n_estimators=n_estimators, max_depth=max_depth)\n",
        "  reg4 = RandomForestRegressor(n_estimators=n_estimators, max_depth=max_depth)\n",
        "  reg5 = RandomForestRegressor(n_estimators=n_estimators, max_depth=max_depth)\n",
        "  reg = {\"PCA\":reg1,\"Isomap\":reg2,\"LLE\":reg3,\"Laplacian\":reg4}\n",
        "  val = {}\n",
        "\n",
        "  # print(\"\\nObservables Validation Loss:\")\n",
        "  trainx = observables[:traincount]\n",
        "  trainy = Y[:traincount]\n",
        "  validatex = observables[traincount:validcount]\n",
        "  validatey = Y[traincount:validcount]\n",
        "  reg5.fit(trainx,trainy)\n",
        "  val[\"Obs\"] = np.abs(reg5.predict(validatex) - validatey).sum()/validcount\n",
        "  # print(val[\"Obs\"])\n",
        "\n",
        "  # print(\"\\nEmbedding Validation Loss, with embed dim: \", embedding_dim)\n",
        "  for embeddings,name in [(embed_pca,\"PCA\"),(embed_isomap,\"Isomap\"),(embed_lle,\"LLE\"),(embed_laplacian,\"Laplacian\")]:\n",
        "    trainx = embeddings[:traincount]\n",
        "    trainy = Y[:traincount]\n",
        "    validatex = embeddings[traincount:validcount]\n",
        "    validatey = Y[traincount:validcount]\n",
        "    reg[name].fit(trainx,trainy)\n",
        "    val[name] = np.abs(reg[name].predict(validatex) - validatey).sum()/validcount\n",
        "    # print(name,\":\", val[name])\n",
        "  \n",
        "  return val\n",
        "  # # creating the dataset\n",
        "  # data = {'Observable':val[\"Obs\"], 'PCA':val[\"PCA\"], 'Isomap':val['Isomap'],\n",
        "  #         'LLE':val['LLE'],'Laplacian':val['Laplacian']}\n",
        "  # features = list(data.keys())\n",
        "  # loss = list(data.values())\n",
        "    \n",
        "  # fig = plt.figure(figsize = (5, 4))\n",
        "  \n",
        "  # # creating the bar plot\n",
        "  # plt.bar(features, loss, width = 0.4, color=['black', 'maroon', 'seagreen', 'steelblue', 'gold'])\n",
        "  \n",
        "  # plt.xlabel(\"Features used for regression\")\n",
        "  # plt.ylabel(\"Validation loss\")\n",
        "  # plt.title(\"Prediction loss comparison\")\n",
        "  # plt.show()"
      ],
      "metadata": {
        "id": "f2kXiW1lzbzR"
      },
      "execution_count": 34,
      "outputs": []
    },
    {
      "cell_type": "markdown",
      "source": [
        "### SCM-Large"
      ],
      "metadata": {
        "id": "BvAflYC37t-2"
      }
    },
    {
      "cell_type": "code",
      "source": [
        "latents_large, observables_large, Y_large = scm_large(index=1,N=2000, dropout=0.5, noise=1.0)"
      ],
      "metadata": {
        "colab": {
          "base_uri": "https://localhost:8080/"
        },
        "id": "WzXheRCkzKee",
        "outputId": "dc80f4e7-ec45-4798-9d61-e8039b8d795e"
      },
      "execution_count": 14,
      "outputs": [
        {
          "output_type": "stream",
          "name": "stderr",
          "text": [
            "100%|██████████| 2000/2000 [02:57<00:00, 11.30it/s]\n"
          ]
        }
      ]
    },
    {
      "cell_type": "code",
      "source": [
        "robustness(observables_large,Y_large)"
      ],
      "metadata": {
        "colab": {
          "base_uri": "https://localhost:8080/",
          "height": 451
        },
        "id": "h1qjZkw54z2Z",
        "outputId": "3e1b7233-c4e3-46f1-949c-e144495aefb6"
      },
      "execution_count": 29,
      "outputs": [
        {
          "output_type": "stream",
          "name": "stdout",
          "text": [
            "\n",
            "Observables Validation Loss:\n",
            "10.337249999999996\n",
            "\n",
            "Embedding Validation Loss, with embed dim:  9\n",
            "PCA : 12.399199999999999\n",
            "Isomap : 14.724549999999983\n",
            "LLE : 186.965315242071\n",
            "Laplacian : 173.18913797532093\n"
          ]
        },
        {
          "output_type": "display_data",
          "data": {
            "text/plain": [
              "<Figure size 360x288 with 1 Axes>"
            ],
            "image/png": "[encoded data removed]"
          },
          "metadata": {
            "needs_background": "light"
          }
        }
      ]
    },
    {
      "cell_type": "markdown",
      "source": [
        "### SCM-1"
      ],
      "metadata": {
        "id": "FK3Q_iPn71xj"
      }
    },
    {
      "cell_type": "code",
      "source": [
        "latents_small1, observables_small1, Y_small1 = generate_unconfounded(N=2000, dropout=0.5)"
      ],
      "metadata": {
        "id": "5f2bGKAW73Hk"
      },
      "execution_count": 7,
      "outputs": []
    },
    {
      "cell_type": "code",
      "source": [
        "robustness(observables_small1,Y_small1)"
      ],
      "metadata": {
        "colab": {
          "base_uri": "https://localhost:8080/",
          "height": 451
        },
        "id": "pH9kHGwR9NGM",
        "outputId": "68379722-d2ae-4f90-8519-08e6cccb0f5b"
      },
      "execution_count": 13,
      "outputs": [
        {
          "output_type": "stream",
          "name": "stdout",
          "text": [
            "\n",
            "Observables Validation Loss:\n",
            "0.012793849540685121\n",
            "\n",
            "Embedding Validation Loss, with embed dim:  9\n",
            "PCA : 0.012719539112474202\n",
            "Isomap : 0.012970184203581123\n",
            "LLE : 0.03691707117131332\n",
            "Laplacian : 0.045938200792321915\n"
          ]
        },
        {
          "output_type": "display_data",
          "data": {
            "text/plain": [
              "<Figure size 360x288 with 1 Axes>"
            ],
            "image/png": "[encoded data removed]"
          },
          "metadata": {
            "needs_background": "light"
          }
        }
      ]
    },
    {
      "cell_type": "markdown",
      "source": [
        "### SCM-2"
      ],
      "metadata": {
        "id": "SUyWsmWF923l"
      }
    },
    {
      "cell_type": "code",
      "source": [
        "latents_small2, observables_small2, Y_small2 = generate_dependent(N=2000, dropout=0.5)\n",
        "robustness(observables_small2,Y_small2)"
      ],
      "metadata": {
        "colab": {
          "base_uri": "https://localhost:8080/",
          "height": 451
        },
        "id": "Htjv5kFk92ZG",
        "outputId": "dd114307-71eb-4cdb-f673-3cd4462ca53c"
      },
      "execution_count": 22,
      "outputs": [
        {
          "output_type": "stream",
          "name": "stdout",
          "text": [
            "\n",
            "Observables Validation Loss:\n",
            "0.012531826239804516\n",
            "\n",
            "Embedding Validation Loss, with embed dim:  9\n",
            "PCA : 0.012903598899986525\n",
            "Isomap : 0.012503030596675036\n",
            "LLE : 0.036401503041321295\n",
            "Laplacian : 0.055604443588775906\n"
          ]
        },
        {
          "output_type": "display_data",
          "data": {
            "text/plain": [
              "<Figure size 360x288 with 1 Axes>"
            ],
            "image/png": "[encoded data removed]"
          },
          "metadata": {
            "needs_background": "light"
          }
        }
      ]
    },
    {
      "cell_type": "markdown",
      "source": [
        "# SCM-3"
      ],
      "metadata": {
        "id": "ZgpXeziY-HTX"
      }
    },
    {
      "cell_type": "code",
      "source": [
        "latents_small3, observables_small3, Y_small3 = generate_dependent(N=2000, dropout=0.85)\n",
        "robustness(observables_small3,Y_small3)"
      ],
      "metadata": {
        "colab": {
          "base_uri": "https://localhost:8080/",
          "height": 451
        },
        "id": "8uVFlECT-JEy",
        "outputId": "cdd33e5e-d569-4268-9da7-92257fa62c88"
      },
      "execution_count": 33,
      "outputs": [
        {
          "output_type": "stream",
          "name": "stdout",
          "text": [
            "\n",
            "Observables Validation Loss:\n",
            "0.013368866659655632\n",
            "\n",
            "Embedding Validation Loss, with embed dim:  9\n",
            "PCA : 0.01269791817026321\n",
            "Isomap : 0.012395678322461301\n",
            "LLE : 0.03654789304080775\n",
            "Laplacian : 0.012698069347623513\n"
          ]
        },
        {
          "output_type": "display_data",
          "data": {
            "text/plain": [
              "<Figure size 360x288 with 1 Axes>"
            ],
            "image/png": "[encoded data removed]"
          },
          "metadata": {
            "needs_background": "light"
          }
        }
      ]
    },
    {
      "cell_type": "markdown",
      "source": [
        "### Robustness"
      ],
      "metadata": {
        "id": "zFNauh23Slj3"
      }
    },
    {
      "cell_type": "code",
      "source": [
        "validation_loss = {}\n",
        "for embedding_dim in tqdm([1,2,3,4,5,6,7,8,9,10,11,12]):\n",
        "  validation_loss[embedding_dim] = robustness(observables_large,Y_large, embedding_dim=embedding_dim)"
      ],
      "metadata": {
        "id": "jOP7y3fC6Pkk",
        "colab": {
          "base_uri": "https://localhost:8080/"
        },
        "outputId": "c370561d-f9e6-44f8-d44f-02321614712e"
      },
      "execution_count": 35,
      "outputs": [
        {
          "output_type": "stream",
          "name": "stderr",
          "text": [
            "100%|██████████| 12/12 [01:41<00:00,  8.48s/it]\n"
          ]
        }
      ]
    },
    {
      "cell_type": "code",
      "source": [
        "Y_pca = np.zeros((12,))\n",
        "Y_iso = np.zeros((12,))\n",
        "Y_lle = np.zeros((12,))\n",
        "Y_lap = np.zeros((12,))\n",
        "for i in range(12):\n",
        "  Y_pca[i] = validation_loss[i+1]['PCA']\n",
        "  Y_iso[i] = validation_loss[i+1]['Isomap']\n",
        "  Y_lle[i] = validation_loss[i+1]['LLE']\n",
        "  Y_lap[i] = validation_loss[i+1]['Laplacian']"
      ],
      "metadata": {
        "id": "7fl8RbTwk-8e"
      },
      "execution_count": 36,
      "outputs": []
    },
    {
      "cell_type": "code",
      "source": [
        "# creating the dataset\n",
        "X = np.arange(1,13)\n",
        "  \n",
        "fig = plt.figure(figsize = (7, 4))\n",
        "\n",
        "# creating the line plot\n",
        "plt.plot(X, Y_pca, color='maroon',label='PCA')\n",
        "plt.plot(X, Y_iso, color='seagreen',label='Iso')\n",
        "plt.plot(X, Y_lle, color= 'steelblue',label='LLE')\n",
        "plt.plot(X, Y_lap, color='gold',label='Laplacian')\n",
        "\n",
        "plt.xlabel(\"Estimated instrinsic dimensionality\")\n",
        "plt.ylabel(\"Validation loss\")\n",
        "plt.title(\"Robustness to mis-specified dimensionality\")\n",
        "plt.legend()\n",
        "plt.show()"
      ],
      "metadata": {
        "colab": {
          "base_uri": "https://localhost:8080/",
          "height": 295
        },
        "id": "hu5IlpftfKIB",
        "outputId": "d23617ef-de6c-4521-dc43-5b624cc2b5dc"
      },
      "execution_count": 37,
      "outputs": [
        {
          "output_type": "display_data",
          "data": {
            "text/plain": [
              "<Figure size 504x288 with 1 Axes>"
            ],
            "image/png": "[encoded data removed]"
          },
          "metadata": {
            "needs_background": "light"
          }
        }
      ]
    },
    {
      "cell_type": "code",
      "source": [
        ""
      ],
      "metadata": {
        "id": "yrqZrIhemEPO"
      },
      "execution_count": null,
      "outputs": []
    }
  ],
  "metadata": {
    "kernelspec": {
      "display_name": "Python 3",
      "language": "python",
      "name": "python3"
    },
    "language_info": {
      "codemirror_mode": {
        "name": "ipython",
        "version": 3
      },
      "file_extension": ".py",
      "mimetype": "text/x-python",
      "name": "python",
      "nbconvert_exporter": "python",
      "pygments_lexer": "ipython3",
      "version": "3.8.8"
    },
    "colab": {
      "name": "Prediction_tests.ipynb",
      "provenance": [],
      "collapsed_sections": []
    }
  },
  "nbformat": 4,
  "nbformat_minor": 0
}